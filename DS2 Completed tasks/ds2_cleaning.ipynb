{
 "cells": [
  {
   "cell_type": "markdown",
   "metadata": {},
   "source": [
    "# Data cleaning"
   ]
  },
  {
   "cell_type": "code",
   "execution_count": 1,
   "metadata": {},
   "outputs": [],
   "source": [
    "#importing packages \n",
    "import pandas as pd\n",
    "import numpy as np\n",
    "import matplotlib.pyplot as plt\n",
    "import seaborn as sns"
   ]
  },
  {
   "cell_type": "markdown",
   "metadata": {},
   "source": [
    "### Loading in the data"
   ]
  },
  {
   "cell_type": "code",
   "execution_count": 2,
   "metadata": {},
   "outputs": [
    {
     "name": "stdout",
     "output_type": "stream",
     "text": [
      "(174601, 13)\n"
     ]
    }
   ],
   "source": [
    "#loading dataset \n",
    "df = pd.read_csv('/Users/sasha/Desktop/DATASCIENCE/2023/Mini-Project/data.nosync/features_second.csv', dtype={'Account':str, 'to_account':str}, names=['unamed', 'Account', 'Amount', 'Balance', 'to_account', 'to_name', 'Date', 'Time', 'Transaction_ID', 'Decimal_time', 'Income', 'Employment', 'Day_type', 'Day'], header=0)\n",
    "df.drop(['unamed'], axis=1,inplace=True)\n",
    "print(np.shape(df))\n"
   ]
  },
  {
   "cell_type": "code",
   "execution_count": 3,
   "metadata": {},
   "outputs": [
    {
     "data": {
      "text/html": [
       "<div>\n",
       "<style scoped>\n",
       "    .dataframe tbody tr th:only-of-type {\n",
       "        vertical-align: middle;\n",
       "    }\n",
       "\n",
       "    .dataframe tbody tr th {\n",
       "        vertical-align: top;\n",
       "    }\n",
       "\n",
       "    .dataframe thead th {\n",
       "        text-align: right;\n",
       "    }\n",
       "</style>\n",
       "<table border=\"1\" class=\"dataframe\">\n",
       "  <thead>\n",
       "    <tr style=\"text-align: right;\">\n",
       "      <th></th>\n",
       "      <th>Account</th>\n",
       "      <th>Amount</th>\n",
       "      <th>Balance</th>\n",
       "      <th>to_account</th>\n",
       "      <th>to_name</th>\n",
       "      <th>Date</th>\n",
       "      <th>Time</th>\n",
       "      <th>Transaction_ID</th>\n",
       "      <th>Decimal_time</th>\n",
       "      <th>Income</th>\n",
       "      <th>Employment</th>\n",
       "      <th>Day_type</th>\n",
       "      <th>Day</th>\n",
       "    </tr>\n",
       "  </thead>\n",
       "  <tbody>\n",
       "    <tr>\n",
       "      <th>0</th>\n",
       "      <td>1461</td>\n",
       "      <td>1352.0</td>\n",
       "      <td>2582.04</td>\n",
       "      <td>1379.0</td>\n",
       "      <td>Starbucks</td>\n",
       "      <td>01/01/2020</td>\n",
       "      <td>00:00:00</td>\n",
       "      <td>0</td>\n",
       "      <td>0.0</td>\n",
       "      <td>2811.08</td>\n",
       "      <td>Employed</td>\n",
       "      <td>weekday</td>\n",
       "      <td>Wednesday</td>\n",
       "    </tr>\n",
       "    <tr>\n",
       "      <th>1</th>\n",
       "      <td>1088</td>\n",
       "      <td>1251.2</td>\n",
       "      <td>2285.19</td>\n",
       "      <td>1244.0</td>\n",
       "      <td>Adams</td>\n",
       "      <td>01/01/2020</td>\n",
       "      <td>00:00:00</td>\n",
       "      <td>1</td>\n",
       "      <td>0.0</td>\n",
       "      <td>2603.54</td>\n",
       "      <td>Employed</td>\n",
       "      <td>weekday</td>\n",
       "      <td>Wednesday</td>\n",
       "    </tr>\n",
       "    <tr>\n",
       "      <th>2</th>\n",
       "      <td>1447</td>\n",
       "      <td>1968.5</td>\n",
       "      <td>2479.09</td>\n",
       "      <td>1101.0</td>\n",
       "      <td>North Face</td>\n",
       "      <td>01/01/2020</td>\n",
       "      <td>00:00:00</td>\n",
       "      <td>2</td>\n",
       "      <td>0.0</td>\n",
       "      <td>4043.70</td>\n",
       "      <td>Employed</td>\n",
       "      <td>weekday</td>\n",
       "      <td>Wednesday</td>\n",
       "    </tr>\n",
       "    <tr>\n",
       "      <th>3</th>\n",
       "      <td>1207</td>\n",
       "      <td>1352.0</td>\n",
       "      <td>2530.55</td>\n",
       "      <td>1178.0</td>\n",
       "      <td>Coffee #1</td>\n",
       "      <td>01/01/2020</td>\n",
       "      <td>00:00:00</td>\n",
       "      <td>3</td>\n",
       "      <td>0.0</td>\n",
       "      <td>2768.97</td>\n",
       "      <td>Employed</td>\n",
       "      <td>weekday</td>\n",
       "      <td>Wednesday</td>\n",
       "    </tr>\n",
       "    <tr>\n",
       "      <th>4</th>\n",
       "      <td>1136</td>\n",
       "      <td>1968.5</td>\n",
       "      <td>3627.45</td>\n",
       "      <td>1305.0</td>\n",
       "      <td>Cass Art</td>\n",
       "      <td>01/01/2020</td>\n",
       "      <td>00:00:00</td>\n",
       "      <td>4</td>\n",
       "      <td>0.0</td>\n",
       "      <td>3975.15</td>\n",
       "      <td>Employed</td>\n",
       "      <td>weekday</td>\n",
       "      <td>Wednesday</td>\n",
       "    </tr>\n",
       "  </tbody>\n",
       "</table>\n",
       "</div>"
      ],
      "text/plain": [
       "  Account  Amount  Balance to_account     to_name        Date      Time   \n",
       "0    1461  1352.0  2582.04     1379.0   Starbucks  01/01/2020  00:00:00  \\\n",
       "1    1088  1251.2  2285.19     1244.0       Adams  01/01/2020  00:00:00   \n",
       "2    1447  1968.5  2479.09     1101.0  North Face  01/01/2020  00:00:00   \n",
       "3    1207  1352.0  2530.55     1178.0   Coffee #1  01/01/2020  00:00:00   \n",
       "4    1136  1968.5  3627.45     1305.0    Cass Art  01/01/2020  00:00:00   \n",
       "\n",
       "   Transaction_ID  Decimal_time   Income Employment Day_type        Day  \n",
       "0               0           0.0  2811.08   Employed  weekday  Wednesday  \n",
       "1               1           0.0  2603.54   Employed  weekday  Wednesday  \n",
       "2               2           0.0  4043.70   Employed  weekday  Wednesday  \n",
       "3               3           0.0  2768.97   Employed  weekday  Wednesday  \n",
       "4               4           0.0  3975.15   Employed  weekday  Wednesday  "
      ]
     },
     "execution_count": 3,
     "metadata": {},
     "output_type": "execute_result"
    }
   ],
   "source": [
    "df.head()"
   ]
  },
  {
   "attachments": {},
   "cell_type": "markdown",
   "metadata": {},
   "source": [
    "### Cleaning"
   ]
  },
  {
   "cell_type": "markdown",
   "metadata": {},
   "source": [
    "Rounding the money values"
   ]
  },
  {
   "cell_type": "code",
   "execution_count": 4,
   "metadata": {},
   "outputs": [],
   "source": [
    "df['Amount'] = df['Amount'].round(2)\n",
    "df['Balance'] = df['Balance'].round(2)"
   ]
  },
  {
   "attachments": {},
   "cell_type": "markdown",
   "metadata": {},
   "source": [
    "### Missing values"
   ]
  },
  {
   "cell_type": "markdown",
   "metadata": {},
   "source": [
    "Here I am just checking for any obvious patterns in the NaN values, such as transactions where each feature is NaN"
   ]
  },
  {
   "cell_type": "code",
   "execution_count": 5,
   "metadata": {},
   "outputs": [
    {
     "data": {
      "text/plain": [
       "<AxesSubplot:>"
      ]
     },
     "execution_count": 5,
     "metadata": {},
     "output_type": "execute_result"
    },
    {
     "data": {
      "image/png": "[encoded data removed]",
      "text/plain": [
       "<Figure size 1000x600 with 1 Axes>"
      ]
     },
     "metadata": {},
     "output_type": "display_data"
    }
   ],
   "source": [
    "#Visualizing the missing values\n",
    "plt.figure(figsize=(10, 6))\n",
    "sns.heatmap(df.isnull(), yticklabels=False, cmap='viridis', cbar=False)"
   ]
  },
  {
   "cell_type": "markdown",
   "metadata": {},
   "source": [
    "#### This function returns the NA status of each column"
   ]
  },
  {
   "cell_type": "code",
   "execution_count": 6,
   "metadata": {},
   "outputs": [],
   "source": [
    "def missing_cols(df):\n",
    "    '''prints out columns with its amount of missing values'''\n",
    "    total = 0\n",
    "    for col in df.columns:\n",
    "        missing_vals = df[col].isnull().sum()\n",
    "        total += missing_vals\n",
    "        if missing_vals != 0:\n",
    "            print(f\"{col} => {df[col].isnull().sum()}\")\n",
    "        if missing_vals == 0:\n",
    "             print(f\"{col} => No missing values\")\n",
    "        pct = df[col].isna().mean() * 100\n",
    "        if (pct != 0):\n",
    "            print('{} => {}%'.format(col, round(pct, 2)))\n",
    "    \n",
    "    if total == 0:\n",
    "        print(\"no missing values left\")"
   ]
  },
  {
   "cell_type": "code",
   "execution_count": 7,
   "metadata": {},
   "outputs": [
    {
     "name": "stdout",
     "output_type": "stream",
     "text": [
      "\n",
      " How many missing values each column has and what percentage this is:\n",
      "Account => No missing values\n",
      "Amount => No missing values\n",
      "Balance => No missing values\n",
      "to_account => 28841\n",
      "to_account => 16.52%\n",
      "to_name => 15252\n",
      "to_name => 8.74%\n",
      "Date => No missing values\n",
      "Time => No missing values\n",
      "Transaction_ID => No missing values\n",
      "Decimal_time => No missing values\n",
      "Income => 79494\n",
      "Income => 45.53%\n",
      "Employment => No missing values\n",
      "Day_type => No missing values\n",
      "Day => No missing values\n"
     ]
    }
   ],
   "source": [
    "print(\"\\n How many missing values each column has and what percentage this is:\")    \n",
    "#Using the function above to see our missing values  \n",
    "missing_cols(df)       \n"
   ]
  },
  {
   "attachments": {},
   "cell_type": "markdown",
   "metadata": {},
   "source": [
    "So we only have missing values in 2 of the columns, where there does not seem to be any overlapping"
   ]
  },
  {
   "cell_type": "code",
   "execution_count": 8,
   "metadata": {},
   "outputs": [
    {
     "data": {
      "text/plain": [
       "{'Deliveroo', 'Halifax'}"
      ]
     },
     "execution_count": 8,
     "metadata": {},
     "output_type": "execute_result"
    }
   ],
   "source": [
    "set(np.array(df[pd.isna(df['to_account'])]['to_name']))"
   ]
  },
  {
   "attachments": {},
   "cell_type": "markdown",
   "metadata": {},
   "source": [
    "So all values with NaN in to account, are either Deliveroo or Halifax to name"
   ]
  },
  {
   "cell_type": "code",
   "execution_count": 9,
   "metadata": {},
   "outputs": [],
   "source": [
    "myList = np.array(df[(df['to_name'] == 'Halifax') | (df['to_name'] == 'Deliveroo')][\"to_account\"])"
   ]
  },
  {
   "cell_type": "code",
   "execution_count": 10,
   "metadata": {},
   "outputs": [
    {
     "name": "stdout",
     "output_type": "stream",
     "text": [
      "The original list is: [nan nan nan ... nan nan nan]\n",
      "Output list is: []\n"
     ]
    }
   ],
   "source": [
    "from math import nan\n",
    "import math\n",
    " \n",
    "print(\"The original list is:\", myList)\n",
    "newList = list()\n",
    "for element in myList:\n",
    "    if not math.isnan(element):\n",
    "        newList.append(element)\n",
    " \n",
    "print(\"Output list is:\", newList)"
   ]
  },
  {
   "attachments": {},
   "cell_type": "markdown",
   "metadata": {},
   "source": [
    "So all values to halifax and deliveroo have no account number, as account number is a string I will fill in all these missing values"
   ]
  },
  {
   "cell_type": "code",
   "execution_count": 11,
   "metadata": {},
   "outputs": [],
   "source": [
    "halifax_indexes = df[(df['to_name'] == 'Halifax')].index\n",
    "deliveroo_indexes = df[(df['to_name'] == 'Deliveroo')].index\n",
    "\n",
    "df.loc[halifax_indexes, \"to_account\"] = 'Halifax'\n",
    "df.loc[deliveroo_indexes, \"to_account\"] = 'Deliveroo'"
   ]
  },
  {
   "cell_type": "code",
   "execution_count": 12,
   "metadata": {},
   "outputs": [
    {
     "name": "stdout",
     "output_type": "stream",
     "text": [
      "\n",
      " How many missing values each column has and what percentage this is:\n",
      "Account => No missing values\n",
      "Amount => No missing values\n",
      "Balance => No missing values\n",
      "to_account => No missing values\n",
      "to_name => 15252\n",
      "to_name => 8.74%\n",
      "Date => No missing values\n",
      "Time => No missing values\n",
      "Transaction_ID => No missing values\n",
      "Decimal_time => No missing values\n",
      "Income => 79494\n",
      "Income => 45.53%\n",
      "Employment => No missing values\n",
      "Day_type => No missing values\n",
      "Day => No missing values\n"
     ]
    }
   ],
   "source": [
    "print(\"\\n How many missing values each column has and what percentage this is:\")    \n",
    "#Using the function above to see our missing values  \n",
    "missing_cols(df)  "
   ]
  },
  {
   "attachments": {},
   "cell_type": "markdown",
   "metadata": {},
   "source": [
    "Lets inspect NaN to name values"
   ]
  },
  {
   "cell_type": "code",
   "execution_count": 13,
   "metadata": {},
   "outputs": [
    {
     "data": {
      "text/html": [
       "<div>\n",
       "<style scoped>\n",
       "    .dataframe tbody tr th:only-of-type {\n",
       "        vertical-align: middle;\n",
       "    }\n",
       "\n",
       "    .dataframe tbody tr th {\n",
       "        vertical-align: top;\n",
       "    }\n",
       "\n",
       "    .dataframe thead th {\n",
       "        text-align: right;\n",
       "    }\n",
       "</style>\n",
       "<table border=\"1\" class=\"dataframe\">\n",
       "  <thead>\n",
       "    <tr style=\"text-align: right;\">\n",
       "      <th></th>\n",
       "      <th>Account</th>\n",
       "      <th>Amount</th>\n",
       "      <th>Balance</th>\n",
       "      <th>to_account</th>\n",
       "      <th>to_name</th>\n",
       "      <th>Date</th>\n",
       "      <th>Time</th>\n",
       "      <th>Transaction_ID</th>\n",
       "      <th>Decimal_time</th>\n",
       "      <th>Income</th>\n",
       "      <th>Employment</th>\n",
       "      <th>Day_type</th>\n",
       "      <th>Day</th>\n",
       "    </tr>\n",
       "  </thead>\n",
       "  <tbody>\n",
       "    <tr>\n",
       "      <th>98</th>\n",
       "      <td>1381</td>\n",
       "      <td>-850.00</td>\n",
       "      <td>2656.70</td>\n",
       "      <td>1036.0</td>\n",
       "      <td>NaN</td>\n",
       "      <td>01/01/2020</td>\n",
       "      <td>00:00:00</td>\n",
       "      <td>98</td>\n",
       "      <td>0.00</td>\n",
       "      <td>4414.23</td>\n",
       "      <td>Employed</td>\n",
       "      <td>weekday</td>\n",
       "      <td>Wednesday</td>\n",
       "    </tr>\n",
       "    <tr>\n",
       "      <th>99</th>\n",
       "      <td>1036</td>\n",
       "      <td>850.00</td>\n",
       "      <td>3171.21</td>\n",
       "      <td>1381.0</td>\n",
       "      <td>NaN</td>\n",
       "      <td>01/01/2020</td>\n",
       "      <td>00:00:00</td>\n",
       "      <td>99</td>\n",
       "      <td>0.00</td>\n",
       "      <td>NaN</td>\n",
       "      <td>Unemployed</td>\n",
       "      <td>weekday</td>\n",
       "      <td>Wednesday</td>\n",
       "    </tr>\n",
       "    <tr>\n",
       "      <th>100</th>\n",
       "      <td>1444</td>\n",
       "      <td>-800.00</td>\n",
       "      <td>2508.76</td>\n",
       "      <td>1036.0</td>\n",
       "      <td>NaN</td>\n",
       "      <td>01/01/2020</td>\n",
       "      <td>00:00:00</td>\n",
       "      <td>100</td>\n",
       "      <td>0.00</td>\n",
       "      <td>4444.92</td>\n",
       "      <td>Employed</td>\n",
       "      <td>weekday</td>\n",
       "      <td>Wednesday</td>\n",
       "    </tr>\n",
       "    <tr>\n",
       "      <th>101</th>\n",
       "      <td>1036</td>\n",
       "      <td>800.00</td>\n",
       "      <td>3971.21</td>\n",
       "      <td>1444.0</td>\n",
       "      <td>NaN</td>\n",
       "      <td>01/01/2020</td>\n",
       "      <td>00:00:00</td>\n",
       "      <td>101</td>\n",
       "      <td>0.00</td>\n",
       "      <td>NaN</td>\n",
       "      <td>Unemployed</td>\n",
       "      <td>weekday</td>\n",
       "      <td>Wednesday</td>\n",
       "    </tr>\n",
       "    <tr>\n",
       "      <th>102</th>\n",
       "      <td>1138</td>\n",
       "      <td>-500.00</td>\n",
       "      <td>759.27</td>\n",
       "      <td>1036.0</td>\n",
       "      <td>NaN</td>\n",
       "      <td>01/01/2020</td>\n",
       "      <td>00:00:00</td>\n",
       "      <td>102</td>\n",
       "      <td>0.00</td>\n",
       "      <td>NaN</td>\n",
       "      <td>Unemployed</td>\n",
       "      <td>weekday</td>\n",
       "      <td>Wednesday</td>\n",
       "    </tr>\n",
       "    <tr>\n",
       "      <th>...</th>\n",
       "      <td>...</td>\n",
       "      <td>...</td>\n",
       "      <td>...</td>\n",
       "      <td>...</td>\n",
       "      <td>...</td>\n",
       "      <td>...</td>\n",
       "      <td>...</td>\n",
       "      <td>...</td>\n",
       "      <td>...</td>\n",
       "      <td>...</td>\n",
       "      <td>...</td>\n",
       "      <td>...</td>\n",
       "      <td>...</td>\n",
       "    </tr>\n",
       "    <tr>\n",
       "      <th>174571</th>\n",
       "      <td>1034</td>\n",
       "      <td>5600.00</td>\n",
       "      <td>946.65</td>\n",
       "      <td>1069.0</td>\n",
       "      <td>NaN</td>\n",
       "      <td>03/31/2020</td>\n",
       "      <td>23:34:00</td>\n",
       "      <td>174571</td>\n",
       "      <td>23.57</td>\n",
       "      <td>2505.22</td>\n",
       "      <td>Employed</td>\n",
       "      <td>weekday</td>\n",
       "      <td>Tuesday</td>\n",
       "    </tr>\n",
       "    <tr>\n",
       "      <th>174575</th>\n",
       "      <td>1486</td>\n",
       "      <td>-17.07</td>\n",
       "      <td>-3762.53</td>\n",
       "      <td>1351.0</td>\n",
       "      <td>NaN</td>\n",
       "      <td>03/31/2020</td>\n",
       "      <td>23:37:00</td>\n",
       "      <td>174575</td>\n",
       "      <td>23.62</td>\n",
       "      <td>NaN</td>\n",
       "      <td>Unemployed</td>\n",
       "      <td>weekday</td>\n",
       "      <td>Tuesday</td>\n",
       "    </tr>\n",
       "    <tr>\n",
       "      <th>174576</th>\n",
       "      <td>1351</td>\n",
       "      <td>17.07</td>\n",
       "      <td>1012.70</td>\n",
       "      <td>1486.0</td>\n",
       "      <td>NaN</td>\n",
       "      <td>03/31/2020</td>\n",
       "      <td>23:37:00</td>\n",
       "      <td>174576</td>\n",
       "      <td>23.62</td>\n",
       "      <td>NaN</td>\n",
       "      <td>Unemployed</td>\n",
       "      <td>weekday</td>\n",
       "      <td>Tuesday</td>\n",
       "    </tr>\n",
       "    <tr>\n",
       "      <th>174590</th>\n",
       "      <td>1164</td>\n",
       "      <td>-2000.00</td>\n",
       "      <td>13359.93</td>\n",
       "      <td>121.0</td>\n",
       "      <td>NaN</td>\n",
       "      <td>03/31/2020</td>\n",
       "      <td>23:50:00</td>\n",
       "      <td>174590</td>\n",
       "      <td>23.83</td>\n",
       "      <td>9855.66</td>\n",
       "      <td>Employed</td>\n",
       "      <td>weekday</td>\n",
       "      <td>Tuesday</td>\n",
       "    </tr>\n",
       "    <tr>\n",
       "      <th>174591</th>\n",
       "      <td>1210</td>\n",
       "      <td>2000.00</td>\n",
       "      <td>1914.57</td>\n",
       "      <td>1164.0</td>\n",
       "      <td>NaN</td>\n",
       "      <td>03/31/2020</td>\n",
       "      <td>23:50:00</td>\n",
       "      <td>174591</td>\n",
       "      <td>23.83</td>\n",
       "      <td>4101.80</td>\n",
       "      <td>Employed</td>\n",
       "      <td>weekday</td>\n",
       "      <td>Tuesday</td>\n",
       "    </tr>\n",
       "  </tbody>\n",
       "</table>\n",
       "<p>15252 rows × 13 columns</p>\n",
       "</div>"
      ],
      "text/plain": [
       "       Account   Amount   Balance to_account to_name        Date      Time   \n",
       "98        1381  -850.00   2656.70     1036.0     NaN  01/01/2020  00:00:00  \\\n",
       "99        1036   850.00   3171.21     1381.0     NaN  01/01/2020  00:00:00   \n",
       "100       1444  -800.00   2508.76     1036.0     NaN  01/01/2020  00:00:00   \n",
       "101       1036   800.00   3971.21     1444.0     NaN  01/01/2020  00:00:00   \n",
       "102       1138  -500.00    759.27     1036.0     NaN  01/01/2020  00:00:00   \n",
       "...        ...      ...       ...        ...     ...         ...       ...   \n",
       "174571    1034  5600.00    946.65     1069.0     NaN  03/31/2020  23:34:00   \n",
       "174575    1486   -17.07  -3762.53     1351.0     NaN  03/31/2020  23:37:00   \n",
       "174576    1351    17.07   1012.70     1486.0     NaN  03/31/2020  23:37:00   \n",
       "174590    1164 -2000.00  13359.93      121.0     NaN  03/31/2020  23:50:00   \n",
       "174591    1210  2000.00   1914.57     1164.0     NaN  03/31/2020  23:50:00   \n",
       "\n",
       "        Transaction_ID  Decimal_time   Income  Employment Day_type        Day  \n",
       "98                  98          0.00  4414.23    Employed  weekday  Wednesday  \n",
       "99                  99          0.00      NaN  Unemployed  weekday  Wednesday  \n",
       "100                100          0.00  4444.92    Employed  weekday  Wednesday  \n",
       "101                101          0.00      NaN  Unemployed  weekday  Wednesday  \n",
       "102                102          0.00      NaN  Unemployed  weekday  Wednesday  \n",
       "...                ...           ...      ...         ...      ...        ...  \n",
       "174571          174571         23.57  2505.22    Employed  weekday    Tuesday  \n",
       "174575          174575         23.62      NaN  Unemployed  weekday    Tuesday  \n",
       "174576          174576         23.62      NaN  Unemployed  weekday    Tuesday  \n",
       "174590          174590         23.83  9855.66    Employed  weekday    Tuesday  \n",
       "174591          174591         23.83  4101.80    Employed  weekday    Tuesday  \n",
       "\n",
       "[15252 rows x 13 columns]"
      ]
     },
     "execution_count": 13,
     "metadata": {},
     "output_type": "execute_result"
    }
   ],
   "source": [
    "df[pd.isna(df['to_name'])]"
   ]
  },
  {
   "attachments": {},
   "cell_type": "markdown",
   "metadata": {},
   "source": [
    "Are any of these NaN's businesses?"
   ]
  },
  {
   "cell_type": "code",
   "execution_count": 14,
   "metadata": {},
   "outputs": [
    {
     "name": "stdout",
     "output_type": "stream",
     "text": [
      "nan\n",
      "0\n",
      "CeX\n",
      "1\n",
      "Blackwell's\n",
      "1\n",
      "Red Lion\n",
      "1\n",
      "PUREGYM\n",
      "1\n",
      "JD Sports\n",
      "1\n",
      "Millets\n",
      "1\n",
      "The Royal Oak\n",
      "1\n",
      "Waterstones\n",
      "1\n",
      "SUNNY CARE NURSERY\n",
      "1\n",
      "Tesco Express\n",
      "1\n",
      "Hobbycraft\n",
      "1\n",
      "HMV\n",
      "1\n",
      "Bill's\n",
      "1\n",
      "Coop local\n",
      "1\n",
      "Pets Corner\n",
      "1\n",
      "ASK Italian\n",
      "1\n",
      "H&M\n",
      "1\n",
      "Wool\n",
      "1\n",
      "Starbucks\n",
      "1\n",
      "Game\n",
      "1\n",
      "White Hart\n",
      "1\n",
      "TK Maxx\n",
      "1\n",
      "Mountain Warehouse\n",
      "1\n",
      "Mickleburgh Musical Instruments\n",
      "1\n",
      "Next\n",
      "1\n",
      "Matalan\n",
      "1\n",
      "Cass Art\n",
      "1\n",
      "Sainsbury local\n",
      "1\n",
      "Nike\n",
      "1\n",
      "North Face\n",
      "1\n",
      "Gap Kids\n",
      "1\n",
      "Pets at Home\n",
      "1\n",
      "The Crown\n",
      "1\n",
      "Harvester\n",
      "1\n",
      "Costa Coffee\n",
      "1\n",
      "Adams\n",
      "1\n",
      "Halifax\n",
      "1\n",
      "A Yarn Story\n",
      "1\n",
      "Hobgoblin Music\n",
      "1\n",
      "Rose & Crown\n",
      "1\n",
      "PizzaExpress\n",
      "1\n",
      "PureGym\n",
      "1\n",
      "Coffee #1\n",
      "1\n",
      "Deliveroo\n",
      "1\n",
      "Sports Direct\n",
      "1\n"
     ]
    }
   ],
   "source": [
    "for x in set(np.array(df['to_name'])):\n",
    "    print(x)\n",
    "    print(len(df[df.to_name == x]['to_account'].unique()))"
   ]
  },
  {
   "attachments": {},
   "cell_type": "markdown",
   "metadata": {},
   "source": [
    "So all these NaN are NaN because they are transactions to other people"
   ]
  },
  {
   "cell_type": "code",
   "execution_count": 15,
   "metadata": {},
   "outputs": [],
   "source": [
    "df.loc[pd.isna(df.to_name), \"to_name\"] = 'Between'"
   ]
  },
  {
   "cell_type": "code",
   "execution_count": 16,
   "metadata": {},
   "outputs": [
    {
     "name": "stdout",
     "output_type": "stream",
     "text": [
      "\n",
      " How many missing values each column has and what percentage this is:\n",
      "Account => No missing values\n",
      "Amount => No missing values\n",
      "Balance => No missing values\n",
      "to_account => No missing values\n",
      "to_name => No missing values\n",
      "Date => No missing values\n",
      "Time => No missing values\n",
      "Transaction_ID => No missing values\n",
      "Decimal_time => No missing values\n",
      "Income => 79494\n",
      "Income => 45.53%\n",
      "Employment => No missing values\n",
      "Day_type => No missing values\n",
      "Day => No missing values\n"
     ]
    }
   ],
   "source": [
    "print(\"\\n How many missing values each column has and what percentage this is:\")    \n",
    "#Using the function above to see our missing values  \n",
    "missing_cols(df) "
   ]
  },
  {
   "attachments": {},
   "cell_type": "markdown",
   "metadata": {},
   "source": [
    "Yay, no missing values"
   ]
  },
  {
   "attachments": {},
   "cell_type": "markdown",
   "metadata": {},
   "source": [
    "### Let's add more features"
   ]
  },
  {
   "cell_type": "code",
   "execution_count": 17,
   "metadata": {},
   "outputs": [
    {
     "data": {
      "text/html": [
       "<div>\n",
       "<style scoped>\n",
       "    .dataframe tbody tr th:only-of-type {\n",
       "        vertical-align: middle;\n",
       "    }\n",
       "\n",
       "    .dataframe tbody tr th {\n",
       "        vertical-align: top;\n",
       "    }\n",
       "\n",
       "    .dataframe thead th {\n",
       "        text-align: right;\n",
       "    }\n",
       "</style>\n",
       "<table border=\"1\" class=\"dataframe\">\n",
       "  <thead>\n",
       "    <tr style=\"text-align: right;\">\n",
       "      <th></th>\n",
       "      <th>Account</th>\n",
       "      <th>Amount</th>\n",
       "      <th>Balance</th>\n",
       "      <th>to_account</th>\n",
       "      <th>to_name</th>\n",
       "      <th>Date</th>\n",
       "      <th>Time</th>\n",
       "      <th>Transaction_ID</th>\n",
       "      <th>Decimal_time</th>\n",
       "      <th>Income</th>\n",
       "      <th>Employment</th>\n",
       "      <th>Day_type</th>\n",
       "      <th>Day</th>\n",
       "    </tr>\n",
       "  </thead>\n",
       "  <tbody>\n",
       "    <tr>\n",
       "      <th>0</th>\n",
       "      <td>1461</td>\n",
       "      <td>1352.00</td>\n",
       "      <td>2582.04</td>\n",
       "      <td>1379.0</td>\n",
       "      <td>Starbucks</td>\n",
       "      <td>01/01/2020</td>\n",
       "      <td>00:00:00</td>\n",
       "      <td>0</td>\n",
       "      <td>0.00</td>\n",
       "      <td>2811.08</td>\n",
       "      <td>Employed</td>\n",
       "      <td>weekday</td>\n",
       "      <td>Wednesday</td>\n",
       "    </tr>\n",
       "    <tr>\n",
       "      <th>1</th>\n",
       "      <td>1088</td>\n",
       "      <td>1251.20</td>\n",
       "      <td>2285.19</td>\n",
       "      <td>1244.0</td>\n",
       "      <td>Adams</td>\n",
       "      <td>01/01/2020</td>\n",
       "      <td>00:00:00</td>\n",
       "      <td>1</td>\n",
       "      <td>0.00</td>\n",
       "      <td>2603.54</td>\n",
       "      <td>Employed</td>\n",
       "      <td>weekday</td>\n",
       "      <td>Wednesday</td>\n",
       "    </tr>\n",
       "    <tr>\n",
       "      <th>2</th>\n",
       "      <td>1447</td>\n",
       "      <td>1968.50</td>\n",
       "      <td>2479.09</td>\n",
       "      <td>1101.0</td>\n",
       "      <td>North Face</td>\n",
       "      <td>01/01/2020</td>\n",
       "      <td>00:00:00</td>\n",
       "      <td>2</td>\n",
       "      <td>0.00</td>\n",
       "      <td>4043.70</td>\n",
       "      <td>Employed</td>\n",
       "      <td>weekday</td>\n",
       "      <td>Wednesday</td>\n",
       "    </tr>\n",
       "    <tr>\n",
       "      <th>3</th>\n",
       "      <td>1207</td>\n",
       "      <td>1352.00</td>\n",
       "      <td>2530.55</td>\n",
       "      <td>1178.0</td>\n",
       "      <td>Coffee #1</td>\n",
       "      <td>01/01/2020</td>\n",
       "      <td>00:00:00</td>\n",
       "      <td>3</td>\n",
       "      <td>0.00</td>\n",
       "      <td>2768.97</td>\n",
       "      <td>Employed</td>\n",
       "      <td>weekday</td>\n",
       "      <td>Wednesday</td>\n",
       "    </tr>\n",
       "    <tr>\n",
       "      <th>4</th>\n",
       "      <td>1136</td>\n",
       "      <td>1968.50</td>\n",
       "      <td>3627.45</td>\n",
       "      <td>1305.0</td>\n",
       "      <td>Cass Art</td>\n",
       "      <td>01/01/2020</td>\n",
       "      <td>00:00:00</td>\n",
       "      <td>4</td>\n",
       "      <td>0.00</td>\n",
       "      <td>3975.15</td>\n",
       "      <td>Employed</td>\n",
       "      <td>weekday</td>\n",
       "      <td>Wednesday</td>\n",
       "    </tr>\n",
       "    <tr>\n",
       "      <th>...</th>\n",
       "      <td>...</td>\n",
       "      <td>...</td>\n",
       "      <td>...</td>\n",
       "      <td>...</td>\n",
       "      <td>...</td>\n",
       "      <td>...</td>\n",
       "      <td>...</td>\n",
       "      <td>...</td>\n",
       "      <td>...</td>\n",
       "      <td>...</td>\n",
       "      <td>...</td>\n",
       "      <td>...</td>\n",
       "      <td>...</td>\n",
       "    </tr>\n",
       "    <tr>\n",
       "      <th>174596</th>\n",
       "      <td>1391</td>\n",
       "      <td>-19.24</td>\n",
       "      <td>-6585.98</td>\n",
       "      <td>Deliveroo</td>\n",
       "      <td>Deliveroo</td>\n",
       "      <td>03/31/2020</td>\n",
       "      <td>23:55:00</td>\n",
       "      <td>174596</td>\n",
       "      <td>23.92</td>\n",
       "      <td>NaN</td>\n",
       "      <td>Unemployed</td>\n",
       "      <td>weekday</td>\n",
       "      <td>Tuesday</td>\n",
       "    </tr>\n",
       "    <tr>\n",
       "      <th>174597</th>\n",
       "      <td>1405</td>\n",
       "      <td>-10.99</td>\n",
       "      <td>-1179.87</td>\n",
       "      <td>Deliveroo</td>\n",
       "      <td>Deliveroo</td>\n",
       "      <td>03/31/2020</td>\n",
       "      <td>23:56:00</td>\n",
       "      <td>174597</td>\n",
       "      <td>23.93</td>\n",
       "      <td>9624.01</td>\n",
       "      <td>Employed</td>\n",
       "      <td>weekday</td>\n",
       "      <td>Tuesday</td>\n",
       "    </tr>\n",
       "    <tr>\n",
       "      <th>174598</th>\n",
       "      <td>1391</td>\n",
       "      <td>-20.89</td>\n",
       "      <td>-6606.87</td>\n",
       "      <td>Deliveroo</td>\n",
       "      <td>Deliveroo</td>\n",
       "      <td>03/31/2020</td>\n",
       "      <td>23:56:00</td>\n",
       "      <td>174598</td>\n",
       "      <td>23.93</td>\n",
       "      <td>NaN</td>\n",
       "      <td>Unemployed</td>\n",
       "      <td>weekday</td>\n",
       "      <td>Tuesday</td>\n",
       "    </tr>\n",
       "    <tr>\n",
       "      <th>174599</th>\n",
       "      <td>1391</td>\n",
       "      <td>-17.24</td>\n",
       "      <td>-6624.11</td>\n",
       "      <td>Deliveroo</td>\n",
       "      <td>Deliveroo</td>\n",
       "      <td>03/31/2020</td>\n",
       "      <td>23:57:00</td>\n",
       "      <td>174599</td>\n",
       "      <td>23.95</td>\n",
       "      <td>NaN</td>\n",
       "      <td>Unemployed</td>\n",
       "      <td>weekday</td>\n",
       "      <td>Tuesday</td>\n",
       "    </tr>\n",
       "    <tr>\n",
       "      <th>174600</th>\n",
       "      <td>1391</td>\n",
       "      <td>-25.93</td>\n",
       "      <td>-6650.04</td>\n",
       "      <td>Deliveroo</td>\n",
       "      <td>Deliveroo</td>\n",
       "      <td>03/31/2020</td>\n",
       "      <td>23:58:00</td>\n",
       "      <td>174600</td>\n",
       "      <td>23.97</td>\n",
       "      <td>NaN</td>\n",
       "      <td>Unemployed</td>\n",
       "      <td>weekday</td>\n",
       "      <td>Tuesday</td>\n",
       "    </tr>\n",
       "  </tbody>\n",
       "</table>\n",
       "<p>174601 rows × 13 columns</p>\n",
       "</div>"
      ],
      "text/plain": [
       "       Account   Amount  Balance to_account     to_name        Date      Time   \n",
       "0         1461  1352.00  2582.04     1379.0   Starbucks  01/01/2020  00:00:00  \\\n",
       "1         1088  1251.20  2285.19     1244.0       Adams  01/01/2020  00:00:00   \n",
       "2         1447  1968.50  2479.09     1101.0  North Face  01/01/2020  00:00:00   \n",
       "3         1207  1352.00  2530.55     1178.0   Coffee #1  01/01/2020  00:00:00   \n",
       "4         1136  1968.50  3627.45     1305.0    Cass Art  01/01/2020  00:00:00   \n",
       "...        ...      ...      ...        ...         ...         ...       ...   \n",
       "174596    1391   -19.24 -6585.98  Deliveroo   Deliveroo  03/31/2020  23:55:00   \n",
       "174597    1405   -10.99 -1179.87  Deliveroo   Deliveroo  03/31/2020  23:56:00   \n",
       "174598    1391   -20.89 -6606.87  Deliveroo   Deliveroo  03/31/2020  23:56:00   \n",
       "174599    1391   -17.24 -6624.11  Deliveroo   Deliveroo  03/31/2020  23:57:00   \n",
       "174600    1391   -25.93 -6650.04  Deliveroo   Deliveroo  03/31/2020  23:58:00   \n",
       "\n",
       "        Transaction_ID  Decimal_time   Income  Employment Day_type        Day  \n",
       "0                    0          0.00  2811.08    Employed  weekday  Wednesday  \n",
       "1                    1          0.00  2603.54    Employed  weekday  Wednesday  \n",
       "2                    2          0.00  4043.70    Employed  weekday  Wednesday  \n",
       "3                    3          0.00  2768.97    Employed  weekday  Wednesday  \n",
       "4                    4          0.00  3975.15    Employed  weekday  Wednesday  \n",
       "...                ...           ...      ...         ...      ...        ...  \n",
       "174596          174596         23.92      NaN  Unemployed  weekday    Tuesday  \n",
       "174597          174597         23.93  9624.01    Employed  weekday    Tuesday  \n",
       "174598          174598         23.93      NaN  Unemployed  weekday    Tuesday  \n",
       "174599          174599         23.95      NaN  Unemployed  weekday    Tuesday  \n",
       "174600          174600         23.97      NaN  Unemployed  weekday    Tuesday  \n",
       "\n",
       "[174601 rows x 13 columns]"
      ]
     },
     "execution_count": 17,
     "metadata": {},
     "output_type": "execute_result"
    }
   ],
   "source": [
    "df"
   ]
  },
  {
   "attachments": {},
   "cell_type": "markdown",
   "metadata": {},
   "source": [
    "### More cleaning"
   ]
  },
  {
   "cell_type": "code",
   "execution_count": 18,
   "metadata": {},
   "outputs": [
    {
     "data": {
      "text/plain": [
       "0.0"
      ]
     },
     "execution_count": 18,
     "metadata": {},
     "output_type": "execute_result"
    }
   ],
   "source": [
    "df[df.to_name == 'Between']['Amount'].sum()"
   ]
  },
  {
   "attachments": {},
   "cell_type": "markdown",
   "metadata": {},
   "source": [
    "So all payments between customers are recorded twice, this may skew the data. We can make the 2 recoreded transactions have the same transaction ID"
   ]
  },
  {
   "cell_type": "code",
   "execution_count": 19,
   "metadata": {},
   "outputs": [],
   "source": [
    "def altElement(a):\n",
    "    return a[::2]\n"
   ]
  },
  {
   "cell_type": "code",
   "execution_count": 20,
   "metadata": {},
   "outputs": [],
   "source": [
    "for i in altElement(df[df.to_name == 'Between'].index):\n",
    "    df.loc[df.index == i, 'Transaction_ID'] = df.loc[df.index == i, 'Transaction_ID'] + 1\n"
   ]
  },
  {
   "cell_type": "code",
   "execution_count": 21,
   "metadata": {},
   "outputs": [
    {
     "data": {
      "text/html": [
       "<div>\n",
       "<style scoped>\n",
       "    .dataframe tbody tr th:only-of-type {\n",
       "        vertical-align: middle;\n",
       "    }\n",
       "\n",
       "    .dataframe tbody tr th {\n",
       "        vertical-align: top;\n",
       "    }\n",
       "\n",
       "    .dataframe thead th {\n",
       "        text-align: right;\n",
       "    }\n",
       "</style>\n",
       "<table border=\"1\" class=\"dataframe\">\n",
       "  <thead>\n",
       "    <tr style=\"text-align: right;\">\n",
       "      <th></th>\n",
       "      <th>Account</th>\n",
       "      <th>Amount</th>\n",
       "      <th>Balance</th>\n",
       "      <th>to_account</th>\n",
       "      <th>to_name</th>\n",
       "      <th>Date</th>\n",
       "      <th>Time</th>\n",
       "      <th>Transaction_ID</th>\n",
       "      <th>Decimal_time</th>\n",
       "      <th>Income</th>\n",
       "      <th>Employment</th>\n",
       "      <th>Day_type</th>\n",
       "      <th>Day</th>\n",
       "    </tr>\n",
       "  </thead>\n",
       "  <tbody>\n",
       "    <tr>\n",
       "      <th>98</th>\n",
       "      <td>1381</td>\n",
       "      <td>-850.00</td>\n",
       "      <td>2656.70</td>\n",
       "      <td>1036.0</td>\n",
       "      <td>Between</td>\n",
       "      <td>01/01/2020</td>\n",
       "      <td>00:00:00</td>\n",
       "      <td>99</td>\n",
       "      <td>0.00</td>\n",
       "      <td>4414.23</td>\n",
       "      <td>Employed</td>\n",
       "      <td>weekday</td>\n",
       "      <td>Wednesday</td>\n",
       "    </tr>\n",
       "    <tr>\n",
       "      <th>99</th>\n",
       "      <td>1036</td>\n",
       "      <td>850.00</td>\n",
       "      <td>3171.21</td>\n",
       "      <td>1381.0</td>\n",
       "      <td>Between</td>\n",
       "      <td>01/01/2020</td>\n",
       "      <td>00:00:00</td>\n",
       "      <td>99</td>\n",
       "      <td>0.00</td>\n",
       "      <td>NaN</td>\n",
       "      <td>Unemployed</td>\n",
       "      <td>weekday</td>\n",
       "      <td>Wednesday</td>\n",
       "    </tr>\n",
       "    <tr>\n",
       "      <th>100</th>\n",
       "      <td>1444</td>\n",
       "      <td>-800.00</td>\n",
       "      <td>2508.76</td>\n",
       "      <td>1036.0</td>\n",
       "      <td>Between</td>\n",
       "      <td>01/01/2020</td>\n",
       "      <td>00:00:00</td>\n",
       "      <td>101</td>\n",
       "      <td>0.00</td>\n",
       "      <td>4444.92</td>\n",
       "      <td>Employed</td>\n",
       "      <td>weekday</td>\n",
       "      <td>Wednesday</td>\n",
       "    </tr>\n",
       "    <tr>\n",
       "      <th>101</th>\n",
       "      <td>1036</td>\n",
       "      <td>800.00</td>\n",
       "      <td>3971.21</td>\n",
       "      <td>1444.0</td>\n",
       "      <td>Between</td>\n",
       "      <td>01/01/2020</td>\n",
       "      <td>00:00:00</td>\n",
       "      <td>101</td>\n",
       "      <td>0.00</td>\n",
       "      <td>NaN</td>\n",
       "      <td>Unemployed</td>\n",
       "      <td>weekday</td>\n",
       "      <td>Wednesday</td>\n",
       "    </tr>\n",
       "    <tr>\n",
       "      <th>102</th>\n",
       "      <td>1138</td>\n",
       "      <td>-500.00</td>\n",
       "      <td>759.27</td>\n",
       "      <td>1036.0</td>\n",
       "      <td>Between</td>\n",
       "      <td>01/01/2020</td>\n",
       "      <td>00:00:00</td>\n",
       "      <td>103</td>\n",
       "      <td>0.00</td>\n",
       "      <td>NaN</td>\n",
       "      <td>Unemployed</td>\n",
       "      <td>weekday</td>\n",
       "      <td>Wednesday</td>\n",
       "    </tr>\n",
       "    <tr>\n",
       "      <th>...</th>\n",
       "      <td>...</td>\n",
       "      <td>...</td>\n",
       "      <td>...</td>\n",
       "      <td>...</td>\n",
       "      <td>...</td>\n",
       "      <td>...</td>\n",
       "      <td>...</td>\n",
       "      <td>...</td>\n",
       "      <td>...</td>\n",
       "      <td>...</td>\n",
       "      <td>...</td>\n",
       "      <td>...</td>\n",
       "      <td>...</td>\n",
       "    </tr>\n",
       "    <tr>\n",
       "      <th>174571</th>\n",
       "      <td>1034</td>\n",
       "      <td>5600.00</td>\n",
       "      <td>946.65</td>\n",
       "      <td>1069.0</td>\n",
       "      <td>Between</td>\n",
       "      <td>03/31/2020</td>\n",
       "      <td>23:34:00</td>\n",
       "      <td>174571</td>\n",
       "      <td>23.57</td>\n",
       "      <td>2505.22</td>\n",
       "      <td>Employed</td>\n",
       "      <td>weekday</td>\n",
       "      <td>Tuesday</td>\n",
       "    </tr>\n",
       "    <tr>\n",
       "      <th>174575</th>\n",
       "      <td>1486</td>\n",
       "      <td>-17.07</td>\n",
       "      <td>-3762.53</td>\n",
       "      <td>1351.0</td>\n",
       "      <td>Between</td>\n",
       "      <td>03/31/2020</td>\n",
       "      <td>23:37:00</td>\n",
       "      <td>174576</td>\n",
       "      <td>23.62</td>\n",
       "      <td>NaN</td>\n",
       "      <td>Unemployed</td>\n",
       "      <td>weekday</td>\n",
       "      <td>Tuesday</td>\n",
       "    </tr>\n",
       "    <tr>\n",
       "      <th>174576</th>\n",
       "      <td>1351</td>\n",
       "      <td>17.07</td>\n",
       "      <td>1012.70</td>\n",
       "      <td>1486.0</td>\n",
       "      <td>Between</td>\n",
       "      <td>03/31/2020</td>\n",
       "      <td>23:37:00</td>\n",
       "      <td>174576</td>\n",
       "      <td>23.62</td>\n",
       "      <td>NaN</td>\n",
       "      <td>Unemployed</td>\n",
       "      <td>weekday</td>\n",
       "      <td>Tuesday</td>\n",
       "    </tr>\n",
       "    <tr>\n",
       "      <th>174590</th>\n",
       "      <td>1164</td>\n",
       "      <td>-2000.00</td>\n",
       "      <td>13359.93</td>\n",
       "      <td>121.0</td>\n",
       "      <td>Between</td>\n",
       "      <td>03/31/2020</td>\n",
       "      <td>23:50:00</td>\n",
       "      <td>174591</td>\n",
       "      <td>23.83</td>\n",
       "      <td>9855.66</td>\n",
       "      <td>Employed</td>\n",
       "      <td>weekday</td>\n",
       "      <td>Tuesday</td>\n",
       "    </tr>\n",
       "    <tr>\n",
       "      <th>174591</th>\n",
       "      <td>1210</td>\n",
       "      <td>2000.00</td>\n",
       "      <td>1914.57</td>\n",
       "      <td>1164.0</td>\n",
       "      <td>Between</td>\n",
       "      <td>03/31/2020</td>\n",
       "      <td>23:50:00</td>\n",
       "      <td>174591</td>\n",
       "      <td>23.83</td>\n",
       "      <td>4101.80</td>\n",
       "      <td>Employed</td>\n",
       "      <td>weekday</td>\n",
       "      <td>Tuesday</td>\n",
       "    </tr>\n",
       "  </tbody>\n",
       "</table>\n",
       "<p>15252 rows × 13 columns</p>\n",
       "</div>"
      ],
      "text/plain": [
       "       Account   Amount   Balance to_account  to_name        Date      Time   \n",
       "98        1381  -850.00   2656.70     1036.0  Between  01/01/2020  00:00:00  \\\n",
       "99        1036   850.00   3171.21     1381.0  Between  01/01/2020  00:00:00   \n",
       "100       1444  -800.00   2508.76     1036.0  Between  01/01/2020  00:00:00   \n",
       "101       1036   800.00   3971.21     1444.0  Between  01/01/2020  00:00:00   \n",
       "102       1138  -500.00    759.27     1036.0  Between  01/01/2020  00:00:00   \n",
       "...        ...      ...       ...        ...      ...         ...       ...   \n",
       "174571    1034  5600.00    946.65     1069.0  Between  03/31/2020  23:34:00   \n",
       "174575    1486   -17.07  -3762.53     1351.0  Between  03/31/2020  23:37:00   \n",
       "174576    1351    17.07   1012.70     1486.0  Between  03/31/2020  23:37:00   \n",
       "174590    1164 -2000.00  13359.93      121.0  Between  03/31/2020  23:50:00   \n",
       "174591    1210  2000.00   1914.57     1164.0  Between  03/31/2020  23:50:00   \n",
       "\n",
       "        Transaction_ID  Decimal_time   Income  Employment Day_type        Day  \n",
       "98                  99          0.00  4414.23    Employed  weekday  Wednesday  \n",
       "99                  99          0.00      NaN  Unemployed  weekday  Wednesday  \n",
       "100                101          0.00  4444.92    Employed  weekday  Wednesday  \n",
       "101                101          0.00      NaN  Unemployed  weekday  Wednesday  \n",
       "102                103          0.00      NaN  Unemployed  weekday  Wednesday  \n",
       "...                ...           ...      ...         ...      ...        ...  \n",
       "174571          174571         23.57  2505.22    Employed  weekday    Tuesday  \n",
       "174575          174576         23.62      NaN  Unemployed  weekday    Tuesday  \n",
       "174576          174576         23.62      NaN  Unemployed  weekday    Tuesday  \n",
       "174590          174591         23.83  9855.66    Employed  weekday    Tuesday  \n",
       "174591          174591         23.83  4101.80    Employed  weekday    Tuesday  \n",
       "\n",
       "[15252 rows x 13 columns]"
      ]
     },
     "execution_count": 21,
     "metadata": {},
     "output_type": "execute_result"
    }
   ],
   "source": [
    "df[df.to_name == 'Between']"
   ]
  },
  {
   "cell_type": "code",
   "execution_count": 22,
   "metadata": {},
   "outputs": [
    {
     "data": {
      "text/html": [
       "<div>\n",
       "<style scoped>\n",
       "    .dataframe tbody tr th:only-of-type {\n",
       "        vertical-align: middle;\n",
       "    }\n",
       "\n",
       "    .dataframe tbody tr th {\n",
       "        vertical-align: top;\n",
       "    }\n",
       "\n",
       "    .dataframe thead th {\n",
       "        text-align: right;\n",
       "    }\n",
       "</style>\n",
       "<table border=\"1\" class=\"dataframe\">\n",
       "  <thead>\n",
       "    <tr style=\"text-align: right;\">\n",
       "      <th></th>\n",
       "      <th>Account</th>\n",
       "      <th>Amount</th>\n",
       "      <th>Balance</th>\n",
       "      <th>to_account</th>\n",
       "      <th>to_name</th>\n",
       "      <th>Date</th>\n",
       "      <th>Time</th>\n",
       "      <th>Transaction_ID</th>\n",
       "      <th>Decimal_time</th>\n",
       "      <th>Income</th>\n",
       "      <th>Employment</th>\n",
       "      <th>Day_type</th>\n",
       "      <th>Day</th>\n",
       "    </tr>\n",
       "  </thead>\n",
       "  <tbody>\n",
       "    <tr>\n",
       "      <th>1</th>\n",
       "      <td>1088</td>\n",
       "      <td>1251.20</td>\n",
       "      <td>2285.19</td>\n",
       "      <td>1244.0</td>\n",
       "      <td>Adams</td>\n",
       "      <td>01/01/2020</td>\n",
       "      <td>00:00:00</td>\n",
       "      <td>1</td>\n",
       "      <td>0.00</td>\n",
       "      <td>2603.54</td>\n",
       "      <td>Employed</td>\n",
       "      <td>weekday</td>\n",
       "      <td>Wednesday</td>\n",
       "    </tr>\n",
       "    <tr>\n",
       "      <th>204</th>\n",
       "      <td>1088</td>\n",
       "      <td>-12.99</td>\n",
       "      <td>2272.20</td>\n",
       "      <td>1187.0</td>\n",
       "      <td>PUREGYM</td>\n",
       "      <td>01/01/2020</td>\n",
       "      <td>00:00:00</td>\n",
       "      <td>204</td>\n",
       "      <td>0.00</td>\n",
       "      <td>2603.54</td>\n",
       "      <td>Employed</td>\n",
       "      <td>weekday</td>\n",
       "      <td>Wednesday</td>\n",
       "    </tr>\n",
       "    <tr>\n",
       "      <th>1352</th>\n",
       "      <td>1088</td>\n",
       "      <td>-9.74</td>\n",
       "      <td>2262.46</td>\n",
       "      <td>1197.0</td>\n",
       "      <td>Harvester</td>\n",
       "      <td>01/01/2020</td>\n",
       "      <td>13:06:00</td>\n",
       "      <td>1352</td>\n",
       "      <td>13.10</td>\n",
       "      <td>2603.54</td>\n",
       "      <td>Employed</td>\n",
       "      <td>weekday</td>\n",
       "      <td>Wednesday</td>\n",
       "    </tr>\n",
       "    <tr>\n",
       "      <th>1782</th>\n",
       "      <td>1088</td>\n",
       "      <td>-1.80</td>\n",
       "      <td>2260.66</td>\n",
       "      <td>1388.0</td>\n",
       "      <td>Costa Coffee</td>\n",
       "      <td>01/01/2020</td>\n",
       "      <td>18:03:00</td>\n",
       "      <td>1782</td>\n",
       "      <td>18.05</td>\n",
       "      <td>2603.54</td>\n",
       "      <td>Employed</td>\n",
       "      <td>weekday</td>\n",
       "      <td>Wednesday</td>\n",
       "    </tr>\n",
       "    <tr>\n",
       "      <th>1900</th>\n",
       "      <td>1088</td>\n",
       "      <td>-550.00</td>\n",
       "      <td>1710.66</td>\n",
       "      <td>Halifax</td>\n",
       "      <td>Halifax</td>\n",
       "      <td>01/01/2020</td>\n",
       "      <td>18:40:00</td>\n",
       "      <td>1900</td>\n",
       "      <td>18.67</td>\n",
       "      <td>2603.54</td>\n",
       "      <td>Employed</td>\n",
       "      <td>weekday</td>\n",
       "      <td>Wednesday</td>\n",
       "    </tr>\n",
       "    <tr>\n",
       "      <th>...</th>\n",
       "      <td>...</td>\n",
       "      <td>...</td>\n",
       "      <td>...</td>\n",
       "      <td>...</td>\n",
       "      <td>...</td>\n",
       "      <td>...</td>\n",
       "      <td>...</td>\n",
       "      <td>...</td>\n",
       "      <td>...</td>\n",
       "      <td>...</td>\n",
       "      <td>...</td>\n",
       "      <td>...</td>\n",
       "      <td>...</td>\n",
       "    </tr>\n",
       "    <tr>\n",
       "      <th>168583</th>\n",
       "      <td>1088</td>\n",
       "      <td>-3.00</td>\n",
       "      <td>-4383.21</td>\n",
       "      <td>1388.0</td>\n",
       "      <td>Costa Coffee</td>\n",
       "      <td>03/29/2020</td>\n",
       "      <td>18:53:00</td>\n",
       "      <td>168583</td>\n",
       "      <td>18.88</td>\n",
       "      <td>2603.54</td>\n",
       "      <td>Employed</td>\n",
       "      <td>weekend</td>\n",
       "      <td>Sunday</td>\n",
       "    </tr>\n",
       "    <tr>\n",
       "      <th>171094</th>\n",
       "      <td>1088</td>\n",
       "      <td>-2.90</td>\n",
       "      <td>-4386.11</td>\n",
       "      <td>1388.0</td>\n",
       "      <td>Costa Coffee</td>\n",
       "      <td>03/30/2020</td>\n",
       "      <td>18:34:00</td>\n",
       "      <td>171094</td>\n",
       "      <td>18.57</td>\n",
       "      <td>2603.54</td>\n",
       "      <td>Employed</td>\n",
       "      <td>weekday</td>\n",
       "      <td>Monday</td>\n",
       "    </tr>\n",
       "    <tr>\n",
       "      <th>171449</th>\n",
       "      <td>1088</td>\n",
       "      <td>-141.57</td>\n",
       "      <td>-4527.68</td>\n",
       "      <td>1403.0</td>\n",
       "      <td>Coop local</td>\n",
       "      <td>03/30/2020</td>\n",
       "      <td>22:24:00</td>\n",
       "      <td>171449</td>\n",
       "      <td>22.40</td>\n",
       "      <td>2603.54</td>\n",
       "      <td>Employed</td>\n",
       "      <td>weekday</td>\n",
       "      <td>Monday</td>\n",
       "    </tr>\n",
       "    <tr>\n",
       "      <th>173605</th>\n",
       "      <td>1088</td>\n",
       "      <td>-6.44</td>\n",
       "      <td>-4534.12</td>\n",
       "      <td>1178.0</td>\n",
       "      <td>Coffee #1</td>\n",
       "      <td>03/31/2020</td>\n",
       "      <td>13:17:00</td>\n",
       "      <td>173605</td>\n",
       "      <td>13.28</td>\n",
       "      <td>2603.54</td>\n",
       "      <td>Employed</td>\n",
       "      <td>weekday</td>\n",
       "      <td>Tuesday</td>\n",
       "    </tr>\n",
       "    <tr>\n",
       "      <th>174422</th>\n",
       "      <td>1088</td>\n",
       "      <td>-92.07</td>\n",
       "      <td>-4626.19</td>\n",
       "      <td>1342.0</td>\n",
       "      <td>Tesco Express</td>\n",
       "      <td>03/31/2020</td>\n",
       "      <td>20:49:00</td>\n",
       "      <td>174422</td>\n",
       "      <td>20.82</td>\n",
       "      <td>2603.54</td>\n",
       "      <td>Employed</td>\n",
       "      <td>weekday</td>\n",
       "      <td>Tuesday</td>\n",
       "    </tr>\n",
       "  </tbody>\n",
       "</table>\n",
       "<p>320 rows × 13 columns</p>\n",
       "</div>"
      ],
      "text/plain": [
       "       Account   Amount  Balance to_account        to_name        Date   \n",
       "1         1088  1251.20  2285.19     1244.0          Adams  01/01/2020  \\\n",
       "204       1088   -12.99  2272.20     1187.0        PUREGYM  01/01/2020   \n",
       "1352      1088    -9.74  2262.46     1197.0      Harvester  01/01/2020   \n",
       "1782      1088    -1.80  2260.66     1388.0   Costa Coffee  01/01/2020   \n",
       "1900      1088  -550.00  1710.66    Halifax        Halifax  01/01/2020   \n",
       "...        ...      ...      ...        ...            ...         ...   \n",
       "168583    1088    -3.00 -4383.21     1388.0   Costa Coffee  03/29/2020   \n",
       "171094    1088    -2.90 -4386.11     1388.0   Costa Coffee  03/30/2020   \n",
       "171449    1088  -141.57 -4527.68     1403.0     Coop local  03/30/2020   \n",
       "173605    1088    -6.44 -4534.12     1178.0      Coffee #1  03/31/2020   \n",
       "174422    1088   -92.07 -4626.19     1342.0  Tesco Express  03/31/2020   \n",
       "\n",
       "            Time  Transaction_ID  Decimal_time   Income Employment Day_type   \n",
       "1       00:00:00               1          0.00  2603.54   Employed  weekday  \\\n",
       "204     00:00:00             204          0.00  2603.54   Employed  weekday   \n",
       "1352    13:06:00            1352         13.10  2603.54   Employed  weekday   \n",
       "1782    18:03:00            1782         18.05  2603.54   Employed  weekday   \n",
       "1900    18:40:00            1900         18.67  2603.54   Employed  weekday   \n",
       "...          ...             ...           ...      ...        ...      ...   \n",
       "168583  18:53:00          168583         18.88  2603.54   Employed  weekend   \n",
       "171094  18:34:00          171094         18.57  2603.54   Employed  weekday   \n",
       "171449  22:24:00          171449         22.40  2603.54   Employed  weekday   \n",
       "173605  13:17:00          173605         13.28  2603.54   Employed  weekday   \n",
       "174422  20:49:00          174422         20.82  2603.54   Employed  weekday   \n",
       "\n",
       "              Day  \n",
       "1       Wednesday  \n",
       "204     Wednesday  \n",
       "1352    Wednesday  \n",
       "1782    Wednesday  \n",
       "1900    Wednesday  \n",
       "...           ...  \n",
       "168583     Sunday  \n",
       "171094     Monday  \n",
       "171449     Monday  \n",
       "173605    Tuesday  \n",
       "174422    Tuesday  \n",
       "\n",
       "[320 rows x 13 columns]"
      ]
     },
     "execution_count": 22,
     "metadata": {},
     "output_type": "execute_result"
    }
   ],
   "source": [
    "df[df.Account == '1088']"
   ]
  },
  {
   "cell_type": "code",
   "execution_count": 23,
   "metadata": {},
   "outputs": [
    {
     "data": {
      "text/plain": [
       "2272.2000000000003"
      ]
     },
     "execution_count": 23,
     "metadata": {},
     "output_type": "execute_result"
    }
   ],
   "source": [
    "2285.19 - 12.99"
   ]
  },
  {
   "attachments": {},
   "cell_type": "markdown",
   "metadata": {},
   "source": [
    "Negative amounts are the customer spending, balance represents the balance after the transaction"
   ]
  },
  {
   "attachments": {},
   "cell_type": "markdown",
   "metadata": {},
   "source": [
    "### Exporting data"
   ]
  },
  {
   "cell_type": "code",
   "execution_count": 24,
   "metadata": {},
   "outputs": [],
   "source": [
    "df.to_csv(\"/Users/sasha/Desktop/DATASCIENCE/2023/Mini-Project/data.nosync/clean_data_set_2.csv\")"
   ]
  },
  {
   "attachments": {},
   "cell_type": "markdown",
   "metadata": {},
   "source": [
    "### Describing the data"
   ]
  },
  {
   "cell_type": "code",
   "execution_count": 25,
   "metadata": {},
   "outputs": [
    {
     "name": "stdout",
     "output_type": "stream",
     "text": [
      "\n",
      " info:\n",
      "<class 'pandas.core.frame.DataFrame'>\n",
      "RangeIndex: 174601 entries, 0 to 174600\n",
      "Data columns (total 13 columns):\n",
      " #   Column          Non-Null Count   Dtype  \n",
      "---  ------          --------------   -----  \n",
      " 0   Account         174601 non-null  object \n",
      " 1   Amount          174601 non-null  float64\n",
      " 2   Balance         174601 non-null  float64\n",
      " 3   to_account      174601 non-null  object \n",
      " 4   to_name         174601 non-null  object \n",
      " 5   Date            174601 non-null  object \n",
      " 6   Time            174601 non-null  object \n",
      " 7   Transaction_ID  174601 non-null  int64  \n",
      " 8   Decimal_time    174601 non-null  float64\n",
      " 9   Income          95107 non-null   float64\n",
      " 10  Employment      174601 non-null  object \n",
      " 11  Day_type        174601 non-null  object \n",
      " 12  Day             174601 non-null  object \n",
      "dtypes: float64(4), int64(1), object(8)\n",
      "memory usage: 17.3+ MB\n",
      "\n",
      " Date range: 01/01/2020 03/31/2020\n"
     ]
    }
   ],
   "source": [
    "#check dimensions of the data\n",
    "\n",
    "print('\\n info:')\n",
    "df.info()\n",
    "\n",
    "# Finding out the range of dates\n",
    "print('\\n Date range:', df[\"Date\"].min(), df[\"Date\"].max())"
   ]
  },
  {
   "cell_type": "code",
   "execution_count": 26,
   "metadata": {},
   "outputs": [
    {
     "name": "stdout",
     "output_type": "stream",
     "text": [
      "486\n",
      "46\n"
     ]
    }
   ],
   "source": [
    "print(len(df.Account.unique()))\n",
    "print(len(df.to_name.unique()))"
   ]
  },
  {
   "cell_type": "code",
   "execution_count": 27,
   "metadata": {},
   "outputs": [
    {
     "data": {
      "image/png": "[encoded data removed]",
      "text/plain": [
       "<Figure size 640x480 with 1 Axes>"
      ]
     },
     "metadata": {},
     "output_type": "display_data"
    }
   ],
   "source": [
    "plt.hist(df['Balance'], bins=100)\n",
    "plt.show() "
   ]
  },
  {
   "cell_type": "code",
   "execution_count": 29,
   "metadata": {},
   "outputs": [
    {
     "data": {
      "image/png": "[encoded data removed]",
      "text/plain": [
       "<Figure size 640x480 with 1 Axes>"
      ]
     },
     "metadata": {},
     "output_type": "display_data"
    }
   ],
   "source": [
    "plt.hist(df['Decimal_time'], bins=100)\n",
    "plt.show() "
   ]
  },
  {
   "cell_type": "code",
   "execution_count": null,
   "metadata": {},
   "outputs": [
    {
     "data": {
      "image/png": "[encoded data removed]",
      "text/plain": [
       "<Figure size 640x480 with 1 Axes>"
      ]
     },
     "metadata": {},
     "output_type": "display_data"
    }
   ],
   "source": [
    "plt.hist(df['Day'])\n",
    "plt.show() "
   ]
  },
  {
   "cell_type": "code",
   "execution_count": null,
   "metadata": {},
   "outputs": [
    {
     "data": {
      "image/png": "[encoded data removed]",
      "text/plain": [
       "<Figure size 640x480 with 1 Axes>"
      ]
     },
     "metadata": {},
     "output_type": "display_data"
    }
   ],
   "source": [
    "plt.hist(df['Amount'], bins=100)\n",
    "plt.show() "
   ]
  },
  {
   "cell_type": "code",
   "execution_count": null,
   "metadata": {},
   "outputs": [
    {
     "data": {
      "image/png": "[encoded data removed]",
      "text/plain": [
       "<Figure size 640x480 with 1 Axes>"
      ]
     },
     "metadata": {},
     "output_type": "display_data"
    }
   ],
   "source": [
    "plt.hist(df[df.to_name == 'Between']['Amount'], bins=100)\n",
    "plt.show() "
   ]
  },
  {
   "cell_type": "code",
   "execution_count": null,
   "metadata": {},
   "outputs": [
    {
     "data": {
      "image/png": "[encoded data removed]",
      "text/plain": [
       "<Figure size 640x480 with 1 Axes>"
      ]
     },
     "metadata": {},
     "output_type": "display_data"
    }
   ],
   "source": [
    "import pylab \n",
    "import scipy.stats as stats\n",
    "\n",
    "stats.probplot(df['Balance'], dist=\"norm\", plot=pylab)\n",
    "pylab.show()"
   ]
  },
  {
   "cell_type": "code",
   "execution_count": null,
   "metadata": {},
   "outputs": [
    {
     "data": {
      "image/png": "[encoded data removed]",
      "text/plain": [
       "<Figure size 640x480 with 1 Axes>"
      ]
     },
     "metadata": {},
     "output_type": "display_data"
    }
   ],
   "source": [
    "import pylab \n",
    "import scipy.stats as stats\n",
    "\n",
    "stats.probplot(df['Amount'], dist=\"norm\", plot=pylab)\n",
    "pylab.show()"
   ]
  },
  {
   "cell_type": "code",
   "execution_count": null,
   "metadata": {},
   "outputs": [
    {
     "data": {
      "image/png": "[encoded data removed]",
      "text/plain": [
       "<Figure size 640x480 with 1 Axes>"
      ]
     },
     "metadata": {},
     "output_type": "display_data"
    }
   ],
   "source": [
    "import pylab \n",
    "import scipy.stats as stats\n",
    "\n",
    "stats.probplot(df['Decimal_Time'], dist=\"norm\", plot=pylab)\n",
    "pylab.show()"
   ]
  },
  {
   "cell_type": "code",
   "execution_count": null,
   "metadata": {},
   "outputs": [
    {
     "data": {
      "image/png": "[encoded data removed]",
      "text/plain": [
       "<Figure size 640x480 with 1 Axes>"
      ]
     },
     "metadata": {},
     "output_type": "display_data"
    }
   ],
   "source": [
    "import matplotlib.pyplot as plt\n",
    "\n",
    "## combine these different collections into a list\n",
    "data_to_plot = [df['Decimal_Time']]\n",
    "\n",
    "# Create a figure instance\n",
    "fig = plt.figure()\n",
    "\n",
    "# Create an axes instance\n",
    "ax = fig.add_axes([0,0,1,1])\n",
    "\n",
    "# Create the boxplot\n",
    "bp = ax.violinplot(data_to_plot)\n",
    "plt.show()"
   ]
  },
  {
   "cell_type": "code",
   "execution_count": null,
   "metadata": {},
   "outputs": [
    {
     "data": {
      "image/png": "[encoded data removed]",
      "text/plain": [
       "<Figure size 640x480 with 1 Axes>"
      ]
     },
     "metadata": {},
     "output_type": "display_data"
    }
   ],
   "source": [
    "\n",
    "## combine these different collections into a list\n",
    "data_to_plot = [df['Balance']]\n",
    "\n",
    "# Create a figure instance\n",
    "fig = plt.figure()\n",
    "\n",
    "# Create an axes instance\n",
    "ax = fig.add_axes([0,0,1,1])\n",
    "\n",
    "# Create the boxplot\n",
    "bp = ax.violinplot(data_to_plot)\n",
    "plt.show()"
   ]
  },
  {
   "cell_type": "code",
   "execution_count": null,
   "metadata": {},
   "outputs": [
    {
     "data": {
      "image/png": "[encoded data removed]",
      "text/plain": [
       "<Figure size 640x480 with 1 Axes>"
      ]
     },
     "metadata": {},
     "output_type": "display_data"
    }
   ],
   "source": [
    "\n",
    "## combine these different collections into a list\n",
    "data_to_plot = [df['Amount']]\n",
    "\n",
    "# Create a figure instance\n",
    "fig = plt.figure()\n",
    "\n",
    "# Create an axes instance\n",
    "ax = fig.add_axes([0,0,1,1])\n",
    "\n",
    "# Create the boxplot\n",
    "bp = ax.violinplot(data_to_plot)\n",
    "plt.show()"
   ]
  },
  {
   "cell_type": "code",
   "execution_count": null,
   "metadata": {},
   "outputs": [
    {
     "name": "stdout",
     "output_type": "stream",
     "text": [
      "['1379', '1244', '1101', '1178', '1305', '1027', '1167', '1085', '1411', '1388', '1234', '1368', '1521', '1418', '1010', 'Halifax', '1211', '1187', '1403', 'Deliveroo', '1342', '1286', '1217', '1410', '1269', '1502', '1473', '1274', '1345', '1122', '1481', '1107', '1130', '1483', '1045', '1242', '1256', '1220', '1480', '1331', '1197', '1142', '1522', '1367', '1187']\n"
     ]
    }
   ],
   "source": [
    "business_number_list = []\n",
    "for name in df['to_name'].unique():\n",
    "    if name != 'Between':\n",
    "        business_number_list.append(df[df.to_name == name]['to_account'].iloc[0])\n",
    "print(business_number_list)"
   ]
  },
  {
   "cell_type": "code",
   "execution_count": null,
   "metadata": {},
   "outputs": [
    {
     "name": "stdout",
     "output_type": "stream",
     "text": [
      "0\n",
      "0\n",
      "0\n",
      "0\n",
      "0\n",
      "0\n",
      "0\n",
      "0\n",
      "0\n",
      "0\n",
      "0\n",
      "0\n",
      "0\n",
      "0\n",
      "0\n",
      "0\n",
      "0\n",
      "0\n",
      "0\n",
      "0\n",
      "0\n",
      "0\n",
      "0\n",
      "0\n",
      "0\n",
      "0\n",
      "0\n",
      "0\n",
      "0\n",
      "0\n",
      "0\n",
      "0\n",
      "0\n",
      "0\n",
      "0\n",
      "0\n",
      "0\n",
      "0\n",
      "0\n",
      "0\n",
      "0\n",
      "0\n",
      "0\n",
      "0\n",
      "0\n"
     ]
    }
   ],
   "source": [
    "for num in business_number_list:\n",
    "    print(num if num in np.array(df['Account']) else 0)"
   ]
  },
  {
   "attachments": {},
   "cell_type": "markdown",
   "metadata": {},
   "source": [
    "So no businesses are \"spending money\""
   ]
  },
  {
   "cell_type": "markdown",
   "metadata": {},
   "source": []
  }
 ],
 "metadata": {
  "kernelspec": {
   "display_name": "Python 3",
   "language": "python",
   "name": "python3"
  },
  "language_info": {
   "codemirror_mode": {
    "name": "ipython",
    "version": 3
   },
   "file_extension": ".py",
   "mimetype": "text/x-python",
   "name": "python",
   "nbconvert_exporter": "python",
   "pygments_lexer": "ipython3",
   "version": "3.9.7"
  },
  "orig_nbformat": 4
 },
 "nbformat": 4,
 "nbformat_minor": 2
}
