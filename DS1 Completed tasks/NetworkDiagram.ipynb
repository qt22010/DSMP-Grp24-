{
 "cells": [
  {
   "attachments": {},
   "cell_type": "markdown",
   "metadata": {},
   "source": [
    "# Network diagram"
   ]
  },
  {
   "cell_type": "code",
   "execution_count": null,
   "metadata": {},
   "outputs": [],
   "source": [
    "#importing packages \n",
    "import pandas as pd\n",
    "import numpy as np"
   ]
  },
  {
   "cell_type": "code",
   "execution_count": null,
   "metadata": {},
   "outputs": [],
   "source": [
    "df_between = pd.read_csv('')\n",
    "df_customers = pd.read_csv('')"
   ]
  },
  {
   "cell_type": "markdown",
   "metadata": {},
   "source": [
    "Before we move foward I want to check to see if the accounts that are being sent money are Lloyds customers or not."
   ]
  },
  {
   "cell_type": "code",
   "execution_count": null,
   "metadata": {},
   "outputs": [
    {
     "ename": "",
     "evalue": "",
     "output_type": "error",
     "traceback": [
      "\u001b[1;31mFailed to start the Kernel. \n",
      "\u001b[1;31munknown option --slave\n",
      "\u001b[1;31musage: /Users/sasha/opt/anaconda3/bin/python [option] ... [-c cmd | -m mod | file | -] [arg] ...\n",
      "\u001b[1;31mTry `python -h' for more information. \n",
      "\u001b[1;31mView Jupyter <a href='command:jupyter.viewOutput'>log</a> for further details."
     ]
    }
   ],
   "source": [
    "unique_between = set(df_between['to_account'].unique()) #Turning these arrays into sets allow us to use the .issubset method\n",
    "customers = set(np.array(df_customers.index)) \n",
    "unique_between.issubset(customers) #This will return true if all the customers being sent money are also Lloyds customers"
   ]
  },
  {
   "cell_type": "markdown",
   "metadata": {},
   "source": [
    "So not every to_account in the between df is a lloyds customer (or a customer we have data to). \n",
    "Lets add a column to (binary) to whether the to_account is a lloyds customer or not."
   ]
  },
  {
   "cell_type": "code",
   "execution_count": null,
   "metadata": {},
   "outputs": [
    {
     "ename": "",
     "evalue": "",
     "output_type": "error",
     "traceback": [
      "\u001b[1;31mFailed to start the Kernel. \n",
      "\u001b[1;31munknown option --slave\n",
      "\u001b[1;31musage: /Users/sasha/opt/anaconda3/bin/python [option] ... [-c cmd | -m mod | file | -] [arg] ...\n",
      "\u001b[1;31mTry `python -h' for more information. \n",
      "\u001b[1;31mView Jupyter <a href='command:jupyter.viewOutput'>log</a> for further details."
     ]
    }
   ],
   "source": [
    "unique_between = df_between['to_account'].unique() #Gets an array of all customer ID's being sent money\n",
    "customers = (np.array(df_customers.index)) #Gets an array of all the Customer ID's we have data to\n",
    "dict = {} # Initialising my dictionary\n",
    "for i in range(0,len(unique_between)):\n",
    "    dict[unique_between[i]] = unique_between[i] in customers #This will create a dictionary where every key is an element in unique_between and the corresponding value is T/F depending on if that customer is a Lloyds customer\n",
    "for i in range(0,len(customers)):\n",
    "    dict[customers[i]] = True\n",
    "df_between['to_lloyds_customer'] = df_between['to_account'].map(lambda x: dict[x]) #We use this dictionary to map a new column\n",
    "df_between.head()\n"
   ]
  },
  {
   "cell_type": "code",
   "execution_count": null,
   "metadata": {},
   "outputs": [
    {
     "ename": "",
     "evalue": "",
     "output_type": "error",
     "traceback": [
      "\u001b[1;31mFailed to start the Kernel. \n",
      "\u001b[1;31munknown option --slave\n",
      "\u001b[1;31musage: /Users/sasha/opt/anaconda3/bin/python [option] ... [-c cmd | -m mod | file | -] [arg] ...\n",
      "\u001b[1;31mTry `python -h' for more information. \n",
      "\u001b[1;31mView Jupyter <a href='command:jupyter.viewOutput'>log</a> for further details."
     ]
    }
   ],
   "source": [
    "print('We have', len(df_between[(df_between.to_lloyds_customer == 0)]), 'out of', len(df_between), '(',round(100*len(df_between[(df_between.to_lloyds_customer == 0)])/len(df_between)), '%) transactions going to non Lloyds customers')"
   ]
  },
  {
   "cell_type": "markdown",
   "metadata": {},
   "source": [
    "10% of all transactions is substantial, so we cannot remove these from the diagram"
   ]
  },
  {
   "cell_type": "markdown",
   "metadata": {},
   "source": [
    "Now let's create a special df for this diagram, to do this we add up all transactions between eachother, so we will lose date and transaction ID"
   ]
  },
  {
   "cell_type": "code",
   "execution_count": null,
   "metadata": {},
   "outputs": [
    {
     "ename": "",
     "evalue": "",
     "output_type": "error",
     "traceback": [
      "\u001b[1;31mFailed to start the Kernel. \n",
      "\u001b[1;31munknown option --slave\n",
      "\u001b[1;31musage: /Users/sasha/opt/anaconda3/bin/python [option] ... [-c cmd | -m mod | file | -] [arg] ...\n",
      "\u001b[1;31mTry `python -h' for more information. \n",
      "\u001b[1;31mView Jupyter <a href='command:jupyter.viewOutput'>log</a> for further details."
     ]
    }
   ],
   "source": [
    "network_diagram = df_between.groupby(['from_account', 'to_account']).agg({'money_amount': 'sum', 'to_lloyds_customer': pd.Series.mode}) #We want one row for each unique combination of from and to accounts, so we groupby from and to accounts and sum money."
   ]
  },
  {
   "cell_type": "code",
   "execution_count": null,
   "metadata": {},
   "outputs": [
    {
     "ename": "",
     "evalue": "",
     "output_type": "error",
     "traceback": [
      "\u001b[1;31mFailed to start the Kernel. \n",
      "\u001b[1;31munknown option --slave\n",
      "\u001b[1;31musage: /Users/sasha/opt/anaconda3/bin/python [option] ... [-c cmd | -m mod | file | -] [arg] ...\n",
      "\u001b[1;31mTry `python -h' for more information. \n",
      "\u001b[1;31mView Jupyter <a href='command:jupyter.viewOutput'>log</a> for further details."
     ]
    }
   ],
   "source": [
    "network_diagram_sample = network_diagram.sample(10000, random_state=1)\n",
    "network_diagram_sample = network_diagram_sample.reset_index()\n",
    "network_diagram_sample.head()"
   ]
  },
  {
   "cell_type": "code",
   "execution_count": null,
   "metadata": {},
   "outputs": [
    {
     "ename": "",
     "evalue": "",
     "output_type": "error",
     "traceback": [
      "\u001b[1;31mFailed to start the Kernel. \n",
      "\u001b[1;31munknown option --slave\n",
      "\u001b[1;31musage: /Users/sasha/opt/anaconda3/bin/python [option] ... [-c cmd | -m mod | file | -] [arg] ...\n",
      "\u001b[1;31mTry `python -h' for more information. \n",
      "\u001b[1;31mView Jupyter <a href='command:jupyter.viewOutput'>log</a> for further details."
     ]
    }
   ],
   "source": [
    "edges = pd.DataFrame()\n",
    "edges['Source'] = network_diagram_sample['from_account'].astype(int)\n",
    "edges['Target'] = network_diagram_sample['to_account'].astype(int)\n",
    "edges['Type'] = 'Undirected'\n",
    "edges['Weight'] = network_diagram_sample['money_amount']\n",
    "edges.head()\n"
   ]
  },
  {
   "cell_type": "markdown",
   "metadata": {},
   "source": [
    "Exporting the data to load into gephi"
   ]
  },
  {
   "cell_type": "code",
   "execution_count": null,
   "metadata": {},
   "outputs": [
    {
     "ename": "",
     "evalue": "",
     "output_type": "error",
     "traceback": [
      "\u001b[1;31mFailed to start the Kernel. \n",
      "\u001b[1;31munknown option --slave\n",
      "\u001b[1;31musage: /Users/sasha/opt/anaconda3/bin/python [option] ... [-c cmd | -m mod | file | -] [arg] ...\n",
      "\u001b[1;31mTry `python -h' for more information. \n",
      "\u001b[1;31mView Jupyter <a href='command:jupyter.viewOutput'>log</a> for further details."
     ]
    }
   ],
   "source": [
    "#edges.to_csv('/Users/sasha/Desktop/DATASCIENCE/2023/Mini-Project/data.nosync/networkdiagram/pregephi_edges.csv')\n",
    "\n"
   ]
  },
  {
   "cell_type": "markdown",
   "metadata": {},
   "source": [
    "Bringing the exported data from gephi back"
   ]
  },
  {
   "cell_type": "code",
   "execution_count": null,
   "metadata": {},
   "outputs": [
    {
     "ename": "",
     "evalue": "",
     "output_type": "error",
     "traceback": [
      "\u001b[1;31mFailed to start the Kernel. \n",
      "\u001b[1;31munknown option --slave\n",
      "\u001b[1;31musage: /Users/sasha/opt/anaconda3/bin/python [option] ... [-c cmd | -m mod | file | -] [arg] ...\n",
      "\u001b[1;31mTry `python -h' for more information. \n",
      "\u001b[1;31mView Jupyter <a href='command:jupyter.viewOutput'>log</a> for further details."
     ]
    }
   ],
   "source": [
    "import json\n",
    "\n",
    "f = open('/Users/sasha/Desktop/DATASCIENCE/2023/Mini-Project/data.nosync/networkdiagram/network_tableau.json')\n",
    "\n",
    "json_data = json.load(f)\n",
    "temp = [[json_data['nodes'][i]['key'], json_data['nodes'][i]['attributes']['x'], json_data['nodes'][i]['attributes']['y'], json_data['nodes'][i]['attributes']['size']] for i in range(0,len(json_data['nodes']))]\n",
    "nodes = pd.DataFrame(np.array(temp), columns = ['ID', 'X', 'Y', 'Size'])\n",
    "nodes['Lloyds_Customer'] = nodes['ID'].apply(lambda x: dict[x])\n"
   ]
  },
  {
   "cell_type": "markdown",
   "metadata": {},
   "source": [
    "### The code below takes too long, won't scale"
   ]
  },
  {
   "cell_type": "code",
   "execution_count": null,
   "metadata": {},
   "outputs": [
    {
     "ename": "",
     "evalue": "",
     "output_type": "error",
     "traceback": [
      "\u001b[1;31mFailed to start the Kernel. \n",
      "\u001b[1;31munknown option --slave\n",
      "\u001b[1;31musage: /Users/sasha/opt/anaconda3/bin/python [option] ... [-c cmd | -m mod | file | -] [arg] ...\n",
      "\u001b[1;31mTry `python -h' for more information. \n",
      "\u001b[1;31mView Jupyter <a href='command:jupyter.viewOutput'>log</a> for further details."
     ]
    }
   ],
   "source": [
    "edges['X_target'] = edges['Target'].apply(lambda x: nodes[(nodes.ID == str(x))]['X'].sum())\n",
    "edges['Y_target'] = edges['Target'].apply(lambda x: nodes[(nodes.ID == str(x))]['Y'].sum())"
   ]
  },
  {
   "cell_type": "code",
   "execution_count": null,
   "metadata": {},
   "outputs": [
    {
     "ename": "",
     "evalue": "",
     "output_type": "error",
     "traceback": [
      "\u001b[1;31mFailed to start the Kernel. \n",
      "\u001b[1;31munknown option --slave\n",
      "\u001b[1;31musage: /Users/sasha/opt/anaconda3/bin/python [option] ... [-c cmd | -m mod | file | -] [arg] ...\n",
      "\u001b[1;31mTry `python -h' for more information. \n",
      "\u001b[1;31mView Jupyter <a href='command:jupyter.viewOutput'>log</a> for further details."
     ]
    }
   ],
   "source": [
    "edges['Direction'] = edges['Source'].astype(str) + ' -> ' + edges['Target'].astype(str)\n",
    "edgescopy = edges.copy()\n",
    "edgescopy['Source'] = edges['Target']\n",
    "edgescopy['Target'] = edges['Source']\n",
    "edges['Base'] = 1\n",
    "edgescopy['Base'] = 2\n",
    "edges = pd.concat([edges, edgescopy])"
   ]
  },
  {
   "cell_type": "code",
   "execution_count": null,
   "metadata": {},
   "outputs": [
    {
     "ename": "",
     "evalue": "",
     "output_type": "error",
     "traceback": [
      "\u001b[1;31mFailed to start the Kernel. \n",
      "\u001b[1;31munknown option --slave\n",
      "\u001b[1;31musage: /Users/sasha/opt/anaconda3/bin/python [option] ... [-c cmd | -m mod | file | -] [arg] ...\n",
      "\u001b[1;31mTry `python -h' for more information. \n",
      "\u001b[1;31mView Jupyter <a href='command:jupyter.viewOutput'>log</a> for further details."
     ]
    }
   ],
   "source": [
    "#nodes.to_csv('/Users/sasha/Desktop/DATASCIENCE/2023/Mini-Project/data.nosync/networkdiagram/nodes_XY.csv')\n",
    "#edges.to_csv('/Users/sasha/Desktop/DATASCIENCE/2023/Mini-Project/data.nosync/networkdiagram/edges_XY.csv')"
   ]
  }
 ],
 "metadata": {
  "kernelspec": {
   "display_name": "Python 3",
   "language": "python",
   "name": "python3"
  },
  "language_info": {
   "name": "python",
   "version": "3.9.7"
  },
  "orig_nbformat": 4
 },
 "nbformat": 4,
 "nbformat_minor": 2
}
