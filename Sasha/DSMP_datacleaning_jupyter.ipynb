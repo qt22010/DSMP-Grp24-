{
 "cells": [
  {
   "attachments": {},
   "cell_type": "markdown",
   "metadata": {},
   "source": [
    "# Data cleaning "
   ]
  },
  {
   "cell_type": "code",
   "execution_count": 1,
   "metadata": {},
   "outputs": [],
   "source": [
    "#importing packages \n",
    "import pandas as pd\n",
    "import numpy as np\n",
    "import matplotlib.pyplot as plt\n",
    "import seaborn as sns"
   ]
  },
  {
   "attachments": {},
   "cell_type": "markdown",
   "metadata": {},
   "source": [
    "### Loading in the data"
   ]
  },
  {
   "cell_type": "code",
   "execution_count": 2,
   "metadata": {},
   "outputs": [],
   "source": [
    "#loading dataset \n",
    "df=pd.read_csv(\"/Users/sasha/Desktop/DATASCIENCE/2023/Mini-Project/data.nosync/fake_transactional_data.csv\")\n",
    "#renaming the rows \n",
    "df=df.rename(columns={'from_totally_fake_account':'from_account', 'monopoly_money_amount':'money_amount', 'to_randomly_generated_account':'to_account', 'not_happened_yet_date':'date'})\n",
    "df['from_account'] = df['from_account'].astype(object)"
   ]
  },
  {
   "attachments": {},
   "cell_type": "markdown",
   "metadata": {},
   "source": [
    "### Describing the data"
   ]
  },
  {
   "cell_type": "code",
   "execution_count": 295,
   "metadata": {},
   "outputs": [
    {
     "name": "stdout",
     "output_type": "stream",
     "text": [
      "\n",
      " shape: (12004116, 4)\n",
      "\n",
      " head:   from_account  money_amount           to_account       date\n",
      "0          NaN          4.00               CINEMA 2025-01-01\n",
      "1      40544.0          4.60  A_LOCAL_COFFEE_SHOP 2025-01-01\n",
      "2      88339.0          2.40                40544 2025-01-01\n",
      "3      85149.0          4.65  A_LOCAL_COFFEE_SHOP 2025-01-01\n",
      "4      18555.0          2.40                85149 2025-01-01\n",
      "\n",
      " info:\n",
      "<class 'pandas.core.frame.DataFrame'>\n",
      "RangeIndex: 12004116 entries, 0 to 12004115\n",
      "Data columns (total 4 columns):\n",
      " #   Column        Dtype         \n",
      "---  ------        -----         \n",
      " 0   from_account  object        \n",
      " 1   money_amount  float64       \n",
      " 2   to_account    object        \n",
      " 3   date          datetime64[ns]\n",
      "dtypes: datetime64[ns](1), float64(1), object(2)\n",
      "memory usage: 366.3+ MB\n",
      "\n",
      " Date range: 2025-01-01 00:00:00 2025-10-02 00:00:00\n"
     ]
    }
   ],
   "source": [
    "#sanity check to check dimensions of the data i.e the rows\n",
    "print('\\n shape:',df.shape)\n",
    "\n",
    "#converting date to date format\n",
    "df[\"date\"] = pd.to_datetime(df[\"date\"], dayfirst=True)\n",
    "\n",
    "print('\\n head:', df.head())\n",
    "print('\\n info:')\n",
    "df.info()\n",
    "\n",
    "print('\\n Date range:', df[\"date\"].min(), df[\"date\"].max())"
   ]
  },
  {
   "attachments": {},
   "cell_type": "markdown",
   "metadata": {},
   "source": [
    "#### Map of missing Values"
   ]
  },
  {
   "cell_type": "code",
   "execution_count": 296,
   "metadata": {},
   "outputs": [
    {
     "data": {
      "text/plain": [
       "<AxesSubplot:>"
      ]
     },
     "execution_count": 296,
     "metadata": {},
     "output_type": "execute_result"
    },
    {
     "data": {
      "image/png": "[encoded data removed]",
      "text/plain": [
       "<Figure size 1000x600 with 1 Axes>"
      ]
     },
     "metadata": {},
     "output_type": "display_data"
    }
   ],
   "source": [
    "plt.figure(figsize=(10, 6))\n",
    "sns.heatmap(df.isnull(), yticklabels=False, cmap='viridis', cbar=False)"
   ]
  },
  {
   "attachments": {},
   "cell_type": "markdown",
   "metadata": {},
   "source": [
    "#### This function returns the NA status of each column"
   ]
  },
  {
   "cell_type": "code",
   "execution_count": 20,
   "metadata": {},
   "outputs": [],
   "source": [
    "def missing_cols(df):\n",
    "    '''prints out columns with its amount of missing values'''\n",
    "    total = 0\n",
    "    for col in df.columns:\n",
    "        missing_vals = df[col].isnull().sum()\n",
    "        total += missing_vals\n",
    "        if missing_vals != 0:\n",
    "            print(f\"{col} => {df[col].isnull().sum()}\")\n",
    "        if missing_vals == 0:\n",
    "             print(f\"{col} => No missing values\")\n",
    "        pct = df[col].isna().mean() * 100\n",
    "        if (pct != 0):\n",
    "            print('{} => {}%'.format(col, round(pct, 2)))\n",
    "    \n",
    "    if total == 0:\n",
    "        print(\"no missing values left\")"
   ]
  },
  {
   "cell_type": "code",
   "execution_count": 44,
   "metadata": {},
   "outputs": [
    {
     "name": "stdout",
     "output_type": "stream",
     "text": [
      "\n",
      " How many missing values each columns has and what percentage this is:\n",
      "from_account => 139974\n",
      "from_account => 1.17%\n",
      "money_amount => 140256\n",
      "money_amount => 1.17%\n",
      "to_account => 140100\n",
      "to_account => 1.17%\n",
      "date => 1\n",
      "date => 0.0%\n"
     ]
    }
   ],
   "source": [
    "print(\"\\n How many missing values each columns has and what percentage this is:\")     \n",
    "missing_cols(df)       \n"
   ]
  },
  {
   "attachments": {},
   "cell_type": "markdown",
   "metadata": {},
   "source": [
    "### Splitting up the data into between account payments and to business payments"
   ]
  },
  {
   "cell_type": "code",
   "execution_count": 158,
   "metadata": {},
   "outputs": [],
   "source": [
    "df1 = df.copy()\n",
    "df1['to_account'] = pd.to_numeric(df['to_account'], errors = 'coerce')\n",
    "df_between = df1[pd.notnull(df1['to_account'])]\n",
    "numeric_to_accounts = df_between['to_account'].astype(int).values\n",
    "numeric_to_accounts = [str(x) for x in numeric_to_accounts]\n",
    "df_expenditure = df[~df['to_account'].isin(numeric_to_accounts)]"
   ]
  },
  {
   "cell_type": "code",
   "execution_count": 140,
   "metadata": {},
   "outputs": [
    {
     "name": "stdout",
     "output_type": "stream",
     "text": [
      "Between accounts head:    from_account  money_amount  to_account        date\n",
      "2       88339.0          2.40     40544.0  01/01/2025\n",
      "4       18555.0          2.40     85149.0  01/01/2025\n",
      "6       80792.0          1.95     18555.0  01/01/2025\n",
      "19      39262.0          4.50     30264.0  01/01/2025\n",
      "51      53483.0          5.50     75744.0  01/01/2025\n",
      "\n",
      " Between accounts description        money_amount    to_account\n",
      "count  2.985362e+06  2.985362e+06\n",
      "mean   3.184980e+01  5.115169e+04\n",
      "std    1.658492e+02  2.884503e+04\n",
      "min    1.450000e+00  1.000000e+03\n",
      "25%    5.000000e+00  2.583800e+04\n",
      "50%    6.000000e+00  5.129000e+04\n",
      "75%    6.500000e+00  7.588100e+04\n",
      "max    1.995000e+03  1.009880e+05\n"
     ]
    }
   ],
   "source": [
    "#Printing descriptions of these 2 new df's\n",
    "print('Between accounts head:', df_between.head())\n",
    "print('\\n Between accounts description', df_between.describe())\n"
   ]
  },
  {
   "cell_type": "code",
   "execution_count": 141,
   "metadata": {},
   "outputs": [
    {
     "name": "stdout",
     "output_type": "stream",
     "text": [
      "\n",
      " Expenditure head:   from_account  money_amount                  to_account        date\n",
      "0          NaN          4.00                      CINEMA  01/01/2025\n",
      "1      40544.0          4.60         A_LOCAL_COFFEE_SHOP  01/01/2025\n",
      "3      85149.0          4.65         A_LOCAL_COFFEE_SHOP  01/01/2025\n",
      "5      18555.0          4.10         HIPSTER_COFFEE_SHOP  01/01/2025\n",
      "7      18555.0          4.45  TOTALLY_A_REAL_COFFEE_SHOP  01/01/2025\n",
      "\n",
      " Expenditure description        money_amount\n",
      "count  8.913110e+06\n",
      "mean   1.366975e+01\n",
      "std    2.449926e+01\n",
      "min    1.450000e+00\n",
      "25%    2.450000e+00\n",
      "50%    7.000000e+00\n",
      "75%    1.350000e+01\n",
      "max    1.990000e+03\n",
      "PUB                           979737\n",
      "BAR                           906933\n",
      "LOCAL_WATERING_HOLE           760854\n",
      "TOTALLY_A_REAL_COFFEE_SHOP    562122\n",
      "A_CAFE                        561641\n",
      "                               ...  \n",
      "TECH_SHOP                       1580\n",
      "HIPSTER_ELECTRONICS_SHOP        1508\n",
      "ELECTRONICS_SHOP                1502\n",
      "FLORIST                          298\n",
      "GOURMET_                           1\n",
      "Name: to_account, Length: 79, dtype: int64\n",
      "date\n",
      "01/01/2025     628884.74\n",
      "01/02/2025    1144820.08\n",
      "01/03/2025    1105951.14\n",
      "01/04/2025     666031.15\n",
      "01/05/2025     681227.86\n",
      "                 ...    \n",
      "31/01/2025     776529.25\n",
      "31/03/2025     294829.63\n",
      "31/05/2025     768043.72\n",
      "31/07/2025     280750.52\n",
      "31/08/2025     751135.72\n",
      "Name: money_amount, Length: 275, dtype: float64\n"
     ]
    }
   ],
   "source": [
    "print('\\n Expenditure head:', df_expenditure.head())\n",
    "print('\\n Expenditure description', df_expenditure.describe())\n",
    "print(df_expenditure['to_account'].value_counts())\n",
    "print(df.groupby(\"date\")[\"money_amount\"].sum())"
   ]
  },
  {
   "attachments": {},
   "cell_type": "markdown",
   "metadata": {},
   "source": [
    "### Filling in missing money amount"
   ]
  },
  {
   "cell_type": "code",
   "execution_count": 160,
   "metadata": {},
   "outputs": [],
   "source": [
    "def fill(df):\n",
    "    s = df.groupby(['from_account', \"to_account\"])['money_amount'].mean()\n",
    "    df2 = df[['from_account', 'to_account']].merge(s, on=['from_account', 'to_account'], how='left')\n",
    "    df2 = df2.set_index(df.index)\n",
    "    return(df2['money_amount'])"
   ]
  },
  {
   "cell_type": "code",
   "execution_count": 161,
   "metadata": {},
   "outputs": [
    {
     "name": "stderr",
     "output_type": "stream",
     "text": [
      "/var/folders/py/d721tqvn39xbrq83g84j15pm0000gn/T/ipykernel_20688/4014109516.py:1: SettingWithCopyWarning: \n",
      "A value is trying to be set on a copy of a slice from a DataFrame\n",
      "\n",
      "See the caveats in the documentation: https://pandas.pydata.org/pandas-docs/stable/user_guide/indexing.html#returning-a-view-versus-a-copy\n",
      "  df_between['money_amount'].fillna(fill(df_between), inplace=True)\n"
     ]
    },
    {
     "name": "stdout",
     "output_type": "stream",
     "text": [
      "from_account => 34429\n",
      "from_account => 1.15%\n",
      "money_amount => No missing values\n",
      "to_account => No missing values\n",
      "date => No missing values\n"
     ]
    }
   ],
   "source": [
    "df_between['money_amount'].fillna(fill(df_between), inplace=True)\n",
    "df_between=df_between.dropna(axis=0, subset=\"money_amount\")\n",
    "missing_cols(df_between)"
   ]
  },
  {
   "cell_type": "code",
   "execution_count": 163,
   "metadata": {},
   "outputs": [
    {
     "name": "stderr",
     "output_type": "stream",
     "text": [
      "/var/folders/py/d721tqvn39xbrq83g84j15pm0000gn/T/ipykernel_20688/465138389.py:1: SettingWithCopyWarning: \n",
      "A value is trying to be set on a copy of a slice from a DataFrame\n",
      "\n",
      "See the caveats in the documentation: https://pandas.pydata.org/pandas-docs/stable/user_guide/indexing.html#returning-a-view-versus-a-copy\n",
      "  df_expenditure['money_amount'].fillna(fill(df_expenditure), inplace=True)\n",
      "/var/folders/py/d721tqvn39xbrq83g84j15pm0000gn/T/ipykernel_20688/465138389.py:3: SettingWithCopyWarning: \n",
      "A value is trying to be set on a copy of a slice from a DataFrame\n",
      "\n",
      "See the caveats in the documentation: https://pandas.pydata.org/pandas-docs/stable/user_guide/indexing.html#returning-a-view-versus-a-copy\n",
      "  df_expenditure['money_amount'].fillna(df_expenditure['to_account'].map(s), inplace=True)\n"
     ]
    },
    {
     "name": "stdout",
     "output_type": "stream",
     "text": [
      "from_account => 105136\n",
      "from_account => 1.17%\n",
      "money_amount => No missing values\n",
      "to_account => 138497\n",
      "to_account => 1.54%\n",
      "date => 1\n",
      "date => 0.0%\n"
     ]
    }
   ],
   "source": [
    "df_expenditure['money_amount'].fillna(fill(df_expenditure), inplace=True)\n",
    "s = df_expenditure.groupby('to_account')['money_amount'].mean()\n",
    "df_expenditure['money_amount'].fillna(df_expenditure['to_account'].map(s), inplace=True)\n",
    "df_expenditure=df_expenditure.dropna(axis=0, subset=\"money_amount\")\n",
    "missing_cols(df_expenditure)\n"
   ]
  },
  {
   "cell_type": "code",
   "execution_count": 164,
   "metadata": {},
   "outputs": [
    {
     "name": "stdout",
     "output_type": "stream",
     "text": [
      "I have deleted 2074 rows\n"
     ]
    }
   ],
   "source": [
    "print('I have deleted', (df.shape[0] - (df_between.shape[0] + df_expenditure.shape[0])), 'rows')"
   ]
  },
  {
   "cell_type": "code",
   "execution_count": null,
   "metadata": {},
   "outputs": [],
   "source": [
    "#working out total expenditure and adding it to a new column\n",
    "totalexpend=df.groupby(\"from_account\")[[\"money_amount\"]].sum()\n",
    "print(totalexpend.head())\n",
    "#merging both dataframes based on the from account column\n",
    "testdf=df.merge(totalexpend, how=\"left\",on=\"from_account\",  )\n",
    "#renaming column from default\n",
    "testdf=testdf.rename(columns={\"money_amount_y\":\"estimated_expenditure\"})\n",
    "df=testdf\n",
    "print(df.head())"
   ]
  },
  {
   "cell_type": "code",
   "execution_count": null,
   "metadata": {},
   "outputs": [],
   "source": [
    "income_multiplier=1.5\n",
    "incomedf=df[\"estimated_expenditure\"]*income_multiplier\n",
    "df[\"estimated_income\"]=incomedf"
   ]
  },
  {
   "cell_type": "code",
   "execution_count": 30,
   "metadata": {},
   "outputs": [
    {
     "name": "stdout",
     "output_type": "stream",
     "text": [
      "head of customers df:              money_amount_x                                     \\\n",
      "                        min     max       mean       sum count   \n",
      "from_account                                                     \n",
      "1000.0                 1.45  1960.0  16.613466  21331.69  1284   \n",
      "1002.0                 1.45   325.0  14.637085  11197.37   765   \n",
      "1018.0                 1.45   297.0  19.157987  11418.16   596   \n",
      "1023.0                 1.45   178.0  15.330785  13859.03   904   \n",
      "1053.0                 1.45   369.0  14.721101  14043.93   954   \n",
      "\n",
      "             estimated_income               to_account  \n",
      "                          min                     mode  \n",
      "from_account                                            \n",
      "1000.0              31997.535  PRETENTIOUS_COFFEE_SHOP  \n",
      "1002.0              16796.055                      BAR  \n",
      "1018.0              17127.240                      PUB  \n",
      "1023.0              20788.545                      PUB  \n",
      "1053.0              21065.895                      PUB  \n",
      "\n",
      " There are 12825 customers\n",
      "\n",
      " head of customers between df:              money_amount_x                                     \\\n",
      "                        min     max       mean       sum count   \n",
      "from_account                                                     \n",
      "1000.0                 1.45  1960.0  16.613466  21331.69  1284   \n",
      "1002.0                 1.45   325.0  14.637085  11197.37   765   \n",
      "1018.0                 1.45   297.0  19.157987  11418.16   596   \n",
      "1023.0                 1.45   178.0  15.330785  13859.03   904   \n",
      "1053.0                 1.45   369.0  14.721101  14043.93   954   \n",
      "\n",
      "             estimated_income               to_account  \n",
      "                          min                     mode  \n",
      "from_account                                            \n",
      "1000.0              31997.535  PRETENTIOUS_COFFEE_SHOP  \n",
      "1002.0              16796.055                      BAR  \n",
      "1018.0              17127.240                      PUB  \n",
      "1023.0              20788.545                      PUB  \n",
      "1053.0              21065.895                      PUB  \n",
      "\n",
      " head of customers expenditure df:              money_amount_x                                     \\\n",
      "                        min     max       mean       sum count   \n",
      "from_account                                                     \n",
      "1000.0                 1.45  1960.0  16.613466  21331.69  1284   \n",
      "1002.0                 1.45   325.0  14.637085  11197.37   765   \n",
      "1018.0                 1.45   297.0  19.157987  11418.16   596   \n",
      "1023.0                 1.45   178.0  15.330785  13859.03   904   \n",
      "1053.0                 1.45   369.0  14.721101  14043.93   954   \n",
      "\n",
      "             estimated_income               to_account  \n",
      "                          min                     mode  \n",
      "from_account                                            \n",
      "1000.0              31997.535  PRETENTIOUS_COFFEE_SHOP  \n",
      "1002.0              16796.055                      BAR  \n",
      "1018.0              17127.240                      PUB  \n",
      "1023.0              20788.545                      PUB  \n",
      "1053.0              21065.895                      PUB  \n"
     ]
    }
   ],
   "source": [
    "#creating new dfs to summarise customers\n",
    "df_customers = df.groupby('from_account').agg({'money_amount_x':['min','max','mean','sum','count'], 'estimated_income':'min', 'to_account': pd.Series.mode})\n",
    "print('head of customers df:',df_customers.head())\n",
    "print('\\n There are {} customers'.format(df_customers.shape[0]))\n",
    "\n",
    "df_customers_between = df_between.groupby('from_account').agg({'money_amount_x':['min','max','mean','sum','count'], 'estimated_income':'min', 'to_account': pd.Series.mode})\n",
    "print('\\n head of customers between df:',df_customers.head())\n",
    "\n",
    "df_customers_expenditure = df_expenditure.groupby('from_account').agg({'money_amount_x':['min','max','mean','sum','count'], 'estimated_income':'min', 'to_account': pd.Series.mode})\n",
    "print('\\n head of customers expenditure df:',df_customers.head())\n"
   ]
  },
  {
   "cell_type": "code",
   "execution_count": 31,
   "metadata": {},
   "outputs": [],
   "source": [
    "\n",
    "#df.to_csv('12FebDSMP_df.csv')\n",
    "#df_between.to_csv('16FebDSMP_df_between.csv')\n",
    "#df_expenditure.to_csv('16FebDSMP_df_expenditure.csv')\n",
    "#df_customers_between.to_csv('16FebDSMP_df_customers_between.csv')\n",
    "#df_customers_expenditure.to_csv('16FebDSMP_df_customers_expenditure.csv')"
   ]
  }
 ],
 "metadata": {
  "kernelspec": {
   "display_name": "Python 3",
   "language": "python",
   "name": "python3"
  },
  "language_info": {
   "codemirror_mode": {
    "name": "ipython",
    "version": 3
   },
   "file_extension": ".py",
   "mimetype": "text/x-python",
   "name": "python",
   "nbconvert_exporter": "python",
   "pygments_lexer": "ipython3",
   "version": "3.9.7"
  },
  "orig_nbformat": 4,
  "vscode": {
   "interpreter": {
    "hash": "aee8b7b246df8f9039afb4144a1f6fd8d2ca17a180786b69acc140d282b71a49"
   }
  }
 },
 "nbformat": 4,
 "nbformat_minor": 2
}
