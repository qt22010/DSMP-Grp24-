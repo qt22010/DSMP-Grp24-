{
 "cells": [
  {
   "attachments": {},
   "cell_type": "markdown",
   "metadata": {},
   "source": [
    "# Attempting to extract time stamp from DS1\n",
    "### We are assuming that all data is given in chronological order"
   ]
  },
  {
   "cell_type": "code",
   "execution_count": 1,
   "metadata": {},
   "outputs": [],
   "source": [
    "#importing packages \n",
    "import pandas as pd\n",
    "import numpy as np\n",
    "import matplotlib.pyplot as plt\n",
    "import seaborn as sns\n",
    "import math\n"
   ]
  },
  {
   "cell_type": "code",
   "execution_count": 2,
   "metadata": {},
   "outputs": [],
   "source": [
    "df = pd.read_csv('/Users/sasha/Desktop/DATASCIENCE/2023/Mini-Project/data.nosync/cleaned_transactional_data.csv')"
   ]
  },
  {
   "attachments": {},
   "cell_type": "markdown",
   "metadata": {},
   "source": [
    "### We do not need all these columns"
   ]
  },
  {
   "cell_type": "code",
   "execution_count": 7,
   "metadata": {},
   "outputs": [],
   "source": [
    "df.drop(columns=['Unnamed: 0', 'from_account'], inplace=True)"
   ]
  },
  {
   "attachments": {},
   "cell_type": "markdown",
   "metadata": {},
   "source": [
    "### Let us extract the day of the transaction"
   ]
  },
  {
   "cell_type": "code",
   "execution_count": 11,
   "metadata": {},
   "outputs": [],
   "source": [
    "df['dayOfWeek'] = pd.to_datetime(df['date']).dt.day_name()"
   ]
  },
  {
   "attachments": {},
   "cell_type": "markdown",
   "metadata": {},
   "source": [
    "### Let us look to see if the data looks as it is chronological order"
   ]
  },
  {
   "cell_type": "code",
   "execution_count": 54,
   "metadata": {},
   "outputs": [],
   "source": [
    "tab_export_weekend1 = df[(df.date == '2025-03-08')]\n",
    "tab_export_weekday1 = df[(df.date == '2025-03-11')]\n",
    "tab_export_weekend2 = df[(df.date == '2025-06-15')]\n",
    "tab_export_weekday2 = df[(df.date == '2025-06-19')]"
   ]
  },
  {
   "cell_type": "code",
   "execution_count": 59,
   "metadata": {},
   "outputs": [],
   "source": [
    "n = 25\n",
    "def get_segment(df, n):\n",
    "    df = df.reset_index()\n",
    "    length = len(df)\n",
    "    df['segment'] = df.index.map(lambda x: math.floor(x/(length/n)))\n",
    "    return df"
   ]
  },
  {
   "cell_type": "code",
   "execution_count": 60,
   "metadata": {},
   "outputs": [],
   "source": [
    "tab_export_weekend1 = get_segment(tab_export_weekend1, n)\n",
    "tab_export_weekday1 = get_segment(tab_export_weekday1, n)\n",
    "tab_export_weekend2 = get_segment(tab_export_weekend2, n)\n",
    "tab_export_weekday2 = get_segment(tab_export_weekday2, n)"
   ]
  },
  {
   "cell_type": "code",
   "execution_count": 62,
   "metadata": {},
   "outputs": [],
   "source": [
    "tab_export_weekend1.to_csv('/Users/sasha/Desktop/DATASCIENCE/2023/Mini-Project/data.nosync/tab_export_weekend1.csv')\n",
    "tab_export_weekday1.to_csv('/Users/sasha/Desktop/DATASCIENCE/2023/Mini-Project/data.nosync/tab_export_weekday1.csv')\n",
    "tab_export_weekend2.to_csv('/Users/sasha/Desktop/DATASCIENCE/2023/Mini-Project/data.nosync/tab_export_weekend2.csv')\n",
    "tab_export_weekday2.to_csv('/Users/sasha/Desktop/DATASCIENCE/2023/Mini-Project/data.nosync/tab_export_weekday2.csv')"
   ]
  },
  {
   "cell_type": "code",
   "execution_count": 63,
   "metadata": {},
   "outputs": [
    {
     "data": {
      "text/html": [
       "<div>\n",
       "<style scoped>\n",
       "    .dataframe tbody tr th:only-of-type {\n",
       "        vertical-align: middle;\n",
       "    }\n",
       "\n",
       "    .dataframe tbody tr th {\n",
       "        vertical-align: top;\n",
       "    }\n",
       "\n",
       "    .dataframe thead th {\n",
       "        text-align: right;\n",
       "    }\n",
       "</style>\n",
       "<table border=\"1\" class=\"dataframe\">\n",
       "  <thead>\n",
       "    <tr style=\"text-align: right;\">\n",
       "      <th></th>\n",
       "      <th>index</th>\n",
       "      <th>money_amount</th>\n",
       "      <th>to_account</th>\n",
       "      <th>date</th>\n",
       "      <th>transaction_ID</th>\n",
       "      <th>Categorised</th>\n",
       "      <th>dayOfWeek</th>\n",
       "      <th>segment</th>\n",
       "    </tr>\n",
       "  </thead>\n",
       "  <tbody>\n",
       "    <tr>\n",
       "      <th>0</th>\n",
       "      <td>7386413</td>\n",
       "      <td>1.80</td>\n",
       "      <td>GOURMET_COFFEE_SHOP</td>\n",
       "      <td>2025-06-19</td>\n",
       "      <td>7387707</td>\n",
       "      <td>Coffee shop</td>\n",
       "      <td>Thursday</td>\n",
       "      <td>0</td>\n",
       "    </tr>\n",
       "    <tr>\n",
       "      <th>1</th>\n",
       "      <td>7386414</td>\n",
       "      <td>8.00</td>\n",
       "      <td>NERDY_BOOK_STORE</td>\n",
       "      <td>2025-06-19</td>\n",
       "      <td>7387708</td>\n",
       "      <td>Book store</td>\n",
       "      <td>Thursday</td>\n",
       "      <td>0</td>\n",
       "    </tr>\n",
       "    <tr>\n",
       "      <th>2</th>\n",
       "      <td>7386415</td>\n",
       "      <td>8.00</td>\n",
       "      <td>GREENGROCER</td>\n",
       "      <td>2025-06-19</td>\n",
       "      <td>7387709</td>\n",
       "      <td>Groceries</td>\n",
       "      <td>Thursday</td>\n",
       "      <td>0</td>\n",
       "    </tr>\n",
       "    <tr>\n",
       "      <th>3</th>\n",
       "      <td>7386416</td>\n",
       "      <td>2.45</td>\n",
       "      <td>GOURMET_COFFEE_SHOP</td>\n",
       "      <td>2025-06-19</td>\n",
       "      <td>7387710</td>\n",
       "      <td>Coffee shop</td>\n",
       "      <td>Thursday</td>\n",
       "      <td>0</td>\n",
       "    </tr>\n",
       "    <tr>\n",
       "      <th>4</th>\n",
       "      <td>7386417</td>\n",
       "      <td>2.45</td>\n",
       "      <td>COFFEE_SHOP</td>\n",
       "      <td>2025-06-19</td>\n",
       "      <td>7387711</td>\n",
       "      <td>Coffee shop</td>\n",
       "      <td>Thursday</td>\n",
       "      <td>0</td>\n",
       "    </tr>\n",
       "    <tr>\n",
       "      <th>...</th>\n",
       "      <td>...</td>\n",
       "      <td>...</td>\n",
       "      <td>...</td>\n",
       "      <td>...</td>\n",
       "      <td>...</td>\n",
       "      <td>...</td>\n",
       "      <td>...</td>\n",
       "      <td>...</td>\n",
       "    </tr>\n",
       "    <tr>\n",
       "      <th>26874</th>\n",
       "      <td>7413287</td>\n",
       "      <td>2.20</td>\n",
       "      <td>A_CAFE</td>\n",
       "      <td>2025-06-19</td>\n",
       "      <td>7414582</td>\n",
       "      <td>Café</td>\n",
       "      <td>Thursday</td>\n",
       "      <td>24</td>\n",
       "    </tr>\n",
       "    <tr>\n",
       "      <th>26875</th>\n",
       "      <td>7413288</td>\n",
       "      <td>6.00</td>\n",
       "      <td>SANDWICH_SHOP</td>\n",
       "      <td>2025-06-19</td>\n",
       "      <td>7414583</td>\n",
       "      <td>Restaurant</td>\n",
       "      <td>Thursday</td>\n",
       "      <td>24</td>\n",
       "    </tr>\n",
       "    <tr>\n",
       "      <th>26876</th>\n",
       "      <td>7413289</td>\n",
       "      <td>10.00</td>\n",
       "      <td>BOOKSHOP</td>\n",
       "      <td>2025-06-19</td>\n",
       "      <td>7414584</td>\n",
       "      <td>Book store</td>\n",
       "      <td>Thursday</td>\n",
       "      <td>24</td>\n",
       "    </tr>\n",
       "    <tr>\n",
       "      <th>26877</th>\n",
       "      <td>7413290</td>\n",
       "      <td>2.65</td>\n",
       "      <td>A_CAFE</td>\n",
       "      <td>2025-06-19</td>\n",
       "      <td>7414585</td>\n",
       "      <td>Café</td>\n",
       "      <td>Thursday</td>\n",
       "      <td>24</td>\n",
       "    </tr>\n",
       "    <tr>\n",
       "      <th>26878</th>\n",
       "      <td>7413291</td>\n",
       "      <td>42.65</td>\n",
       "      <td>LOCAL_RESTAURANT</td>\n",
       "      <td>2025-06-19</td>\n",
       "      <td>7414586</td>\n",
       "      <td>Restaurant</td>\n",
       "      <td>Thursday</td>\n",
       "      <td>24</td>\n",
       "    </tr>\n",
       "  </tbody>\n",
       "</table>\n",
       "<p>26879 rows × 8 columns</p>\n",
       "</div>"
      ],
      "text/plain": [
       "         index  money_amount           to_account        date  transaction_ID  \\\n",
       "0      7386413          1.80  GOURMET_COFFEE_SHOP  2025-06-19         7387707   \n",
       "1      7386414          8.00     NERDY_BOOK_STORE  2025-06-19         7387708   \n",
       "2      7386415          8.00          GREENGROCER  2025-06-19         7387709   \n",
       "3      7386416          2.45  GOURMET_COFFEE_SHOP  2025-06-19         7387710   \n",
       "4      7386417          2.45          COFFEE_SHOP  2025-06-19         7387711   \n",
       "...        ...           ...                  ...         ...             ...   \n",
       "26874  7413287          2.20               A_CAFE  2025-06-19         7414582   \n",
       "26875  7413288          6.00        SANDWICH_SHOP  2025-06-19         7414583   \n",
       "26876  7413289         10.00             BOOKSHOP  2025-06-19         7414584   \n",
       "26877  7413290          2.65               A_CAFE  2025-06-19         7414585   \n",
       "26878  7413291         42.65     LOCAL_RESTAURANT  2025-06-19         7414586   \n",
       "\n",
       "       Categorised dayOfWeek  segment  \n",
       "0      Coffee shop  Thursday        0  \n",
       "1       Book store  Thursday        0  \n",
       "2        Groceries  Thursday        0  \n",
       "3      Coffee shop  Thursday        0  \n",
       "4      Coffee shop  Thursday        0  \n",
       "...            ...       ...      ...  \n",
       "26874         Café  Thursday       24  \n",
       "26875   Restaurant  Thursday       24  \n",
       "26876   Book store  Thursday       24  \n",
       "26877         Café  Thursday       24  \n",
       "26878   Restaurant  Thursday       24  \n",
       "\n",
       "[26879 rows x 8 columns]"
      ]
     },
     "execution_count": 63,
     "metadata": {},
     "output_type": "execute_result"
    }
   ],
   "source": [
    "tab_export_weekday2"
   ]
  },
  {
   "cell_type": "code",
   "execution_count": null,
   "metadata": {},
   "outputs": [],
   "source": []
  }
 ],
 "metadata": {
  "kernelspec": {
   "display_name": "Python 3",
   "language": "python",
   "name": "python3"
  },
  "language_info": {
   "codemirror_mode": {
    "name": "ipython",
    "version": 3
   },
   "file_extension": ".py",
   "mimetype": "text/x-python",
   "name": "python",
   "nbconvert_exporter": "python",
   "pygments_lexer": "ipython3",
   "version": "3.9.7"
  },
  "orig_nbformat": 4
 },
 "nbformat": 4,
 "nbformat_minor": 2
}
