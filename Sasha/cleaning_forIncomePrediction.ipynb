{
 "cells": [
  {
   "attachments": {},
   "cell_type": "markdown",
   "metadata": {},
   "source": [
    "# Data cleaning for income prediction "
   ]
  },
  {
   "cell_type": "code",
   "execution_count": 1,
   "metadata": {},
   "outputs": [],
   "source": [
    "#importing packages \n",
    "import pandas as pd\n",
    "import numpy as np\n",
    "import matplotlib.pyplot as plt\n",
    "import seaborn as sns"
   ]
  },
  {
   "attachments": {},
   "cell_type": "markdown",
   "metadata": {},
   "source": [
    "### Loading in the data"
   ]
  },
  {
   "cell_type": "code",
   "execution_count": 2,
   "metadata": {},
   "outputs": [],
   "source": [
    "#loading dataset \n",
    "df=pd.read_csv(\"/Users/sasha/Desktop/DATASCIENCE/2023/Mini-Project/data.nosync/fake_transactional_data.csv\")\n",
    "#renaming the rows \n",
    "df=df.rename(columns={'from_totally_fake_account':'from_account', 'monopoly_money_amount':'money_amount', 'to_randomly_generated_account':'to_account', 'not_happened_yet_date':'date'})"
   ]
  },
  {
   "attachments": {},
   "cell_type": "markdown",
   "metadata": {},
   "source": [
    "### A few modifications"
   ]
  },
  {
   "cell_type": "code",
   "execution_count": 3,
   "metadata": {},
   "outputs": [],
   "source": [
    "#Setting from account to be an object instead of a float\n",
    "df['from_account'] = df['from_account'].astype(object)\n",
    "\n",
    "#converting date to date format\n",
    "df[\"date\"] = pd.to_datetime(df[\"date\"], dayfirst=True)"
   ]
  },
  {
   "attachments": {},
   "cell_type": "markdown",
   "metadata": {},
   "source": [
    "### Describing the data"
   ]
  },
  {
   "cell_type": "code",
   "execution_count": 4,
   "metadata": {},
   "outputs": [
    {
     "name": "stdout",
     "output_type": "stream",
     "text": [
      "\n",
      " shape: (12004116, 4)\n",
      "\n",
      " head: \n",
      "   from_account  money_amount           to_account       date\n",
      "0          NaN          4.00               CINEMA 2025-01-01\n",
      "1      40544.0          4.60  A_LOCAL_COFFEE_SHOP 2025-01-01\n",
      "2      88339.0          2.40                40544 2025-01-01\n",
      "3      85149.0          4.65  A_LOCAL_COFFEE_SHOP 2025-01-01\n",
      "4      18555.0          2.40                85149 2025-01-01\n",
      "\n",
      " info:\n",
      "<class 'pandas.core.frame.DataFrame'>\n",
      "RangeIndex: 12004116 entries, 0 to 12004115\n",
      "Data columns (total 4 columns):\n",
      " #   Column        Dtype         \n",
      "---  ------        -----         \n",
      " 0   from_account  object        \n",
      " 1   money_amount  float64       \n",
      " 2   to_account    object        \n",
      " 3   date          datetime64[ns]\n",
      "dtypes: datetime64[ns](1), float64(1), object(2)\n",
      "memory usage: 366.3+ MB\n",
      "\n",
      " Date range: 2025-01-01 00:00:00 2025-10-02 00:00:00\n"
     ]
    }
   ],
   "source": [
    "#check dimensions of the data\n",
    "print('\\n shape:',df.shape)\n",
    "\n",
    "\n",
    "print('\\n head: \\n', df.head())\n",
    "print('\\n info:')\n",
    "df.info()\n",
    "\n",
    "# Finding out the range of dates\n",
    "print('\\n Date range:', df[\"date\"].min(), df[\"date\"].max())"
   ]
  },
  {
   "attachments": {},
   "cell_type": "markdown",
   "metadata": {},
   "source": [
    "#### Map of missing Values"
   ]
  },
  {
   "cell_type": "code",
   "execution_count": 5,
   "metadata": {},
   "outputs": [
    {
     "data": {
      "text/plain": [
       "<AxesSubplot:>"
      ]
     },
     "execution_count": 5,
     "metadata": {},
     "output_type": "execute_result"
    },
    {
     "data": {
      "image/png": "[encoded data removed]",
      "text/plain": [
       "<Figure size 1000x600 with 1 Axes>"
      ]
     },
     "metadata": {},
     "output_type": "display_data"
    }
   ],
   "source": [
    "#Visualizing the missing values\n",
    "plt.figure(figsize=(10, 6))\n",
    "sns.heatmap(df.isnull(), yticklabels=False, cmap='viridis', cbar=False)"
   ]
  },
  {
   "attachments": {},
   "cell_type": "markdown",
   "metadata": {},
   "source": [
    "Here I am just checking for any obvious patterns in the NaN values, such as transactions where each feature is NaN"
   ]
  },
  {
   "attachments": {},
   "cell_type": "markdown",
   "metadata": {},
   "source": [
    "#### This function returns the NA status of each column"
   ]
  },
  {
   "cell_type": "code",
   "execution_count": 6,
   "metadata": {},
   "outputs": [],
   "source": [
    "def missing_cols(df):\n",
    "    '''prints out columns with its amount of missing values'''\n",
    "    total = 0\n",
    "    for col in df.columns:\n",
    "        missing_vals = df[col].isnull().sum()\n",
    "        total += missing_vals\n",
    "        if missing_vals != 0:\n",
    "            print(f\"{col} => {df[col].isnull().sum()}\")\n",
    "        if missing_vals == 0:\n",
    "             print(f\"{col} => No missing values\")\n",
    "        pct = df[col].isna().mean() * 100\n",
    "        if (pct != 0):\n",
    "            print('{} => {}%'.format(col, round(pct, 2)))\n",
    "    \n",
    "    if total == 0:\n",
    "        print(\"no missing values left\")"
   ]
  },
  {
   "cell_type": "code",
   "execution_count": 7,
   "metadata": {},
   "outputs": [
    {
     "name": "stdout",
     "output_type": "stream",
     "text": [
      "\n",
      " How many missing values each columns has and what percentage this is:\n",
      "from_account => 139974\n",
      "from_account => 1.17%\n",
      "money_amount => 140256\n",
      "money_amount => 1.17%\n",
      "to_account => 140100\n",
      "to_account => 1.17%\n",
      "date => 1\n",
      "date => 0.0%\n"
     ]
    }
   ],
   "source": [
    "print(\"\\n How many missing values each columns has and what percentage this is:\")    \n",
    "#Using the function above to see our missing values  \n",
    "missing_cols(df)       \n"
   ]
  },
  {
   "attachments": {},
   "cell_type": "markdown",
   "metadata": {},
   "source": [
    "While 1% does not seem like a lot, this is hundreds of thousands of rows, so we shall not by so quick to discard them. \n",
    "We seem to have one interesting case where there is one missing date. "
   ]
  },
  {
   "cell_type": "code",
   "execution_count": 8,
   "metadata": {},
   "outputs": [
    {
     "data": {
      "text/plain": [
       "array([12004115])"
      ]
     },
     "execution_count": 8,
     "metadata": {},
     "output_type": "execute_result"
    }
   ],
   "source": [
    "np.where(df['date'].isna())[0]"
   ]
  },
  {
   "cell_type": "code",
   "execution_count": 9,
   "metadata": {},
   "outputs": [
    {
     "data": {
      "text/plain": [
       "from_account    100694.0\n",
       "money_amount        2.25\n",
       "to_account      GOURMET_\n",
       "date                 NaT\n",
       "Name: 12004115, dtype: object"
      ]
     },
     "execution_count": 9,
     "metadata": {},
     "output_type": "execute_result"
    }
   ],
   "source": [
    "df.loc[12004115]"
   ]
  },
  {
   "attachments": {},
   "cell_type": "markdown",
   "metadata": {},
   "source": [
    "### Splitting up the data into between account payments and to business payments"
   ]
  },
  {
   "cell_type": "code",
   "execution_count": 10,
   "metadata": {},
   "outputs": [],
   "source": [
    "df1 = df.copy() #Making a copy of the df\n",
    "df1['to_account'] = pd.to_numeric(df['to_account'], errors = 'coerce') # df1 is now df but where to account is non numeric NaN will show\n",
    "df_between = df1[pd.notnull(df1['to_account'])] #Removing all the NaN rows, such that we are only left with accoun to account transaction\n",
    "numeric_to_accounts = df_between['to_account'].astype(int).values #creating a list with all the to accounts as an integer\n",
    "numeric_to_accounts = [str(x) for x in numeric_to_accounts] #Changing each element in numeric_to_accounts into a string\n",
    "df_expenditure = df[~df['to_account'].isin(numeric_to_accounts)] #Creating df_expenditure by excluding all account to account transactions from our original df"
   ]
  },
  {
   "cell_type": "code",
   "execution_count": 11,
   "metadata": {},
   "outputs": [
    {
     "name": "stdout",
     "output_type": "stream",
     "text": [
      "Between accounts head:    from_account  money_amount  to_account       date\n",
      "2       88339.0          2.40     40544.0 2025-01-01\n",
      "4       18555.0          2.40     85149.0 2025-01-01\n",
      "6       80792.0          1.95     18555.0 2025-01-01\n",
      "19      39262.0          4.50     30264.0 2025-01-01\n",
      "51      53483.0          5.50     75744.0 2025-01-01\n",
      "\n",
      " Between accounts description        money_amount    to_account\n",
      "count  2.950750e+06  2.985833e+06\n",
      "mean   3.186091e+01  5.115173e+04\n",
      "std    1.661347e+02  2.884507e+04\n",
      "min    1.450000e+00  1.000000e+03\n",
      "25%    5.000000e+00  2.583800e+04\n",
      "50%    6.000000e+00  5.129000e+04\n",
      "75%    6.500000e+00  7.588100e+04\n",
      "max    1.995000e+03  1.009880e+05\n"
     ]
    }
   ],
   "source": [
    "#Printing descriptions of these 2 new df's\n",
    "print('Between accounts head:', df_between.head())\n",
    "print('\\n Between accounts description', df_between.describe())\n"
   ]
  },
  {
   "cell_type": "code",
   "execution_count": 12,
   "metadata": {},
   "outputs": [
    {
     "name": "stdout",
     "output_type": "stream",
     "text": [
      "\n",
      " Expenditure head:   from_account  money_amount                  to_account       date\n",
      "0          NaN          4.00                      CINEMA 2025-01-01\n",
      "1      40544.0          4.60         A_LOCAL_COFFEE_SHOP 2025-01-01\n",
      "3      85149.0          4.65         A_LOCAL_COFFEE_SHOP 2025-01-01\n",
      "5      18555.0          4.10         HIPSTER_COFFEE_SHOP 2025-01-01\n",
      "7      18555.0          4.45  TOTALLY_A_REAL_COFFEE_SHOP 2025-01-01\n",
      "\n",
      " Expenditure description        money_amount\n",
      "count  8.913110e+06\n",
      "mean   1.366975e+01\n",
      "std    2.449926e+01\n",
      "min    1.450000e+00\n",
      "25%    2.450000e+00\n",
      "50%    7.000000e+00\n",
      "75%    1.350000e+01\n",
      "max    1.990000e+03\n"
     ]
    }
   ],
   "source": [
    "print('\\n Expenditure head:', df_expenditure.head())\n",
    "print('\\n Expenditure description', df_expenditure.describe())\n"
   ]
  },
  {
   "attachments": {},
   "cell_type": "markdown",
   "metadata": {},
   "source": [
    "### Filling in missing money amount"
   ]
  },
  {
   "cell_type": "code",
   "execution_count": 13,
   "metadata": {},
   "outputs": [],
   "source": [
    "#This function takes in a df and outputs a list of all the means for each row by grouping by to and from account\n",
    "def fill(df):\n",
    "    s = df.groupby(['from_account', \"to_account\"])['money_amount'].mean()\n",
    "    df2 = df[['from_account', 'to_account']].merge(s, on=['from_account', 'to_account'], how='left')\n",
    "    df2 = df2.set_index(df.index)\n",
    "    return(df2['money_amount'])"
   ]
  },
  {
   "attachments": {},
   "cell_type": "markdown",
   "metadata": {},
   "source": [
    "For account to account transactions, we look at each NaN money_amount and ask how much does this account normally send to this other account, by getting the mean of past transactions. If there are no past transactions we remove the row entirely"
   ]
  },
  {
   "cell_type": "code",
   "execution_count": 14,
   "metadata": {},
   "outputs": [
    {
     "name": "stderr",
     "output_type": "stream",
     "text": [
      "/var/folders/py/d721tqvn39xbrq83g84j15pm0000gn/T/ipykernel_40579/904791043.py:1: SettingWithCopyWarning: \n",
      "A value is trying to be set on a copy of a slice from a DataFrame\n",
      "\n",
      "See the caveats in the documentation: https://pandas.pydata.org/pandas-docs/stable/user_guide/indexing.html#returning-a-view-versus-a-copy\n",
      "  df_between['money_amount'].fillna(fill(df_between), inplace=True) #Using the function to replace all NaN's in the df_between df with the average of past transactions from one specific account to another specific account.\n"
     ]
    },
    {
     "name": "stdout",
     "output_type": "stream",
     "text": [
      "from_account => 34429\n",
      "from_account => 1.15%\n",
      "money_amount => No missing values\n",
      "to_account => No missing values\n",
      "date => No missing values\n"
     ]
    }
   ],
   "source": [
    "df_between['money_amount'].fillna(fill(df_between), inplace=True) #Using the function to replace all NaN's in the df_between df with the average of past transactions from one specific account to another specific account. \n",
    "df_between=df_between.dropna(axis=0, subset=\"money_amount\") #All remaining NaN's are dropped\n",
    "missing_cols(df_between)"
   ]
  },
  {
   "attachments": {},
   "cell_type": "markdown",
   "metadata": {},
   "source": [
    "For account to business transactions, we look at each NaN money_amount and ask how much does this account normally spend at this business, by getting the mean of past transactions. If there are no past transactions, then we ask how do other accounts normally spend here? Again by taking the mean. For any other remaining NaN's, we remove the row entirely."
   ]
  },
  {
   "cell_type": "code",
   "execution_count": 15,
   "metadata": {},
   "outputs": [
    {
     "name": "stderr",
     "output_type": "stream",
     "text": [
      "/var/folders/py/d721tqvn39xbrq83g84j15pm0000gn/T/ipykernel_40579/1801862313.py:1: SettingWithCopyWarning: \n",
      "A value is trying to be set on a copy of a slice from a DataFrame\n",
      "\n",
      "See the caveats in the documentation: https://pandas.pydata.org/pandas-docs/stable/user_guide/indexing.html#returning-a-view-versus-a-copy\n",
      "  df_expenditure['money_amount'].fillna(fill(df_expenditure), inplace=True) #Using the function to replace all NaN's in the df_expenditure df with the average of past transactions from one specific account to the specific business.\n",
      "/var/folders/py/d721tqvn39xbrq83g84j15pm0000gn/T/ipykernel_40579/1801862313.py:3: SettingWithCopyWarning: \n",
      "A value is trying to be set on a copy of a slice from a DataFrame\n",
      "\n",
      "See the caveats in the documentation: https://pandas.pydata.org/pandas-docs/stable/user_guide/indexing.html#returning-a-view-versus-a-copy\n",
      "  df_expenditure['money_amount'].fillna(df_expenditure['to_account'].map(s), inplace=True) #Any remaining NaN's are filled in using s\n"
     ]
    },
    {
     "name": "stdout",
     "output_type": "stream",
     "text": [
      "from_account => 105136\n",
      "from_account => 1.17%\n",
      "money_amount => No missing values\n",
      "to_account => 138497\n",
      "to_account => 1.54%\n",
      "date => 1\n",
      "date => 0.0%\n"
     ]
    }
   ],
   "source": [
    "df_expenditure['money_amount'].fillna(fill(df_expenditure), inplace=True) #Using the function to replace all NaN's in the df_expenditure df with the average of past transactions from one specific account to the specific business. \n",
    "s = df_expenditure.groupby('to_account')['money_amount'].mean() #Creating a df of the average spend at each business\n",
    "df_expenditure['money_amount'].fillna(df_expenditure['to_account'].map(s), inplace=True) #Any remaining NaN's are filled in using s\n",
    "df_expenditure=df_expenditure.dropna(axis=0, subset=\"money_amount\") #All remaining NaN's are dropped\n",
    "missing_cols(df_expenditure)\n"
   ]
  },
  {
   "cell_type": "code",
   "execution_count": 16,
   "metadata": {},
   "outputs": [
    {
     "name": "stdout",
     "output_type": "stream",
     "text": [
      "I have deleted 2074 rows\n"
     ]
    }
   ],
   "source": [
    "print('I have deleted', (df.shape[0] - (df_between.shape[0] + df_expenditure.shape[0])), 'rows')"
   ]
  },
  {
   "attachments": {},
   "cell_type": "markdown",
   "metadata": {},
   "source": [
    "### We can now bring the two df's back together"
   ]
  },
  {
   "cell_type": "code",
   "execution_count": 17,
   "metadata": {},
   "outputs": [
    {
     "data": {
      "text/html": [
       "<div>\n",
       "<style scoped>\n",
       "    .dataframe tbody tr th:only-of-type {\n",
       "        vertical-align: middle;\n",
       "    }\n",
       "\n",
       "    .dataframe tbody tr th {\n",
       "        vertical-align: top;\n",
       "    }\n",
       "\n",
       "    .dataframe thead th {\n",
       "        text-align: right;\n",
       "    }\n",
       "</style>\n",
       "<table border=\"1\" class=\"dataframe\">\n",
       "  <thead>\n",
       "    <tr style=\"text-align: right;\">\n",
       "      <th></th>\n",
       "      <th>from_account</th>\n",
       "      <th>money_amount</th>\n",
       "      <th>to_account</th>\n",
       "      <th>date</th>\n",
       "    </tr>\n",
       "  </thead>\n",
       "  <tbody>\n",
       "    <tr>\n",
       "      <th>0</th>\n",
       "      <td>NaN</td>\n",
       "      <td>4.00</td>\n",
       "      <td>CINEMA</td>\n",
       "      <td>2025-01-01</td>\n",
       "    </tr>\n",
       "    <tr>\n",
       "      <th>1</th>\n",
       "      <td>40544.0</td>\n",
       "      <td>4.60</td>\n",
       "      <td>A_LOCAL_COFFEE_SHOP</td>\n",
       "      <td>2025-01-01</td>\n",
       "    </tr>\n",
       "    <tr>\n",
       "      <th>2</th>\n",
       "      <td>88339.0</td>\n",
       "      <td>2.40</td>\n",
       "      <td>40544.0</td>\n",
       "      <td>2025-01-01</td>\n",
       "    </tr>\n",
       "    <tr>\n",
       "      <th>3</th>\n",
       "      <td>85149.0</td>\n",
       "      <td>4.65</td>\n",
       "      <td>A_LOCAL_COFFEE_SHOP</td>\n",
       "      <td>2025-01-01</td>\n",
       "    </tr>\n",
       "    <tr>\n",
       "      <th>4</th>\n",
       "      <td>18555.0</td>\n",
       "      <td>2.40</td>\n",
       "      <td>85149.0</td>\n",
       "      <td>2025-01-01</td>\n",
       "    </tr>\n",
       "  </tbody>\n",
       "</table>\n",
       "</div>"
      ],
      "text/plain": [
       "  from_account  money_amount           to_account       date\n",
       "0          NaN          4.00               CINEMA 2025-01-01\n",
       "1      40544.0          4.60  A_LOCAL_COFFEE_SHOP 2025-01-01\n",
       "2      88339.0          2.40              40544.0 2025-01-01\n",
       "3      85149.0          4.65  A_LOCAL_COFFEE_SHOP 2025-01-01\n",
       "4      18555.0          2.40              85149.0 2025-01-01"
      ]
     },
     "execution_count": 17,
     "metadata": {},
     "output_type": "execute_result"
    }
   ],
   "source": [
    "df = pd.concat([df_expenditure, df_between], sort=False).sort_index() #Concatinating the two df's and the sorting by index so that we preserve the original order\n",
    "df.head()"
   ]
  },
  {
   "cell_type": "code",
   "execution_count": 18,
   "metadata": {},
   "outputs": [
    {
     "name": "stdout",
     "output_type": "stream",
     "text": [
      "from_account => 139565\n",
      "from_account => 1.16%\n",
      "money_amount => No missing values\n",
      "to_account => 138497\n",
      "to_account => 1.15%\n",
      "date => 1\n",
      "date => 0.0%\n"
     ]
    }
   ],
   "source": [
    "missing_cols(df)"
   ]
  },
  {
   "attachments": {},
   "cell_type": "markdown",
   "metadata": {},
   "source": [
    "We have successfully now got a df with no missing money_amount"
   ]
  },
  {
   "attachments": {},
   "cell_type": "markdown",
   "metadata": {},
   "source": [
    "As this task is to predict income let's begin narrowing our focus on customers. To do this we build a new df for all of our customers"
   ]
  },
  {
   "attachments": {},
   "cell_type": "markdown",
   "metadata": {},
   "source": [
    "### New customer df "
   ]
  },
  {
   "cell_type": "code",
   "execution_count": 19,
   "metadata": {},
   "outputs": [
    {
     "name": "stderr",
     "output_type": "stream",
     "text": [
      "/Library/Frameworks/Python.framework/Versions/3.9/lib/python3.9/site-packages/pandas/core/algorithms.py:968: UserWarning: Unable to sort modes: '<' not supported between instances of 'str' and 'float'\n",
      "  warn(f\"Unable to sort modes: {err}\")\n",
      "/Library/Frameworks/Python.framework/Versions/3.9/lib/python3.9/site-packages/pandas/core/algorithms.py:968: UserWarning: Unable to sort modes: '<' not supported between instances of 'str' and 'float'\n",
      "  warn(f\"Unable to sort modes: {err}\")\n",
      "/Library/Frameworks/Python.framework/Versions/3.9/lib/python3.9/site-packages/pandas/core/algorithms.py:968: UserWarning: Unable to sort modes: '<' not supported between instances of 'float' and 'str'\n",
      "  warn(f\"Unable to sort modes: {err}\")\n",
      "/Library/Frameworks/Python.framework/Versions/3.9/lib/python3.9/site-packages/pandas/core/algorithms.py:968: UserWarning: Unable to sort modes: '<' not supported between instances of 'float' and 'str'\n",
      "  warn(f\"Unable to sort modes: {err}\")\n",
      "/Library/Frameworks/Python.framework/Versions/3.9/lib/python3.9/site-packages/pandas/core/algorithms.py:968: UserWarning: Unable to sort modes: '<' not supported between instances of 'float' and 'str'\n",
      "  warn(f\"Unable to sort modes: {err}\")\n",
      "/Library/Frameworks/Python.framework/Versions/3.9/lib/python3.9/site-packages/pandas/core/algorithms.py:968: UserWarning: Unable to sort modes: '<' not supported between instances of 'str' and 'float'\n",
      "  warn(f\"Unable to sort modes: {err}\")\n",
      "/Library/Frameworks/Python.framework/Versions/3.9/lib/python3.9/site-packages/pandas/core/algorithms.py:968: UserWarning: Unable to sort modes: '<' not supported between instances of 'str' and 'float'\n",
      "  warn(f\"Unable to sort modes: {err}\")\n",
      "/Library/Frameworks/Python.framework/Versions/3.9/lib/python3.9/site-packages/pandas/core/algorithms.py:968: UserWarning: Unable to sort modes: '<' not supported between instances of 'float' and 'str'\n",
      "  warn(f\"Unable to sort modes: {err}\")\n",
      "/Library/Frameworks/Python.framework/Versions/3.9/lib/python3.9/site-packages/pandas/core/algorithms.py:968: UserWarning: Unable to sort modes: '<' not supported between instances of 'str' and 'float'\n",
      "  warn(f\"Unable to sort modes: {err}\")\n",
      "/Library/Frameworks/Python.framework/Versions/3.9/lib/python3.9/site-packages/pandas/core/algorithms.py:968: UserWarning: Unable to sort modes: '<' not supported between instances of 'str' and 'float'\n",
      "  warn(f\"Unable to sort modes: {err}\")\n",
      "/Library/Frameworks/Python.framework/Versions/3.9/lib/python3.9/site-packages/pandas/core/algorithms.py:968: UserWarning: Unable to sort modes: '<' not supported between instances of 'str' and 'float'\n",
      "  warn(f\"Unable to sort modes: {err}\")\n",
      "/Library/Frameworks/Python.framework/Versions/3.9/lib/python3.9/site-packages/pandas/core/algorithms.py:968: UserWarning: Unable to sort modes: '<' not supported between instances of 'float' and 'str'\n",
      "  warn(f\"Unable to sort modes: {err}\")\n",
      "/Library/Frameworks/Python.framework/Versions/3.9/lib/python3.9/site-packages/pandas/core/algorithms.py:968: UserWarning: Unable to sort modes: '<' not supported between instances of 'float' and 'str'\n",
      "  warn(f\"Unable to sort modes: {err}\")\n",
      "/Library/Frameworks/Python.framework/Versions/3.9/lib/python3.9/site-packages/pandas/core/algorithms.py:968: UserWarning: Unable to sort modes: '<' not supported between instances of 'str' and 'float'\n",
      "  warn(f\"Unable to sort modes: {err}\")\n",
      "/Library/Frameworks/Python.framework/Versions/3.9/lib/python3.9/site-packages/pandas/core/algorithms.py:968: UserWarning: Unable to sort modes: '<' not supported between instances of 'float' and 'str'\n",
      "  warn(f\"Unable to sort modes: {err}\")\n",
      "/Library/Frameworks/Python.framework/Versions/3.9/lib/python3.9/site-packages/pandas/core/algorithms.py:968: UserWarning: Unable to sort modes: '<' not supported between instances of 'str' and 'float'\n",
      "  warn(f\"Unable to sort modes: {err}\")\n",
      "/Library/Frameworks/Python.framework/Versions/3.9/lib/python3.9/site-packages/pandas/core/algorithms.py:968: UserWarning: Unable to sort modes: '<' not supported between instances of 'float' and 'str'\n",
      "  warn(f\"Unable to sort modes: {err}\")\n",
      "/Library/Frameworks/Python.framework/Versions/3.9/lib/python3.9/site-packages/pandas/core/algorithms.py:968: UserWarning: Unable to sort modes: '<' not supported between instances of 'str' and 'float'\n",
      "  warn(f\"Unable to sort modes: {err}\")\n",
      "/Library/Frameworks/Python.framework/Versions/3.9/lib/python3.9/site-packages/pandas/core/algorithms.py:968: UserWarning: Unable to sort modes: '<' not supported between instances of 'str' and 'float'\n",
      "  warn(f\"Unable to sort modes: {err}\")\n",
      "/Library/Frameworks/Python.framework/Versions/3.9/lib/python3.9/site-packages/pandas/core/algorithms.py:968: UserWarning: Unable to sort modes: '<' not supported between instances of 'str' and 'float'\n",
      "  warn(f\"Unable to sort modes: {err}\")\n",
      "/Library/Frameworks/Python.framework/Versions/3.9/lib/python3.9/site-packages/pandas/core/algorithms.py:968: UserWarning: Unable to sort modes: '<' not supported between instances of 'float' and 'str'\n",
      "  warn(f\"Unable to sort modes: {err}\")\n",
      "/Library/Frameworks/Python.framework/Versions/3.9/lib/python3.9/site-packages/pandas/core/algorithms.py:968: UserWarning: Unable to sort modes: '<' not supported between instances of 'float' and 'str'\n",
      "  warn(f\"Unable to sort modes: {err}\")\n",
      "/Library/Frameworks/Python.framework/Versions/3.9/lib/python3.9/site-packages/pandas/core/algorithms.py:968: UserWarning: Unable to sort modes: '<' not supported between instances of 'str' and 'float'\n",
      "  warn(f\"Unable to sort modes: {err}\")\n",
      "/Library/Frameworks/Python.framework/Versions/3.9/lib/python3.9/site-packages/pandas/core/algorithms.py:968: UserWarning: Unable to sort modes: '<' not supported between instances of 'float' and 'str'\n",
      "  warn(f\"Unable to sort modes: {err}\")\n",
      "/Library/Frameworks/Python.framework/Versions/3.9/lib/python3.9/site-packages/pandas/core/algorithms.py:968: UserWarning: Unable to sort modes: '<' not supported between instances of 'str' and 'float'\n",
      "  warn(f\"Unable to sort modes: {err}\")\n",
      "/Library/Frameworks/Python.framework/Versions/3.9/lib/python3.9/site-packages/pandas/core/algorithms.py:968: UserWarning: Unable to sort modes: '<' not supported between instances of 'str' and 'float'\n",
      "  warn(f\"Unable to sort modes: {err}\")\n",
      "/Library/Frameworks/Python.framework/Versions/3.9/lib/python3.9/site-packages/pandas/core/algorithms.py:968: UserWarning: Unable to sort modes: '<' not supported between instances of 'float' and 'str'\n",
      "  warn(f\"Unable to sort modes: {err}\")\n",
      "/Library/Frameworks/Python.framework/Versions/3.9/lib/python3.9/site-packages/pandas/core/algorithms.py:968: UserWarning: Unable to sort modes: '<' not supported between instances of 'str' and 'float'\n",
      "  warn(f\"Unable to sort modes: {err}\")\n",
      "/Library/Frameworks/Python.framework/Versions/3.9/lib/python3.9/site-packages/pandas/core/algorithms.py:968: UserWarning: Unable to sort modes: '<' not supported between instances of 'float' and 'str'\n",
      "  warn(f\"Unable to sort modes: {err}\")\n",
      "/Library/Frameworks/Python.framework/Versions/3.9/lib/python3.9/site-packages/pandas/core/algorithms.py:968: UserWarning: Unable to sort modes: '<' not supported between instances of 'str' and 'float'\n",
      "  warn(f\"Unable to sort modes: {err}\")\n",
      "/Library/Frameworks/Python.framework/Versions/3.9/lib/python3.9/site-packages/pandas/core/algorithms.py:968: UserWarning: Unable to sort modes: '<' not supported between instances of 'float' and 'str'\n",
      "  warn(f\"Unable to sort modes: {err}\")\n",
      "/Library/Frameworks/Python.framework/Versions/3.9/lib/python3.9/site-packages/pandas/core/algorithms.py:968: UserWarning: Unable to sort modes: '<' not supported between instances of 'str' and 'float'\n",
      "  warn(f\"Unable to sort modes: {err}\")\n",
      "/Library/Frameworks/Python.framework/Versions/3.9/lib/python3.9/site-packages/pandas/core/algorithms.py:968: UserWarning: Unable to sort modes: '<' not supported between instances of 'str' and 'float'\n",
      "  warn(f\"Unable to sort modes: {err}\")\n",
      "/Library/Frameworks/Python.framework/Versions/3.9/lib/python3.9/site-packages/pandas/core/algorithms.py:968: UserWarning: Unable to sort modes: '<' not supported between instances of 'str' and 'float'\n",
      "  warn(f\"Unable to sort modes: {err}\")\n",
      "/Library/Frameworks/Python.framework/Versions/3.9/lib/python3.9/site-packages/pandas/core/algorithms.py:968: UserWarning: Unable to sort modes: '<' not supported between instances of 'float' and 'str'\n",
      "  warn(f\"Unable to sort modes: {err}\")\n",
      "/Library/Frameworks/Python.framework/Versions/3.9/lib/python3.9/site-packages/pandas/core/algorithms.py:968: UserWarning: Unable to sort modes: '<' not supported between instances of 'str' and 'float'\n",
      "  warn(f\"Unable to sort modes: {err}\")\n",
      "/Library/Frameworks/Python.framework/Versions/3.9/lib/python3.9/site-packages/pandas/core/algorithms.py:968: UserWarning: Unable to sort modes: '<' not supported between instances of 'float' and 'str'\n",
      "  warn(f\"Unable to sort modes: {err}\")\n",
      "/Library/Frameworks/Python.framework/Versions/3.9/lib/python3.9/site-packages/pandas/core/algorithms.py:968: UserWarning: Unable to sort modes: '<' not supported between instances of 'float' and 'str'\n",
      "  warn(f\"Unable to sort modes: {err}\")\n",
      "/Library/Frameworks/Python.framework/Versions/3.9/lib/python3.9/site-packages/pandas/core/algorithms.py:968: UserWarning: Unable to sort modes: '<' not supported between instances of 'float' and 'str'\n",
      "  warn(f\"Unable to sort modes: {err}\")\n",
      "/Library/Frameworks/Python.framework/Versions/3.9/lib/python3.9/site-packages/pandas/core/algorithms.py:968: UserWarning: Unable to sort modes: '<' not supported between instances of 'str' and 'float'\n",
      "  warn(f\"Unable to sort modes: {err}\")\n",
      "/Library/Frameworks/Python.framework/Versions/3.9/lib/python3.9/site-packages/pandas/core/algorithms.py:968: UserWarning: Unable to sort modes: '<' not supported between instances of 'str' and 'float'\n",
      "  warn(f\"Unable to sort modes: {err}\")\n",
      "/Library/Frameworks/Python.framework/Versions/3.9/lib/python3.9/site-packages/pandas/core/algorithms.py:968: UserWarning: Unable to sort modes: '<' not supported between instances of 'str' and 'float'\n",
      "  warn(f\"Unable to sort modes: {err}\")\n",
      "/Library/Frameworks/Python.framework/Versions/3.9/lib/python3.9/site-packages/pandas/core/algorithms.py:968: UserWarning: Unable to sort modes: '<' not supported between instances of 'str' and 'float'\n",
      "  warn(f\"Unable to sort modes: {err}\")\n",
      "/Library/Frameworks/Python.framework/Versions/3.9/lib/python3.9/site-packages/pandas/core/algorithms.py:968: UserWarning: Unable to sort modes: '<' not supported between instances of 'float' and 'str'\n",
      "  warn(f\"Unable to sort modes: {err}\")\n",
      "/Library/Frameworks/Python.framework/Versions/3.9/lib/python3.9/site-packages/pandas/core/algorithms.py:968: UserWarning: Unable to sort modes: '<' not supported between instances of 'float' and 'str'\n",
      "  warn(f\"Unable to sort modes: {err}\")\n",
      "/Library/Frameworks/Python.framework/Versions/3.9/lib/python3.9/site-packages/pandas/core/algorithms.py:968: UserWarning: Unable to sort modes: '<' not supported between instances of 'str' and 'float'\n",
      "  warn(f\"Unable to sort modes: {err}\")\n",
      "/Library/Frameworks/Python.framework/Versions/3.9/lib/python3.9/site-packages/pandas/core/algorithms.py:968: UserWarning: Unable to sort modes: '<' not supported between instances of 'str' and 'float'\n",
      "  warn(f\"Unable to sort modes: {err}\")\n",
      "/Library/Frameworks/Python.framework/Versions/3.9/lib/python3.9/site-packages/pandas/core/algorithms.py:968: UserWarning: Unable to sort modes: '<' not supported between instances of 'float' and 'str'\n",
      "  warn(f\"Unable to sort modes: {err}\")\n",
      "/Library/Frameworks/Python.framework/Versions/3.9/lib/python3.9/site-packages/pandas/core/algorithms.py:968: UserWarning: Unable to sort modes: '<' not supported between instances of 'str' and 'float'\n",
      "  warn(f\"Unable to sort modes: {err}\")\n",
      "/Library/Frameworks/Python.framework/Versions/3.9/lib/python3.9/site-packages/pandas/core/algorithms.py:968: UserWarning: Unable to sort modes: '<' not supported between instances of 'float' and 'str'\n",
      "  warn(f\"Unable to sort modes: {err}\")\n",
      "/Library/Frameworks/Python.framework/Versions/3.9/lib/python3.9/site-packages/pandas/core/algorithms.py:968: UserWarning: Unable to sort modes: '<' not supported between instances of 'str' and 'float'\n",
      "  warn(f\"Unable to sort modes: {err}\")\n",
      "/Library/Frameworks/Python.framework/Versions/3.9/lib/python3.9/site-packages/pandas/core/algorithms.py:968: UserWarning: Unable to sort modes: '<' not supported between instances of 'float' and 'str'\n",
      "  warn(f\"Unable to sort modes: {err}\")\n",
      "/Library/Frameworks/Python.framework/Versions/3.9/lib/python3.9/site-packages/pandas/core/algorithms.py:968: UserWarning: Unable to sort modes: '<' not supported between instances of 'float' and 'str'\n",
      "  warn(f\"Unable to sort modes: {err}\")\n",
      "/Library/Frameworks/Python.framework/Versions/3.9/lib/python3.9/site-packages/pandas/core/algorithms.py:968: UserWarning: Unable to sort modes: '<' not supported between instances of 'str' and 'float'\n",
      "  warn(f\"Unable to sort modes: {err}\")\n",
      "/Library/Frameworks/Python.framework/Versions/3.9/lib/python3.9/site-packages/pandas/core/algorithms.py:968: UserWarning: Unable to sort modes: '<' not supported between instances of 'float' and 'str'\n",
      "  warn(f\"Unable to sort modes: {err}\")\n",
      "/Library/Frameworks/Python.framework/Versions/3.9/lib/python3.9/site-packages/pandas/core/algorithms.py:968: UserWarning: Unable to sort modes: '<' not supported between instances of 'str' and 'float'\n",
      "  warn(f\"Unable to sort modes: {err}\")\n",
      "/Library/Frameworks/Python.framework/Versions/3.9/lib/python3.9/site-packages/pandas/core/algorithms.py:968: UserWarning: Unable to sort modes: '<' not supported between instances of 'float' and 'str'\n",
      "  warn(f\"Unable to sort modes: {err}\")\n",
      "/Library/Frameworks/Python.framework/Versions/3.9/lib/python3.9/site-packages/pandas/core/algorithms.py:968: UserWarning: Unable to sort modes: '<' not supported between instances of 'float' and 'str'\n",
      "  warn(f\"Unable to sort modes: {err}\")\n",
      "/Library/Frameworks/Python.framework/Versions/3.9/lib/python3.9/site-packages/pandas/core/algorithms.py:968: UserWarning: Unable to sort modes: '<' not supported between instances of 'float' and 'str'\n",
      "  warn(f\"Unable to sort modes: {err}\")\n",
      "/Library/Frameworks/Python.framework/Versions/3.9/lib/python3.9/site-packages/pandas/core/algorithms.py:968: UserWarning: Unable to sort modes: '<' not supported between instances of 'float' and 'str'\n",
      "  warn(f\"Unable to sort modes: {err}\")\n",
      "/Library/Frameworks/Python.framework/Versions/3.9/lib/python3.9/site-packages/pandas/core/algorithms.py:968: UserWarning: Unable to sort modes: '<' not supported between instances of 'float' and 'str'\n",
      "  warn(f\"Unable to sort modes: {err}\")\n",
      "/Library/Frameworks/Python.framework/Versions/3.9/lib/python3.9/site-packages/pandas/core/algorithms.py:968: UserWarning: Unable to sort modes: '<' not supported between instances of 'float' and 'str'\n",
      "  warn(f\"Unable to sort modes: {err}\")\n",
      "/Library/Frameworks/Python.framework/Versions/3.9/lib/python3.9/site-packages/pandas/core/algorithms.py:968: UserWarning: Unable to sort modes: '<' not supported between instances of 'str' and 'float'\n",
      "  warn(f\"Unable to sort modes: {err}\")\n",
      "/Library/Frameworks/Python.framework/Versions/3.9/lib/python3.9/site-packages/pandas/core/algorithms.py:968: UserWarning: Unable to sort modes: '<' not supported between instances of 'str' and 'float'\n",
      "  warn(f\"Unable to sort modes: {err}\")\n",
      "/Library/Frameworks/Python.framework/Versions/3.9/lib/python3.9/site-packages/pandas/core/algorithms.py:968: UserWarning: Unable to sort modes: '<' not supported between instances of 'float' and 'str'\n",
      "  warn(f\"Unable to sort modes: {err}\")\n",
      "/Library/Frameworks/Python.framework/Versions/3.9/lib/python3.9/site-packages/pandas/core/algorithms.py:968: UserWarning: Unable to sort modes: '<' not supported between instances of 'str' and 'float'\n",
      "  warn(f\"Unable to sort modes: {err}\")\n",
      "/Library/Frameworks/Python.framework/Versions/3.9/lib/python3.9/site-packages/pandas/core/algorithms.py:968: UserWarning: Unable to sort modes: '<' not supported between instances of 'str' and 'float'\n",
      "  warn(f\"Unable to sort modes: {err}\")\n"
     ]
    },
    {
     "name": "stdout",
     "output_type": "stream",
     "text": [
      "head of customers df:\n",
      "              money_amount                                         \\\n",
      "                      min     max       mean           sum count   \n",
      "from_account                                                       \n",
      "1000.0               1.45  1960.0  16.626818  21498.475361  1293   \n",
      "1002.0               1.45   325.0  14.886732  11507.443803   773   \n",
      "1018.0               1.45   297.0  19.052013  11469.311574   602   \n",
      "1023.0               1.45   178.0  15.321930  14004.244188   914   \n",
      "1053.0               1.45   369.0  14.835192  14315.960125   965   \n",
      "\n",
      "                           to_account  \n",
      "                                 mode  \n",
      "from_account                           \n",
      "1000.0        PRETENTIOUS_COFFEE_SHOP  \n",
      "1002.0                            BAR  \n",
      "1018.0                            PUB  \n",
      "1023.0                            PUB  \n",
      "1053.0                            PUB  \n",
      "\n",
      " There are 12825 customers\n"
     ]
    },
    {
     "name": "stderr",
     "output_type": "stream",
     "text": [
      "/Library/Frameworks/Python.framework/Versions/3.9/lib/python3.9/site-packages/pandas/core/algorithms.py:968: UserWarning: Unable to sort modes: '<' not supported between instances of 'float' and 'str'\n",
      "  warn(f\"Unable to sort modes: {err}\")\n"
     ]
    }
   ],
   "source": [
    "#creating new dfs to summarise customers\n",
    "df_customers = df.groupby('from_account').agg({'money_amount':['min','max','mean','sum','count'], 'to_account': pd.Series.mode})\n",
    "print('head of customers df:\\n',df_customers.head())\n",
    "print('\\n There are {} customers'.format(df_customers.shape[0]))"
   ]
  },
  {
   "attachments": {},
   "cell_type": "markdown",
   "metadata": {},
   "source": [
    "# TO DO\n",
    "\n",
    "\n",
    "I notice from my Tableau visualization that some accounts do not follow the standard form. Let's see what percentage of 'customers' are like this:\n",
    "\n",
    "Predict income\n"
   ]
  },
  {
   "attachments": {},
   "cell_type": "markdown",
   "metadata": {},
   "source": [
    "### Clustering "
   ]
  },
  {
   "cell_type": "code",
   "execution_count": 31,
   "metadata": {},
   "outputs": [
    {
     "name": "stdout",
     "output_type": "stream",
     "text": [
      "MultiIndex([('money_amount',   'min'),\n",
      "            ('money_amount',   'max'),\n",
      "            ('money_amount',  'mean'),\n",
      "            ('money_amount',   'sum'),\n",
      "            ('money_amount', 'count'),\n",
      "            (  'to_account',  'mode')],\n",
      "           )\n"
     ]
    },
    {
     "ename": "TypeError",
     "evalue": "unhashable type: 'list'",
     "output_type": "error",
     "traceback": [
      "\u001b[0;31m---------------------------------------------------------------------------\u001b[0m",
      "\u001b[0;31mTypeError\u001b[0m                                 Traceback (most recent call last)",
      "\u001b[1;32m/Users/sasha/Desktop/DATASCIENCE/2023/Mini-Project/DSMP-Grp24-/Sasha/cleaning_forIncomePrediction.ipynb Cell 38\u001b[0m in \u001b[0;36m<cell line: 2>\u001b[0;34m()\u001b[0m\n\u001b[1;32m      <a href='vscode-notebook-cell:/Users/sasha/Desktop/DATASCIENCE/2023/Mini-Project/DSMP-Grp24-/Sasha/cleaning_forIncomePrediction.ipynb#X60sZmlsZQ%3D%3D?line=0'>1</a>\u001b[0m \u001b[39mprint\u001b[39m(df_customers\u001b[39m.\u001b[39mcolumns)\n\u001b[0;32m----> <a href='vscode-notebook-cell:/Users/sasha/Desktop/DATASCIENCE/2023/Mini-Project/DSMP-Grp24-/Sasha/cleaning_forIncomePrediction.ipynb#X60sZmlsZQ%3D%3D?line=1'>2</a>\u001b[0m df_customers\u001b[39m=\u001b[39mdf_customers\u001b[39m.\u001b[39mrename(columns\u001b[39m=\u001b[39m{[\u001b[39m'\u001b[39m\u001b[39mmoney_amount\u001b[39m\u001b[39m'\u001b[39m, \u001b[39m'\u001b[39m\u001b[39mmin\u001b[39m\u001b[39m'\u001b[39m]:\u001b[39m'\u001b[39m\u001b[39mmin_purchase\u001b[39m\u001b[39m'\u001b[39m})\n",
      "\u001b[0;31mTypeError\u001b[0m: unhashable type: 'list'"
     ]
    }
   ],
   "source": [
    "print(df_customers.columns)\n",
    "df_customers=df_customers.rename(columns={['money_amount', 'min']:'min_purchase'})"
   ]
  },
  {
   "cell_type": "code",
   "execution_count": 37,
   "metadata": {},
   "outputs": [
    {
     "data": {
      "text/plain": [
       "MultiIndex([('money_amount',   'min'),\n",
       "            ('money_amount',   'max'),\n",
       "            ('money_amount',  'mean'),\n",
       "            ('money_amount',   'sum'),\n",
       "            ('money_amount', 'count')],\n",
       "           )"
      ]
     },
     "execution_count": 37,
     "metadata": {},
     "output_type": "execute_result"
    }
   ],
   "source": [
    "customers_pca  = df_customers.loc[:, df_customers.columns != ('to_account','mode')]\n",
    "customers_pca.columns"
   ]
  },
  {
   "cell_type": "code",
   "execution_count": 42,
   "metadata": {},
   "outputs": [
    {
     "name": "stdout",
     "output_type": "stream",
     "text": [
      "Explained variance ratio [0.99401323 0.00430665 0.00167994]\n"
     ]
    },
    {
     "data": {
      "image/png": "[encoded data removed]",
      "text/plain": [
       "<Figure size 640x480 with 1 Axes>"
      ]
     },
     "metadata": {},
     "output_type": "display_data"
    }
   ],
   "source": [
    "from sklearn.decomposition import PCA\n",
    "pca = PCA(n_components=3)\n",
    "pca.fit(customers_pca)\n",
    "# This should equal the sum of the first two values in the cumulative proportion plot\n",
    "print('Explained variance ratio '+ str(pca.explained_variance_ratio_))\n",
    "\n",
    "# Project data onto first two principal components\n",
    "projX = pca.transform(customers_pca)\n",
    "plt.figure(4)\n",
    "plt.plot(projX[:,0], projX[:,1], 'k.')\n",
    "plt.title('Projected data')\n",
    "plt.show()"
   ]
  },
  {
   "cell_type": "code",
   "execution_count": 22,
   "metadata": {},
   "outputs": [
    {
     "ename": "KeyError",
     "evalue": "\"Column(s) ['estimated_income', 'money_amount_x'] do not exist\"",
     "output_type": "error",
     "traceback": [
      "\u001b[0;31m---------------------------------------------------------------------------\u001b[0m",
      "\u001b[0;31mKeyError\u001b[0m                                  Traceback (most recent call last)",
      "\u001b[1;32m/Users/sasha/Desktop/DATASCIENCE/2023/Mini-Project/DSMP-Grp24-/Sasha/cleaning_forIncomePrediction.ipynb Cell 39\u001b[0m in \u001b[0;36m<cell line: 4>\u001b[0;34m()\u001b[0m\n\u001b[1;32m      <a href='vscode-notebook-cell:/Users/sasha/Desktop/DATASCIENCE/2023/Mini-Project/DSMP-Grp24-/Sasha/cleaning_forIncomePrediction.ipynb#X53sZmlsZQ%3D%3D?line=0'>1</a>\u001b[0m \u001b[39m#creating new dfs to summarise customers\u001b[39;00m\n\u001b[0;32m----> <a href='vscode-notebook-cell:/Users/sasha/Desktop/DATASCIENCE/2023/Mini-Project/DSMP-Grp24-/Sasha/cleaning_forIncomePrediction.ipynb#X53sZmlsZQ%3D%3D?line=3'>4</a>\u001b[0m df_customers_between \u001b[39m=\u001b[39m df_between\u001b[39m.\u001b[39;49mgroupby(\u001b[39m'\u001b[39;49m\u001b[39mfrom_account\u001b[39;49m\u001b[39m'\u001b[39;49m)\u001b[39m.\u001b[39;49magg({\u001b[39m'\u001b[39;49m\u001b[39mmoney_amount_x\u001b[39;49m\u001b[39m'\u001b[39;49m:[\u001b[39m'\u001b[39;49m\u001b[39mmin\u001b[39;49m\u001b[39m'\u001b[39;49m,\u001b[39m'\u001b[39;49m\u001b[39mmax\u001b[39;49m\u001b[39m'\u001b[39;49m,\u001b[39m'\u001b[39;49m\u001b[39mmean\u001b[39;49m\u001b[39m'\u001b[39;49m,\u001b[39m'\u001b[39;49m\u001b[39msum\u001b[39;49m\u001b[39m'\u001b[39;49m,\u001b[39m'\u001b[39;49m\u001b[39mcount\u001b[39;49m\u001b[39m'\u001b[39;49m], \u001b[39m'\u001b[39;49m\u001b[39mestimated_income\u001b[39;49m\u001b[39m'\u001b[39;49m:\u001b[39m'\u001b[39;49m\u001b[39mmin\u001b[39;49m\u001b[39m'\u001b[39;49m, \u001b[39m'\u001b[39;49m\u001b[39mto_account\u001b[39;49m\u001b[39m'\u001b[39;49m: pd\u001b[39m.\u001b[39;49mSeries\u001b[39m.\u001b[39;49mmode})\n\u001b[1;32m      <a href='vscode-notebook-cell:/Users/sasha/Desktop/DATASCIENCE/2023/Mini-Project/DSMP-Grp24-/Sasha/cleaning_forIncomePrediction.ipynb#X53sZmlsZQ%3D%3D?line=4'>5</a>\u001b[0m \u001b[39mprint\u001b[39m(\u001b[39m'\u001b[39m\u001b[39m\\n\u001b[39;00m\u001b[39m head of customers between df:\u001b[39m\u001b[39m'\u001b[39m,df_customers\u001b[39m.\u001b[39mhead())\n\u001b[1;32m      <a href='vscode-notebook-cell:/Users/sasha/Desktop/DATASCIENCE/2023/Mini-Project/DSMP-Grp24-/Sasha/cleaning_forIncomePrediction.ipynb#X53sZmlsZQ%3D%3D?line=6'>7</a>\u001b[0m df_customers_expenditure \u001b[39m=\u001b[39m df_expenditure\u001b[39m.\u001b[39mgroupby(\u001b[39m'\u001b[39m\u001b[39mfrom_account\u001b[39m\u001b[39m'\u001b[39m)\u001b[39m.\u001b[39magg({\u001b[39m'\u001b[39m\u001b[39mmoney_amount_x\u001b[39m\u001b[39m'\u001b[39m:[\u001b[39m'\u001b[39m\u001b[39mmin\u001b[39m\u001b[39m'\u001b[39m,\u001b[39m'\u001b[39m\u001b[39mmax\u001b[39m\u001b[39m'\u001b[39m,\u001b[39m'\u001b[39m\u001b[39mmean\u001b[39m\u001b[39m'\u001b[39m,\u001b[39m'\u001b[39m\u001b[39msum\u001b[39m\u001b[39m'\u001b[39m,\u001b[39m'\u001b[39m\u001b[39mcount\u001b[39m\u001b[39m'\u001b[39m], \u001b[39m'\u001b[39m\u001b[39mestimated_income\u001b[39m\u001b[39m'\u001b[39m:\u001b[39m'\u001b[39m\u001b[39mmin\u001b[39m\u001b[39m'\u001b[39m, \u001b[39m'\u001b[39m\u001b[39mto_account\u001b[39m\u001b[39m'\u001b[39m: pd\u001b[39m.\u001b[39mSeries\u001b[39m.\u001b[39mmode})\n",
      "File \u001b[0;32m/Library/Frameworks/Python.framework/Versions/3.9/lib/python3.9/site-packages/pandas/core/groupby/generic.py:869\u001b[0m, in \u001b[0;36mDataFrameGroupBy.aggregate\u001b[0;34m(self, func, engine, engine_kwargs, *args, **kwargs)\u001b[0m\n\u001b[1;32m    866\u001b[0m func \u001b[39m=\u001b[39m maybe_mangle_lambdas(func)\n\u001b[1;32m    868\u001b[0m op \u001b[39m=\u001b[39m GroupByApply(\u001b[39mself\u001b[39m, func, args, kwargs)\n\u001b[0;32m--> 869\u001b[0m result \u001b[39m=\u001b[39m op\u001b[39m.\u001b[39;49magg()\n\u001b[1;32m    870\u001b[0m \u001b[39mif\u001b[39;00m \u001b[39mnot\u001b[39;00m is_dict_like(func) \u001b[39mand\u001b[39;00m result \u001b[39mis\u001b[39;00m \u001b[39mnot\u001b[39;00m \u001b[39mNone\u001b[39;00m:\n\u001b[1;32m    871\u001b[0m     \u001b[39mreturn\u001b[39;00m result\n",
      "File \u001b[0;32m/Library/Frameworks/Python.framework/Versions/3.9/lib/python3.9/site-packages/pandas/core/apply.py:168\u001b[0m, in \u001b[0;36mApply.agg\u001b[0;34m(self)\u001b[0m\n\u001b[1;32m    165\u001b[0m     \u001b[39mreturn\u001b[39;00m \u001b[39mself\u001b[39m\u001b[39m.\u001b[39mapply_str()\n\u001b[1;32m    167\u001b[0m \u001b[39mif\u001b[39;00m is_dict_like(arg):\n\u001b[0;32m--> 168\u001b[0m     \u001b[39mreturn\u001b[39;00m \u001b[39mself\u001b[39;49m\u001b[39m.\u001b[39;49magg_dict_like()\n\u001b[1;32m    169\u001b[0m \u001b[39melif\u001b[39;00m is_list_like(arg):\n\u001b[1;32m    170\u001b[0m     \u001b[39m# we require a list, but not a 'str'\u001b[39;00m\n\u001b[1;32m    171\u001b[0m     \u001b[39mreturn\u001b[39;00m \u001b[39mself\u001b[39m\u001b[39m.\u001b[39magg_list_like()\n",
      "File \u001b[0;32m/Library/Frameworks/Python.framework/Versions/3.9/lib/python3.9/site-packages/pandas/core/apply.py:473\u001b[0m, in \u001b[0;36mApply.agg_dict_like\u001b[0;34m(self)\u001b[0m\n\u001b[1;32m    470\u001b[0m     selected_obj \u001b[39m=\u001b[39m obj\u001b[39m.\u001b[39m_selected_obj\n\u001b[1;32m    471\u001b[0m     selection \u001b[39m=\u001b[39m obj\u001b[39m.\u001b[39m_selection\n\u001b[0;32m--> 473\u001b[0m arg \u001b[39m=\u001b[39m \u001b[39mself\u001b[39;49m\u001b[39m.\u001b[39;49mnormalize_dictlike_arg(\u001b[39m\"\u001b[39;49m\u001b[39magg\u001b[39;49m\u001b[39m\"\u001b[39;49m, selected_obj, arg)\n\u001b[1;32m    475\u001b[0m \u001b[39mif\u001b[39;00m selected_obj\u001b[39m.\u001b[39mndim \u001b[39m==\u001b[39m \u001b[39m1\u001b[39m:\n\u001b[1;32m    476\u001b[0m     \u001b[39m# key only used for output\u001b[39;00m\n\u001b[1;32m    477\u001b[0m     colg \u001b[39m=\u001b[39m obj\u001b[39m.\u001b[39m_gotitem(selection, ndim\u001b[39m=\u001b[39m\u001b[39m1\u001b[39m)\n",
      "File \u001b[0;32m/Library/Frameworks/Python.framework/Versions/3.9/lib/python3.9/site-packages/pandas/core/apply.py:591\u001b[0m, in \u001b[0;36mApply.normalize_dictlike_arg\u001b[0;34m(self, how, obj, func)\u001b[0m\n\u001b[1;32m    589\u001b[0m     \u001b[39mif\u001b[39;00m \u001b[39mlen\u001b[39m(cols) \u001b[39m>\u001b[39m \u001b[39m0\u001b[39m:\n\u001b[1;32m    590\u001b[0m         cols_sorted \u001b[39m=\u001b[39m \u001b[39mlist\u001b[39m(safe_sort(\u001b[39mlist\u001b[39m(cols)))\n\u001b[0;32m--> 591\u001b[0m         \u001b[39mraise\u001b[39;00m \u001b[39mKeyError\u001b[39;00m(\u001b[39mf\u001b[39m\u001b[39m\"\u001b[39m\u001b[39mColumn(s) \u001b[39m\u001b[39m{\u001b[39;00mcols_sorted\u001b[39m}\u001b[39;00m\u001b[39m do not exist\u001b[39m\u001b[39m\"\u001b[39m)\n\u001b[1;32m    593\u001b[0m is_aggregator \u001b[39m=\u001b[39m \u001b[39mlambda\u001b[39;00m x: \u001b[39misinstance\u001b[39m(x, (\u001b[39mlist\u001b[39m, \u001b[39mtuple\u001b[39m, \u001b[39mdict\u001b[39m))\n\u001b[1;32m    595\u001b[0m \u001b[39m# if we have a dict of any non-scalars\u001b[39;00m\n\u001b[1;32m    596\u001b[0m \u001b[39m# eg. {'A' : ['mean']}, normalize all to\u001b[39;00m\n\u001b[1;32m    597\u001b[0m \u001b[39m# be list-likes\u001b[39;00m\n\u001b[1;32m    598\u001b[0m \u001b[39m# Cannot use func.values() because arg may be a Series\u001b[39;00m\n",
      "\u001b[0;31mKeyError\u001b[0m: \"Column(s) ['estimated_income', 'money_amount_x'] do not exist\""
     ]
    }
   ],
   "source": [
    "#creating new dfs to summarise customers\n",
    "\n",
    "\n",
    "df_customers_between = df_between.groupby('from_account').agg({'money_amount_x':['min','max','mean','sum','count'], 'estimated_income':'min', 'to_account': pd.Series.mode})\n",
    "print('\\n head of customers between df:',df_customers.head())\n",
    "\n",
    "df_customers_expenditure = df_expenditure.groupby('from_account').agg({'money_amount_x':['min','max','mean','sum','count'], 'estimated_income':'min', 'to_account': pd.Series.mode})\n",
    "print('\\n head of customers expenditure df:',df_customers.head())\n"
   ]
  },
  {
   "cell_type": "code",
   "execution_count": null,
   "metadata": {},
   "outputs": [],
   "source": [
    "\n",
    "#df.to_csv('12FebDSMP_df.csv')\n",
    "#df_between.to_csv('16FebDSMP_df_between.csv')\n",
    "#df_expenditure.to_csv('16FebDSMP_df_expenditure.csv')\n",
    "#df_customers_between.to_csv('16FebDSMP_df_customers_between.csv')\n",
    "#df_customers_expenditure.to_csv('16FebDSMP_df_customers_expenditure.csv')"
   ]
  }
 ],
 "metadata": {
  "kernelspec": {
   "display_name": "Python 3",
   "language": "python",
   "name": "python3"
  },
  "language_info": {
   "codemirror_mode": {
    "name": "ipython",
    "version": 3
   },
   "file_extension": ".py",
   "mimetype": "text/x-python",
   "name": "python",
   "nbconvert_exporter": "python",
   "pygments_lexer": "ipython3",
   "version": "3.9.7"
  },
  "orig_nbformat": 4,
  "vscode": {
   "interpreter": {
    "hash": "aee8b7b246df8f9039afb4144a1f6fd8d2ca17a180786b69acc140d282b71a49"
   }
  }
 },
 "nbformat": 4,
 "nbformat_minor": 2
}
