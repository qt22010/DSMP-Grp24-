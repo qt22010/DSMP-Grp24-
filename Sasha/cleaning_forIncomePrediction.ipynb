{
 "cells": [
  {
   "attachments": {},
   "cell_type": "markdown",
   "metadata": {},
   "source": [
    "# Data cleaning for income prediction "
   ]
  },
  {
   "cell_type": "code",
   "execution_count": 2,
   "metadata": {},
   "outputs": [],
   "source": [
    "#importing packages \n",
    "import pandas as pd\n",
    "import numpy as np\n",
    "import matplotlib.pyplot as plt\n",
    "import seaborn as sns"
   ]
  },
  {
   "attachments": {},
   "cell_type": "markdown",
   "metadata": {},
   "source": [
    "### Loading in the data"
   ]
  },
  {
   "cell_type": "code",
   "execution_count": 3,
   "metadata": {},
   "outputs": [
    {
     "name": "stdout",
     "output_type": "stream",
     "text": [
      "(12004116, 4)\n"
     ]
    }
   ],
   "source": [
    "#loading dataset \n",
    "df=pd.read_csv(\"/Users/sasha/Desktop/DATASCIENCE/2023/Mini-Project/data.nosync/fake_transactional_data.csv\")\n",
    "#renaming the rows \n",
    "df=df.rename(columns={'from_totally_fake_account':'from_account', 'monopoly_money_amount':'money_amount', 'to_randomly_generated_account':'to_account', 'not_happened_yet_date':'date'})\n",
    "print(np.shape(df))"
   ]
  },
  {
   "attachments": {},
   "cell_type": "markdown",
   "metadata": {},
   "source": [
    "All from_account values have a trailing '.0', let's remove this so it looks better:"
   ]
  },
  {
   "cell_type": "code",
   "execution_count": 4,
   "metadata": {},
   "outputs": [],
   "source": [
    "#apply a function to strip '.0' from the accounts if not NaN. To strip we must also change to a string\n",
    "df['from_account'] = df['from_account'].apply(lambda x: str(x).strip('.0') if str(x) != 'nan' else x)\n"
   ]
  },
  {
   "attachments": {},
   "cell_type": "markdown",
   "metadata": {},
   "source": [
    "### A few modifications"
   ]
  },
  {
   "cell_type": "code",
   "execution_count": 5,
   "metadata": {},
   "outputs": [],
   "source": [
    "#converting date to date format\n",
    "df[\"date\"] = pd.to_datetime(df[\"date\"], dayfirst=True)"
   ]
  },
  {
   "attachments": {},
   "cell_type": "markdown",
   "metadata": {},
   "source": [
    "Adding a transaction ID column"
   ]
  },
  {
   "cell_type": "code",
   "execution_count": 6,
   "metadata": {},
   "outputs": [],
   "source": [
    "#Transaction ID's for now are just the indexes, this provides each transaction with a unique ID.\n",
    "df['transaction_ID'] = df.index"
   ]
  },
  {
   "attachments": {},
   "cell_type": "markdown",
   "metadata": {},
   "source": [
    "Rounding the money values"
   ]
  },
  {
   "cell_type": "code",
   "execution_count": 7,
   "metadata": {},
   "outputs": [],
   "source": [
    "df['money_amount'] = df['money_amount'].round(2)"
   ]
  },
  {
   "cell_type": "markdown",
   "metadata": {},
   "source": [
    "### Merging df with business categories df\n",
    "\n",
    "This allows us to categorise each transactions by what type of spending it is"
   ]
  },
  {
   "cell_type": "code",
   "execution_count": 8,
   "metadata": {},
   "outputs": [],
   "source": [
    "normal_inferior = pd.read_csv('/Users/sasha/Desktop/DATASCIENCE/2023/Mini-Project/data.nosync/normal_inferior.csv', encoding='iso-8859-1') #Loading in the df that categorises businesses\n",
    "normal_inferior = normal_inferior.drop(['Unnamed: 0'], axis =1)\n",
    "normal_inferior=normal_inferior.rename(columns={'To account':'to_account', 'Type of spending':'type_'})"
   ]
  },
  {
   "cell_type": "code",
   "execution_count": 9,
   "metadata": {},
   "outputs": [
    {
     "data": {
      "text/html": [
       "<div>\n",
       "<style scoped>\n",
       "    .dataframe tbody tr th:only-of-type {\n",
       "        vertical-align: middle;\n",
       "    }\n",
       "\n",
       "    .dataframe tbody tr th {\n",
       "        vertical-align: top;\n",
       "    }\n",
       "\n",
       "    .dataframe thead th {\n",
       "        text-align: right;\n",
       "    }\n",
       "</style>\n",
       "<table border=\"1\" class=\"dataframe\">\n",
       "  <thead>\n",
       "    <tr style=\"text-align: right;\">\n",
       "      <th></th>\n",
       "      <th>from_account</th>\n",
       "      <th>money_amount</th>\n",
       "      <th>to_account</th>\n",
       "      <th>date</th>\n",
       "      <th>transaction_ID</th>\n",
       "      <th>Categorised</th>\n",
       "      <th>type_</th>\n",
       "    </tr>\n",
       "  </thead>\n",
       "  <tbody>\n",
       "    <tr>\n",
       "      <th>0</th>\n",
       "      <td>NaN</td>\n",
       "      <td>4.00</td>\n",
       "      <td>CINEMA</td>\n",
       "      <td>2025-01-01</td>\n",
       "      <td>0</td>\n",
       "      <td>Cinema</td>\n",
       "      <td>Normal</td>\n",
       "    </tr>\n",
       "    <tr>\n",
       "      <th>1</th>\n",
       "      <td>40544</td>\n",
       "      <td>4.60</td>\n",
       "      <td>A_LOCAL_COFFEE_SHOP</td>\n",
       "      <td>2025-01-01</td>\n",
       "      <td>1</td>\n",
       "      <td>Coffee shop</td>\n",
       "      <td>Normal</td>\n",
       "    </tr>\n",
       "    <tr>\n",
       "      <th>2</th>\n",
       "      <td>88339</td>\n",
       "      <td>2.40</td>\n",
       "      <td>40544</td>\n",
       "      <td>2025-01-01</td>\n",
       "      <td>2</td>\n",
       "      <td>betweeen</td>\n",
       "      <td>betweeen</td>\n",
       "    </tr>\n",
       "    <tr>\n",
       "      <th>3</th>\n",
       "      <td>85149</td>\n",
       "      <td>4.65</td>\n",
       "      <td>A_LOCAL_COFFEE_SHOP</td>\n",
       "      <td>2025-01-01</td>\n",
       "      <td>3</td>\n",
       "      <td>Coffee shop</td>\n",
       "      <td>Normal</td>\n",
       "    </tr>\n",
       "    <tr>\n",
       "      <th>4</th>\n",
       "      <td>18555</td>\n",
       "      <td>2.40</td>\n",
       "      <td>85149</td>\n",
       "      <td>2025-01-01</td>\n",
       "      <td>4</td>\n",
       "      <td>betweeen</td>\n",
       "      <td>betweeen</td>\n",
       "    </tr>\n",
       "  </tbody>\n",
       "</table>\n",
       "</div>"
      ],
      "text/plain": [
       "  from_account  money_amount           to_account       date  transaction_ID  \\\n",
       "0          NaN          4.00               CINEMA 2025-01-01               0   \n",
       "1        40544          4.60  A_LOCAL_COFFEE_SHOP 2025-01-01               1   \n",
       "2        88339          2.40                40544 2025-01-01               2   \n",
       "3        85149          4.65  A_LOCAL_COFFEE_SHOP 2025-01-01               3   \n",
       "4        18555          2.40                85149 2025-01-01               4   \n",
       "\n",
       "   Categorised     type_  \n",
       "0       Cinema   Normal   \n",
       "1  Coffee shop   Normal   \n",
       "2     betweeen  betweeen  \n",
       "3  Coffee shop   Normal   \n",
       "4     betweeen  betweeen  "
      ]
     },
     "execution_count": 9,
     "metadata": {},
     "output_type": "execute_result"
    }
   ],
   "source": [
    "df = pd.merge(df, normal_inferior, how='outer').sort_values(by=['transaction_ID']).reset_index() #Merging the df's\n",
    "df = df.drop('index', axis=1)\n",
    "df['type_'] = df['type_'].fillna('betweeen') #Many of the payments are not to businesses, so here we are making up for that\n",
    "df['Categorised'] = df['Categorised'].fillna('betweeen') #Many of the payments are not to businesses, so here we are making up for that\n",
    "df.loc[(pd.isna(df.to_account)), 'type_'] = np.nan #Where we have no info about where the money is going we cannot categorise it\n",
    "df.loc[(pd.isna(df.to_account)), 'Categorised'] = np.nan #Where we have no info about where the money is going we cannot categorise it\n",
    "df.head()\n"
   ]
  },
  {
   "cell_type": "code",
   "execution_count": 10,
   "metadata": {},
   "outputs": [],
   "source": [
    "df['transaction_ID'] = df['transaction_ID'].astype(int)\n"
   ]
  },
  {
   "attachments": {},
   "cell_type": "markdown",
   "metadata": {},
   "source": [
    "### Describing the data"
   ]
  },
  {
   "cell_type": "code",
   "execution_count": 11,
   "metadata": {},
   "outputs": [
    {
     "name": "stdout",
     "output_type": "stream",
     "text": [
      "\n",
      " shape: (12004116, 7)\n",
      "\n",
      " head: \n",
      "   from_account  money_amount           to_account       date  transaction_ID  \\\n",
      "0          NaN          4.00               CINEMA 2025-01-01               0   \n",
      "1        40544          4.60  A_LOCAL_COFFEE_SHOP 2025-01-01               1   \n",
      "2        88339          2.40                40544 2025-01-01               2   \n",
      "3        85149          4.65  A_LOCAL_COFFEE_SHOP 2025-01-01               3   \n",
      "4        18555          2.40                85149 2025-01-01               4   \n",
      "\n",
      "   Categorised     type_  \n",
      "0       Cinema   Normal   \n",
      "1  Coffee shop   Normal   \n",
      "2     betweeen  betweeen  \n",
      "3  Coffee shop   Normal   \n",
      "4     betweeen  betweeen  \n",
      "\n",
      " info:\n",
      "<class 'pandas.core.frame.DataFrame'>\n",
      "RangeIndex: 12004116 entries, 0 to 12004115\n",
      "Data columns (total 7 columns):\n",
      " #   Column          Dtype         \n",
      "---  ------          -----         \n",
      " 0   from_account    object        \n",
      " 1   money_amount    float64       \n",
      " 2   to_account      object        \n",
      " 3   date            datetime64[ns]\n",
      " 4   transaction_ID  int64         \n",
      " 5   Categorised     object        \n",
      " 6   type_           object        \n",
      "dtypes: datetime64[ns](1), float64(1), int64(1), object(4)\n",
      "memory usage: 641.1+ MB\n",
      "\n",
      " Date range: 2025-01-01 00:00:00 2025-10-02 00:00:00\n"
     ]
    }
   ],
   "source": [
    "#check dimensions of the data\n",
    "print('\\n shape:',df.shape)\n",
    "\n",
    "print('\\n head: \\n', df.head())\n",
    "print('\\n info:')\n",
    "df.info()\n",
    "\n",
    "# Finding out the range of dates\n",
    "print('\\n Date range:', df[\"date\"].min(), df[\"date\"].max())"
   ]
  },
  {
   "attachments": {},
   "cell_type": "markdown",
   "metadata": {},
   "source": [
    "#### Map of missing Values"
   ]
  },
  {
   "cell_type": "code",
   "execution_count": 12,
   "metadata": {},
   "outputs": [
    {
     "data": {
      "text/plain": [
       "\"plt.figure(figsize=(10, 6))\\nsns.heatmap(df.isnull(), yticklabels=False, cmap='viridis', cbar=False)\""
      ]
     },
     "execution_count": 12,
     "metadata": {},
     "output_type": "execute_result"
    }
   ],
   "source": [
    "#Visualizing the missing values\n",
    "\"\"\"plt.figure(figsize=(10, 6))\n",
    "sns.heatmap(df.isnull(), yticklabels=False, cmap='viridis', cbar=False)\"\"\""
   ]
  },
  {
   "attachments": {},
   "cell_type": "markdown",
   "metadata": {},
   "source": [
    "Here I am just checking for any obvious patterns in the NaN values, such as transactions where each feature is NaN"
   ]
  },
  {
   "attachments": {},
   "cell_type": "markdown",
   "metadata": {},
   "source": [
    "#### This function returns the NA status of each column"
   ]
  },
  {
   "cell_type": "code",
   "execution_count": 13,
   "metadata": {},
   "outputs": [],
   "source": [
    "def missing_cols(df):\n",
    "    '''prints out columns with its amount of missing values'''\n",
    "    total = 0\n",
    "    for col in df.columns:\n",
    "        missing_vals = df[col].isnull().sum()\n",
    "        total += missing_vals\n",
    "        if missing_vals != 0:\n",
    "            print(f\"{col} => {df[col].isnull().sum()}\")\n",
    "        if missing_vals == 0:\n",
    "             print(f\"{col} => No missing values\")\n",
    "        pct = df[col].isna().mean() * 100\n",
    "        if (pct != 0):\n",
    "            print('{} => {}%'.format(col, round(pct, 2)))\n",
    "    \n",
    "    if total == 0:\n",
    "        print(\"no missing values left\")"
   ]
  },
  {
   "cell_type": "code",
   "execution_count": 14,
   "metadata": {},
   "outputs": [
    {
     "name": "stdout",
     "output_type": "stream",
     "text": [
      "\n",
      " How many missing values each columns has and what percentage this is:\n",
      "from_account => 139974\n",
      "from_account => 1.17%\n",
      "money_amount => 140256\n",
      "money_amount => 1.17%\n",
      "to_account => 140100\n",
      "to_account => 1.17%\n",
      "date => 1\n",
      "date => 0.0%\n",
      "transaction_ID => No missing values\n",
      "Categorised => 140100\n",
      "Categorised => 1.17%\n",
      "type_ => 140100\n",
      "type_ => 1.17%\n"
     ]
    }
   ],
   "source": [
    "print(\"\\n How many missing values each column has and what percentage this is:\")    \n",
    "#Using the function above to see our missing values  \n",
    "missing_cols(df)       \n"
   ]
  },
  {
   "attachments": {},
   "cell_type": "markdown",
   "metadata": {},
   "source": [
    "While 1% does not seem like a lot, this is hundreds of thousands of rows, so we shall not by so quick to discard them. \n",
    "We seem to have one interesting case where there is one missing date. "
   ]
  },
  {
   "cell_type": "code",
   "execution_count": 15,
   "metadata": {},
   "outputs": [
    {
     "data": {
      "text/plain": [
       "array([12004115])"
      ]
     },
     "execution_count": 15,
     "metadata": {},
     "output_type": "execute_result"
    }
   ],
   "source": [
    "np.where(df['date'].isna())[0]"
   ]
  },
  {
   "cell_type": "code",
   "execution_count": 16,
   "metadata": {},
   "outputs": [
    {
     "data": {
      "text/plain": [
       "from_account          100694\n",
       "money_amount            2.25\n",
       "to_account          GOURMET_\n",
       "date                     NaT\n",
       "transaction_ID      12004115\n",
       "Categorised       Restaurant\n",
       "type_                Normal \n",
       "Name: 12004115, dtype: object"
      ]
     },
     "execution_count": 16,
     "metadata": {},
     "output_type": "execute_result"
    }
   ],
   "source": [
    "df.loc[12004115]"
   ]
  },
  {
   "cell_type": "code",
   "execution_count": 17,
   "metadata": {},
   "outputs": [],
   "source": [
    "#Removing this row\n",
    "df = df.drop(12004115)"
   ]
  },
  {
   "attachments": {},
   "cell_type": "markdown",
   "metadata": {},
   "source": [
    "### Splitting up the data into between account payments and to business payments"
   ]
  },
  {
   "cell_type": "code",
   "execution_count": 18,
   "metadata": {},
   "outputs": [],
   "source": [
    "df1 = df.copy() #Making a copy of the df\n",
    "df1['to_account'] = pd.to_numeric(df['to_account'], errors = 'coerce') # df1 is now df but where to account is non numeric NaN will show\n",
    "df_between = df1[pd.notnull(df1['to_account'])] #Removing all the NaN rows, such that we are only left with accoun to account transaction\n",
    "numeric_to_accounts = df_between['to_account'].astype(int).values #creating a list with all the to accounts as an integer\n",
    "numeric_to_accounts = [str(x) for x in numeric_to_accounts] #Changing each element in numeric_to_accounts into a string\n",
    "df_expenditure = df[~df['to_account'].isin(numeric_to_accounts)] #Creating df_expenditure by excluding all account to account transactions from our original df"
   ]
  },
  {
   "cell_type": "code",
   "execution_count": 19,
   "metadata": {},
   "outputs": [
    {
     "name": "stdout",
     "output_type": "stream",
     "text": [
      "Between accounts head:    from_account  money_amount  to_account       date  transaction_ID  \\\n",
      "2         88339          2.40     40544.0 2025-01-01               2   \n",
      "4         18555          2.40     85149.0 2025-01-01               4   \n",
      "6         80792          1.95     18555.0 2025-01-01               6   \n",
      "19        39262          4.50     30264.0 2025-01-01              19   \n",
      "51        53483          5.50     75744.0 2025-01-01              51   \n",
      "\n",
      "   Categorised     type_  \n",
      "2     betweeen  betweeen  \n",
      "4     betweeen  betweeen  \n",
      "6     betweeen  betweeen  \n",
      "19    betweeen  betweeen  \n",
      "51    betweeen  betweeen  \n",
      "\n",
      " Between accounts description        money_amount    to_account  transaction_ID\n",
      "count  2.950750e+06  2.985833e+06    2.985833e+06\n",
      "mean   3.186091e+01  5.115173e+04    5.990754e+06\n",
      "std    1.661347e+02  2.884507e+04    3.456576e+06\n",
      "min    1.450000e+00  1.000000e+03    2.000000e+00\n",
      "25%    5.000000e+00  2.583800e+04    2.976532e+06\n",
      "50%    6.000000e+00  5.129000e+04    5.989533e+06\n",
      "75%    6.500000e+00  7.588100e+04    9.003838e+06\n",
      "max    1.995000e+03  1.009880e+05    1.200409e+07\n"
     ]
    }
   ],
   "source": [
    "#Printing descriptions of these 2 new df's\n",
    "print('Between accounts head:', df_between.head())\n",
    "print('\\n Between accounts description', df_between.describe())\n"
   ]
  },
  {
   "cell_type": "code",
   "execution_count": 20,
   "metadata": {},
   "outputs": [
    {
     "name": "stdout",
     "output_type": "stream",
     "text": [
      "\n",
      " Expenditure head:   from_account  money_amount                  to_account       date  \\\n",
      "0          NaN          4.00                      CINEMA 2025-01-01   \n",
      "1        40544          4.60         A_LOCAL_COFFEE_SHOP 2025-01-01   \n",
      "3        85149          4.65         A_LOCAL_COFFEE_SHOP 2025-01-01   \n",
      "5        18555          4.10         HIPSTER_COFFEE_SHOP 2025-01-01   \n",
      "7        18555          4.45  TOTALLY_A_REAL_COFFEE_SHOP 2025-01-01   \n",
      "\n",
      "   transaction_ID  Categorised    type_  \n",
      "0               0       Cinema  Normal   \n",
      "1               1  Coffee shop  Normal   \n",
      "3               3  Coffee shop  Normal   \n",
      "5               5  Coffee shop  Normal   \n",
      "7               7  Coffee shop  Normal   \n",
      "\n",
      " Expenditure description        money_amount  transaction_ID\n",
      "count  8.913109e+06    9.018282e+06\n",
      "mean   1.366975e+01    6.005799e+06\n",
      "std    2.449927e+01    3.468162e+06\n",
      "min    1.450000e+00    0.000000e+00\n",
      "25%    2.450000e+00    3.014356e+06\n",
      "50%    7.000000e+00    6.008295e+06\n",
      "75%    1.350000e+01    9.002730e+06\n",
      "max    1.990000e+03    1.200411e+07\n"
     ]
    }
   ],
   "source": [
    "print('\\n Expenditure head:', df_expenditure.head())\n",
    "print('\\n Expenditure description', df_expenditure.describe())\n"
   ]
  },
  {
   "attachments": {},
   "cell_type": "markdown",
   "metadata": {},
   "source": [
    "### Filling in missing money amount"
   ]
  },
  {
   "cell_type": "code",
   "execution_count": 21,
   "metadata": {},
   "outputs": [],
   "source": [
    "#This function takes in a df and outputs a list of all the means for each row by grouping by to and from account\n",
    "def fill(df):\n",
    "    s = df.groupby(['from_account', \"to_account\"])['money_amount'].mean()\n",
    "    df2 = df[['from_account', 'to_account']].merge(s, on=['from_account', 'to_account'], how='left')\n",
    "    df2 = df2.set_index(df.index)\n",
    "    return(df2['money_amount'])"
   ]
  },
  {
   "attachments": {},
   "cell_type": "markdown",
   "metadata": {},
   "source": [
    "For account to account transactions, we look at each NaN money_amount and ask how much does this account normally send to this other account, by getting the mean of past transactions. If there are no past transactions we remove the row entirely"
   ]
  },
  {
   "cell_type": "code",
   "execution_count": 22,
   "metadata": {},
   "outputs": [
    {
     "name": "stderr",
     "output_type": "stream",
     "text": [
      "/var/folders/py/d721tqvn39xbrq83g84j15pm0000gn/T/ipykernel_21774/904791043.py:1: SettingWithCopyWarning: \n",
      "A value is trying to be set on a copy of a slice from a DataFrame\n",
      "\n",
      "See the caveats in the documentation: https://pandas.pydata.org/pandas-docs/stable/user_guide/indexing.html#returning-a-view-versus-a-copy\n",
      "  df_between['money_amount'].fillna(fill(df_between), inplace=True) #Using the function to replace all NaN's in the df_between df with the average of past transactions from one specific account to another specific account.\n"
     ]
    },
    {
     "name": "stdout",
     "output_type": "stream",
     "text": [
      "from_account => 34429\n",
      "from_account => 1.15%\n",
      "money_amount => No missing values\n",
      "to_account => No missing values\n",
      "date => No missing values\n",
      "transaction_ID => No missing values\n",
      "Categorised => No missing values\n",
      "type_ => No missing values\n"
     ]
    }
   ],
   "source": [
    "df_between['money_amount'].fillna(fill(df_between), inplace=True) #Using the function to replace all NaN's in the df_between df with the average of past transactions from one specific account to another specific account. \n",
    "df_between=df_between.dropna(axis=0, subset=\"money_amount\") #All remaining NaN's are dropped\n",
    "missing_cols(df_between)"
   ]
  },
  {
   "attachments": {},
   "cell_type": "markdown",
   "metadata": {},
   "source": [
    "Removing .0 from the end of 'to_account' column values"
   ]
  },
  {
   "cell_type": "code",
   "execution_count": 23,
   "metadata": {},
   "outputs": [],
   "source": [
    "#apply a function to strip '.0' from the accounts if not NaN. To strip we must also change to a string\n",
    "df_between['to_account'] = df_between['to_account'].apply(lambda x: str(x).strip('.0') if str(x) != 'nan' else x)"
   ]
  },
  {
   "attachments": {},
   "cell_type": "markdown",
   "metadata": {},
   "source": [
    "For account to business transactions, we look at each NaN money_amount and ask how much does this account normally spend at this business, by getting the mean of past transactions. If there are no past transactions, then we ask how do other accounts normally spend here? Again by taking the mean. For any other remaining NaN's, we remove the row entirely."
   ]
  },
  {
   "cell_type": "code",
   "execution_count": 24,
   "metadata": {},
   "outputs": [
    {
     "name": "stderr",
     "output_type": "stream",
     "text": [
      "/var/folders/py/d721tqvn39xbrq83g84j15pm0000gn/T/ipykernel_21774/1801862313.py:1: SettingWithCopyWarning: \n",
      "A value is trying to be set on a copy of a slice from a DataFrame\n",
      "\n",
      "See the caveats in the documentation: https://pandas.pydata.org/pandas-docs/stable/user_guide/indexing.html#returning-a-view-versus-a-copy\n",
      "  df_expenditure['money_amount'].fillna(fill(df_expenditure), inplace=True) #Using the function to replace all NaN's in the df_expenditure df with the average of past transactions from one specific account to the specific business.\n",
      "/var/folders/py/d721tqvn39xbrq83g84j15pm0000gn/T/ipykernel_21774/1801862313.py:3: SettingWithCopyWarning: \n",
      "A value is trying to be set on a copy of a slice from a DataFrame\n",
      "\n",
      "See the caveats in the documentation: https://pandas.pydata.org/pandas-docs/stable/user_guide/indexing.html#returning-a-view-versus-a-copy\n",
      "  df_expenditure['money_amount'].fillna(df_expenditure['to_account'].map(s), inplace=True) #Any remaining NaN's are filled in using s\n"
     ]
    },
    {
     "name": "stdout",
     "output_type": "stream",
     "text": [
      "from_account => 105136\n",
      "from_account => 1.17%\n",
      "money_amount => No missing values\n",
      "to_account => 138497\n",
      "to_account => 1.54%\n",
      "date => No missing values\n",
      "transaction_ID => No missing values\n",
      "Categorised => 138497\n",
      "Categorised => 1.54%\n",
      "type_ => 138497\n",
      "type_ => 1.54%\n"
     ]
    }
   ],
   "source": [
    "df_expenditure['money_amount'].fillna(fill(df_expenditure), inplace=True) #Using the function to replace all NaN's in the df_expenditure df with the average of past transactions from one specific account to the specific business. \n",
    "s = df_expenditure.groupby('to_account')['money_amount'].mean() #Creating a df of the average spend at each business\n",
    "df_expenditure['money_amount'].fillna(df_expenditure['to_account'].map(s), inplace=True) #Any remaining NaN's are filled in using s\n",
    "df_expenditure=df_expenditure.dropna(axis=0, subset=\"money_amount\") #All remaining NaN's are dropped\n",
    "missing_cols(df_expenditure)\n"
   ]
  },
  {
   "cell_type": "code",
   "execution_count": 25,
   "metadata": {},
   "outputs": [
    {
     "name": "stdout",
     "output_type": "stream",
     "text": [
      "I have deleted 2074 rows\n"
     ]
    }
   ],
   "source": [
    "print('I have deleted', (df.shape[0] - (df_between.shape[0] + df_expenditure.shape[0])), 'rows')"
   ]
  },
  {
   "attachments": {},
   "cell_type": "markdown",
   "metadata": {},
   "source": [
    "### We can now bring the two df's back together"
   ]
  },
  {
   "cell_type": "code",
   "execution_count": 26,
   "metadata": {},
   "outputs": [
    {
     "data": {
      "text/html": [
       "<div>\n",
       "<style scoped>\n",
       "    .dataframe tbody tr th:only-of-type {\n",
       "        vertical-align: middle;\n",
       "    }\n",
       "\n",
       "    .dataframe tbody tr th {\n",
       "        vertical-align: top;\n",
       "    }\n",
       "\n",
       "    .dataframe thead th {\n",
       "        text-align: right;\n",
       "    }\n",
       "</style>\n",
       "<table border=\"1\" class=\"dataframe\">\n",
       "  <thead>\n",
       "    <tr style=\"text-align: right;\">\n",
       "      <th></th>\n",
       "      <th>from_account</th>\n",
       "      <th>money_amount</th>\n",
       "      <th>to_account</th>\n",
       "      <th>date</th>\n",
       "      <th>transaction_ID</th>\n",
       "      <th>Categorised</th>\n",
       "      <th>type_</th>\n",
       "    </tr>\n",
       "  </thead>\n",
       "  <tbody>\n",
       "    <tr>\n",
       "      <th>0</th>\n",
       "      <td>NaN</td>\n",
       "      <td>4.00</td>\n",
       "      <td>CINEMA</td>\n",
       "      <td>2025-01-01</td>\n",
       "      <td>0</td>\n",
       "      <td>Cinema</td>\n",
       "      <td>Normal</td>\n",
       "    </tr>\n",
       "    <tr>\n",
       "      <th>1</th>\n",
       "      <td>40544</td>\n",
       "      <td>4.60</td>\n",
       "      <td>A_LOCAL_COFFEE_SHOP</td>\n",
       "      <td>2025-01-01</td>\n",
       "      <td>1</td>\n",
       "      <td>Coffee shop</td>\n",
       "      <td>Normal</td>\n",
       "    </tr>\n",
       "    <tr>\n",
       "      <th>2</th>\n",
       "      <td>88339</td>\n",
       "      <td>2.40</td>\n",
       "      <td>40544</td>\n",
       "      <td>2025-01-01</td>\n",
       "      <td>2</td>\n",
       "      <td>betweeen</td>\n",
       "      <td>betweeen</td>\n",
       "    </tr>\n",
       "    <tr>\n",
       "      <th>3</th>\n",
       "      <td>85149</td>\n",
       "      <td>4.65</td>\n",
       "      <td>A_LOCAL_COFFEE_SHOP</td>\n",
       "      <td>2025-01-01</td>\n",
       "      <td>3</td>\n",
       "      <td>Coffee shop</td>\n",
       "      <td>Normal</td>\n",
       "    </tr>\n",
       "    <tr>\n",
       "      <th>4</th>\n",
       "      <td>18555</td>\n",
       "      <td>2.40</td>\n",
       "      <td>85149</td>\n",
       "      <td>2025-01-01</td>\n",
       "      <td>4</td>\n",
       "      <td>betweeen</td>\n",
       "      <td>betweeen</td>\n",
       "    </tr>\n",
       "  </tbody>\n",
       "</table>\n",
       "</div>"
      ],
      "text/plain": [
       "  from_account  money_amount           to_account       date  transaction_ID  \\\n",
       "0          NaN          4.00               CINEMA 2025-01-01               0   \n",
       "1        40544          4.60  A_LOCAL_COFFEE_SHOP 2025-01-01               1   \n",
       "2        88339          2.40                40544 2025-01-01               2   \n",
       "3        85149          4.65  A_LOCAL_COFFEE_SHOP 2025-01-01               3   \n",
       "4        18555          2.40                85149 2025-01-01               4   \n",
       "\n",
       "   Categorised     type_  \n",
       "0       Cinema   Normal   \n",
       "1  Coffee shop   Normal   \n",
       "2     betweeen  betweeen  \n",
       "3  Coffee shop   Normal   \n",
       "4     betweeen  betweeen  "
      ]
     },
     "execution_count": 26,
     "metadata": {},
     "output_type": "execute_result"
    }
   ],
   "source": [
    "df = pd.concat([df_expenditure, df_between], sort=False).sort_index() #Concatinating the two df's and the sorting by index so that we preserve the original order\n",
    "df.head()"
   ]
  },
  {
   "cell_type": "code",
   "execution_count": 27,
   "metadata": {},
   "outputs": [
    {
     "name": "stdout",
     "output_type": "stream",
     "text": [
      "from_account => 139565\n",
      "from_account => 1.16%\n",
      "money_amount => No missing values\n",
      "to_account => 138497\n",
      "to_account => 1.15%\n",
      "date => No missing values\n",
      "transaction_ID => No missing values\n",
      "Categorised => 138497\n",
      "Categorised => 1.15%\n",
      "type_ => 138497\n",
      "type_ => 1.15%\n"
     ]
    }
   ],
   "source": [
    "missing_cols(df)"
   ]
  },
  {
   "attachments": {},
   "cell_type": "markdown",
   "metadata": {},
   "source": [
    "We have successfully now got a df with no missing money_amount"
   ]
  },
  {
   "attachments": {},
   "cell_type": "markdown",
   "metadata": {},
   "source": [
    "As this task is to predict income let's begin narrowing our focus on customers. To do this we build a new df for all of our customers"
   ]
  },
  {
   "attachments": {},
   "cell_type": "markdown",
   "metadata": {},
   "source": [
    "### New customer df "
   ]
  },
  {
   "cell_type": "code",
   "execution_count": 28,
   "metadata": {},
   "outputs": [
    {
     "data": {
      "text/html": [
       "<div>\n",
       "<style scoped>\n",
       "    .dataframe tbody tr th:only-of-type {\n",
       "        vertical-align: middle;\n",
       "    }\n",
       "\n",
       "    .dataframe tbody tr th {\n",
       "        vertical-align: top;\n",
       "    }\n",
       "\n",
       "    .dataframe thead th {\n",
       "        text-align: right;\n",
       "    }\n",
       "</style>\n",
       "<table border=\"1\" class=\"dataframe\">\n",
       "  <thead>\n",
       "    <tr style=\"text-align: right;\">\n",
       "      <th></th>\n",
       "      <th>from_account</th>\n",
       "      <th>money_amount</th>\n",
       "      <th>to_account</th>\n",
       "      <th>date</th>\n",
       "      <th>transaction_ID</th>\n",
       "      <th>Categorised</th>\n",
       "      <th>type_</th>\n",
       "    </tr>\n",
       "  </thead>\n",
       "  <tbody>\n",
       "    <tr>\n",
       "      <th>0</th>\n",
       "      <td>NaN</td>\n",
       "      <td>4.00</td>\n",
       "      <td>CINEMA</td>\n",
       "      <td>2025-01-01</td>\n",
       "      <td>0</td>\n",
       "      <td>Cinema</td>\n",
       "      <td>Normal</td>\n",
       "    </tr>\n",
       "    <tr>\n",
       "      <th>1</th>\n",
       "      <td>40544</td>\n",
       "      <td>4.60</td>\n",
       "      <td>A_LOCAL_COFFEE_SHOP</td>\n",
       "      <td>2025-01-01</td>\n",
       "      <td>1</td>\n",
       "      <td>Coffee shop</td>\n",
       "      <td>Normal</td>\n",
       "    </tr>\n",
       "    <tr>\n",
       "      <th>2</th>\n",
       "      <td>88339</td>\n",
       "      <td>2.40</td>\n",
       "      <td>40544</td>\n",
       "      <td>2025-01-01</td>\n",
       "      <td>2</td>\n",
       "      <td>betweeen</td>\n",
       "      <td>betweeen</td>\n",
       "    </tr>\n",
       "    <tr>\n",
       "      <th>3</th>\n",
       "      <td>85149</td>\n",
       "      <td>4.65</td>\n",
       "      <td>A_LOCAL_COFFEE_SHOP</td>\n",
       "      <td>2025-01-01</td>\n",
       "      <td>3</td>\n",
       "      <td>Coffee shop</td>\n",
       "      <td>Normal</td>\n",
       "    </tr>\n",
       "    <tr>\n",
       "      <th>4</th>\n",
       "      <td>18555</td>\n",
       "      <td>2.40</td>\n",
       "      <td>85149</td>\n",
       "      <td>2025-01-01</td>\n",
       "      <td>4</td>\n",
       "      <td>betweeen</td>\n",
       "      <td>betweeen</td>\n",
       "    </tr>\n",
       "  </tbody>\n",
       "</table>\n",
       "</div>"
      ],
      "text/plain": [
       "  from_account  money_amount           to_account       date  transaction_ID  \\\n",
       "0          NaN          4.00               CINEMA 2025-01-01               0   \n",
       "1        40544          4.60  A_LOCAL_COFFEE_SHOP 2025-01-01               1   \n",
       "2        88339          2.40                40544 2025-01-01               2   \n",
       "3        85149          4.65  A_LOCAL_COFFEE_SHOP 2025-01-01               3   \n",
       "4        18555          2.40                85149 2025-01-01               4   \n",
       "\n",
       "   Categorised     type_  \n",
       "0       Cinema   Normal   \n",
       "1  Coffee shop   Normal   \n",
       "2     betweeen  betweeen  \n",
       "3  Coffee shop   Normal   \n",
       "4     betweeen  betweeen  "
      ]
     },
     "execution_count": 28,
     "metadata": {},
     "output_type": "execute_result"
    }
   ],
   "source": [
    "df.head()"
   ]
  },
  {
   "cell_type": "code",
   "execution_count": 29,
   "metadata": {},
   "outputs": [
    {
     "name": "stdout",
     "output_type": "stream",
     "text": [
      "head of customers df:\n",
      "              money_amount                                          \\\n",
      "                      min      max       mean           sum count   \n",
      "from_account                                                        \n",
      "1                    1.45  1960.00  14.853905  37565.525305  2529   \n",
      "100002               1.45   299.00  14.959220  15527.670740  1038   \n",
      "100019               1.45  1955.00  33.762143  22924.494825   679   \n",
      "100027               1.45   381.25  22.950110  15927.376375   694   \n",
      "10004                1.45   302.50  10.571419  13415.130350  1269   \n",
      "\n",
      "                       to_account       date  \n",
      "                             mode        max  \n",
      "from_account                                  \n",
      "1             A_LOCAL_COFFEE_SHOP 2025-10-02  \n",
      "100002                        PUB 2025-10-01  \n",
      "100019        LOCAL_WATERING_HOLE 2025-10-02  \n",
      "100027                       6053 2025-10-02  \n",
      "10004                 COFFEE_SHOP 2025-10-01  \n",
      "\n",
      " There are 12685 customers\n"
     ]
    }
   ],
   "source": [
    "#creating new dfs to summarise customers\n",
    "df_customers = df.groupby('from_account').agg({'money_amount':['min','max','mean','sum','count'], 'to_account': pd.Series.mode, 'date': pd.Series.max})\n",
    "print('head of customers df:\\n',df_customers.head())\n",
    "print('\\n There are {} customers'.format(df_customers.shape[0]))"
   ]
  },
  {
   "cell_type": "code",
   "execution_count": 30,
   "metadata": {},
   "outputs": [],
   "source": [
    "df_customers.columns = df_customers.columns.droplevel(0)\n"
   ]
  },
  {
   "attachments": {},
   "cell_type": "markdown",
   "metadata": {},
   "source": [
    "I notice that some of the customer ID's look different, let's investigate this:"
   ]
  },
  {
   "cell_type": "code",
   "execution_count": 31,
   "metadata": {},
   "outputs": [
    {
     "data": {
      "text/html": [
       "<div>\n",
       "<style scoped>\n",
       "    .dataframe tbody tr th:only-of-type {\n",
       "        vertical-align: middle;\n",
       "    }\n",
       "\n",
       "    .dataframe tbody tr th {\n",
       "        vertical-align: top;\n",
       "    }\n",
       "\n",
       "    .dataframe thead th {\n",
       "        text-align: right;\n",
       "    }\n",
       "</style>\n",
       "<table border=\"1\" class=\"dataframe\">\n",
       "  <thead>\n",
       "    <tr style=\"text-align: right;\">\n",
       "      <th></th>\n",
       "      <th>min</th>\n",
       "      <th>max</th>\n",
       "      <th>mean</th>\n",
       "      <th>sum</th>\n",
       "      <th>count</th>\n",
       "      <th>mode</th>\n",
       "      <th>max</th>\n",
       "      <th>customer_ID</th>\n",
       "      <th>length_ID</th>\n",
       "    </tr>\n",
       "    <tr>\n",
       "      <th>from_account</th>\n",
       "      <th></th>\n",
       "      <th></th>\n",
       "      <th></th>\n",
       "      <th></th>\n",
       "      <th></th>\n",
       "      <th></th>\n",
       "      <th></th>\n",
       "      <th></th>\n",
       "      <th></th>\n",
       "    </tr>\n",
       "  </thead>\n",
       "  <tbody>\n",
       "    <tr>\n",
       "      <th>1</th>\n",
       "      <td>1.45</td>\n",
       "      <td>1960.00</td>\n",
       "      <td>14.853905</td>\n",
       "      <td>37565.525305</td>\n",
       "      <td>2529</td>\n",
       "      <td>A_LOCAL_COFFEE_SHOP</td>\n",
       "      <td>2025-10-02</td>\n",
       "      <td>1</td>\n",
       "      <td>1</td>\n",
       "    </tr>\n",
       "    <tr>\n",
       "      <th>100002</th>\n",
       "      <td>1.45</td>\n",
       "      <td>299.00</td>\n",
       "      <td>14.959220</td>\n",
       "      <td>15527.670740</td>\n",
       "      <td>1038</td>\n",
       "      <td>PUB</td>\n",
       "      <td>2025-10-01</td>\n",
       "      <td>100002</td>\n",
       "      <td>6</td>\n",
       "    </tr>\n",
       "    <tr>\n",
       "      <th>100019</th>\n",
       "      <td>1.45</td>\n",
       "      <td>1955.00</td>\n",
       "      <td>33.762143</td>\n",
       "      <td>22924.494825</td>\n",
       "      <td>679</td>\n",
       "      <td>LOCAL_WATERING_HOLE</td>\n",
       "      <td>2025-10-02</td>\n",
       "      <td>100019</td>\n",
       "      <td>6</td>\n",
       "    </tr>\n",
       "    <tr>\n",
       "      <th>100027</th>\n",
       "      <td>1.45</td>\n",
       "      <td>381.25</td>\n",
       "      <td>22.950110</td>\n",
       "      <td>15927.376375</td>\n",
       "      <td>694</td>\n",
       "      <td>6053</td>\n",
       "      <td>2025-10-02</td>\n",
       "      <td>100027</td>\n",
       "      <td>6</td>\n",
       "    </tr>\n",
       "    <tr>\n",
       "      <th>10004</th>\n",
       "      <td>1.45</td>\n",
       "      <td>302.50</td>\n",
       "      <td>10.571419</td>\n",
       "      <td>13415.130350</td>\n",
       "      <td>1269</td>\n",
       "      <td>COFFEE_SHOP</td>\n",
       "      <td>2025-10-01</td>\n",
       "      <td>10004</td>\n",
       "      <td>5</td>\n",
       "    </tr>\n",
       "  </tbody>\n",
       "</table>\n",
       "</div>"
      ],
      "text/plain": [
       "               min      max       mean           sum  count  \\\n",
       "from_account                                                  \n",
       "1             1.45  1960.00  14.853905  37565.525305   2529   \n",
       "100002        1.45   299.00  14.959220  15527.670740   1038   \n",
       "100019        1.45  1955.00  33.762143  22924.494825    679   \n",
       "100027        1.45   381.25  22.950110  15927.376375    694   \n",
       "10004         1.45   302.50  10.571419  13415.130350   1269   \n",
       "\n",
       "                             mode        max customer_ID  length_ID  \n",
       "from_account                                                         \n",
       "1             A_LOCAL_COFFEE_SHOP 2025-10-02           1          1  \n",
       "100002                        PUB 2025-10-01      100002          6  \n",
       "100019        LOCAL_WATERING_HOLE 2025-10-02      100019          6  \n",
       "100027                       6053 2025-10-02      100027          6  \n",
       "10004                 COFFEE_SHOP 2025-10-01       10004          5  "
      ]
     },
     "execution_count": 31,
     "metadata": {},
     "output_type": "execute_result"
    }
   ],
   "source": [
    "df_customers['customer_ID'] = df_customers.index # This can allow us to re index, as currently the indexes contain the customer ID\n",
    "df_customers['length_ID'] = df_customers['customer_ID'].apply(lambda x: len(x)) #Creating a new column with the length of the customers ID\n",
    "df_customers.head()"
   ]
  },
  {
   "attachments": {},
   "cell_type": "markdown",
   "metadata": {},
   "source": [
    "Let's see how the Customer ID's lengths are distributed: "
   ]
  },
  {
   "cell_type": "code",
   "execution_count": 32,
   "metadata": {},
   "outputs": [
    {
     "name": "stdout",
     "output_type": "stream",
     "text": [
      "81.892 % of the customers have account numbers of length [5]\n",
      "97.217 % of the customers have account numbers of length [5, 4]\n",
      "98.81 % of the customers have account numbers of length [5, 4, 3]\n",
      "99.819 % of the customers have account numbers of length [5, 4, 3, 6]\n",
      "99.992 % of the customers have account numbers of length [5, 4, 3, 6, 2]\n",
      "100.0 % of the customers have account numbers of length [5, 4, 3, 6, 2, 1]\n"
     ]
    }
   ],
   "source": [
    "sum = 0\n",
    "count = 0\n",
    "list = []\n",
    "for i in df_customers['length_ID'].value_counts():\n",
    "    list.append(df_customers['length_ID'].value_counts().index[count])\n",
    "    sum += i\n",
    "    print(round(sum/len(df_customers)*100,3),'% of the customers have account numbers of length', list)\n",
    "    count+=1"
   ]
  },
  {
   "attachments": {},
   "cell_type": "markdown",
   "metadata": {},
   "source": [
    "I see no need to remove any of this data at this point"
   ]
  },
  {
   "attachments": {},
   "cell_type": "markdown",
   "metadata": {},
   "source": [
    "# RFM Analysis"
   ]
  },
  {
   "cell_type": "code",
   "execution_count": 33,
   "metadata": {},
   "outputs": [],
   "source": [
    "df_customers = df_customers.drop(['length_ID'], axis =1).reset_index()\n",
    "df_customers = df_customers.drop(['from_account'], axis =1)\n"
   ]
  },
  {
   "cell_type": "code",
   "execution_count": 34,
   "metadata": {},
   "outputs": [],
   "source": [
    "recent_date = df_customers.iloc[:, 6].max()"
   ]
  },
  {
   "cell_type": "code",
   "execution_count": 35,
   "metadata": {},
   "outputs": [],
   "source": [
    "df_customers['Recency'] = df_customers.iloc[:, 6].apply(lambda x: (recent_date - x).days)"
   ]
  },
  {
   "cell_type": "code",
   "execution_count": 36,
   "metadata": {},
   "outputs": [],
   "source": [
    "df_customers.columns = ['min', 'max', 'mean', 'sum', 'count', 'mode', 'delete', 'customer_ID', 'Recency']"
   ]
  },
  {
   "cell_type": "code",
   "execution_count": 37,
   "metadata": {},
   "outputs": [],
   "source": [
    "df_customers = df_customers.drop(df_customers.columns[6], axis =1)"
   ]
  },
  {
   "cell_type": "code",
   "execution_count": 38,
   "metadata": {},
   "outputs": [
    {
     "data": {
      "text/html": [
       "<div>\n",
       "<style scoped>\n",
       "    .dataframe tbody tr th:only-of-type {\n",
       "        vertical-align: middle;\n",
       "    }\n",
       "\n",
       "    .dataframe tbody tr th {\n",
       "        vertical-align: top;\n",
       "    }\n",
       "\n",
       "    .dataframe thead th {\n",
       "        text-align: right;\n",
       "    }\n",
       "</style>\n",
       "<table border=\"1\" class=\"dataframe\">\n",
       "  <thead>\n",
       "    <tr style=\"text-align: right;\">\n",
       "      <th></th>\n",
       "      <th>min</th>\n",
       "      <th>max</th>\n",
       "      <th>mean</th>\n",
       "      <th>sum</th>\n",
       "      <th>count</th>\n",
       "      <th>mode</th>\n",
       "      <th>customer_ID</th>\n",
       "      <th>Recency</th>\n",
       "    </tr>\n",
       "  </thead>\n",
       "  <tbody>\n",
       "    <tr>\n",
       "      <th>0</th>\n",
       "      <td>1.45</td>\n",
       "      <td>1960.00</td>\n",
       "      <td>14.853905</td>\n",
       "      <td>37565.525305</td>\n",
       "      <td>2529</td>\n",
       "      <td>A_LOCAL_COFFEE_SHOP</td>\n",
       "      <td>1</td>\n",
       "      <td>0</td>\n",
       "    </tr>\n",
       "    <tr>\n",
       "      <th>1</th>\n",
       "      <td>1.45</td>\n",
       "      <td>299.00</td>\n",
       "      <td>14.959220</td>\n",
       "      <td>15527.670740</td>\n",
       "      <td>1038</td>\n",
       "      <td>PUB</td>\n",
       "      <td>100002</td>\n",
       "      <td>1</td>\n",
       "    </tr>\n",
       "    <tr>\n",
       "      <th>2</th>\n",
       "      <td>1.45</td>\n",
       "      <td>1955.00</td>\n",
       "      <td>33.762143</td>\n",
       "      <td>22924.494825</td>\n",
       "      <td>679</td>\n",
       "      <td>LOCAL_WATERING_HOLE</td>\n",
       "      <td>100019</td>\n",
       "      <td>0</td>\n",
       "    </tr>\n",
       "    <tr>\n",
       "      <th>3</th>\n",
       "      <td>1.45</td>\n",
       "      <td>381.25</td>\n",
       "      <td>22.950110</td>\n",
       "      <td>15927.376375</td>\n",
       "      <td>694</td>\n",
       "      <td>6053</td>\n",
       "      <td>100027</td>\n",
       "      <td>0</td>\n",
       "    </tr>\n",
       "    <tr>\n",
       "      <th>4</th>\n",
       "      <td>1.45</td>\n",
       "      <td>302.50</td>\n",
       "      <td>10.571419</td>\n",
       "      <td>13415.130350</td>\n",
       "      <td>1269</td>\n",
       "      <td>COFFEE_SHOP</td>\n",
       "      <td>10004</td>\n",
       "      <td>1</td>\n",
       "    </tr>\n",
       "    <tr>\n",
       "      <th>...</th>\n",
       "      <td>...</td>\n",
       "      <td>...</td>\n",
       "      <td>...</td>\n",
       "      <td>...</td>\n",
       "      <td>...</td>\n",
       "      <td>...</td>\n",
       "      <td>...</td>\n",
       "      <td>...</td>\n",
       "    </tr>\n",
       "    <tr>\n",
       "      <th>12680</th>\n",
       "      <td>1.45</td>\n",
       "      <td>1940.00</td>\n",
       "      <td>26.129842</td>\n",
       "      <td>24535.921327</td>\n",
       "      <td>939</td>\n",
       "      <td>55586</td>\n",
       "      <td>99952</td>\n",
       "      <td>1</td>\n",
       "    </tr>\n",
       "    <tr>\n",
       "      <th>12681</th>\n",
       "      <td>1.45</td>\n",
       "      <td>293.75</td>\n",
       "      <td>19.951553</td>\n",
       "      <td>10454.613879</td>\n",
       "      <td>524</td>\n",
       "      <td>BAR</td>\n",
       "      <td>99963</td>\n",
       "      <td>1</td>\n",
       "    </tr>\n",
       "    <tr>\n",
       "      <th>12682</th>\n",
       "      <td>1.45</td>\n",
       "      <td>1835.00</td>\n",
       "      <td>21.318746</td>\n",
       "      <td>25518.538713</td>\n",
       "      <td>1197</td>\n",
       "      <td>LOCAL_WATERING_HOLE</td>\n",
       "      <td>99965</td>\n",
       "      <td>1</td>\n",
       "    </tr>\n",
       "    <tr>\n",
       "      <th>12683</th>\n",
       "      <td>1.45</td>\n",
       "      <td>1855.00</td>\n",
       "      <td>24.410882</td>\n",
       "      <td>22165.080656</td>\n",
       "      <td>908</td>\n",
       "      <td>BAR</td>\n",
       "      <td>99988</td>\n",
       "      <td>1</td>\n",
       "    </tr>\n",
       "    <tr>\n",
       "      <th>12684</th>\n",
       "      <td>1.45</td>\n",
       "      <td>291.67</td>\n",
       "      <td>22.024225</td>\n",
       "      <td>18346.179752</td>\n",
       "      <td>833</td>\n",
       "      <td>PUB</td>\n",
       "      <td>99998</td>\n",
       "      <td>1</td>\n",
       "    </tr>\n",
       "  </tbody>\n",
       "</table>\n",
       "<p>12685 rows × 8 columns</p>\n",
       "</div>"
      ],
      "text/plain": [
       "        min      max       mean           sum  count                 mode  \\\n",
       "0      1.45  1960.00  14.853905  37565.525305   2529  A_LOCAL_COFFEE_SHOP   \n",
       "1      1.45   299.00  14.959220  15527.670740   1038                  PUB   \n",
       "2      1.45  1955.00  33.762143  22924.494825    679  LOCAL_WATERING_HOLE   \n",
       "3      1.45   381.25  22.950110  15927.376375    694                 6053   \n",
       "4      1.45   302.50  10.571419  13415.130350   1269          COFFEE_SHOP   \n",
       "...     ...      ...        ...           ...    ...                  ...   \n",
       "12680  1.45  1940.00  26.129842  24535.921327    939                55586   \n",
       "12681  1.45   293.75  19.951553  10454.613879    524                  BAR   \n",
       "12682  1.45  1835.00  21.318746  25518.538713   1197  LOCAL_WATERING_HOLE   \n",
       "12683  1.45  1855.00  24.410882  22165.080656    908                  BAR   \n",
       "12684  1.45   291.67  22.024225  18346.179752    833                  PUB   \n",
       "\n",
       "      customer_ID  Recency  \n",
       "0               1        0  \n",
       "1          100002        1  \n",
       "2          100019        0  \n",
       "3          100027        0  \n",
       "4           10004        1  \n",
       "...           ...      ...  \n",
       "12680       99952        1  \n",
       "12681       99963        1  \n",
       "12682       99965        1  \n",
       "12683       99988        1  \n",
       "12684       99998        1  \n",
       "\n",
       "[12685 rows x 8 columns]"
      ]
     },
     "execution_count": 38,
     "metadata": {},
     "output_type": "execute_result"
    }
   ],
   "source": [
    "df_customers"
   ]
  },
  {
   "cell_type": "code",
   "execution_count": 39,
   "metadata": {},
   "outputs": [
    {
     "data": {
      "text/html": [
       "<div>\n",
       "<style scoped>\n",
       "    .dataframe tbody tr th:only-of-type {\n",
       "        vertical-align: middle;\n",
       "    }\n",
       "\n",
       "    .dataframe tbody tr th {\n",
       "        vertical-align: top;\n",
       "    }\n",
       "\n",
       "    .dataframe thead th {\n",
       "        text-align: right;\n",
       "    }\n",
       "</style>\n",
       "<table border=\"1\" class=\"dataframe\">\n",
       "  <thead>\n",
       "    <tr style=\"text-align: right;\">\n",
       "      <th></th>\n",
       "      <th>min</th>\n",
       "      <th>max</th>\n",
       "      <th>mean</th>\n",
       "      <th>sum</th>\n",
       "      <th>count</th>\n",
       "      <th>mode</th>\n",
       "      <th>customer_ID</th>\n",
       "      <th>Recency</th>\n",
       "      <th>R_rank_norm</th>\n",
       "      <th>F_rank_norm</th>\n",
       "      <th>M_rank_norm</th>\n",
       "    </tr>\n",
       "  </thead>\n",
       "  <tbody>\n",
       "    <tr>\n",
       "      <th>0</th>\n",
       "      <td>1.45</td>\n",
       "      <td>1960.00</td>\n",
       "      <td>14.853905</td>\n",
       "      <td>37565.525305</td>\n",
       "      <td>2529</td>\n",
       "      <td>A_LOCAL_COFFEE_SHOP</td>\n",
       "      <td>1</td>\n",
       "      <td>0</td>\n",
       "      <td>100.000000</td>\n",
       "      <td>99.944817</td>\n",
       "      <td>99.944817</td>\n",
       "    </tr>\n",
       "    <tr>\n",
       "      <th>1</th>\n",
       "      <td>1.45</td>\n",
       "      <td>299.00</td>\n",
       "      <td>14.959220</td>\n",
       "      <td>15527.670740</td>\n",
       "      <td>1038</td>\n",
       "      <td>PUB</td>\n",
       "      <td>100002</td>\n",
       "      <td>1</td>\n",
       "      <td>42.383653</td>\n",
       "      <td>69.093417</td>\n",
       "      <td>69.093417</td>\n",
       "    </tr>\n",
       "    <tr>\n",
       "      <th>2</th>\n",
       "      <td>1.45</td>\n",
       "      <td>1955.00</td>\n",
       "      <td>33.762143</td>\n",
       "      <td>22924.494825</td>\n",
       "      <td>679</td>\n",
       "      <td>LOCAL_WATERING_HOLE</td>\n",
       "      <td>100019</td>\n",
       "      <td>0</td>\n",
       "      <td>100.000000</td>\n",
       "      <td>14.903429</td>\n",
       "      <td>14.903429</td>\n",
       "    </tr>\n",
       "    <tr>\n",
       "      <th>3</th>\n",
       "      <td>1.45</td>\n",
       "      <td>381.25</td>\n",
       "      <td>22.950110</td>\n",
       "      <td>15927.376375</td>\n",
       "      <td>694</td>\n",
       "      <td>6053</td>\n",
       "      <td>100027</td>\n",
       "      <td>0</td>\n",
       "      <td>100.000000</td>\n",
       "      <td>17.339377</td>\n",
       "      <td>17.339377</td>\n",
       "    </tr>\n",
       "    <tr>\n",
       "      <th>4</th>\n",
       "      <td>1.45</td>\n",
       "      <td>302.50</td>\n",
       "      <td>10.571419</td>\n",
       "      <td>13415.130350</td>\n",
       "      <td>1269</td>\n",
       "      <td>COFFEE_SHOP</td>\n",
       "      <td>10004</td>\n",
       "      <td>1</td>\n",
       "      <td>42.383653</td>\n",
       "      <td>86.172645</td>\n",
       "      <td>86.172645</td>\n",
       "    </tr>\n",
       "  </tbody>\n",
       "</table>\n",
       "</div>"
      ],
      "text/plain": [
       "    min      max       mean           sum  count                 mode  \\\n",
       "0  1.45  1960.00  14.853905  37565.525305   2529  A_LOCAL_COFFEE_SHOP   \n",
       "1  1.45   299.00  14.959220  15527.670740   1038                  PUB   \n",
       "2  1.45  1955.00  33.762143  22924.494825    679  LOCAL_WATERING_HOLE   \n",
       "3  1.45   381.25  22.950110  15927.376375    694                 6053   \n",
       "4  1.45   302.50  10.571419  13415.130350   1269          COFFEE_SHOP   \n",
       "\n",
       "  customer_ID  Recency  R_rank_norm  F_rank_norm  M_rank_norm  \n",
       "0           1        0   100.000000    99.944817    99.944817  \n",
       "1      100002        1    42.383653    69.093417    69.093417  \n",
       "2      100019        0   100.000000    14.903429    14.903429  \n",
       "3      100027        0   100.000000    17.339377    17.339377  \n",
       "4       10004        1    42.383653    86.172645    86.172645  "
      ]
     },
     "execution_count": 39,
     "metadata": {},
     "output_type": "execute_result"
    }
   ],
   "source": [
    "df_customers['R_rank'] = df_customers['Recency'].rank(ascending=False)\n",
    "df_customers['F_rank'] = df_customers['count'].rank(ascending=True)\n",
    "df_customers['M_rank'] = df_customers['sum'].rank(ascending=True)\n",
    " \n",
    "# normalizing the rank of the customers\n",
    "df_customers['R_rank_norm'] = (df_customers['R_rank']/df_customers['R_rank'].max())*100\n",
    "df_customers['F_rank_norm'] = (df_customers['F_rank']/df_customers['F_rank'].max())*100\n",
    "df_customers['M_rank_norm'] = (df_customers['F_rank']/df_customers['M_rank'].max())*100\n",
    " \n",
    "df_customers.drop(columns=['R_rank', 'F_rank', 'M_rank'], inplace=True)\n",
    " \n",
    "df_customers.head()"
   ]
  },
  {
   "cell_type": "code",
   "execution_count": 40,
   "metadata": {},
   "outputs": [
    {
     "data": {
      "text/html": [
       "<div>\n",
       "<style scoped>\n",
       "    .dataframe tbody tr th:only-of-type {\n",
       "        vertical-align: middle;\n",
       "    }\n",
       "\n",
       "    .dataframe tbody tr th {\n",
       "        vertical-align: top;\n",
       "    }\n",
       "\n",
       "    .dataframe thead th {\n",
       "        text-align: right;\n",
       "    }\n",
       "</style>\n",
       "<table border=\"1\" class=\"dataframe\">\n",
       "  <thead>\n",
       "    <tr style=\"text-align: right;\">\n",
       "      <th></th>\n",
       "      <th>min</th>\n",
       "      <th>max</th>\n",
       "      <th>mean</th>\n",
       "      <th>sum</th>\n",
       "      <th>count</th>\n",
       "      <th>mode</th>\n",
       "      <th>customer_ID</th>\n",
       "      <th>Recency</th>\n",
       "      <th>R_rank_norm</th>\n",
       "      <th>F_rank_norm</th>\n",
       "      <th>M_rank_norm</th>\n",
       "      <th>RFM_Score</th>\n",
       "    </tr>\n",
       "  </thead>\n",
       "  <tbody>\n",
       "    <tr>\n",
       "      <th>0</th>\n",
       "      <td>1.45</td>\n",
       "      <td>1960.00</td>\n",
       "      <td>14.85</td>\n",
       "      <td>37565.53</td>\n",
       "      <td>2529</td>\n",
       "      <td>A_LOCAL_COFFEE_SHOP</td>\n",
       "      <td>1</td>\n",
       "      <td>0</td>\n",
       "      <td>100.00</td>\n",
       "      <td>99.94</td>\n",
       "      <td>99.94</td>\n",
       "      <td>5.00</td>\n",
       "    </tr>\n",
       "    <tr>\n",
       "      <th>1</th>\n",
       "      <td>1.45</td>\n",
       "      <td>299.00</td>\n",
       "      <td>14.96</td>\n",
       "      <td>15527.67</td>\n",
       "      <td>1038</td>\n",
       "      <td>PUB</td>\n",
       "      <td>100002</td>\n",
       "      <td>1</td>\n",
       "      <td>42.38</td>\n",
       "      <td>69.09</td>\n",
       "      <td>69.09</td>\n",
       "      <td>3.25</td>\n",
       "    </tr>\n",
       "    <tr>\n",
       "      <th>2</th>\n",
       "      <td>1.45</td>\n",
       "      <td>1955.00</td>\n",
       "      <td>33.76</td>\n",
       "      <td>22924.49</td>\n",
       "      <td>679</td>\n",
       "      <td>LOCAL_WATERING_HOLE</td>\n",
       "      <td>100019</td>\n",
       "      <td>0</td>\n",
       "      <td>100.00</td>\n",
       "      <td>14.90</td>\n",
       "      <td>14.90</td>\n",
       "      <td>1.38</td>\n",
       "    </tr>\n",
       "    <tr>\n",
       "      <th>3</th>\n",
       "      <td>1.45</td>\n",
       "      <td>381.25</td>\n",
       "      <td>22.95</td>\n",
       "      <td>15927.38</td>\n",
       "      <td>694</td>\n",
       "      <td>6053</td>\n",
       "      <td>100027</td>\n",
       "      <td>0</td>\n",
       "      <td>100.00</td>\n",
       "      <td>17.34</td>\n",
       "      <td>17.34</td>\n",
       "      <td>1.49</td>\n",
       "    </tr>\n",
       "    <tr>\n",
       "      <th>4</th>\n",
       "      <td>1.45</td>\n",
       "      <td>302.50</td>\n",
       "      <td>10.57</td>\n",
       "      <td>13415.13</td>\n",
       "      <td>1269</td>\n",
       "      <td>COFFEE_SHOP</td>\n",
       "      <td>10004</td>\n",
       "      <td>1</td>\n",
       "      <td>42.38</td>\n",
       "      <td>86.17</td>\n",
       "      <td>86.17</td>\n",
       "      <td>3.98</td>\n",
       "    </tr>\n",
       "  </tbody>\n",
       "</table>\n",
       "</div>"
      ],
      "text/plain": [
       "    min      max   mean       sum  count                 mode customer_ID  \\\n",
       "0  1.45  1960.00  14.85  37565.53   2529  A_LOCAL_COFFEE_SHOP           1   \n",
       "1  1.45   299.00  14.96  15527.67   1038                  PUB      100002   \n",
       "2  1.45  1955.00  33.76  22924.49    679  LOCAL_WATERING_HOLE      100019   \n",
       "3  1.45   381.25  22.95  15927.38    694                 6053      100027   \n",
       "4  1.45   302.50  10.57  13415.13   1269          COFFEE_SHOP       10004   \n",
       "\n",
       "   Recency  R_rank_norm  F_rank_norm  M_rank_norm  RFM_Score  \n",
       "0        0       100.00        99.94        99.94       5.00  \n",
       "1        1        42.38        69.09        69.09       3.25  \n",
       "2        0       100.00        14.90        14.90       1.38  \n",
       "3        0       100.00        17.34        17.34       1.49  \n",
       "4        1        42.38        86.17        86.17       3.98  "
      ]
     },
     "execution_count": 40,
     "metadata": {},
     "output_type": "execute_result"
    }
   ],
   "source": [
    "\n",
    "df_customers['RFM_Score'] = 0.15*df_customers['R_rank_norm']+0.28 * \\\n",
    "    df_customers['F_rank_norm']+0.57*df_customers['M_rank_norm']\n",
    "df_customers['RFM_Score'] *= 0.05\n",
    "df_customers = df_customers.round(2)\n",
    "df_customers.head()"
   ]
  },
  {
   "cell_type": "code",
   "execution_count": 41,
   "metadata": {},
   "outputs": [
    {
     "data": {
      "text/plain": [
       "<AxesSubplot:>"
      ]
     },
     "execution_count": 41,
     "metadata": {},
     "output_type": "execute_result"
    },
    {
     "data": {
      "image/png": "[encoded data removed]",
      "text/plain": [
       "<Figure size 640x480 with 1 Axes>"
      ]
     },
     "metadata": {},
     "output_type": "display_data"
    }
   ],
   "source": [
    "histo=df_customers['RFM_Score']\n",
    "histo.hist()"
   ]
  },
  {
   "cell_type": "code",
   "execution_count": 42,
   "metadata": {},
   "outputs": [
    {
     "data": {
      "text/html": [
       "<div>\n",
       "<style scoped>\n",
       "    .dataframe tbody tr th:only-of-type {\n",
       "        vertical-align: middle;\n",
       "    }\n",
       "\n",
       "    .dataframe tbody tr th {\n",
       "        vertical-align: top;\n",
       "    }\n",
       "\n",
       "    .dataframe thead th {\n",
       "        text-align: right;\n",
       "    }\n",
       "</style>\n",
       "<table border=\"1\" class=\"dataframe\">\n",
       "  <thead>\n",
       "    <tr style=\"text-align: right;\">\n",
       "      <th></th>\n",
       "      <th>min</th>\n",
       "      <th>max</th>\n",
       "      <th>mean</th>\n",
       "      <th>sum</th>\n",
       "      <th>count</th>\n",
       "      <th>mode</th>\n",
       "      <th>customer_ID</th>\n",
       "      <th>Recency</th>\n",
       "      <th>R_rank_norm</th>\n",
       "      <th>F_rank_norm</th>\n",
       "      <th>M_rank_norm</th>\n",
       "      <th>RFM_Score</th>\n",
       "      <th>Customer_segment</th>\n",
       "    </tr>\n",
       "  </thead>\n",
       "  <tbody>\n",
       "    <tr>\n",
       "      <th>0</th>\n",
       "      <td>1.45</td>\n",
       "      <td>1960.00</td>\n",
       "      <td>14.85</td>\n",
       "      <td>37565.53</td>\n",
       "      <td>2529</td>\n",
       "      <td>A_LOCAL_COFFEE_SHOP</td>\n",
       "      <td>1</td>\n",
       "      <td>0</td>\n",
       "      <td>100.00</td>\n",
       "      <td>99.94</td>\n",
       "      <td>99.94</td>\n",
       "      <td>5.00</td>\n",
       "      <td>Top</td>\n",
       "    </tr>\n",
       "    <tr>\n",
       "      <th>1</th>\n",
       "      <td>1.45</td>\n",
       "      <td>299.00</td>\n",
       "      <td>14.96</td>\n",
       "      <td>15527.67</td>\n",
       "      <td>1038</td>\n",
       "      <td>PUB</td>\n",
       "      <td>100002</td>\n",
       "      <td>1</td>\n",
       "      <td>42.38</td>\n",
       "      <td>69.09</td>\n",
       "      <td>69.09</td>\n",
       "      <td>3.25</td>\n",
       "      <td>Medium Value</td>\n",
       "    </tr>\n",
       "    <tr>\n",
       "      <th>2</th>\n",
       "      <td>1.45</td>\n",
       "      <td>1955.00</td>\n",
       "      <td>33.76</td>\n",
       "      <td>22924.49</td>\n",
       "      <td>679</td>\n",
       "      <td>LOCAL_WATERING_HOLE</td>\n",
       "      <td>100019</td>\n",
       "      <td>0</td>\n",
       "      <td>100.00</td>\n",
       "      <td>14.90</td>\n",
       "      <td>14.90</td>\n",
       "      <td>1.38</td>\n",
       "      <td>Lost</td>\n",
       "    </tr>\n",
       "    <tr>\n",
       "      <th>3</th>\n",
       "      <td>1.45</td>\n",
       "      <td>381.25</td>\n",
       "      <td>22.95</td>\n",
       "      <td>15927.38</td>\n",
       "      <td>694</td>\n",
       "      <td>6053</td>\n",
       "      <td>100027</td>\n",
       "      <td>0</td>\n",
       "      <td>100.00</td>\n",
       "      <td>17.34</td>\n",
       "      <td>17.34</td>\n",
       "      <td>1.49</td>\n",
       "      <td>Lost</td>\n",
       "    </tr>\n",
       "    <tr>\n",
       "      <th>4</th>\n",
       "      <td>1.45</td>\n",
       "      <td>302.50</td>\n",
       "      <td>10.57</td>\n",
       "      <td>13415.13</td>\n",
       "      <td>1269</td>\n",
       "      <td>COFFEE_SHOP</td>\n",
       "      <td>10004</td>\n",
       "      <td>1</td>\n",
       "      <td>42.38</td>\n",
       "      <td>86.17</td>\n",
       "      <td>86.17</td>\n",
       "      <td>3.98</td>\n",
       "      <td>Medium Value</td>\n",
       "    </tr>\n",
       "  </tbody>\n",
       "</table>\n",
       "</div>"
      ],
      "text/plain": [
       "    min      max   mean       sum  count                 mode customer_ID  \\\n",
       "0  1.45  1960.00  14.85  37565.53   2529  A_LOCAL_COFFEE_SHOP           1   \n",
       "1  1.45   299.00  14.96  15527.67   1038                  PUB      100002   \n",
       "2  1.45  1955.00  33.76  22924.49    679  LOCAL_WATERING_HOLE      100019   \n",
       "3  1.45   381.25  22.95  15927.38    694                 6053      100027   \n",
       "4  1.45   302.50  10.57  13415.13   1269          COFFEE_SHOP       10004   \n",
       "\n",
       "   Recency  R_rank_norm  F_rank_norm  M_rank_norm  RFM_Score Customer_segment  \n",
       "0        0       100.00        99.94        99.94       5.00              Top  \n",
       "1        1        42.38        69.09        69.09       3.25     Medium Value  \n",
       "2        0       100.00        14.90        14.90       1.38             Lost  \n",
       "3        0       100.00        17.34        17.34       1.49             Lost  \n",
       "4        1        42.38        86.17        86.17       3.98     Medium Value  "
      ]
     },
     "execution_count": 42,
     "metadata": {},
     "output_type": "execute_result"
    }
   ],
   "source": [
    "df_customers[\"Customer_segment\"] = np.where(df_customers['RFM_Score'] >\n",
    "                                      4.5, \"Top\",\n",
    "                                      (np.where(\n",
    "                                        df_customers['RFM_Score'] > 4,\n",
    "                                        \"High value\",\n",
    "                                        (np.where(\n",
    "    df_customers['RFM_Score'] > 3,\n",
    "                             \"Medium Value\",\n",
    "                             np.where(df_customers['RFM_Score'] > 1.6,\n",
    "                            'Low Value', 'Lost'))))))\n",
    "df_customers.head()"
   ]
  },
  {
   "cell_type": "code",
   "execution_count": 43,
   "metadata": {},
   "outputs": [
    {
     "data": {
      "text/plain": [
       "<AxesSubplot:>"
      ]
     },
     "execution_count": 43,
     "metadata": {},
     "output_type": "execute_result"
    },
    {
     "data": {
      "image/png": "[encoded data removed]",
      "text/plain": [
       "<Figure size 640x480 with 1 Axes>"
      ]
     },
     "metadata": {},
     "output_type": "display_data"
    }
   ],
   "source": [
    "histo=df_customers['Customer_segment']\n",
    "histo.hist()"
   ]
  },
  {
   "attachments": {},
   "cell_type": "markdown",
   "metadata": {},
   "source": [
    "# Net amounts"
   ]
  },
  {
   "cell_type": "code",
   "execution_count": 44,
   "metadata": {},
   "outputs": [
    {
     "data": {
      "text/html": [
       "<div>\n",
       "<style scoped>\n",
       "    .dataframe tbody tr th:only-of-type {\n",
       "        vertical-align: middle;\n",
       "    }\n",
       "\n",
       "    .dataframe tbody tr th {\n",
       "        vertical-align: top;\n",
       "    }\n",
       "\n",
       "    .dataframe thead th {\n",
       "        text-align: right;\n",
       "    }\n",
       "</style>\n",
       "<table border=\"1\" class=\"dataframe\">\n",
       "  <thead>\n",
       "    <tr style=\"text-align: right;\">\n",
       "      <th></th>\n",
       "      <th>from_account</th>\n",
       "      <th>money_amount</th>\n",
       "      <th>to_account</th>\n",
       "      <th>date</th>\n",
       "      <th>transaction_ID</th>\n",
       "      <th>Categorised</th>\n",
       "      <th>type_</th>\n",
       "    </tr>\n",
       "  </thead>\n",
       "  <tbody>\n",
       "    <tr>\n",
       "      <th>2</th>\n",
       "      <td>88339</td>\n",
       "      <td>2.40</td>\n",
       "      <td>40544</td>\n",
       "      <td>2025-01-01</td>\n",
       "      <td>2</td>\n",
       "      <td>betweeen</td>\n",
       "      <td>betweeen</td>\n",
       "    </tr>\n",
       "    <tr>\n",
       "      <th>4</th>\n",
       "      <td>18555</td>\n",
       "      <td>2.40</td>\n",
       "      <td>85149</td>\n",
       "      <td>2025-01-01</td>\n",
       "      <td>4</td>\n",
       "      <td>betweeen</td>\n",
       "      <td>betweeen</td>\n",
       "    </tr>\n",
       "    <tr>\n",
       "      <th>6</th>\n",
       "      <td>80792</td>\n",
       "      <td>1.95</td>\n",
       "      <td>18555</td>\n",
       "      <td>2025-01-01</td>\n",
       "      <td>6</td>\n",
       "      <td>betweeen</td>\n",
       "      <td>betweeen</td>\n",
       "    </tr>\n",
       "    <tr>\n",
       "      <th>19</th>\n",
       "      <td>39262</td>\n",
       "      <td>4.50</td>\n",
       "      <td>30264</td>\n",
       "      <td>2025-01-01</td>\n",
       "      <td>19</td>\n",
       "      <td>betweeen</td>\n",
       "      <td>betweeen</td>\n",
       "    </tr>\n",
       "    <tr>\n",
       "      <th>51</th>\n",
       "      <td>53483</td>\n",
       "      <td>5.50</td>\n",
       "      <td>75744</td>\n",
       "      <td>2025-01-01</td>\n",
       "      <td>51</td>\n",
       "      <td>betweeen</td>\n",
       "      <td>betweeen</td>\n",
       "    </tr>\n",
       "    <tr>\n",
       "      <th>...</th>\n",
       "      <td>...</td>\n",
       "      <td>...</td>\n",
       "      <td>...</td>\n",
       "      <td>...</td>\n",
       "      <td>...</td>\n",
       "      <td>...</td>\n",
       "      <td>...</td>\n",
       "    </tr>\n",
       "    <tr>\n",
       "      <th>12004005</th>\n",
       "      <td>10534</td>\n",
       "      <td>2.40</td>\n",
       "      <td>56045</td>\n",
       "      <td>2025-10-02</td>\n",
       "      <td>12004005</td>\n",
       "      <td>betweeen</td>\n",
       "      <td>betweeen</td>\n",
       "    </tr>\n",
       "    <tr>\n",
       "      <th>12004041</th>\n",
       "      <td>62049</td>\n",
       "      <td>2.65</td>\n",
       "      <td>59063</td>\n",
       "      <td>2025-10-02</td>\n",
       "      <td>12004041</td>\n",
       "      <td>betweeen</td>\n",
       "      <td>betweeen</td>\n",
       "    </tr>\n",
       "    <tr>\n",
       "      <th>12004073</th>\n",
       "      <td>9671</td>\n",
       "      <td>6.50</td>\n",
       "      <td>44929</td>\n",
       "      <td>2025-10-02</td>\n",
       "      <td>12004073</td>\n",
       "      <td>betweeen</td>\n",
       "      <td>betweeen</td>\n",
       "    </tr>\n",
       "    <tr>\n",
       "      <th>12004082</th>\n",
       "      <td>68168</td>\n",
       "      <td>1.45</td>\n",
       "      <td>95491</td>\n",
       "      <td>2025-10-02</td>\n",
       "      <td>12004082</td>\n",
       "      <td>betweeen</td>\n",
       "      <td>betweeen</td>\n",
       "    </tr>\n",
       "    <tr>\n",
       "      <th>12004092</th>\n",
       "      <td>528</td>\n",
       "      <td>6.00</td>\n",
       "      <td>20147</td>\n",
       "      <td>2025-10-02</td>\n",
       "      <td>12004092</td>\n",
       "      <td>betweeen</td>\n",
       "      <td>betweeen</td>\n",
       "    </tr>\n",
       "  </tbody>\n",
       "</table>\n",
       "<p>2985362 rows × 7 columns</p>\n",
       "</div>"
      ],
      "text/plain": [
       "         from_account  money_amount to_account       date  transaction_ID  \\\n",
       "2               88339          2.40      40544 2025-01-01               2   \n",
       "4               18555          2.40      85149 2025-01-01               4   \n",
       "6               80792          1.95      18555 2025-01-01               6   \n",
       "19              39262          4.50      30264 2025-01-01              19   \n",
       "51              53483          5.50      75744 2025-01-01              51   \n",
       "...               ...           ...        ...        ...             ...   \n",
       "12004005        10534          2.40      56045 2025-10-02        12004005   \n",
       "12004041        62049          2.65      59063 2025-10-02        12004041   \n",
       "12004073         9671          6.50      44929 2025-10-02        12004073   \n",
       "12004082        68168          1.45      95491 2025-10-02        12004082   \n",
       "12004092          528          6.00      20147 2025-10-02        12004092   \n",
       "\n",
       "         Categorised     type_  \n",
       "2           betweeen  betweeen  \n",
       "4           betweeen  betweeen  \n",
       "6           betweeen  betweeen  \n",
       "19          betweeen  betweeen  \n",
       "51          betweeen  betweeen  \n",
       "...              ...       ...  \n",
       "12004005    betweeen  betweeen  \n",
       "12004041    betweeen  betweeen  \n",
       "12004073    betweeen  betweeen  \n",
       "12004082    betweeen  betweeen  \n",
       "12004092    betweeen  betweeen  \n",
       "\n",
       "[2985362 rows x 7 columns]"
      ]
     },
     "execution_count": 44,
     "metadata": {},
     "output_type": "execute_result"
    }
   ],
   "source": [
    "df_between"
   ]
  },
  {
   "cell_type": "code",
   "execution_count": 45,
   "metadata": {},
   "outputs": [],
   "source": [
    "df_in = df_between.groupby('to_account').agg({'money_amount':pd.Series.sum})\n"
   ]
  },
  {
   "cell_type": "code",
   "execution_count": 46,
   "metadata": {},
   "outputs": [],
   "source": [
    "df_in = df_in.reset_index()"
   ]
  },
  {
   "cell_type": "code",
   "execution_count": 47,
   "metadata": {},
   "outputs": [],
   "source": [
    "df_in.columns = ['customer_ID', 'in']"
   ]
  },
  {
   "cell_type": "code",
   "execution_count": 48,
   "metadata": {},
   "outputs": [
    {
     "data": {
      "text/html": [
       "<div>\n",
       "<style scoped>\n",
       "    .dataframe tbody tr th:only-of-type {\n",
       "        vertical-align: middle;\n",
       "    }\n",
       "\n",
       "    .dataframe tbody tr th {\n",
       "        vertical-align: top;\n",
       "    }\n",
       "\n",
       "    .dataframe thead th {\n",
       "        text-align: right;\n",
       "    }\n",
       "</style>\n",
       "<table border=\"1\" class=\"dataframe\">\n",
       "  <thead>\n",
       "    <tr style=\"text-align: right;\">\n",
       "      <th></th>\n",
       "      <th>customer_ID</th>\n",
       "      <th>in</th>\n",
       "    </tr>\n",
       "  </thead>\n",
       "  <tbody>\n",
       "    <tr>\n",
       "      <th>0</th>\n",
       "      <td>1</td>\n",
       "      <td>9447.339187</td>\n",
       "    </tr>\n",
       "    <tr>\n",
       "      <th>1</th>\n",
       "      <td>100002</td>\n",
       "      <td>671.465385</td>\n",
       "    </tr>\n",
       "    <tr>\n",
       "      <th>2</th>\n",
       "      <td>100019</td>\n",
       "      <td>9936.615429</td>\n",
       "    </tr>\n",
       "    <tr>\n",
       "      <th>3</th>\n",
       "      <td>100021</td>\n",
       "      <td>280.700000</td>\n",
       "    </tr>\n",
       "    <tr>\n",
       "      <th>4</th>\n",
       "      <td>100023</td>\n",
       "      <td>8177.203704</td>\n",
       "    </tr>\n",
       "    <tr>\n",
       "      <th>...</th>\n",
       "      <td>...</td>\n",
       "      <td>...</td>\n",
       "    </tr>\n",
       "    <tr>\n",
       "      <th>14062</th>\n",
       "      <td>99952</td>\n",
       "      <td>19328.969384</td>\n",
       "    </tr>\n",
       "    <tr>\n",
       "      <th>14063</th>\n",
       "      <td>99963</td>\n",
       "      <td>1307.353024</td>\n",
       "    </tr>\n",
       "    <tr>\n",
       "      <th>14064</th>\n",
       "      <td>99965</td>\n",
       "      <td>9356.882753</td>\n",
       "    </tr>\n",
       "    <tr>\n",
       "      <th>14065</th>\n",
       "      <td>99988</td>\n",
       "      <td>5895.935080</td>\n",
       "    </tr>\n",
       "    <tr>\n",
       "      <th>14066</th>\n",
       "      <td>99998</td>\n",
       "      <td>1070.941667</td>\n",
       "    </tr>\n",
       "  </tbody>\n",
       "</table>\n",
       "<p>14067 rows × 2 columns</p>\n",
       "</div>"
      ],
      "text/plain": [
       "      customer_ID            in\n",
       "0               1   9447.339187\n",
       "1          100002    671.465385\n",
       "2          100019   9936.615429\n",
       "3          100021    280.700000\n",
       "4          100023   8177.203704\n",
       "...           ...           ...\n",
       "14062       99952  19328.969384\n",
       "14063       99963   1307.353024\n",
       "14064       99965   9356.882753\n",
       "14065       99988   5895.935080\n",
       "14066       99998   1070.941667\n",
       "\n",
       "[14067 rows x 2 columns]"
      ]
     },
     "execution_count": 48,
     "metadata": {},
     "output_type": "execute_result"
    }
   ],
   "source": [
    "df_in"
   ]
  },
  {
   "cell_type": "code",
   "execution_count": 49,
   "metadata": {},
   "outputs": [
    {
     "data": {
      "text/html": [
       "<div>\n",
       "<style scoped>\n",
       "    .dataframe tbody tr th:only-of-type {\n",
       "        vertical-align: middle;\n",
       "    }\n",
       "\n",
       "    .dataframe tbody tr th {\n",
       "        vertical-align: top;\n",
       "    }\n",
       "\n",
       "    .dataframe thead th {\n",
       "        text-align: right;\n",
       "    }\n",
       "</style>\n",
       "<table border=\"1\" class=\"dataframe\">\n",
       "  <thead>\n",
       "    <tr style=\"text-align: right;\">\n",
       "      <th></th>\n",
       "      <th>min</th>\n",
       "      <th>max</th>\n",
       "      <th>mean</th>\n",
       "      <th>sum</th>\n",
       "      <th>count</th>\n",
       "      <th>mode</th>\n",
       "      <th>customer_ID</th>\n",
       "      <th>Recency</th>\n",
       "      <th>R_rank_norm</th>\n",
       "      <th>F_rank_norm</th>\n",
       "      <th>M_rank_norm</th>\n",
       "      <th>RFM_Score</th>\n",
       "      <th>Customer_segment</th>\n",
       "      <th>in</th>\n",
       "    </tr>\n",
       "  </thead>\n",
       "  <tbody>\n",
       "    <tr>\n",
       "      <th>0</th>\n",
       "      <td>1.45</td>\n",
       "      <td>1960.00</td>\n",
       "      <td>14.85</td>\n",
       "      <td>37565.53</td>\n",
       "      <td>2529</td>\n",
       "      <td>A_LOCAL_COFFEE_SHOP</td>\n",
       "      <td>1</td>\n",
       "      <td>0</td>\n",
       "      <td>100.00</td>\n",
       "      <td>99.94</td>\n",
       "      <td>99.94</td>\n",
       "      <td>5.00</td>\n",
       "      <td>Top</td>\n",
       "      <td>9447.339187</td>\n",
       "    </tr>\n",
       "    <tr>\n",
       "      <th>1</th>\n",
       "      <td>1.45</td>\n",
       "      <td>299.00</td>\n",
       "      <td>14.96</td>\n",
       "      <td>15527.67</td>\n",
       "      <td>1038</td>\n",
       "      <td>PUB</td>\n",
       "      <td>100002</td>\n",
       "      <td>1</td>\n",
       "      <td>42.38</td>\n",
       "      <td>69.09</td>\n",
       "      <td>69.09</td>\n",
       "      <td>3.25</td>\n",
       "      <td>Medium Value</td>\n",
       "      <td>671.465385</td>\n",
       "    </tr>\n",
       "    <tr>\n",
       "      <th>2</th>\n",
       "      <td>1.45</td>\n",
       "      <td>1955.00</td>\n",
       "      <td>33.76</td>\n",
       "      <td>22924.49</td>\n",
       "      <td>679</td>\n",
       "      <td>LOCAL_WATERING_HOLE</td>\n",
       "      <td>100019</td>\n",
       "      <td>0</td>\n",
       "      <td>100.00</td>\n",
       "      <td>14.90</td>\n",
       "      <td>14.90</td>\n",
       "      <td>1.38</td>\n",
       "      <td>Lost</td>\n",
       "      <td>9936.615429</td>\n",
       "    </tr>\n",
       "    <tr>\n",
       "      <th>3</th>\n",
       "      <td>1.45</td>\n",
       "      <td>381.25</td>\n",
       "      <td>22.95</td>\n",
       "      <td>15927.38</td>\n",
       "      <td>694</td>\n",
       "      <td>6053</td>\n",
       "      <td>100027</td>\n",
       "      <td>0</td>\n",
       "      <td>100.00</td>\n",
       "      <td>17.34</td>\n",
       "      <td>17.34</td>\n",
       "      <td>1.49</td>\n",
       "      <td>Lost</td>\n",
       "      <td>1618.741429</td>\n",
       "    </tr>\n",
       "    <tr>\n",
       "      <th>4</th>\n",
       "      <td>1.45</td>\n",
       "      <td>302.50</td>\n",
       "      <td>10.57</td>\n",
       "      <td>13415.13</td>\n",
       "      <td>1269</td>\n",
       "      <td>COFFEE_SHOP</td>\n",
       "      <td>10004</td>\n",
       "      <td>1</td>\n",
       "      <td>42.38</td>\n",
       "      <td>86.17</td>\n",
       "      <td>86.17</td>\n",
       "      <td>3.98</td>\n",
       "      <td>Medium Value</td>\n",
       "      <td>1179.087500</td>\n",
       "    </tr>\n",
       "    <tr>\n",
       "      <th>...</th>\n",
       "      <td>...</td>\n",
       "      <td>...</td>\n",
       "      <td>...</td>\n",
       "      <td>...</td>\n",
       "      <td>...</td>\n",
       "      <td>...</td>\n",
       "      <td>...</td>\n",
       "      <td>...</td>\n",
       "      <td>...</td>\n",
       "      <td>...</td>\n",
       "      <td>...</td>\n",
       "      <td>...</td>\n",
       "      <td>...</td>\n",
       "      <td>...</td>\n",
       "    </tr>\n",
       "    <tr>\n",
       "      <th>12672</th>\n",
       "      <td>1.45</td>\n",
       "      <td>1940.00</td>\n",
       "      <td>26.13</td>\n",
       "      <td>24535.92</td>\n",
       "      <td>939</td>\n",
       "      <td>55586</td>\n",
       "      <td>99952</td>\n",
       "      <td>1</td>\n",
       "      <td>42.38</td>\n",
       "      <td>60.91</td>\n",
       "      <td>60.91</td>\n",
       "      <td>2.91</td>\n",
       "      <td>Low Value</td>\n",
       "      <td>19328.969384</td>\n",
       "    </tr>\n",
       "    <tr>\n",
       "      <th>12673</th>\n",
       "      <td>1.45</td>\n",
       "      <td>293.75</td>\n",
       "      <td>19.95</td>\n",
       "      <td>10454.61</td>\n",
       "      <td>524</td>\n",
       "      <td>BAR</td>\n",
       "      <td>99963</td>\n",
       "      <td>1</td>\n",
       "      <td>42.38</td>\n",
       "      <td>1.88</td>\n",
       "      <td>1.88</td>\n",
       "      <td>0.40</td>\n",
       "      <td>Lost</td>\n",
       "      <td>1307.353024</td>\n",
       "    </tr>\n",
       "    <tr>\n",
       "      <th>12674</th>\n",
       "      <td>1.45</td>\n",
       "      <td>1835.00</td>\n",
       "      <td>21.32</td>\n",
       "      <td>25518.54</td>\n",
       "      <td>1197</td>\n",
       "      <td>LOCAL_WATERING_HOLE</td>\n",
       "      <td>99965</td>\n",
       "      <td>1</td>\n",
       "      <td>42.38</td>\n",
       "      <td>80.06</td>\n",
       "      <td>80.06</td>\n",
       "      <td>3.72</td>\n",
       "      <td>Medium Value</td>\n",
       "      <td>9356.882753</td>\n",
       "    </tr>\n",
       "    <tr>\n",
       "      <th>12675</th>\n",
       "      <td>1.45</td>\n",
       "      <td>1855.00</td>\n",
       "      <td>24.41</td>\n",
       "      <td>22165.08</td>\n",
       "      <td>908</td>\n",
       "      <td>BAR</td>\n",
       "      <td>99988</td>\n",
       "      <td>1</td>\n",
       "      <td>42.38</td>\n",
       "      <td>57.21</td>\n",
       "      <td>57.21</td>\n",
       "      <td>2.75</td>\n",
       "      <td>Low Value</td>\n",
       "      <td>5895.935080</td>\n",
       "    </tr>\n",
       "    <tr>\n",
       "      <th>12676</th>\n",
       "      <td>1.45</td>\n",
       "      <td>291.67</td>\n",
       "      <td>22.02</td>\n",
       "      <td>18346.18</td>\n",
       "      <td>833</td>\n",
       "      <td>PUB</td>\n",
       "      <td>99998</td>\n",
       "      <td>1</td>\n",
       "      <td>42.38</td>\n",
       "      <td>45.29</td>\n",
       "      <td>45.29</td>\n",
       "      <td>2.24</td>\n",
       "      <td>Low Value</td>\n",
       "      <td>1070.941667</td>\n",
       "    </tr>\n",
       "  </tbody>\n",
       "</table>\n",
       "<p>12677 rows × 14 columns</p>\n",
       "</div>"
      ],
      "text/plain": [
       "        min      max   mean       sum  count                 mode customer_ID  \\\n",
       "0      1.45  1960.00  14.85  37565.53   2529  A_LOCAL_COFFEE_SHOP           1   \n",
       "1      1.45   299.00  14.96  15527.67   1038                  PUB      100002   \n",
       "2      1.45  1955.00  33.76  22924.49    679  LOCAL_WATERING_HOLE      100019   \n",
       "3      1.45   381.25  22.95  15927.38    694                 6053      100027   \n",
       "4      1.45   302.50  10.57  13415.13   1269          COFFEE_SHOP       10004   \n",
       "...     ...      ...    ...       ...    ...                  ...         ...   \n",
       "12672  1.45  1940.00  26.13  24535.92    939                55586       99952   \n",
       "12673  1.45   293.75  19.95  10454.61    524                  BAR       99963   \n",
       "12674  1.45  1835.00  21.32  25518.54   1197  LOCAL_WATERING_HOLE       99965   \n",
       "12675  1.45  1855.00  24.41  22165.08    908                  BAR       99988   \n",
       "12676  1.45   291.67  22.02  18346.18    833                  PUB       99998   \n",
       "\n",
       "       Recency  R_rank_norm  F_rank_norm  M_rank_norm  RFM_Score  \\\n",
       "0            0       100.00        99.94        99.94       5.00   \n",
       "1            1        42.38        69.09        69.09       3.25   \n",
       "2            0       100.00        14.90        14.90       1.38   \n",
       "3            0       100.00        17.34        17.34       1.49   \n",
       "4            1        42.38        86.17        86.17       3.98   \n",
       "...        ...          ...          ...          ...        ...   \n",
       "12672        1        42.38        60.91        60.91       2.91   \n",
       "12673        1        42.38         1.88         1.88       0.40   \n",
       "12674        1        42.38        80.06        80.06       3.72   \n",
       "12675        1        42.38        57.21        57.21       2.75   \n",
       "12676        1        42.38        45.29        45.29       2.24   \n",
       "\n",
       "      Customer_segment            in  \n",
       "0                  Top   9447.339187  \n",
       "1         Medium Value    671.465385  \n",
       "2                 Lost   9936.615429  \n",
       "3                 Lost   1618.741429  \n",
       "4         Medium Value   1179.087500  \n",
       "...                ...           ...  \n",
       "12672        Low Value  19328.969384  \n",
       "12673             Lost   1307.353024  \n",
       "12674     Medium Value   9356.882753  \n",
       "12675        Low Value   5895.935080  \n",
       "12676        Low Value   1070.941667  \n",
       "\n",
       "[12677 rows x 14 columns]"
      ]
     },
     "execution_count": 49,
     "metadata": {},
     "output_type": "execute_result"
    }
   ],
   "source": [
    "pd.merge(df_customers, df_in)"
   ]
  },
  {
   "cell_type": "code",
   "execution_count": 50,
   "metadata": {},
   "outputs": [
    {
     "ename": "SyntaxError",
     "evalue": "EOL while scanning string literal (1341848469.py, line 4)",
     "output_type": "error",
     "traceback": [
      "\u001b[0;36m  Input \u001b[0;32mIn [50]\u001b[0;36m\u001b[0m\n\u001b[0;31m    df.to_csv('/Users/sasha/Desktop/DATASCIENCE/2023/Mini-Project/data.nosync/cleaned_FULL_data.csv')\"\"\"\"\u001b[0m\n\u001b[0m                                                                                                         \n^\u001b[0m\n\u001b[0;31mSyntaxError\u001b[0m\u001b[0;31m:\u001b[0m EOL while scanning string literal\n"
     ]
    }
   ],
   "source": [
    "\"\"\"\"df_expenditure.to_csv('/Users/sasha/Desktop/DATASCIENCE/2023/Mini-Project/data.nosync/cleaned_EXPENDITURE_data.csv')\n",
    "df_customers.to_csv('/Users/sasha/Desktop/DATASCIENCE/2023/Mini-Project/data.nosync/cleaned_CUSTOMERS_data.csv')\n",
    "df_between.to_csv('/Users/sasha/Desktop/DATASCIENCE/2023/Mini-Project/data.nosync/cleaned_BETWEEN_data.csv')\n",
    "df.to_csv('/Users/sasha/Desktop/DATASCIENCE/2023/Mini-Project/data.nosync/cleaned_FULL_data.csv')\"\"\"\""
   ]
  }
 ],
 "metadata": {
  "kernelspec": {
   "display_name": "Python 3",
   "language": "python",
   "name": "python3"
  },
  "language_info": {
   "codemirror_mode": {
    "name": "ipython",
    "version": 3
   },
   "file_extension": ".py",
   "mimetype": "text/x-python",
   "name": "python",
   "nbconvert_exporter": "python",
   "pygments_lexer": "ipython3",
   "version": "3.9.7"
  },
  "orig_nbformat": 4
 },
 "nbformat": 4,
 "nbformat_minor": 2
}
