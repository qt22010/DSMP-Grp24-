{
 "cells": [
  {
   "attachments": {},
   "cell_type": "markdown",
   "metadata": {},
   "source": [
    "# Data cleaning for income prediction "
   ]
  },
  {
   "cell_type": "code",
   "execution_count": 1,
   "metadata": {},
   "outputs": [],
   "source": [
    "#importing packages \n",
    "import pandas as pd\n",
    "import numpy as np\n",
    "import matplotlib.pyplot as plt\n",
    "import seaborn as sns"
   ]
  },
  {
   "attachments": {},
   "cell_type": "markdown",
   "metadata": {},
   "source": [
    "### Loading in the data"
   ]
  },
  {
   "cell_type": "code",
   "execution_count": 99,
   "metadata": {},
   "outputs": [
    {
     "name": "stdout",
     "output_type": "stream",
     "text": [
      "(12004116, 4)\n"
     ]
    }
   ],
   "source": [
    "#loading dataset \n",
    "df=pd.read_csv(\"/Users/sasha/Desktop/DATASCIENCE/2023/Mini-Project/data.nosync/fake_transactional_data.csv\")\n",
    "#renaming the rows \n",
    "df=df.rename(columns={'from_totally_fake_account':'from_account', 'monopoly_money_amount':'money_amount', 'to_randomly_generated_account':'to_account', 'not_happened_yet_date':'date'})\n",
    "print(np.shape(df))"
   ]
  },
  {
   "attachments": {},
   "cell_type": "markdown",
   "metadata": {},
   "source": [
    "All from_account values have a trailing '.0', let's remove this so it looks better:"
   ]
  },
  {
   "cell_type": "code",
   "execution_count": 100,
   "metadata": {},
   "outputs": [],
   "source": [
    "#apply a function to strip '.0' from the accounts if not NaN. To strip we must also change to a string\n",
    "df['from_account'] = df['from_account'].apply(lambda x: str(x).strip('.0') if str(x) != 'nan' else x)\n"
   ]
  },
  {
   "attachments": {},
   "cell_type": "markdown",
   "metadata": {},
   "source": [
    "### A few modifications"
   ]
  },
  {
   "cell_type": "code",
   "execution_count": 101,
   "metadata": {},
   "outputs": [],
   "source": [
    "#converting date to date format\n",
    "df[\"date\"] = pd.to_datetime(df[\"date\"], dayfirst=True)"
   ]
  },
  {
   "attachments": {},
   "cell_type": "markdown",
   "metadata": {},
   "source": [
    "Adding a transaction ID column"
   ]
  },
  {
   "cell_type": "code",
   "execution_count": 102,
   "metadata": {},
   "outputs": [],
   "source": [
    "#Transaction ID's for now are just the indexes, this provides each transaction with a unique ID.\n",
    "df['transaction_ID'] = df.index"
   ]
  },
  {
   "cell_type": "markdown",
   "metadata": {},
   "source": [
    "### Merging df with business categories df\n",
    "\n",
    "This allows us to categorise each transactions by what type of spending it is"
   ]
  },
  {
   "cell_type": "code",
   "execution_count": 103,
   "metadata": {},
   "outputs": [
    {
     "data": {
      "text/html": [
       "<div>\n",
       "<style scoped>\n",
       "    .dataframe tbody tr th:only-of-type {\n",
       "        vertical-align: middle;\n",
       "    }\n",
       "\n",
       "    .dataframe tbody tr th {\n",
       "        vertical-align: top;\n",
       "    }\n",
       "\n",
       "    .dataframe thead th {\n",
       "        text-align: right;\n",
       "    }\n",
       "</style>\n",
       "<table border=\"1\" class=\"dataframe\">\n",
       "  <thead>\n",
       "    <tr style=\"text-align: right;\">\n",
       "      <th></th>\n",
       "      <th>to_account</th>\n",
       "      <th>Categorised</th>\n",
       "    </tr>\n",
       "  </thead>\n",
       "  <tbody>\n",
       "    <tr>\n",
       "      <th>0</th>\n",
       "      <td>CINEMA</td>\n",
       "      <td>Cinema</td>\n",
       "    </tr>\n",
       "    <tr>\n",
       "      <th>1</th>\n",
       "      <td>A_LOCAL_COFFEE_SHOP</td>\n",
       "      <td>Coffee shop</td>\n",
       "    </tr>\n",
       "    <tr>\n",
       "      <th>2</th>\n",
       "      <td>HIPSTER_COFFEE_SHOP</td>\n",
       "      <td>Coffee shop</td>\n",
       "    </tr>\n",
       "    <tr>\n",
       "      <th>3</th>\n",
       "      <td>TOTALLY_A_REAL_COFFEE_SHOP</td>\n",
       "      <td>Coffee shop</td>\n",
       "    </tr>\n",
       "    <tr>\n",
       "      <th>4</th>\n",
       "      <td>COFFEE_SHOP</td>\n",
       "      <td>Coffee shop</td>\n",
       "    </tr>\n",
       "  </tbody>\n",
       "</table>\n",
       "</div>"
      ],
      "text/plain": [
       "                   to_account  Categorised\n",
       "0                      CINEMA       Cinema\n",
       "1         A_LOCAL_COFFEE_SHOP  Coffee shop\n",
       "2         HIPSTER_COFFEE_SHOP  Coffee shop\n",
       "3  TOTALLY_A_REAL_COFFEE_SHOP  Coffee shop\n",
       "4                 COFFEE_SHOP  Coffee shop"
      ]
     },
     "execution_count": 103,
     "metadata": {},
     "output_type": "execute_result"
    }
   ],
   "source": [
    "business_categories = pd.read_csv('/Users/sasha/Desktop/DATASCIENCE/2023/Mini-Project/data.nosync/firms_categorised.csv', encoding = \"ISO-8859-1\")\n",
    "business_categories=business_categories.rename(columns={'To account':'to_account'})\n",
    "business_categories.head()"
   ]
  },
  {
   "cell_type": "code",
   "execution_count": 104,
   "metadata": {},
   "outputs": [],
   "source": [
    "df = pd.merge(df, business_categories, how='outer').sort_values(by=['transaction_ID']).reset_index()\n",
    "df['Categorised']= df['Categorised'].fillna('To account')\n",
    "df = df.drop('index', axis=1)\n"
   ]
  },
  {
   "cell_type": "code",
   "execution_count": 105,
   "metadata": {},
   "outputs": [
    {
     "name": "stdout",
     "output_type": "stream",
     "text": [
      "(12004116, 6)\n"
     ]
    }
   ],
   "source": [
    "print(np.shape(df))"
   ]
  },
  {
   "cell_type": "code",
   "execution_count": 107,
   "metadata": {},
   "outputs": [],
   "source": [
    "df['transaction_ID'] = df['transaction_ID'].astype(int)\n"
   ]
  },
  {
   "attachments": {},
   "cell_type": "markdown",
   "metadata": {},
   "source": [
    "### Describing the data"
   ]
  },
  {
   "cell_type": "code",
   "execution_count": 108,
   "metadata": {},
   "outputs": [
    {
     "name": "stdout",
     "output_type": "stream",
     "text": [
      "\n",
      " shape: (12004116, 6)\n",
      "\n",
      " head: \n",
      "   from_account  money_amount           to_account       date  transaction_ID  \\\n",
      "0          NaN          4.00               CINEMA 2025-01-01               0   \n",
      "1        40544          4.60  A_LOCAL_COFFEE_SHOP 2025-01-01               1   \n",
      "2        88339          2.40                40544 2025-01-01               2   \n",
      "3        85149          4.65  A_LOCAL_COFFEE_SHOP 2025-01-01               3   \n",
      "4        18555          2.40                85149 2025-01-01               4   \n",
      "\n",
      "   Categorised  \n",
      "0       Cinema  \n",
      "1  Coffee shop  \n",
      "2   To account  \n",
      "3  Coffee shop  \n",
      "4   To account  \n",
      "\n",
      " info:\n",
      "<class 'pandas.core.frame.DataFrame'>\n",
      "RangeIndex: 12004116 entries, 0 to 12004115\n",
      "Data columns (total 6 columns):\n",
      " #   Column          Dtype         \n",
      "---  ------          -----         \n",
      " 0   from_account    object        \n",
      " 1   money_amount    float64       \n",
      " 2   to_account      object        \n",
      " 3   date            datetime64[ns]\n",
      " 4   transaction_ID  int64         \n",
      " 5   Categorised     object        \n",
      "dtypes: datetime64[ns](1), float64(1), int64(1), object(3)\n",
      "memory usage: 549.5+ MB\n",
      "\n",
      " Date range: 2025-01-01 00:00:00 2025-10-02 00:00:00\n"
     ]
    }
   ],
   "source": [
    "#check dimensions of the data\n",
    "print('\\n shape:',df.shape)\n",
    "\n",
    "print('\\n head: \\n', df.head())\n",
    "print('\\n info:')\n",
    "df.info()\n",
    "\n",
    "# Finding out the range of dates\n",
    "print('\\n Date range:', df[\"date\"].min(), df[\"date\"].max())"
   ]
  },
  {
   "attachments": {},
   "cell_type": "markdown",
   "metadata": {},
   "source": [
    "#### Map of missing Values"
   ]
  },
  {
   "cell_type": "code",
   "execution_count": 7,
   "metadata": {},
   "outputs": [
    {
     "data": {
      "text/plain": [
       "\"plt.figure(figsize=(10, 6))\\nsns.heatmap(df.isnull(), yticklabels=False, cmap='viridis', cbar=False)\""
      ]
     },
     "execution_count": 7,
     "metadata": {},
     "output_type": "execute_result"
    }
   ],
   "source": [
    "#Visualizing the missing values\n",
    "\"\"\"plt.figure(figsize=(10, 6))\n",
    "sns.heatmap(df.isnull(), yticklabels=False, cmap='viridis', cbar=False)\"\"\""
   ]
  },
  {
   "attachments": {},
   "cell_type": "markdown",
   "metadata": {},
   "source": [
    "Here I am just checking for any obvious patterns in the NaN values, such as transactions where each feature is NaN"
   ]
  },
  {
   "attachments": {},
   "cell_type": "markdown",
   "metadata": {},
   "source": [
    "#### This function returns the NA status of each column"
   ]
  },
  {
   "cell_type": "code",
   "execution_count": 8,
   "metadata": {},
   "outputs": [],
   "source": [
    "def missing_cols(df):\n",
    "    '''prints out columns with its amount of missing values'''\n",
    "    total = 0\n",
    "    for col in df.columns:\n",
    "        missing_vals = df[col].isnull().sum()\n",
    "        total += missing_vals\n",
    "        if missing_vals != 0:\n",
    "            print(f\"{col} => {df[col].isnull().sum()}\")\n",
    "        if missing_vals == 0:\n",
    "             print(f\"{col} => No missing values\")\n",
    "        pct = df[col].isna().mean() * 100\n",
    "        if (pct != 0):\n",
    "            print('{} => {}%'.format(col, round(pct, 2)))\n",
    "    \n",
    "    if total == 0:\n",
    "        print(\"no missing values left\")"
   ]
  },
  {
   "cell_type": "code",
   "execution_count": 109,
   "metadata": {},
   "outputs": [
    {
     "name": "stdout",
     "output_type": "stream",
     "text": [
      "\n",
      " How many missing values each columns has and what percentage this is:\n",
      "from_account => 139974\n",
      "from_account => 1.17%\n",
      "money_amount => 140256\n",
      "money_amount => 1.17%\n",
      "to_account => 140100\n",
      "to_account => 1.17%\n",
      "date => 1\n",
      "date => 0.0%\n",
      "transaction_ID => No missing values\n",
      "Categorised => No missing values\n"
     ]
    }
   ],
   "source": [
    "print(\"\\n How many missing values each columns has and what percentage this is:\")    \n",
    "#Using the function above to see our missing values  \n",
    "missing_cols(df)       \n"
   ]
  },
  {
   "attachments": {},
   "cell_type": "markdown",
   "metadata": {},
   "source": [
    "While 1% does not seem like a lot, this is hundreds of thousands of rows, so we shall not by so quick to discard them. \n",
    "We seem to have one interesting case where there is one missing date. "
   ]
  },
  {
   "cell_type": "code",
   "execution_count": 110,
   "metadata": {},
   "outputs": [
    {
     "data": {
      "text/plain": [
       "array([12004115])"
      ]
     },
     "execution_count": 110,
     "metadata": {},
     "output_type": "execute_result"
    }
   ],
   "source": [
    "np.where(df['date'].isna())[0]"
   ]
  },
  {
   "cell_type": "code",
   "execution_count": 111,
   "metadata": {},
   "outputs": [
    {
     "data": {
      "text/plain": [
       "from_account          100694\n",
       "money_amount            2.25\n",
       "to_account          GOURMET_\n",
       "date                     NaT\n",
       "transaction_ID      12004115\n",
       "Categorised       Restaurant\n",
       "Name: 12004115, dtype: object"
      ]
     },
     "execution_count": 111,
     "metadata": {},
     "output_type": "execute_result"
    }
   ],
   "source": [
    "df.loc[12004115]"
   ]
  },
  {
   "cell_type": "code",
   "execution_count": 112,
   "metadata": {},
   "outputs": [],
   "source": [
    "#Removing this row\n",
    "df = df.drop(12004115)"
   ]
  },
  {
   "attachments": {},
   "cell_type": "markdown",
   "metadata": {},
   "source": [
    "### Splitting up the data into between account payments and to business payments"
   ]
  },
  {
   "cell_type": "code",
   "execution_count": 13,
   "metadata": {},
   "outputs": [],
   "source": [
    "df1 = df.copy() #Making a copy of the df\n",
    "df1['to_account'] = pd.to_numeric(df['to_account'], errors = 'coerce') # df1 is now df but where to account is non numeric NaN will show\n",
    "df_between = df1[pd.notnull(df1['to_account'])] #Removing all the NaN rows, such that we are only left with accoun to account transaction\n",
    "numeric_to_accounts = df_between['to_account'].astype(int).values #creating a list with all the to accounts as an integer\n",
    "numeric_to_accounts = [str(x) for x in numeric_to_accounts] #Changing each element in numeric_to_accounts into a string\n",
    "df_expenditure = df[~df['to_account'].isin(numeric_to_accounts)] #Creating df_expenditure by excluding all account to account transactions from our original df"
   ]
  },
  {
   "cell_type": "code",
   "execution_count": 14,
   "metadata": {},
   "outputs": [
    {
     "name": "stdout",
     "output_type": "stream",
     "text": [
      "Between accounts head:    from_account  money_amount  to_account       date  transaction_ID\n",
      "2         88339          2.40     40544.0 2025-01-01               2\n",
      "4         18555          2.40     85149.0 2025-01-01               4\n",
      "6         80792          1.95     18555.0 2025-01-01               6\n",
      "19        39262          4.50     30264.0 2025-01-01              19\n",
      "51        53483          5.50     75744.0 2025-01-01              51\n",
      "\n",
      " Between accounts description        money_amount    to_account  transaction_ID\n",
      "count  2.950750e+06  2.985833e+06    2.985833e+06\n",
      "mean   3.186091e+01  5.115173e+04    5.990754e+06\n",
      "std    1.661347e+02  2.884507e+04    3.456576e+06\n",
      "min    1.450000e+00  1.000000e+03    2.000000e+00\n",
      "25%    5.000000e+00  2.583800e+04    2.976532e+06\n",
      "50%    6.000000e+00  5.129000e+04    5.989533e+06\n",
      "75%    6.500000e+00  7.588100e+04    9.003838e+06\n",
      "max    1.995000e+03  1.009880e+05    1.200409e+07\n"
     ]
    }
   ],
   "source": [
    "#Printing descriptions of these 2 new df's\n",
    "print('Between accounts head:', df_between.head())\n",
    "print('\\n Between accounts description', df_between.describe())\n"
   ]
  },
  {
   "cell_type": "code",
   "execution_count": 76,
   "metadata": {},
   "outputs": [],
   "source": [
    "array_of_businesses = df_expenditure['to_account'].unique()"
   ]
  },
  {
   "cell_type": "code",
   "execution_count": 16,
   "metadata": {},
   "outputs": [
    {
     "name": "stdout",
     "output_type": "stream",
     "text": [
      "\n",
      " Expenditure head:   from_account  money_amount                  to_account       date  \\\n",
      "0          NaN          4.00                      CINEMA 2025-01-01   \n",
      "1        40544          4.60         A_LOCAL_COFFEE_SHOP 2025-01-01   \n",
      "3        85149          4.65         A_LOCAL_COFFEE_SHOP 2025-01-01   \n",
      "5        18555          4.10         HIPSTER_COFFEE_SHOP 2025-01-01   \n",
      "7        18555          4.45  TOTALLY_A_REAL_COFFEE_SHOP 2025-01-01   \n",
      "\n",
      "   transaction_ID  \n",
      "0               0  \n",
      "1               1  \n",
      "3               3  \n",
      "5               5  \n",
      "7               7  \n",
      "\n",
      " Expenditure description        money_amount  transaction_ID\n",
      "count  8.913109e+06    9.018282e+06\n",
      "mean   1.366975e+01    6.005799e+06\n",
      "std    2.449927e+01    3.468162e+06\n",
      "min    1.450000e+00    0.000000e+00\n",
      "25%    2.450000e+00    3.014356e+06\n",
      "50%    7.000000e+00    6.008295e+06\n",
      "75%    1.350000e+01    9.002730e+06\n",
      "max    1.990000e+03    1.200411e+07\n"
     ]
    }
   ],
   "source": [
    "print('\\n Expenditure head:', df_expenditure.head())\n",
    "print('\\n Expenditure description', df_expenditure.describe())\n"
   ]
  },
  {
   "attachments": {},
   "cell_type": "markdown",
   "metadata": {},
   "source": [
    "### Filling in missing money amount"
   ]
  },
  {
   "cell_type": "code",
   "execution_count": 17,
   "metadata": {},
   "outputs": [],
   "source": [
    "#This function takes in a df and outputs a list of all the means for each row by grouping by to and from account\n",
    "def fill(df):\n",
    "    s = df.groupby(['from_account', \"to_account\"])['money_amount'].mean()\n",
    "    df2 = df[['from_account', 'to_account']].merge(s, on=['from_account', 'to_account'], how='left')\n",
    "    df2 = df2.set_index(df.index)\n",
    "    return(df2['money_amount'])"
   ]
  },
  {
   "attachments": {},
   "cell_type": "markdown",
   "metadata": {},
   "source": [
    "For account to account transactions, we look at each NaN money_amount and ask how much does this account normally send to this other account, by getting the mean of past transactions. If there are no past transactions we remove the row entirely"
   ]
  },
  {
   "cell_type": "code",
   "execution_count": 18,
   "metadata": {},
   "outputs": [
    {
     "name": "stderr",
     "output_type": "stream",
     "text": [
      "/var/folders/py/d721tqvn39xbrq83g84j15pm0000gn/T/ipykernel_68489/904791043.py:1: SettingWithCopyWarning: \n",
      "A value is trying to be set on a copy of a slice from a DataFrame\n",
      "\n",
      "See the caveats in the documentation: https://pandas.pydata.org/pandas-docs/stable/user_guide/indexing.html#returning-a-view-versus-a-copy\n",
      "  df_between['money_amount'].fillna(fill(df_between), inplace=True) #Using the function to replace all NaN's in the df_between df with the average of past transactions from one specific account to another specific account.\n"
     ]
    },
    {
     "name": "stdout",
     "output_type": "stream",
     "text": [
      "from_account => 34429\n",
      "from_account => 1.15%\n",
      "money_amount => No missing values\n",
      "to_account => No missing values\n",
      "date => No missing values\n",
      "transaction_ID => No missing values\n"
     ]
    }
   ],
   "source": [
    "df_between['money_amount'].fillna(fill(df_between), inplace=True) #Using the function to replace all NaN's in the df_between df with the average of past transactions from one specific account to another specific account. \n",
    "df_between=df_between.dropna(axis=0, subset=\"money_amount\") #All remaining NaN's are dropped\n",
    "missing_cols(df_between)"
   ]
  },
  {
   "attachments": {},
   "cell_type": "markdown",
   "metadata": {},
   "source": [
    "Removing .0 from the end of 'to_account' column values"
   ]
  },
  {
   "cell_type": "code",
   "execution_count": 19,
   "metadata": {},
   "outputs": [],
   "source": [
    "#apply a function to strip '.0' from the accounts if not NaN. To strip we must also change to a string\n",
    "df_between['to_account'] = df_between['to_account'].apply(lambda x: str(x).strip('.0') if str(x) != 'nan' else x)"
   ]
  },
  {
   "attachments": {},
   "cell_type": "markdown",
   "metadata": {},
   "source": [
    "For account to business transactions, we look at each NaN money_amount and ask how much does this account normally spend at this business, by getting the mean of past transactions. If there are no past transactions, then we ask how do other accounts normally spend here? Again by taking the mean. For any other remaining NaN's, we remove the row entirely."
   ]
  },
  {
   "cell_type": "code",
   "execution_count": 20,
   "metadata": {},
   "outputs": [
    {
     "name": "stderr",
     "output_type": "stream",
     "text": [
      "/var/folders/py/d721tqvn39xbrq83g84j15pm0000gn/T/ipykernel_68489/1801862313.py:1: SettingWithCopyWarning: \n",
      "A value is trying to be set on a copy of a slice from a DataFrame\n",
      "\n",
      "See the caveats in the documentation: https://pandas.pydata.org/pandas-docs/stable/user_guide/indexing.html#returning-a-view-versus-a-copy\n",
      "  df_expenditure['money_amount'].fillna(fill(df_expenditure), inplace=True) #Using the function to replace all NaN's in the df_expenditure df with the average of past transactions from one specific account to the specific business.\n",
      "/var/folders/py/d721tqvn39xbrq83g84j15pm0000gn/T/ipykernel_68489/1801862313.py:3: SettingWithCopyWarning: \n",
      "A value is trying to be set on a copy of a slice from a DataFrame\n",
      "\n",
      "See the caveats in the documentation: https://pandas.pydata.org/pandas-docs/stable/user_guide/indexing.html#returning-a-view-versus-a-copy\n",
      "  df_expenditure['money_amount'].fillna(df_expenditure['to_account'].map(s), inplace=True) #Any remaining NaN's are filled in using s\n"
     ]
    },
    {
     "name": "stdout",
     "output_type": "stream",
     "text": [
      "from_account => 105136\n",
      "from_account => 1.17%\n",
      "money_amount => No missing values\n",
      "to_account => 138497\n",
      "to_account => 1.54%\n",
      "date => No missing values\n",
      "transaction_ID => No missing values\n"
     ]
    }
   ],
   "source": [
    "df_expenditure['money_amount'].fillna(fill(df_expenditure), inplace=True) #Using the function to replace all NaN's in the df_expenditure df with the average of past transactions from one specific account to the specific business. \n",
    "s = df_expenditure.groupby('to_account')['money_amount'].mean() #Creating a df of the average spend at each business\n",
    "df_expenditure['money_amount'].fillna(df_expenditure['to_account'].map(s), inplace=True) #Any remaining NaN's are filled in using s\n",
    "df_expenditure=df_expenditure.dropna(axis=0, subset=\"money_amount\") #All remaining NaN's are dropped\n",
    "missing_cols(df_expenditure)\n"
   ]
  },
  {
   "cell_type": "code",
   "execution_count": 21,
   "metadata": {},
   "outputs": [
    {
     "name": "stdout",
     "output_type": "stream",
     "text": [
      "I have deleted 2074 rows\n"
     ]
    }
   ],
   "source": [
    "print('I have deleted', (df.shape[0] - (df_between.shape[0] + df_expenditure.shape[0])), 'rows')"
   ]
  },
  {
   "attachments": {},
   "cell_type": "markdown",
   "metadata": {},
   "source": [
    "### We can now bring the two df's back together"
   ]
  },
  {
   "cell_type": "code",
   "execution_count": 22,
   "metadata": {},
   "outputs": [
    {
     "data": {
      "text/html": [
       "<div>\n",
       "<style scoped>\n",
       "    .dataframe tbody tr th:only-of-type {\n",
       "        vertical-align: middle;\n",
       "    }\n",
       "\n",
       "    .dataframe tbody tr th {\n",
       "        vertical-align: top;\n",
       "    }\n",
       "\n",
       "    .dataframe thead th {\n",
       "        text-align: right;\n",
       "    }\n",
       "</style>\n",
       "<table border=\"1\" class=\"dataframe\">\n",
       "  <thead>\n",
       "    <tr style=\"text-align: right;\">\n",
       "      <th></th>\n",
       "      <th>from_account</th>\n",
       "      <th>money_amount</th>\n",
       "      <th>to_account</th>\n",
       "      <th>date</th>\n",
       "      <th>transaction_ID</th>\n",
       "    </tr>\n",
       "  </thead>\n",
       "  <tbody>\n",
       "    <tr>\n",
       "      <th>0</th>\n",
       "      <td>NaN</td>\n",
       "      <td>4.00</td>\n",
       "      <td>CINEMA</td>\n",
       "      <td>2025-01-01</td>\n",
       "      <td>0</td>\n",
       "    </tr>\n",
       "    <tr>\n",
       "      <th>1</th>\n",
       "      <td>40544</td>\n",
       "      <td>4.60</td>\n",
       "      <td>A_LOCAL_COFFEE_SHOP</td>\n",
       "      <td>2025-01-01</td>\n",
       "      <td>1</td>\n",
       "    </tr>\n",
       "    <tr>\n",
       "      <th>2</th>\n",
       "      <td>88339</td>\n",
       "      <td>2.40</td>\n",
       "      <td>40544</td>\n",
       "      <td>2025-01-01</td>\n",
       "      <td>2</td>\n",
       "    </tr>\n",
       "    <tr>\n",
       "      <th>3</th>\n",
       "      <td>85149</td>\n",
       "      <td>4.65</td>\n",
       "      <td>A_LOCAL_COFFEE_SHOP</td>\n",
       "      <td>2025-01-01</td>\n",
       "      <td>3</td>\n",
       "    </tr>\n",
       "    <tr>\n",
       "      <th>4</th>\n",
       "      <td>18555</td>\n",
       "      <td>2.40</td>\n",
       "      <td>85149</td>\n",
       "      <td>2025-01-01</td>\n",
       "      <td>4</td>\n",
       "    </tr>\n",
       "  </tbody>\n",
       "</table>\n",
       "</div>"
      ],
      "text/plain": [
       "  from_account  money_amount           to_account       date  transaction_ID\n",
       "0          NaN          4.00               CINEMA 2025-01-01               0\n",
       "1        40544          4.60  A_LOCAL_COFFEE_SHOP 2025-01-01               1\n",
       "2        88339          2.40                40544 2025-01-01               2\n",
       "3        85149          4.65  A_LOCAL_COFFEE_SHOP 2025-01-01               3\n",
       "4        18555          2.40                85149 2025-01-01               4"
      ]
     },
     "execution_count": 22,
     "metadata": {},
     "output_type": "execute_result"
    }
   ],
   "source": [
    "df = pd.concat([df_expenditure, df_between], sort=False).sort_index() #Concatinating the two df's and the sorting by index so that we preserve the original order\n",
    "df.head()"
   ]
  },
  {
   "cell_type": "code",
   "execution_count": 23,
   "metadata": {},
   "outputs": [
    {
     "name": "stdout",
     "output_type": "stream",
     "text": [
      "from_account => 139565\n",
      "from_account => 1.16%\n",
      "money_amount => No missing values\n",
      "to_account => 138497\n",
      "to_account => 1.15%\n",
      "date => No missing values\n",
      "transaction_ID => No missing values\n"
     ]
    }
   ],
   "source": [
    "missing_cols(df)"
   ]
  },
  {
   "attachments": {},
   "cell_type": "markdown",
   "metadata": {},
   "source": [
    "We have successfully now got a df with no missing money_amount"
   ]
  },
  {
   "attachments": {},
   "cell_type": "markdown",
   "metadata": {},
   "source": [
    "As this task is to predict income let's begin narrowing our focus on customers. To do this we build a new df for all of our customers"
   ]
  },
  {
   "attachments": {},
   "cell_type": "markdown",
   "metadata": {},
   "source": [
    "### New customer df "
   ]
  },
  {
   "cell_type": "code",
   "execution_count": 24,
   "metadata": {},
   "outputs": [
    {
     "name": "stdout",
     "output_type": "stream",
     "text": [
      "head of customers df:\n",
      "              money_amount                                          \\\n",
      "                      min      max       mean           sum count   \n",
      "from_account                                                        \n",
      "1                    1.45  1960.00  14.853905  37565.525305  2529   \n",
      "100002               1.45   299.00  14.959220  15527.670740  1038   \n",
      "100019               1.45  1955.00  33.762143  22924.494825   679   \n",
      "100027               1.45   381.25  22.950110  15927.376375   694   \n",
      "10004                1.45   302.50  10.571419  13415.130350  1269   \n",
      "\n",
      "                       to_account  \n",
      "                             mode  \n",
      "from_account                       \n",
      "1             A_LOCAL_COFFEE_SHOP  \n",
      "100002                        PUB  \n",
      "100019        LOCAL_WATERING_HOLE  \n",
      "100027                       6053  \n",
      "10004                 COFFEE_SHOP  \n",
      "\n",
      " There are 12685 customers\n"
     ]
    }
   ],
   "source": [
    "#creating new dfs to summarise customers\n",
    "df_customers = df.groupby('from_account').agg({'money_amount':['min','max','mean','sum','count'], 'to_account': pd.Series.mode})\n",
    "print('head of customers df:\\n',df_customers.head())\n",
    "print('\\n There are {} customers'.format(df_customers.shape[0]))"
   ]
  },
  {
   "attachments": {},
   "cell_type": "markdown",
   "metadata": {},
   "source": [
    "I notice that some of the customer ID's look different, let's investigate this:"
   ]
  },
  {
   "cell_type": "code",
   "execution_count": 25,
   "metadata": {},
   "outputs": [
    {
     "data": {
      "text/html": [
       "<div>\n",
       "<style scoped>\n",
       "    .dataframe tbody tr th:only-of-type {\n",
       "        vertical-align: middle;\n",
       "    }\n",
       "\n",
       "    .dataframe tbody tr th {\n",
       "        vertical-align: top;\n",
       "    }\n",
       "\n",
       "    .dataframe thead tr th {\n",
       "        text-align: left;\n",
       "    }\n",
       "\n",
       "    .dataframe thead tr:last-of-type th {\n",
       "        text-align: right;\n",
       "    }\n",
       "</style>\n",
       "<table border=\"1\" class=\"dataframe\">\n",
       "  <thead>\n",
       "    <tr>\n",
       "      <th></th>\n",
       "      <th colspan=\"5\" halign=\"left\">money_amount</th>\n",
       "      <th>to_account</th>\n",
       "      <th>customer_ID</th>\n",
       "      <th>length_ID</th>\n",
       "    </tr>\n",
       "    <tr>\n",
       "      <th></th>\n",
       "      <th>min</th>\n",
       "      <th>max</th>\n",
       "      <th>mean</th>\n",
       "      <th>sum</th>\n",
       "      <th>count</th>\n",
       "      <th>mode</th>\n",
       "      <th></th>\n",
       "      <th></th>\n",
       "    </tr>\n",
       "    <tr>\n",
       "      <th>from_account</th>\n",
       "      <th></th>\n",
       "      <th></th>\n",
       "      <th></th>\n",
       "      <th></th>\n",
       "      <th></th>\n",
       "      <th></th>\n",
       "      <th></th>\n",
       "      <th></th>\n",
       "    </tr>\n",
       "  </thead>\n",
       "  <tbody>\n",
       "    <tr>\n",
       "      <th>1</th>\n",
       "      <td>1.45</td>\n",
       "      <td>1960.00</td>\n",
       "      <td>14.853905</td>\n",
       "      <td>37565.525305</td>\n",
       "      <td>2529</td>\n",
       "      <td>A_LOCAL_COFFEE_SHOP</td>\n",
       "      <td>1</td>\n",
       "      <td>1</td>\n",
       "    </tr>\n",
       "    <tr>\n",
       "      <th>100002</th>\n",
       "      <td>1.45</td>\n",
       "      <td>299.00</td>\n",
       "      <td>14.959220</td>\n",
       "      <td>15527.670740</td>\n",
       "      <td>1038</td>\n",
       "      <td>PUB</td>\n",
       "      <td>100002</td>\n",
       "      <td>6</td>\n",
       "    </tr>\n",
       "    <tr>\n",
       "      <th>100019</th>\n",
       "      <td>1.45</td>\n",
       "      <td>1955.00</td>\n",
       "      <td>33.762143</td>\n",
       "      <td>22924.494825</td>\n",
       "      <td>679</td>\n",
       "      <td>LOCAL_WATERING_HOLE</td>\n",
       "      <td>100019</td>\n",
       "      <td>6</td>\n",
       "    </tr>\n",
       "    <tr>\n",
       "      <th>100027</th>\n",
       "      <td>1.45</td>\n",
       "      <td>381.25</td>\n",
       "      <td>22.950110</td>\n",
       "      <td>15927.376375</td>\n",
       "      <td>694</td>\n",
       "      <td>6053</td>\n",
       "      <td>100027</td>\n",
       "      <td>6</td>\n",
       "    </tr>\n",
       "    <tr>\n",
       "      <th>10004</th>\n",
       "      <td>1.45</td>\n",
       "      <td>302.50</td>\n",
       "      <td>10.571419</td>\n",
       "      <td>13415.130350</td>\n",
       "      <td>1269</td>\n",
       "      <td>COFFEE_SHOP</td>\n",
       "      <td>10004</td>\n",
       "      <td>5</td>\n",
       "    </tr>\n",
       "    <tr>\n",
       "      <th>100053</th>\n",
       "      <td>1.45</td>\n",
       "      <td>1925.00</td>\n",
       "      <td>21.441289</td>\n",
       "      <td>22148.851270</td>\n",
       "      <td>1033</td>\n",
       "      <td>PUB</td>\n",
       "      <td>100053</td>\n",
       "      <td>6</td>\n",
       "    </tr>\n",
       "    <tr>\n",
       "      <th>100056</th>\n",
       "      <td>1.45</td>\n",
       "      <td>457.50</td>\n",
       "      <td>16.533270</td>\n",
       "      <td>13243.148920</td>\n",
       "      <td>801</td>\n",
       "      <td>PUB</td>\n",
       "      <td>100056</td>\n",
       "      <td>6</td>\n",
       "    </tr>\n",
       "    <tr>\n",
       "      <th>100064</th>\n",
       "      <td>1.45</td>\n",
       "      <td>330.00</td>\n",
       "      <td>15.584930</td>\n",
       "      <td>16909.648720</td>\n",
       "      <td>1085</td>\n",
       "      <td>BAR</td>\n",
       "      <td>100064</td>\n",
       "      <td>6</td>\n",
       "    </tr>\n",
       "    <tr>\n",
       "      <th>100065</th>\n",
       "      <td>1.95</td>\n",
       "      <td>1980.00</td>\n",
       "      <td>42.992085</td>\n",
       "      <td>22312.892078</td>\n",
       "      <td>519</td>\n",
       "      <td>PUB</td>\n",
       "      <td>100065</td>\n",
       "      <td>6</td>\n",
       "    </tr>\n",
       "    <tr>\n",
       "      <th>100083</th>\n",
       "      <td>1.45</td>\n",
       "      <td>198.00</td>\n",
       "      <td>13.426447</td>\n",
       "      <td>13614.417441</td>\n",
       "      <td>1014</td>\n",
       "      <td>PUB</td>\n",
       "      <td>100083</td>\n",
       "      <td>6</td>\n",
       "    </tr>\n",
       "    <tr>\n",
       "      <th>100086</th>\n",
       "      <td>1.45</td>\n",
       "      <td>581.67</td>\n",
       "      <td>16.918440</td>\n",
       "      <td>15954.088651</td>\n",
       "      <td>943</td>\n",
       "      <td>74488</td>\n",
       "      <td>100086</td>\n",
       "      <td>6</td>\n",
       "    </tr>\n",
       "    <tr>\n",
       "      <th>100098</th>\n",
       "      <td>1.45</td>\n",
       "      <td>1910.00</td>\n",
       "      <td>21.828583</td>\n",
       "      <td>25015.555845</td>\n",
       "      <td>1146</td>\n",
       "      <td>GOURMET_COFFEE_SHOP</td>\n",
       "      <td>100098</td>\n",
       "      <td>6</td>\n",
       "    </tr>\n",
       "    <tr>\n",
       "      <th>100105</th>\n",
       "      <td>1.45</td>\n",
       "      <td>1860.00</td>\n",
       "      <td>27.348284</td>\n",
       "      <td>26500.487237</td>\n",
       "      <td>969</td>\n",
       "      <td>PUB</td>\n",
       "      <td>100105</td>\n",
       "      <td>6</td>\n",
       "    </tr>\n",
       "    <tr>\n",
       "      <th>100115</th>\n",
       "      <td>1.45</td>\n",
       "      <td>268.75</td>\n",
       "      <td>13.594694</td>\n",
       "      <td>15321.220060</td>\n",
       "      <td>1127</td>\n",
       "      <td>40459</td>\n",
       "      <td>100115</td>\n",
       "      <td>6</td>\n",
       "    </tr>\n",
       "    <tr>\n",
       "      <th>10012</th>\n",
       "      <td>1.45</td>\n",
       "      <td>430.00</td>\n",
       "      <td>15.921106</td>\n",
       "      <td>13755.835963</td>\n",
       "      <td>864</td>\n",
       "      <td>PUB</td>\n",
       "      <td>10012</td>\n",
       "      <td>5</td>\n",
       "    </tr>\n",
       "  </tbody>\n",
       "</table>\n",
       "</div>"
      ],
      "text/plain": [
       "             money_amount                                          \\\n",
       "                      min      max       mean           sum count   \n",
       "from_account                                                        \n",
       "1                    1.45  1960.00  14.853905  37565.525305  2529   \n",
       "100002               1.45   299.00  14.959220  15527.670740  1038   \n",
       "100019               1.45  1955.00  33.762143  22924.494825   679   \n",
       "100027               1.45   381.25  22.950110  15927.376375   694   \n",
       "10004                1.45   302.50  10.571419  13415.130350  1269   \n",
       "100053               1.45  1925.00  21.441289  22148.851270  1033   \n",
       "100056               1.45   457.50  16.533270  13243.148920   801   \n",
       "100064               1.45   330.00  15.584930  16909.648720  1085   \n",
       "100065               1.95  1980.00  42.992085  22312.892078   519   \n",
       "100083               1.45   198.00  13.426447  13614.417441  1014   \n",
       "100086               1.45   581.67  16.918440  15954.088651   943   \n",
       "100098               1.45  1910.00  21.828583  25015.555845  1146   \n",
       "100105               1.45  1860.00  27.348284  26500.487237   969   \n",
       "100115               1.45   268.75  13.594694  15321.220060  1127   \n",
       "10012                1.45   430.00  15.921106  13755.835963   864   \n",
       "\n",
       "                       to_account customer_ID length_ID  \n",
       "                             mode                        \n",
       "from_account                                             \n",
       "1             A_LOCAL_COFFEE_SHOP           1         1  \n",
       "100002                        PUB      100002         6  \n",
       "100019        LOCAL_WATERING_HOLE      100019         6  \n",
       "100027                       6053      100027         6  \n",
       "10004                 COFFEE_SHOP       10004         5  \n",
       "100053                        PUB      100053         6  \n",
       "100056                        PUB      100056         6  \n",
       "100064                        BAR      100064         6  \n",
       "100065                        PUB      100065         6  \n",
       "100083                        PUB      100083         6  \n",
       "100086                      74488      100086         6  \n",
       "100098        GOURMET_COFFEE_SHOP      100098         6  \n",
       "100105                        PUB      100105         6  \n",
       "100115                      40459      100115         6  \n",
       "10012                         PUB       10012         5  "
      ]
     },
     "execution_count": 25,
     "metadata": {},
     "output_type": "execute_result"
    }
   ],
   "source": [
    "df_customers['customer_ID'] = df_customers.index # This can allow us to re index, as currently the indexes contain the customer ID\n",
    "df_customers['length_ID'] = df_customers['customer_ID'].apply(lambda x: len(x)) #Creating a new column with the length of the customers ID\n",
    "df_customers.head(15)"
   ]
  },
  {
   "attachments": {},
   "cell_type": "markdown",
   "metadata": {},
   "source": [
    "Let's see how the Customer ID's lengths are distributed: "
   ]
  },
  {
   "cell_type": "code",
   "execution_count": 26,
   "metadata": {},
   "outputs": [
    {
     "name": "stdout",
     "output_type": "stream",
     "text": [
      "81.892 % of the customers have account numbers of length [5]\n",
      "97.217 % of the customers have account numbers of length [5, 4]\n",
      "98.81 % of the customers have account numbers of length [5, 4, 3]\n",
      "99.819 % of the customers have account numbers of length [5, 4, 3, 6]\n",
      "99.992 % of the customers have account numbers of length [5, 4, 3, 6, 2]\n",
      "100.0 % of the customers have account numbers of length [5, 4, 3, 6, 2, 1]\n"
     ]
    }
   ],
   "source": [
    "sum = 0\n",
    "count = 0\n",
    "list = []\n",
    "for i in df_customers['length_ID'].value_counts():\n",
    "    list.append(df_customers['length_ID'].value_counts().index[count])\n",
    "    sum += i\n",
    "    print(round(sum/len(df_customers)*100,3),'% of the customers have account numbers of length', list)\n",
    "    count+=1"
   ]
  },
  {
   "cell_type": "code",
   "execution_count": 85,
   "metadata": {},
   "outputs": [
    {
     "data": {
      "text/html": [
       "<div>\n",
       "<style scoped>\n",
       "    .dataframe tbody tr th:only-of-type {\n",
       "        vertical-align: middle;\n",
       "    }\n",
       "\n",
       "    .dataframe tbody tr th {\n",
       "        vertical-align: top;\n",
       "    }\n",
       "\n",
       "    .dataframe thead tr th {\n",
       "        text-align: left;\n",
       "    }\n",
       "\n",
       "    .dataframe thead tr:last-of-type th {\n",
       "        text-align: right;\n",
       "    }\n",
       "</style>\n",
       "<table border=\"1\" class=\"dataframe\">\n",
       "  <thead>\n",
       "    <tr>\n",
       "      <th></th>\n",
       "      <th colspan=\"5\" halign=\"left\">money_amount</th>\n",
       "      <th>to_account</th>\n",
       "      <th>customer_ID</th>\n",
       "      <th>length_ID</th>\n",
       "    </tr>\n",
       "    <tr>\n",
       "      <th></th>\n",
       "      <th>min</th>\n",
       "      <th>max</th>\n",
       "      <th>mean</th>\n",
       "      <th>sum</th>\n",
       "      <th>count</th>\n",
       "      <th>mode</th>\n",
       "      <th></th>\n",
       "      <th></th>\n",
       "    </tr>\n",
       "    <tr>\n",
       "      <th>from_account</th>\n",
       "      <th></th>\n",
       "      <th></th>\n",
       "      <th></th>\n",
       "      <th></th>\n",
       "      <th></th>\n",
       "      <th></th>\n",
       "      <th></th>\n",
       "      <th></th>\n",
       "    </tr>\n",
       "  </thead>\n",
       "  <tbody>\n",
       "    <tr>\n",
       "      <th>1</th>\n",
       "      <td>1.45</td>\n",
       "      <td>1960.00</td>\n",
       "      <td>14.853905</td>\n",
       "      <td>37565.525305</td>\n",
       "      <td>2529</td>\n",
       "      <td>A_LOCAL_COFFEE_SHOP</td>\n",
       "      <td>1</td>\n",
       "      <td>1</td>\n",
       "    </tr>\n",
       "    <tr>\n",
       "      <th>100002</th>\n",
       "      <td>1.45</td>\n",
       "      <td>299.00</td>\n",
       "      <td>14.959220</td>\n",
       "      <td>15527.670740</td>\n",
       "      <td>1038</td>\n",
       "      <td>PUB</td>\n",
       "      <td>100002</td>\n",
       "      <td>6</td>\n",
       "    </tr>\n",
       "    <tr>\n",
       "      <th>100019</th>\n",
       "      <td>1.45</td>\n",
       "      <td>1955.00</td>\n",
       "      <td>33.762143</td>\n",
       "      <td>22924.494825</td>\n",
       "      <td>679</td>\n",
       "      <td>LOCAL_WATERING_HOLE</td>\n",
       "      <td>100019</td>\n",
       "      <td>6</td>\n",
       "    </tr>\n",
       "    <tr>\n",
       "      <th>100027</th>\n",
       "      <td>1.45</td>\n",
       "      <td>381.25</td>\n",
       "      <td>22.950110</td>\n",
       "      <td>15927.376375</td>\n",
       "      <td>694</td>\n",
       "      <td>6053</td>\n",
       "      <td>100027</td>\n",
       "      <td>6</td>\n",
       "    </tr>\n",
       "    <tr>\n",
       "      <th>10004</th>\n",
       "      <td>1.45</td>\n",
       "      <td>302.50</td>\n",
       "      <td>10.571419</td>\n",
       "      <td>13415.130350</td>\n",
       "      <td>1269</td>\n",
       "      <td>COFFEE_SHOP</td>\n",
       "      <td>10004</td>\n",
       "      <td>5</td>\n",
       "    </tr>\n",
       "    <tr>\n",
       "      <th>...</th>\n",
       "      <td>...</td>\n",
       "      <td>...</td>\n",
       "      <td>...</td>\n",
       "      <td>...</td>\n",
       "      <td>...</td>\n",
       "      <td>...</td>\n",
       "      <td>...</td>\n",
       "      <td>...</td>\n",
       "    </tr>\n",
       "    <tr>\n",
       "      <th>99952</th>\n",
       "      <td>1.45</td>\n",
       "      <td>1940.00</td>\n",
       "      <td>26.129842</td>\n",
       "      <td>24535.921327</td>\n",
       "      <td>939</td>\n",
       "      <td>55586</td>\n",
       "      <td>99952</td>\n",
       "      <td>5</td>\n",
       "    </tr>\n",
       "    <tr>\n",
       "      <th>99963</th>\n",
       "      <td>1.45</td>\n",
       "      <td>293.75</td>\n",
       "      <td>19.951553</td>\n",
       "      <td>10454.613879</td>\n",
       "      <td>524</td>\n",
       "      <td>BAR</td>\n",
       "      <td>99963</td>\n",
       "      <td>5</td>\n",
       "    </tr>\n",
       "    <tr>\n",
       "      <th>99965</th>\n",
       "      <td>1.45</td>\n",
       "      <td>1835.00</td>\n",
       "      <td>21.318746</td>\n",
       "      <td>25518.538713</td>\n",
       "      <td>1197</td>\n",
       "      <td>LOCAL_WATERING_HOLE</td>\n",
       "      <td>99965</td>\n",
       "      <td>5</td>\n",
       "    </tr>\n",
       "    <tr>\n",
       "      <th>99988</th>\n",
       "      <td>1.45</td>\n",
       "      <td>1855.00</td>\n",
       "      <td>24.410882</td>\n",
       "      <td>22165.080656</td>\n",
       "      <td>908</td>\n",
       "      <td>BAR</td>\n",
       "      <td>99988</td>\n",
       "      <td>5</td>\n",
       "    </tr>\n",
       "    <tr>\n",
       "      <th>99998</th>\n",
       "      <td>1.45</td>\n",
       "      <td>291.67</td>\n",
       "      <td>22.024225</td>\n",
       "      <td>18346.179752</td>\n",
       "      <td>833</td>\n",
       "      <td>PUB</td>\n",
       "      <td>99998</td>\n",
       "      <td>5</td>\n",
       "    </tr>\n",
       "  </tbody>\n",
       "</table>\n",
       "<p>12685 rows × 8 columns</p>\n",
       "</div>"
      ],
      "text/plain": [
       "             money_amount                                          \\\n",
       "                      min      max       mean           sum count   \n",
       "from_account                                                        \n",
       "1                    1.45  1960.00  14.853905  37565.525305  2529   \n",
       "100002               1.45   299.00  14.959220  15527.670740  1038   \n",
       "100019               1.45  1955.00  33.762143  22924.494825   679   \n",
       "100027               1.45   381.25  22.950110  15927.376375   694   \n",
       "10004                1.45   302.50  10.571419  13415.130350  1269   \n",
       "...                   ...      ...        ...           ...   ...   \n",
       "99952                1.45  1940.00  26.129842  24535.921327   939   \n",
       "99963                1.45   293.75  19.951553  10454.613879   524   \n",
       "99965                1.45  1835.00  21.318746  25518.538713  1197   \n",
       "99988                1.45  1855.00  24.410882  22165.080656   908   \n",
       "99998                1.45   291.67  22.024225  18346.179752   833   \n",
       "\n",
       "                       to_account customer_ID length_ID  \n",
       "                             mode                        \n",
       "from_account                                             \n",
       "1             A_LOCAL_COFFEE_SHOP           1         1  \n",
       "100002                        PUB      100002         6  \n",
       "100019        LOCAL_WATERING_HOLE      100019         6  \n",
       "100027                       6053      100027         6  \n",
       "10004                 COFFEE_SHOP       10004         5  \n",
       "...                           ...         ...       ...  \n",
       "99952                       55586       99952         5  \n",
       "99963                         BAR       99963         5  \n",
       "99965         LOCAL_WATERING_HOLE       99965         5  \n",
       "99988                         BAR       99988         5  \n",
       "99998                         PUB       99998         5  \n",
       "\n",
       "[12685 rows x 8 columns]"
      ]
     },
     "execution_count": 85,
     "metadata": {},
     "output_type": "execute_result"
    }
   ],
   "source": [
    "df_customers"
   ]
  },
  {
   "cell_type": "code",
   "execution_count": 88,
   "metadata": {},
   "outputs": [
    {
     "data": {
      "text/html": [
       "<div>\n",
       "<style scoped>\n",
       "    .dataframe tbody tr th:only-of-type {\n",
       "        vertical-align: middle;\n",
       "    }\n",
       "\n",
       "    .dataframe tbody tr th {\n",
       "        vertical-align: top;\n",
       "    }\n",
       "\n",
       "    .dataframe thead tr th {\n",
       "        text-align: left;\n",
       "    }\n",
       "\n",
       "    .dataframe thead tr:last-of-type th {\n",
       "        text-align: right;\n",
       "    }\n",
       "</style>\n",
       "<table border=\"1\" class=\"dataframe\">\n",
       "  <thead>\n",
       "    <tr>\n",
       "      <th></th>\n",
       "      <th colspan=\"5\" halign=\"left\">money_amount</th>\n",
       "      <th>to_account</th>\n",
       "      <th>customer_ID</th>\n",
       "      <th>length_ID</th>\n",
       "    </tr>\n",
       "    <tr>\n",
       "      <th></th>\n",
       "      <th>min</th>\n",
       "      <th>max</th>\n",
       "      <th>mean</th>\n",
       "      <th>sum</th>\n",
       "      <th>count</th>\n",
       "      <th>mode</th>\n",
       "      <th></th>\n",
       "      <th></th>\n",
       "    </tr>\n",
       "    <tr>\n",
       "      <th>from_account</th>\n",
       "      <th></th>\n",
       "      <th></th>\n",
       "      <th></th>\n",
       "      <th></th>\n",
       "      <th></th>\n",
       "      <th></th>\n",
       "      <th></th>\n",
       "      <th></th>\n",
       "    </tr>\n",
       "  </thead>\n",
       "  <tbody>\n",
       "    <tr>\n",
       "      <th>1</th>\n",
       "      <td>1.45</td>\n",
       "      <td>1960.00</td>\n",
       "      <td>14.853905</td>\n",
       "      <td>37565.525305</td>\n",
       "      <td>2529</td>\n",
       "      <td>A_LOCAL_COFFEE_SHOP</td>\n",
       "      <td>1</td>\n",
       "      <td>1</td>\n",
       "    </tr>\n",
       "    <tr>\n",
       "      <th>100002</th>\n",
       "      <td>1.45</td>\n",
       "      <td>299.00</td>\n",
       "      <td>14.959220</td>\n",
       "      <td>15527.670740</td>\n",
       "      <td>1038</td>\n",
       "      <td>PUB</td>\n",
       "      <td>100002</td>\n",
       "      <td>6</td>\n",
       "    </tr>\n",
       "    <tr>\n",
       "      <th>100019</th>\n",
       "      <td>1.45</td>\n",
       "      <td>1955.00</td>\n",
       "      <td>33.762143</td>\n",
       "      <td>22924.494825</td>\n",
       "      <td>679</td>\n",
       "      <td>LOCAL_WATERING_HOLE</td>\n",
       "      <td>100019</td>\n",
       "      <td>6</td>\n",
       "    </tr>\n",
       "    <tr>\n",
       "      <th>100027</th>\n",
       "      <td>1.45</td>\n",
       "      <td>381.25</td>\n",
       "      <td>22.950110</td>\n",
       "      <td>15927.376375</td>\n",
       "      <td>694</td>\n",
       "      <td>6053</td>\n",
       "      <td>100027</td>\n",
       "      <td>6</td>\n",
       "    </tr>\n",
       "    <tr>\n",
       "      <th>10004</th>\n",
       "      <td>1.45</td>\n",
       "      <td>302.50</td>\n",
       "      <td>10.571419</td>\n",
       "      <td>13415.130350</td>\n",
       "      <td>1269</td>\n",
       "      <td>COFFEE_SHOP</td>\n",
       "      <td>10004</td>\n",
       "      <td>5</td>\n",
       "    </tr>\n",
       "  </tbody>\n",
       "</table>\n",
       "</div>"
      ],
      "text/plain": [
       "             money_amount                                          \\\n",
       "                      min      max       mean           sum count   \n",
       "from_account                                                        \n",
       "1                    1.45  1960.00  14.853905  37565.525305  2529   \n",
       "100002               1.45   299.00  14.959220  15527.670740  1038   \n",
       "100019               1.45  1955.00  33.762143  22924.494825   679   \n",
       "100027               1.45   381.25  22.950110  15927.376375   694   \n",
       "10004                1.45   302.50  10.571419  13415.130350  1269   \n",
       "\n",
       "                       to_account customer_ID length_ID  \n",
       "                             mode                        \n",
       "from_account                                             \n",
       "1             A_LOCAL_COFFEE_SHOP           1         1  \n",
       "100002                        PUB      100002         6  \n",
       "100019        LOCAL_WATERING_HOLE      100019         6  \n",
       "100027                       6053      100027         6  \n",
       "10004                 COFFEE_SHOP       10004         5  "
      ]
     },
     "execution_count": 88,
     "metadata": {},
     "output_type": "execute_result"
    }
   ],
   "source": [
    "df_customers_copy = df_customers.copy()[:5]\n",
    "df_customers_copy"
   ]
  },
  {
   "cell_type": "code",
   "execution_count": 96,
   "metadata": {},
   "outputs": [],
   "source": [
    "\n",
    "df_customers_copy['Pub_Sum'] = df_customers_copy['customer_ID'].apply(lambda x: df[(df.from_account == x) & (df.to_account == 'PUB')]['money_amount'].sum())"
   ]
  },
  {
   "cell_type": "code",
   "execution_count": 95,
   "metadata": {},
   "outputs": [
    {
     "data": {
      "text/html": [
       "<div>\n",
       "<style scoped>\n",
       "    .dataframe tbody tr th:only-of-type {\n",
       "        vertical-align: middle;\n",
       "    }\n",
       "\n",
       "    .dataframe tbody tr th {\n",
       "        vertical-align: top;\n",
       "    }\n",
       "\n",
       "    .dataframe thead tr th {\n",
       "        text-align: left;\n",
       "    }\n",
       "\n",
       "    .dataframe thead tr:last-of-type th {\n",
       "        text-align: right;\n",
       "    }\n",
       "</style>\n",
       "<table border=\"1\" class=\"dataframe\">\n",
       "  <thead>\n",
       "    <tr>\n",
       "      <th></th>\n",
       "      <th colspan=\"5\" halign=\"left\">money_amount</th>\n",
       "      <th>to_account</th>\n",
       "      <th>customer_ID</th>\n",
       "      <th>length_ID</th>\n",
       "      <th>Pub_Sum</th>\n",
       "      <th>Pub_Sum2</th>\n",
       "    </tr>\n",
       "    <tr>\n",
       "      <th></th>\n",
       "      <th>min</th>\n",
       "      <th>max</th>\n",
       "      <th>mean</th>\n",
       "      <th>sum</th>\n",
       "      <th>count</th>\n",
       "      <th>mode</th>\n",
       "      <th></th>\n",
       "      <th></th>\n",
       "      <th></th>\n",
       "      <th></th>\n",
       "    </tr>\n",
       "    <tr>\n",
       "      <th>from_account</th>\n",
       "      <th></th>\n",
       "      <th></th>\n",
       "      <th></th>\n",
       "      <th></th>\n",
       "      <th></th>\n",
       "      <th></th>\n",
       "      <th></th>\n",
       "      <th></th>\n",
       "      <th></th>\n",
       "      <th></th>\n",
       "    </tr>\n",
       "  </thead>\n",
       "  <tbody>\n",
       "    <tr>\n",
       "      <th>1</th>\n",
       "      <td>1.45</td>\n",
       "      <td>1960.00</td>\n",
       "      <td>14.853905</td>\n",
       "      <td>37565.525305</td>\n",
       "      <td>2529</td>\n",
       "      <td>A_LOCAL_COFFEE_SHOP</td>\n",
       "      <td>1</td>\n",
       "      <td>1</td>\n",
       "      <td>2057.885097</td>\n",
       "      <td>2057.885097</td>\n",
       "    </tr>\n",
       "    <tr>\n",
       "      <th>100002</th>\n",
       "      <td>1.45</td>\n",
       "      <td>299.00</td>\n",
       "      <td>14.959220</td>\n",
       "      <td>15527.670740</td>\n",
       "      <td>1038</td>\n",
       "      <td>PUB</td>\n",
       "      <td>100002</td>\n",
       "      <td>6</td>\n",
       "      <td>817.316410</td>\n",
       "      <td>817.316410</td>\n",
       "    </tr>\n",
       "    <tr>\n",
       "      <th>100019</th>\n",
       "      <td>1.45</td>\n",
       "      <td>1955.00</td>\n",
       "      <td>33.762143</td>\n",
       "      <td>22924.494825</td>\n",
       "      <td>679</td>\n",
       "      <td>LOCAL_WATERING_HOLE</td>\n",
       "      <td>100019</td>\n",
       "      <td>6</td>\n",
       "      <td>880.810000</td>\n",
       "      <td>880.810000</td>\n",
       "    </tr>\n",
       "    <tr>\n",
       "      <th>100027</th>\n",
       "      <td>1.45</td>\n",
       "      <td>381.25</td>\n",
       "      <td>22.950110</td>\n",
       "      <td>15927.376375</td>\n",
       "      <td>694</td>\n",
       "      <td>6053</td>\n",
       "      <td>100027</td>\n",
       "      <td>6</td>\n",
       "      <td>634.830667</td>\n",
       "      <td>634.830667</td>\n",
       "    </tr>\n",
       "    <tr>\n",
       "      <th>10004</th>\n",
       "      <td>1.45</td>\n",
       "      <td>302.50</td>\n",
       "      <td>10.571419</td>\n",
       "      <td>13415.130350</td>\n",
       "      <td>1269</td>\n",
       "      <td>COFFEE_SHOP</td>\n",
       "      <td>10004</td>\n",
       "      <td>5</td>\n",
       "      <td>698.794808</td>\n",
       "      <td>698.794808</td>\n",
       "    </tr>\n",
       "  </tbody>\n",
       "</table>\n",
       "</div>"
      ],
      "text/plain": [
       "             money_amount                                          \\\n",
       "                      min      max       mean           sum count   \n",
       "from_account                                                        \n",
       "1                    1.45  1960.00  14.853905  37565.525305  2529   \n",
       "100002               1.45   299.00  14.959220  15527.670740  1038   \n",
       "100019               1.45  1955.00  33.762143  22924.494825   679   \n",
       "100027               1.45   381.25  22.950110  15927.376375   694   \n",
       "10004                1.45   302.50  10.571419  13415.130350  1269   \n",
       "\n",
       "                       to_account customer_ID length_ID      Pub_Sum  \\\n",
       "                             mode                                      \n",
       "from_account                                                           \n",
       "1             A_LOCAL_COFFEE_SHOP           1         1  2057.885097   \n",
       "100002                        PUB      100002         6   817.316410   \n",
       "100019        LOCAL_WATERING_HOLE      100019         6   880.810000   \n",
       "100027                       6053      100027         6   634.830667   \n",
       "10004                 COFFEE_SHOP       10004         5   698.794808   \n",
       "\n",
       "                 Pub_Sum2  \n",
       "                           \n",
       "from_account               \n",
       "1             2057.885097  \n",
       "100002         817.316410  \n",
       "100019         880.810000  \n",
       "100027         634.830667  \n",
       "10004          698.794808  "
      ]
     },
     "execution_count": 95,
     "metadata": {},
     "output_type": "execute_result"
    }
   ],
   "source": [
    "df_customers_copy"
   ]
  },
  {
   "attachments": {},
   "cell_type": "markdown",
   "metadata": {},
   "source": [
    "I see no need to remove any of this data at this point"
   ]
  },
  {
   "cell_type": "code",
   "execution_count": 113,
   "metadata": {},
   "outputs": [
    {
     "name": "stdout",
     "output_type": "stream",
     "text": [
      "\n",
      " head of customers between df:              money_amount                                          \\\n",
      "                      min      max       mean           sum count   \n",
      "from_account                                                        \n",
      "1                    1.45  1960.00  14.853905  37565.525305  2529   \n",
      "100002               1.45   299.00  14.959220  15527.670740  1038   \n",
      "100019               1.45  1955.00  33.762143  22924.494825   679   \n",
      "100027               1.45   381.25  22.950110  15927.376375   694   \n",
      "10004                1.45   302.50  10.571419  13415.130350  1269   \n",
      "\n",
      "                       to_account customer_ID length_ID  \n",
      "                             mode                        \n",
      "from_account                                             \n",
      "1             A_LOCAL_COFFEE_SHOP           1         1  \n",
      "100002                        PUB      100002         6  \n",
      "100019        LOCAL_WATERING_HOLE      100019         6  \n",
      "100027                       6053      100027         6  \n",
      "10004                 COFFEE_SHOP       10004         5  \n",
      "\n",
      " head of customers expenditure df:              money_amount                                          \\\n",
      "                      min      max       mean           sum count   \n",
      "from_account                                                        \n",
      "1                    1.45  1960.00  14.853905  37565.525305  2529   \n",
      "100002               1.45   299.00  14.959220  15527.670740  1038   \n",
      "100019               1.45  1955.00  33.762143  22924.494825   679   \n",
      "100027               1.45   381.25  22.950110  15927.376375   694   \n",
      "10004                1.45   302.50  10.571419  13415.130350  1269   \n",
      "\n",
      "                       to_account customer_ID length_ID  \n",
      "                             mode                        \n",
      "from_account                                             \n",
      "1             A_LOCAL_COFFEE_SHOP           1         1  \n",
      "100002                        PUB      100002         6  \n",
      "100019        LOCAL_WATERING_HOLE      100019         6  \n",
      "100027                       6053      100027         6  \n",
      "10004                 COFFEE_SHOP       10004         5  \n"
     ]
    }
   ],
   "source": [
    "#creating new dfs to summarise customers\n",
    "\n",
    "\n",
    "df_customers_between = df_between.groupby('from_account').agg({'money_amount':['min','max','mean','sum','count'], 'to_account': pd.Series.mode})\n",
    "print('\\n head of customers between df:',df_customers.head())\n",
    "\n",
    "df_customers_expenditure = df_expenditure.groupby('from_account').agg({'money_amount':['min','max','mean','sum','count'], 'to_account': pd.Series.mode})\n",
    "print('\\n head of customers expenditure df:',df_customers.head())\n"
   ]
  }
 ],
 "metadata": {
  "kernelspec": {
   "display_name": "Python 3",
   "language": "python",
   "name": "python3"
  },
  "language_info": {
   "codemirror_mode": {
    "name": "ipython",
    "version": 3
   },
   "file_extension": ".py",
   "mimetype": "text/x-python",
   "name": "python",
   "nbconvert_exporter": "python",
   "pygments_lexer": "ipython3",
   "version": "3.9.7"
  },
  "orig_nbformat": 4
 },
 "nbformat": 4,
 "nbformat_minor": 2
}
