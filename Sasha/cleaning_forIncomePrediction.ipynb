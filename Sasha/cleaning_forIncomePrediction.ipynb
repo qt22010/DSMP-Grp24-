{
 "cells": [
  {
   "attachments": {},
   "cell_type": "markdown",
   "metadata": {},
   "source": [
    "# Data cleaning for income prediction "
   ]
  },
  {
   "cell_type": "code",
   "execution_count": 53,
   "metadata": {},
   "outputs": [],
   "source": [
    "#importing packages \n",
    "import pandas as pd\n",
    "import numpy as np\n",
    "import matplotlib.pyplot as plt\n",
    "import seaborn as sns"
   ]
  },
  {
   "attachments": {},
   "cell_type": "markdown",
   "metadata": {},
   "source": [
    "### Loading in the data"
   ]
  },
  {
   "cell_type": "code",
   "execution_count": 54,
   "metadata": {},
   "outputs": [
    {
     "name": "stdout",
     "output_type": "stream",
     "text": [
      "(12004116, 4)\n"
     ]
    }
   ],
   "source": [
    "#loading dataset \n",
    "df=pd.read_csv(\"/Users/sasha/Desktop/DATASCIENCE/2023/Mini-Project/data.nosync/fake_transactional_data.csv\")\n",
    "#renaming the rows \n",
    "df=df.rename(columns={'from_totally_fake_account':'from_account', 'monopoly_money_amount':'money_amount', 'to_randomly_generated_account':'to_account', 'not_happened_yet_date':'date'})\n",
    "print(np.shape(df))"
   ]
  },
  {
   "attachments": {},
   "cell_type": "markdown",
   "metadata": {},
   "source": [
    "All from_account values have a trailing '.0', let's remove this so it looks better:"
   ]
  },
  {
   "cell_type": "code",
   "execution_count": 55,
   "metadata": {},
   "outputs": [],
   "source": [
    "#apply a function to strip '.0' from the accounts if not NaN. To strip we must also change to a string\n",
    "df['from_account'] = df['from_account'].apply(lambda x: str(x).strip('.0') if str(x) != 'nan' else x)\n"
   ]
  },
  {
   "attachments": {},
   "cell_type": "markdown",
   "metadata": {},
   "source": [
    "### A few modifications"
   ]
  },
  {
   "cell_type": "code",
   "execution_count": 56,
   "metadata": {},
   "outputs": [],
   "source": [
    "#converting date to date format\n",
    "df[\"date\"] = pd.to_datetime(df[\"date\"], dayfirst=True)"
   ]
  },
  {
   "attachments": {},
   "cell_type": "markdown",
   "metadata": {},
   "source": [
    "Adding a transaction ID column"
   ]
  },
  {
   "cell_type": "code",
   "execution_count": 57,
   "metadata": {},
   "outputs": [],
   "source": [
    "#Transaction ID's for now are just the indexes, this provides each transaction with a unique ID.\n",
    "df['transaction_ID'] = df.index"
   ]
  },
  {
   "cell_type": "markdown",
   "metadata": {},
   "source": [
    "### Merging df with business categories df\n",
    "\n",
    "This allows us to categorise each transactions by what type of spending it is"
   ]
  },
  {
   "cell_type": "code",
   "execution_count": 58,
   "metadata": {},
   "outputs": [],
   "source": [
    "normal_inferior = pd.read_csv('/Users/sasha/Desktop/DATASCIENCE/2023/Mini-Project/data.nosync/normal_inferior.csv', encoding='iso-8859-1') #Loading in the df that categorises businesses\n",
    "normal_inferior = normal_inferior.drop(['Unnamed: 0'], axis =1)\n",
    "normal_inferior=normal_inferior.rename(columns={'To account':'to_account', 'Type of spending':'type_'})"
   ]
  },
  {
   "cell_type": "code",
   "execution_count": 59,
   "metadata": {},
   "outputs": [
    {
     "data": {
      "text/html": [
       "<div>\n",
       "<style scoped>\n",
       "    .dataframe tbody tr th:only-of-type {\n",
       "        vertical-align: middle;\n",
       "    }\n",
       "\n",
       "    .dataframe tbody tr th {\n",
       "        vertical-align: top;\n",
       "    }\n",
       "\n",
       "    .dataframe thead th {\n",
       "        text-align: right;\n",
       "    }\n",
       "</style>\n",
       "<table border=\"1\" class=\"dataframe\">\n",
       "  <thead>\n",
       "    <tr style=\"text-align: right;\">\n",
       "      <th></th>\n",
       "      <th>from_account</th>\n",
       "      <th>money_amount</th>\n",
       "      <th>to_account</th>\n",
       "      <th>date</th>\n",
       "      <th>transaction_ID</th>\n",
       "      <th>Categorised</th>\n",
       "      <th>type</th>\n",
       "    </tr>\n",
       "  </thead>\n",
       "  <tbody>\n",
       "    <tr>\n",
       "      <th>0</th>\n",
       "      <td>NaN</td>\n",
       "      <td>4.00</td>\n",
       "      <td>CINEMA</td>\n",
       "      <td>2025-01-01</td>\n",
       "      <td>0</td>\n",
       "      <td>Cinema</td>\n",
       "      <td>Normal</td>\n",
       "    </tr>\n",
       "    <tr>\n",
       "      <th>1</th>\n",
       "      <td>40544</td>\n",
       "      <td>4.60</td>\n",
       "      <td>A_LOCAL_COFFEE_SHOP</td>\n",
       "      <td>2025-01-01</td>\n",
       "      <td>1</td>\n",
       "      <td>Coffee shop</td>\n",
       "      <td>Normal</td>\n",
       "    </tr>\n",
       "    <tr>\n",
       "      <th>2</th>\n",
       "      <td>88339</td>\n",
       "      <td>2.40</td>\n",
       "      <td>40544</td>\n",
       "      <td>2025-01-01</td>\n",
       "      <td>2</td>\n",
       "      <td>betweeen</td>\n",
       "      <td>betweeen</td>\n",
       "    </tr>\n",
       "    <tr>\n",
       "      <th>3</th>\n",
       "      <td>85149</td>\n",
       "      <td>4.65</td>\n",
       "      <td>A_LOCAL_COFFEE_SHOP</td>\n",
       "      <td>2025-01-01</td>\n",
       "      <td>3</td>\n",
       "      <td>Coffee shop</td>\n",
       "      <td>Normal</td>\n",
       "    </tr>\n",
       "    <tr>\n",
       "      <th>4</th>\n",
       "      <td>18555</td>\n",
       "      <td>2.40</td>\n",
       "      <td>85149</td>\n",
       "      <td>2025-01-01</td>\n",
       "      <td>4</td>\n",
       "      <td>betweeen</td>\n",
       "      <td>betweeen</td>\n",
       "    </tr>\n",
       "  </tbody>\n",
       "</table>\n",
       "</div>"
      ],
      "text/plain": [
       "  from_account  money_amount           to_account       date  transaction_ID  \\\n",
       "0          NaN          4.00               CINEMA 2025-01-01               0   \n",
       "1        40544          4.60  A_LOCAL_COFFEE_SHOP 2025-01-01               1   \n",
       "2        88339          2.40                40544 2025-01-01               2   \n",
       "3        85149          4.65  A_LOCAL_COFFEE_SHOP 2025-01-01               3   \n",
       "4        18555          2.40                85149 2025-01-01               4   \n",
       "\n",
       "   Categorised      type  \n",
       "0       Cinema   Normal   \n",
       "1  Coffee shop   Normal   \n",
       "2     betweeen  betweeen  \n",
       "3  Coffee shop   Normal   \n",
       "4     betweeen  betweeen  "
      ]
     },
     "execution_count": 59,
     "metadata": {},
     "output_type": "execute_result"
    }
   ],
   "source": [
    "df = pd.merge(df, normal_inferior, how='outer').sort_values(by=['transaction_ID']).reset_index() #Merging the df's\n",
    "df = df.drop('index', axis=1)\n",
    "df['type'] = df['type'].fillna('betweeen') #Many of the payments are not to businesses, so here we are making up for that\n",
    "df['Categorised'] = df['Categorised'].fillna('betweeen') #Many of the payments are not to businesses, so here we are making up for that\n",
    "df.loc[(pd.isna(df.to_account)), 'type'] = np.nan #Where we have no info about where the money is going we cannot categorise it\n",
    "df.loc[(pd.isna(df.to_account)), 'Categorised'] = np.nan #Where we have no info about where the money is going we cannot categorise it\n",
    "df.head()\n"
   ]
  },
  {
   "cell_type": "code",
   "execution_count": 60,
   "metadata": {},
   "outputs": [],
   "source": [
    "df['transaction_ID'] = df['transaction_ID'].astype(int)\n"
   ]
  },
  {
   "attachments": {},
   "cell_type": "markdown",
   "metadata": {},
   "source": [
    "### Describing the data"
   ]
  },
  {
   "cell_type": "code",
   "execution_count": 61,
   "metadata": {},
   "outputs": [
    {
     "name": "stdout",
     "output_type": "stream",
     "text": [
      "\n",
      " shape: (12004116, 7)\n",
      "\n",
      " head: \n",
      "   from_account  money_amount           to_account       date  transaction_ID  \\\n",
      "0          NaN          4.00               CINEMA 2025-01-01               0   \n",
      "1        40544          4.60  A_LOCAL_COFFEE_SHOP 2025-01-01               1   \n",
      "2        88339          2.40                40544 2025-01-01               2   \n",
      "3        85149          4.65  A_LOCAL_COFFEE_SHOP 2025-01-01               3   \n",
      "4        18555          2.40                85149 2025-01-01               4   \n",
      "\n",
      "   Categorised      type  \n",
      "0       Cinema   Normal   \n",
      "1  Coffee shop   Normal   \n",
      "2     betweeen  betweeen  \n",
      "3  Coffee shop   Normal   \n",
      "4     betweeen  betweeen  \n",
      "\n",
      " info:\n",
      "<class 'pandas.core.frame.DataFrame'>\n",
      "RangeIndex: 12004116 entries, 0 to 12004115\n",
      "Data columns (total 7 columns):\n",
      " #   Column          Dtype         \n",
      "---  ------          -----         \n",
      " 0   from_account    object        \n",
      " 1   money_amount    float64       \n",
      " 2   to_account      object        \n",
      " 3   date            datetime64[ns]\n",
      " 4   transaction_ID  int64         \n",
      " 5   Categorised     object        \n",
      " 6   type            object        \n",
      "dtypes: datetime64[ns](1), float64(1), int64(1), object(4)\n",
      "memory usage: 641.1+ MB\n",
      "\n",
      " Date range: 2025-01-01 00:00:00 2025-10-02 00:00:00\n"
     ]
    }
   ],
   "source": [
    "#check dimensions of the data\n",
    "print('\\n shape:',df.shape)\n",
    "\n",
    "print('\\n head: \\n', df.head())\n",
    "print('\\n info:')\n",
    "df.info()\n",
    "\n",
    "# Finding out the range of dates\n",
    "print('\\n Date range:', df[\"date\"].min(), df[\"date\"].max())"
   ]
  },
  {
   "attachments": {},
   "cell_type": "markdown",
   "metadata": {},
   "source": [
    "#### Map of missing Values"
   ]
  },
  {
   "cell_type": "code",
   "execution_count": 62,
   "metadata": {},
   "outputs": [
    {
     "data": {
      "text/plain": [
       "\"plt.figure(figsize=(10, 6))\\nsns.heatmap(df.isnull(), yticklabels=False, cmap='viridis', cbar=False)\""
      ]
     },
     "execution_count": 62,
     "metadata": {},
     "output_type": "execute_result"
    }
   ],
   "source": [
    "#Visualizing the missing values\n",
    "\"\"\"plt.figure(figsize=(10, 6))\n",
    "sns.heatmap(df.isnull(), yticklabels=False, cmap='viridis', cbar=False)\"\"\""
   ]
  },
  {
   "attachments": {},
   "cell_type": "markdown",
   "metadata": {},
   "source": [
    "Here I am just checking for any obvious patterns in the NaN values, such as transactions where each feature is NaN"
   ]
  },
  {
   "attachments": {},
   "cell_type": "markdown",
   "metadata": {},
   "source": [
    "#### This function returns the NA status of each column"
   ]
  },
  {
   "cell_type": "code",
   "execution_count": 63,
   "metadata": {},
   "outputs": [],
   "source": [
    "def missing_cols(df):\n",
    "    '''prints out columns with its amount of missing values'''\n",
    "    total = 0\n",
    "    for col in df.columns:\n",
    "        missing_vals = df[col].isnull().sum()\n",
    "        total += missing_vals\n",
    "        if missing_vals != 0:\n",
    "            print(f\"{col} => {df[col].isnull().sum()}\")\n",
    "        if missing_vals == 0:\n",
    "             print(f\"{col} => No missing values\")\n",
    "        pct = df[col].isna().mean() * 100\n",
    "        if (pct != 0):\n",
    "            print('{} => {}%'.format(col, round(pct, 2)))\n",
    "    \n",
    "    if total == 0:\n",
    "        print(\"no missing values left\")"
   ]
  },
  {
   "cell_type": "code",
   "execution_count": 64,
   "metadata": {},
   "outputs": [
    {
     "name": "stdout",
     "output_type": "stream",
     "text": [
      "\n",
      " How many missing values each columns has and what percentage this is:\n",
      "from_account => 139974\n",
      "from_account => 1.17%\n",
      "money_amount => 140256\n",
      "money_amount => 1.17%\n",
      "to_account => 140100\n",
      "to_account => 1.17%\n",
      "date => 1\n",
      "date => 0.0%\n",
      "transaction_ID => No missing values\n",
      "Categorised => 140100\n",
      "Categorised => 1.17%\n",
      "type => 140100\n",
      "type => 1.17%\n"
     ]
    }
   ],
   "source": [
    "print(\"\\n How many missing values each columns has and what percentage this is:\")    \n",
    "#Using the function above to see our missing values  \n",
    "missing_cols(df)       \n"
   ]
  },
  {
   "attachments": {},
   "cell_type": "markdown",
   "metadata": {},
   "source": [
    "While 1% does not seem like a lot, this is hundreds of thousands of rows, so we shall not by so quick to discard them. \n",
    "We seem to have one interesting case where there is one missing date. "
   ]
  },
  {
   "cell_type": "code",
   "execution_count": 65,
   "metadata": {},
   "outputs": [
    {
     "data": {
      "text/plain": [
       "array([12004115])"
      ]
     },
     "execution_count": 65,
     "metadata": {},
     "output_type": "execute_result"
    }
   ],
   "source": [
    "np.where(df['date'].isna())[0]"
   ]
  },
  {
   "cell_type": "code",
   "execution_count": 66,
   "metadata": {},
   "outputs": [
    {
     "data": {
      "text/plain": [
       "from_account          100694\n",
       "money_amount            2.25\n",
       "to_account          GOURMET_\n",
       "date                     NaT\n",
       "transaction_ID      12004115\n",
       "Categorised       Restaurant\n",
       "type                 Normal \n",
       "Name: 12004115, dtype: object"
      ]
     },
     "execution_count": 66,
     "metadata": {},
     "output_type": "execute_result"
    }
   ],
   "source": [
    "df.loc[12004115]"
   ]
  },
  {
   "cell_type": "code",
   "execution_count": 67,
   "metadata": {},
   "outputs": [],
   "source": [
    "#Removing this row\n",
    "df = df.drop(12004115)"
   ]
  },
  {
   "attachments": {},
   "cell_type": "markdown",
   "metadata": {},
   "source": [
    "### Splitting up the data into between account payments and to business payments"
   ]
  },
  {
   "cell_type": "code",
   "execution_count": 68,
   "metadata": {},
   "outputs": [],
   "source": [
    "df1 = df.copy() #Making a copy of the df\n",
    "df1['to_account'] = pd.to_numeric(df['to_account'], errors = 'coerce') # df1 is now df but where to account is non numeric NaN will show\n",
    "df_between = df1[pd.notnull(df1['to_account'])] #Removing all the NaN rows, such that we are only left with accoun to account transaction\n",
    "numeric_to_accounts = df_between['to_account'].astype(int).values #creating a list with all the to accounts as an integer\n",
    "numeric_to_accounts = [str(x) for x in numeric_to_accounts] #Changing each element in numeric_to_accounts into a string\n",
    "df_expenditure = df[~df['to_account'].isin(numeric_to_accounts)] #Creating df_expenditure by excluding all account to account transactions from our original df"
   ]
  },
  {
   "cell_type": "code",
   "execution_count": 69,
   "metadata": {},
   "outputs": [
    {
     "name": "stdout",
     "output_type": "stream",
     "text": [
      "Between accounts head:    from_account  money_amount  to_account       date  transaction_ID  \\\n",
      "2         88339          2.40     40544.0 2025-01-01               2   \n",
      "4         18555          2.40     85149.0 2025-01-01               4   \n",
      "6         80792          1.95     18555.0 2025-01-01               6   \n",
      "19        39262          4.50     30264.0 2025-01-01              19   \n",
      "51        53483          5.50     75744.0 2025-01-01              51   \n",
      "\n",
      "   Categorised      type  \n",
      "2     betweeen  betweeen  \n",
      "4     betweeen  betweeen  \n",
      "6     betweeen  betweeen  \n",
      "19    betweeen  betweeen  \n",
      "51    betweeen  betweeen  \n",
      "\n",
      " Between accounts description        money_amount    to_account  transaction_ID\n",
      "count  2.950750e+06  2.985833e+06    2.985833e+06\n",
      "mean   3.186091e+01  5.115173e+04    5.990754e+06\n",
      "std    1.661347e+02  2.884507e+04    3.456576e+06\n",
      "min    1.450000e+00  1.000000e+03    2.000000e+00\n",
      "25%    5.000000e+00  2.583800e+04    2.976532e+06\n",
      "50%    6.000000e+00  5.129000e+04    5.989533e+06\n",
      "75%    6.500000e+00  7.588100e+04    9.003838e+06\n",
      "max    1.995000e+03  1.009880e+05    1.200409e+07\n"
     ]
    }
   ],
   "source": [
    "#Printing descriptions of these 2 new df's\n",
    "print('Between accounts head:', df_between.head())\n",
    "print('\\n Between accounts description', df_between.describe())\n"
   ]
  },
  {
   "cell_type": "code",
   "execution_count": 70,
   "metadata": {},
   "outputs": [
    {
     "name": "stdout",
     "output_type": "stream",
     "text": [
      "\n",
      " Expenditure head:   from_account  money_amount                  to_account       date  \\\n",
      "0          NaN          4.00                      CINEMA 2025-01-01   \n",
      "1        40544          4.60         A_LOCAL_COFFEE_SHOP 2025-01-01   \n",
      "3        85149          4.65         A_LOCAL_COFFEE_SHOP 2025-01-01   \n",
      "5        18555          4.10         HIPSTER_COFFEE_SHOP 2025-01-01   \n",
      "7        18555          4.45  TOTALLY_A_REAL_COFFEE_SHOP 2025-01-01   \n",
      "\n",
      "   transaction_ID  Categorised     type  \n",
      "0               0       Cinema  Normal   \n",
      "1               1  Coffee shop  Normal   \n",
      "3               3  Coffee shop  Normal   \n",
      "5               5  Coffee shop  Normal   \n",
      "7               7  Coffee shop  Normal   \n",
      "\n",
      " Expenditure description        money_amount  transaction_ID\n",
      "count  8.913109e+06    9.018282e+06\n",
      "mean   1.366975e+01    6.005799e+06\n",
      "std    2.449927e+01    3.468162e+06\n",
      "min    1.450000e+00    0.000000e+00\n",
      "25%    2.450000e+00    3.014356e+06\n",
      "50%    7.000000e+00    6.008295e+06\n",
      "75%    1.350000e+01    9.002730e+06\n",
      "max    1.990000e+03    1.200411e+07\n"
     ]
    }
   ],
   "source": [
    "print('\\n Expenditure head:', df_expenditure.head())\n",
    "print('\\n Expenditure description', df_expenditure.describe())\n"
   ]
  },
  {
   "attachments": {},
   "cell_type": "markdown",
   "metadata": {},
   "source": [
    "### Filling in missing money amount"
   ]
  },
  {
   "cell_type": "code",
   "execution_count": 71,
   "metadata": {},
   "outputs": [],
   "source": [
    "#This function takes in a df and outputs a list of all the means for each row by grouping by to and from account\n",
    "def fill(df):\n",
    "    s = df.groupby(['from_account', \"to_account\"])['money_amount'].mean()\n",
    "    df2 = df[['from_account', 'to_account']].merge(s, on=['from_account', 'to_account'], how='left')\n",
    "    df2 = df2.set_index(df.index)\n",
    "    return(df2['money_amount'])"
   ]
  },
  {
   "attachments": {},
   "cell_type": "markdown",
   "metadata": {},
   "source": [
    "For account to account transactions, we look at each NaN money_amount and ask how much does this account normally send to this other account, by getting the mean of past transactions. If there are no past transactions we remove the row entirely"
   ]
  },
  {
   "cell_type": "code",
   "execution_count": 72,
   "metadata": {},
   "outputs": [
    {
     "name": "stderr",
     "output_type": "stream",
     "text": [
      "/var/folders/py/d721tqvn39xbrq83g84j15pm0000gn/T/ipykernel_25241/904791043.py:1: SettingWithCopyWarning: \n",
      "A value is trying to be set on a copy of a slice from a DataFrame\n",
      "\n",
      "See the caveats in the documentation: https://pandas.pydata.org/pandas-docs/stable/user_guide/indexing.html#returning-a-view-versus-a-copy\n",
      "  df_between['money_amount'].fillna(fill(df_between), inplace=True) #Using the function to replace all NaN's in the df_between df with the average of past transactions from one specific account to another specific account.\n"
     ]
    },
    {
     "name": "stdout",
     "output_type": "stream",
     "text": [
      "from_account => 34429\n",
      "from_account => 1.15%\n",
      "money_amount => No missing values\n",
      "to_account => No missing values\n",
      "date => No missing values\n",
      "transaction_ID => No missing values\n",
      "Categorised => No missing values\n",
      "type => No missing values\n"
     ]
    }
   ],
   "source": [
    "df_between['money_amount'].fillna(fill(df_between), inplace=True) #Using the function to replace all NaN's in the df_between df with the average of past transactions from one specific account to another specific account. \n",
    "df_between=df_between.dropna(axis=0, subset=\"money_amount\") #All remaining NaN's are dropped\n",
    "missing_cols(df_between)"
   ]
  },
  {
   "attachments": {},
   "cell_type": "markdown",
   "metadata": {},
   "source": [
    "Removing .0 from the end of 'to_account' column values"
   ]
  },
  {
   "cell_type": "code",
   "execution_count": 73,
   "metadata": {},
   "outputs": [],
   "source": [
    "#apply a function to strip '.0' from the accounts if not NaN. To strip we must also change to a string\n",
    "df_between['to_account'] = df_between['to_account'].apply(lambda x: str(x).strip('.0') if str(x) != 'nan' else x)"
   ]
  },
  {
   "attachments": {},
   "cell_type": "markdown",
   "metadata": {},
   "source": [
    "For account to business transactions, we look at each NaN money_amount and ask how much does this account normally spend at this business, by getting the mean of past transactions. If there are no past transactions, then we ask how do other accounts normally spend here? Again by taking the mean. For any other remaining NaN's, we remove the row entirely."
   ]
  },
  {
   "cell_type": "code",
   "execution_count": 74,
   "metadata": {},
   "outputs": [
    {
     "name": "stderr",
     "output_type": "stream",
     "text": [
      "/var/folders/py/d721tqvn39xbrq83g84j15pm0000gn/T/ipykernel_25241/1801862313.py:1: SettingWithCopyWarning: \n",
      "A value is trying to be set on a copy of a slice from a DataFrame\n",
      "\n",
      "See the caveats in the documentation: https://pandas.pydata.org/pandas-docs/stable/user_guide/indexing.html#returning-a-view-versus-a-copy\n",
      "  df_expenditure['money_amount'].fillna(fill(df_expenditure), inplace=True) #Using the function to replace all NaN's in the df_expenditure df with the average of past transactions from one specific account to the specific business.\n",
      "/var/folders/py/d721tqvn39xbrq83g84j15pm0000gn/T/ipykernel_25241/1801862313.py:3: SettingWithCopyWarning: \n",
      "A value is trying to be set on a copy of a slice from a DataFrame\n",
      "\n",
      "See the caveats in the documentation: https://pandas.pydata.org/pandas-docs/stable/user_guide/indexing.html#returning-a-view-versus-a-copy\n",
      "  df_expenditure['money_amount'].fillna(df_expenditure['to_account'].map(s), inplace=True) #Any remaining NaN's are filled in using s\n"
     ]
    },
    {
     "name": "stdout",
     "output_type": "stream",
     "text": [
      "from_account => 105136\n",
      "from_account => 1.17%\n",
      "money_amount => No missing values\n",
      "to_account => 138497\n",
      "to_account => 1.54%\n",
      "date => No missing values\n",
      "transaction_ID => No missing values\n",
      "Categorised => 138497\n",
      "Categorised => 1.54%\n",
      "type => 138497\n",
      "type => 1.54%\n"
     ]
    }
   ],
   "source": [
    "df_expenditure['money_amount'].fillna(fill(df_expenditure), inplace=True) #Using the function to replace all NaN's in the df_expenditure df with the average of past transactions from one specific account to the specific business. \n",
    "s = df_expenditure.groupby('to_account')['money_amount'].mean() #Creating a df of the average spend at each business\n",
    "df_expenditure['money_amount'].fillna(df_expenditure['to_account'].map(s), inplace=True) #Any remaining NaN's are filled in using s\n",
    "df_expenditure=df_expenditure.dropna(axis=0, subset=\"money_amount\") #All remaining NaN's are dropped\n",
    "missing_cols(df_expenditure)\n"
   ]
  },
  {
   "cell_type": "code",
   "execution_count": 75,
   "metadata": {},
   "outputs": [
    {
     "name": "stdout",
     "output_type": "stream",
     "text": [
      "I have deleted 2074 rows\n"
     ]
    }
   ],
   "source": [
    "print('I have deleted', (df.shape[0] - (df_between.shape[0] + df_expenditure.shape[0])), 'rows')"
   ]
  },
  {
   "attachments": {},
   "cell_type": "markdown",
   "metadata": {},
   "source": [
    "### We can now bring the two df's back together"
   ]
  },
  {
   "cell_type": "code",
   "execution_count": 76,
   "metadata": {},
   "outputs": [
    {
     "data": {
      "text/html": [
       "<div>\n",
       "<style scoped>\n",
       "    .dataframe tbody tr th:only-of-type {\n",
       "        vertical-align: middle;\n",
       "    }\n",
       "\n",
       "    .dataframe tbody tr th {\n",
       "        vertical-align: top;\n",
       "    }\n",
       "\n",
       "    .dataframe thead th {\n",
       "        text-align: right;\n",
       "    }\n",
       "</style>\n",
       "<table border=\"1\" class=\"dataframe\">\n",
       "  <thead>\n",
       "    <tr style=\"text-align: right;\">\n",
       "      <th></th>\n",
       "      <th>from_account</th>\n",
       "      <th>money_amount</th>\n",
       "      <th>to_account</th>\n",
       "      <th>date</th>\n",
       "      <th>transaction_ID</th>\n",
       "      <th>Categorised</th>\n",
       "      <th>type</th>\n",
       "    </tr>\n",
       "  </thead>\n",
       "  <tbody>\n",
       "    <tr>\n",
       "      <th>0</th>\n",
       "      <td>NaN</td>\n",
       "      <td>4.00</td>\n",
       "      <td>CINEMA</td>\n",
       "      <td>2025-01-01</td>\n",
       "      <td>0</td>\n",
       "      <td>Cinema</td>\n",
       "      <td>Normal</td>\n",
       "    </tr>\n",
       "    <tr>\n",
       "      <th>1</th>\n",
       "      <td>40544</td>\n",
       "      <td>4.60</td>\n",
       "      <td>A_LOCAL_COFFEE_SHOP</td>\n",
       "      <td>2025-01-01</td>\n",
       "      <td>1</td>\n",
       "      <td>Coffee shop</td>\n",
       "      <td>Normal</td>\n",
       "    </tr>\n",
       "    <tr>\n",
       "      <th>2</th>\n",
       "      <td>88339</td>\n",
       "      <td>2.40</td>\n",
       "      <td>40544</td>\n",
       "      <td>2025-01-01</td>\n",
       "      <td>2</td>\n",
       "      <td>betweeen</td>\n",
       "      <td>betweeen</td>\n",
       "    </tr>\n",
       "    <tr>\n",
       "      <th>3</th>\n",
       "      <td>85149</td>\n",
       "      <td>4.65</td>\n",
       "      <td>A_LOCAL_COFFEE_SHOP</td>\n",
       "      <td>2025-01-01</td>\n",
       "      <td>3</td>\n",
       "      <td>Coffee shop</td>\n",
       "      <td>Normal</td>\n",
       "    </tr>\n",
       "    <tr>\n",
       "      <th>4</th>\n",
       "      <td>18555</td>\n",
       "      <td>2.40</td>\n",
       "      <td>85149</td>\n",
       "      <td>2025-01-01</td>\n",
       "      <td>4</td>\n",
       "      <td>betweeen</td>\n",
       "      <td>betweeen</td>\n",
       "    </tr>\n",
       "  </tbody>\n",
       "</table>\n",
       "</div>"
      ],
      "text/plain": [
       "  from_account  money_amount           to_account       date  transaction_ID  \\\n",
       "0          NaN          4.00               CINEMA 2025-01-01               0   \n",
       "1        40544          4.60  A_LOCAL_COFFEE_SHOP 2025-01-01               1   \n",
       "2        88339          2.40                40544 2025-01-01               2   \n",
       "3        85149          4.65  A_LOCAL_COFFEE_SHOP 2025-01-01               3   \n",
       "4        18555          2.40                85149 2025-01-01               4   \n",
       "\n",
       "   Categorised      type  \n",
       "0       Cinema   Normal   \n",
       "1  Coffee shop   Normal   \n",
       "2     betweeen  betweeen  \n",
       "3  Coffee shop   Normal   \n",
       "4     betweeen  betweeen  "
      ]
     },
     "execution_count": 76,
     "metadata": {},
     "output_type": "execute_result"
    }
   ],
   "source": [
    "df = pd.concat([df_expenditure, df_between], sort=False).sort_index() #Concatinating the two df's and the sorting by index so that we preserve the original order\n",
    "df.head()"
   ]
  },
  {
   "cell_type": "code",
   "execution_count": 77,
   "metadata": {},
   "outputs": [
    {
     "name": "stdout",
     "output_type": "stream",
     "text": [
      "from_account => 139565\n",
      "from_account => 1.16%\n",
      "money_amount => No missing values\n",
      "to_account => 138497\n",
      "to_account => 1.15%\n",
      "date => No missing values\n",
      "transaction_ID => No missing values\n",
      "Categorised => 138497\n",
      "Categorised => 1.15%\n",
      "type => 138497\n",
      "type => 1.15%\n"
     ]
    }
   ],
   "source": [
    "missing_cols(df)"
   ]
  },
  {
   "attachments": {},
   "cell_type": "markdown",
   "metadata": {},
   "source": [
    "We have successfully now got a df with no missing money_amount"
   ]
  },
  {
   "attachments": {},
   "cell_type": "markdown",
   "metadata": {},
   "source": [
    "As this task is to predict income let's begin narrowing our focus on customers. To do this we build a new df for all of our customers"
   ]
  },
  {
   "attachments": {},
   "cell_type": "markdown",
   "metadata": {},
   "source": [
    "### New customer df "
   ]
  },
  {
   "cell_type": "code",
   "execution_count": 78,
   "metadata": {},
   "outputs": [
    {
     "data": {
      "text/html": [
       "<div>\n",
       "<style scoped>\n",
       "    .dataframe tbody tr th:only-of-type {\n",
       "        vertical-align: middle;\n",
       "    }\n",
       "\n",
       "    .dataframe tbody tr th {\n",
       "        vertical-align: top;\n",
       "    }\n",
       "\n",
       "    .dataframe thead th {\n",
       "        text-align: right;\n",
       "    }\n",
       "</style>\n",
       "<table border=\"1\" class=\"dataframe\">\n",
       "  <thead>\n",
       "    <tr style=\"text-align: right;\">\n",
       "      <th></th>\n",
       "      <th>from_account</th>\n",
       "      <th>money_amount</th>\n",
       "      <th>to_account</th>\n",
       "      <th>date</th>\n",
       "      <th>transaction_ID</th>\n",
       "      <th>Categorised</th>\n",
       "      <th>type</th>\n",
       "    </tr>\n",
       "  </thead>\n",
       "  <tbody>\n",
       "    <tr>\n",
       "      <th>0</th>\n",
       "      <td>NaN</td>\n",
       "      <td>4.00</td>\n",
       "      <td>CINEMA</td>\n",
       "      <td>2025-01-01</td>\n",
       "      <td>0</td>\n",
       "      <td>Cinema</td>\n",
       "      <td>Normal</td>\n",
       "    </tr>\n",
       "    <tr>\n",
       "      <th>1</th>\n",
       "      <td>40544</td>\n",
       "      <td>4.60</td>\n",
       "      <td>A_LOCAL_COFFEE_SHOP</td>\n",
       "      <td>2025-01-01</td>\n",
       "      <td>1</td>\n",
       "      <td>Coffee shop</td>\n",
       "      <td>Normal</td>\n",
       "    </tr>\n",
       "    <tr>\n",
       "      <th>2</th>\n",
       "      <td>88339</td>\n",
       "      <td>2.40</td>\n",
       "      <td>40544</td>\n",
       "      <td>2025-01-01</td>\n",
       "      <td>2</td>\n",
       "      <td>betweeen</td>\n",
       "      <td>betweeen</td>\n",
       "    </tr>\n",
       "    <tr>\n",
       "      <th>3</th>\n",
       "      <td>85149</td>\n",
       "      <td>4.65</td>\n",
       "      <td>A_LOCAL_COFFEE_SHOP</td>\n",
       "      <td>2025-01-01</td>\n",
       "      <td>3</td>\n",
       "      <td>Coffee shop</td>\n",
       "      <td>Normal</td>\n",
       "    </tr>\n",
       "    <tr>\n",
       "      <th>4</th>\n",
       "      <td>18555</td>\n",
       "      <td>2.40</td>\n",
       "      <td>85149</td>\n",
       "      <td>2025-01-01</td>\n",
       "      <td>4</td>\n",
       "      <td>betweeen</td>\n",
       "      <td>betweeen</td>\n",
       "    </tr>\n",
       "  </tbody>\n",
       "</table>\n",
       "</div>"
      ],
      "text/plain": [
       "  from_account  money_amount           to_account       date  transaction_ID  \\\n",
       "0          NaN          4.00               CINEMA 2025-01-01               0   \n",
       "1        40544          4.60  A_LOCAL_COFFEE_SHOP 2025-01-01               1   \n",
       "2        88339          2.40                40544 2025-01-01               2   \n",
       "3        85149          4.65  A_LOCAL_COFFEE_SHOP 2025-01-01               3   \n",
       "4        18555          2.40                85149 2025-01-01               4   \n",
       "\n",
       "   Categorised      type  \n",
       "0       Cinema   Normal   \n",
       "1  Coffee shop   Normal   \n",
       "2     betweeen  betweeen  \n",
       "3  Coffee shop   Normal   \n",
       "4     betweeen  betweeen  "
      ]
     },
     "execution_count": 78,
     "metadata": {},
     "output_type": "execute_result"
    }
   ],
   "source": [
    "df.head()"
   ]
  },
  {
   "cell_type": "code",
   "execution_count": 79,
   "metadata": {},
   "outputs": [
    {
     "name": "stdout",
     "output_type": "stream",
     "text": [
      "head of customers df:\n",
      "              money_amount                                          \\\n",
      "                      min      max       mean           sum count   \n",
      "from_account                                                        \n",
      "1                    1.45  1960.00  14.853905  37565.525305  2529   \n",
      "100002               1.45   299.00  14.959220  15527.670740  1038   \n",
      "100019               1.45  1955.00  33.762143  22924.494825   679   \n",
      "100027               1.45   381.25  22.950110  15927.376375   694   \n",
      "10004                1.45   302.50  10.571419  13415.130350  1269   \n",
      "\n",
      "                       to_account  \n",
      "                             mode  \n",
      "from_account                       \n",
      "1             A_LOCAL_COFFEE_SHOP  \n",
      "100002                        PUB  \n",
      "100019        LOCAL_WATERING_HOLE  \n",
      "100027                       6053  \n",
      "10004                 COFFEE_SHOP  \n",
      "\n",
      " There are 12685 customers\n"
     ]
    }
   ],
   "source": [
    "#creating new dfs to summarise customers\n",
    "df_customers = df.groupby('from_account').agg({'money_amount':['min','max','mean','sum','count'], 'to_account': pd.Series.mode})\n",
    "print('head of customers df:\\n',df_customers.head())\n",
    "print('\\n There are {} customers'.format(df_customers.shape[0]))"
   ]
  },
  {
   "cell_type": "code",
   "execution_count": 80,
   "metadata": {},
   "outputs": [],
   "source": [
    "df_customers.columns = df_customers.columns.droplevel(0)\n"
   ]
  },
  {
   "attachments": {},
   "cell_type": "markdown",
   "metadata": {},
   "source": [
    "I notice that some of the customer ID's look different, let's investigate this:"
   ]
  },
  {
   "cell_type": "code",
   "execution_count": 81,
   "metadata": {},
   "outputs": [
    {
     "data": {
      "text/html": [
       "<div>\n",
       "<style scoped>\n",
       "    .dataframe tbody tr th:only-of-type {\n",
       "        vertical-align: middle;\n",
       "    }\n",
       "\n",
       "    .dataframe tbody tr th {\n",
       "        vertical-align: top;\n",
       "    }\n",
       "\n",
       "    .dataframe thead th {\n",
       "        text-align: right;\n",
       "    }\n",
       "</style>\n",
       "<table border=\"1\" class=\"dataframe\">\n",
       "  <thead>\n",
       "    <tr style=\"text-align: right;\">\n",
       "      <th></th>\n",
       "      <th>min</th>\n",
       "      <th>max</th>\n",
       "      <th>mean</th>\n",
       "      <th>sum</th>\n",
       "      <th>count</th>\n",
       "      <th>mode</th>\n",
       "      <th>customer_ID</th>\n",
       "      <th>length_ID</th>\n",
       "    </tr>\n",
       "    <tr>\n",
       "      <th>from_account</th>\n",
       "      <th></th>\n",
       "      <th></th>\n",
       "      <th></th>\n",
       "      <th></th>\n",
       "      <th></th>\n",
       "      <th></th>\n",
       "      <th></th>\n",
       "      <th></th>\n",
       "    </tr>\n",
       "  </thead>\n",
       "  <tbody>\n",
       "    <tr>\n",
       "      <th>1</th>\n",
       "      <td>1.45</td>\n",
       "      <td>1960.00</td>\n",
       "      <td>14.853905</td>\n",
       "      <td>37565.525305</td>\n",
       "      <td>2529</td>\n",
       "      <td>A_LOCAL_COFFEE_SHOP</td>\n",
       "      <td>1</td>\n",
       "      <td>1</td>\n",
       "    </tr>\n",
       "    <tr>\n",
       "      <th>100002</th>\n",
       "      <td>1.45</td>\n",
       "      <td>299.00</td>\n",
       "      <td>14.959220</td>\n",
       "      <td>15527.670740</td>\n",
       "      <td>1038</td>\n",
       "      <td>PUB</td>\n",
       "      <td>100002</td>\n",
       "      <td>6</td>\n",
       "    </tr>\n",
       "    <tr>\n",
       "      <th>100019</th>\n",
       "      <td>1.45</td>\n",
       "      <td>1955.00</td>\n",
       "      <td>33.762143</td>\n",
       "      <td>22924.494825</td>\n",
       "      <td>679</td>\n",
       "      <td>LOCAL_WATERING_HOLE</td>\n",
       "      <td>100019</td>\n",
       "      <td>6</td>\n",
       "    </tr>\n",
       "    <tr>\n",
       "      <th>100027</th>\n",
       "      <td>1.45</td>\n",
       "      <td>381.25</td>\n",
       "      <td>22.950110</td>\n",
       "      <td>15927.376375</td>\n",
       "      <td>694</td>\n",
       "      <td>6053</td>\n",
       "      <td>100027</td>\n",
       "      <td>6</td>\n",
       "    </tr>\n",
       "    <tr>\n",
       "      <th>10004</th>\n",
       "      <td>1.45</td>\n",
       "      <td>302.50</td>\n",
       "      <td>10.571419</td>\n",
       "      <td>13415.130350</td>\n",
       "      <td>1269</td>\n",
       "      <td>COFFEE_SHOP</td>\n",
       "      <td>10004</td>\n",
       "      <td>5</td>\n",
       "    </tr>\n",
       "  </tbody>\n",
       "</table>\n",
       "</div>"
      ],
      "text/plain": [
       "               min      max       mean           sum  count  \\\n",
       "from_account                                                  \n",
       "1             1.45  1960.00  14.853905  37565.525305   2529   \n",
       "100002        1.45   299.00  14.959220  15527.670740   1038   \n",
       "100019        1.45  1955.00  33.762143  22924.494825    679   \n",
       "100027        1.45   381.25  22.950110  15927.376375    694   \n",
       "10004         1.45   302.50  10.571419  13415.130350   1269   \n",
       "\n",
       "                             mode customer_ID  length_ID  \n",
       "from_account                                              \n",
       "1             A_LOCAL_COFFEE_SHOP           1          1  \n",
       "100002                        PUB      100002          6  \n",
       "100019        LOCAL_WATERING_HOLE      100019          6  \n",
       "100027                       6053      100027          6  \n",
       "10004                 COFFEE_SHOP       10004          5  "
      ]
     },
     "execution_count": 81,
     "metadata": {},
     "output_type": "execute_result"
    }
   ],
   "source": [
    "df_customers['customer_ID'] = df_customers.index # This can allow us to re index, as currently the indexes contain the customer ID\n",
    "df_customers['length_ID'] = df_customers['customer_ID'].apply(lambda x: len(x)) #Creating a new column with the length of the customers ID\n",
    "df_customers.head()"
   ]
  },
  {
   "attachments": {},
   "cell_type": "markdown",
   "metadata": {},
   "source": [
    "Let's see how the Customer ID's lengths are distributed: "
   ]
  },
  {
   "cell_type": "code",
   "execution_count": 82,
   "metadata": {},
   "outputs": [
    {
     "name": "stdout",
     "output_type": "stream",
     "text": [
      "81.892 % of the customers have account numbers of length [5]\n",
      "97.217 % of the customers have account numbers of length [5, 4]\n",
      "98.81 % of the customers have account numbers of length [5, 4, 3]\n",
      "99.819 % of the customers have account numbers of length [5, 4, 3, 6]\n",
      "99.992 % of the customers have account numbers of length [5, 4, 3, 6, 2]\n",
      "100.0 % of the customers have account numbers of length [5, 4, 3, 6, 2, 1]\n"
     ]
    }
   ],
   "source": [
    "sum = 0\n",
    "count = 0\n",
    "list = []\n",
    "for i in df_customers['length_ID'].value_counts():\n",
    "    list.append(df_customers['length_ID'].value_counts().index[count])\n",
    "    sum += i\n",
    "    print(round(sum/len(df_customers)*100,3),'% of the customers have account numbers of length', list)\n",
    "    count+=1"
   ]
  },
  {
   "cell_type": "code",
   "execution_count": 83,
   "metadata": {},
   "outputs": [],
   "source": [
    "df_customers = df_customers.drop(['length_ID'], axis =1).reset_index()\n",
    "df_customers = df_customers.drop(['from_account'], axis =1)\n"
   ]
  },
  {
   "attachments": {},
   "cell_type": "markdown",
   "metadata": {},
   "source": [
    "I see no need to remove any of this data at this point"
   ]
  },
  {
   "cell_type": "code",
   "execution_count": 85,
   "metadata": {},
   "outputs": [],
   "source": [
    "df_expenditure.to_csv('/Users/sasha/Desktop/DATASCIENCE/2023/Mini-Project/data.nosync/cleaned_EXPENDITURE_data.csv')"
   ]
  }
 ],
 "metadata": {
  "kernelspec": {
   "display_name": "Python 3",
   "language": "python",
   "name": "python3"
  },
  "language_info": {
   "codemirror_mode": {
    "name": "ipython",
    "version": 3
   },
   "file_extension": ".py",
   "mimetype": "text/x-python",
   "name": "python",
   "nbconvert_exporter": "python",
   "pygments_lexer": "ipython3",
   "version": "3.9.7"
  },
  "orig_nbformat": 4
 },
 "nbformat": 4,
 "nbformat_minor": 2
}
