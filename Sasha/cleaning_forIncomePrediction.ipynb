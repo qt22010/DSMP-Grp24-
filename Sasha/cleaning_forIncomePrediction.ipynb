{
 "cells": [
  {
   "attachments": {},
   "cell_type": "markdown",
   "metadata": {},
   "source": [
    "# Data cleaning for income prediction "
   ]
  },
  {
   "cell_type": "code",
   "execution_count": 1,
   "metadata": {},
   "outputs": [],
   "source": [
    "#importing packages \n",
    "import pandas as pd\n",
    "import numpy as np\n",
    "import matplotlib.pyplot as plt\n",
    "import seaborn as sns"
   ]
  },
  {
   "attachments": {},
   "cell_type": "markdown",
   "metadata": {},
   "source": [
    "### Loading in the data"
   ]
  },
  {
   "cell_type": "code",
   "execution_count": 2,
   "metadata": {},
   "outputs": [],
   "source": [
    "#loading dataset \n",
    "df=pd.read_csv(\"/Users/sasha/Desktop/DATASCIENCE/2023/Mini-Project/data.nosync/fake_transactional_data.csv\")\n",
    "#renaming the rows \n",
    "df=df.rename(columns={'from_totally_fake_account':'from_account', 'monopoly_money_amount':'money_amount', 'to_randomly_generated_account':'to_account', 'not_happened_yet_date':'date'})"
   ]
  },
  {
   "attachments": {},
   "cell_type": "markdown",
   "metadata": {},
   "source": [
    "All from_account values have a trailing '.0', let's remove this so it looks better:"
   ]
  },
  {
   "cell_type": "code",
   "execution_count": 3,
   "metadata": {},
   "outputs": [],
   "source": [
    "#apply a function to strip '.0' from the accounts if not NaN. To strip we must also change to a string\n",
    "df['from_account'] = df['from_account'].apply(lambda x: str(x).strip('.0') if str(x) != 'nan' else x)\n"
   ]
  },
  {
   "attachments": {},
   "cell_type": "markdown",
   "metadata": {},
   "source": [
    "### A few modifications"
   ]
  },
  {
   "cell_type": "code",
   "execution_count": 4,
   "metadata": {},
   "outputs": [],
   "source": [
    "#converting date to date format\n",
    "df[\"date\"] = pd.to_datetime(df[\"date\"], dayfirst=True)"
   ]
  },
  {
   "attachments": {},
   "cell_type": "markdown",
   "metadata": {},
   "source": [
    "Adding a transaction ID column"
   ]
  },
  {
   "cell_type": "code",
   "execution_count": 5,
   "metadata": {},
   "outputs": [],
   "source": [
    "#Transaction ID's for now are just the indexes, this provides each transaction with a unique ID.\n",
    "df['transaction_ID'] = df.index"
   ]
  },
  {
   "attachments": {},
   "cell_type": "markdown",
   "metadata": {},
   "source": [
    "### Describing the data"
   ]
  },
  {
   "cell_type": "code",
   "execution_count": 6,
   "metadata": {},
   "outputs": [
    {
     "name": "stdout",
     "output_type": "stream",
     "text": [
      "\n",
      " shape: (12004116, 5)\n",
      "\n",
      " head: \n",
      "   from_account  money_amount           to_account       date  transaction_ID\n",
      "0          NaN          4.00               CINEMA 2025-01-01               0\n",
      "1        40544          4.60  A_LOCAL_COFFEE_SHOP 2025-01-01               1\n",
      "2        88339          2.40                40544 2025-01-01               2\n",
      "3        85149          4.65  A_LOCAL_COFFEE_SHOP 2025-01-01               3\n",
      "4        18555          2.40                85149 2025-01-01               4\n",
      "\n",
      " info:\n",
      "<class 'pandas.core.frame.DataFrame'>\n",
      "RangeIndex: 12004116 entries, 0 to 12004115\n",
      "Data columns (total 5 columns):\n",
      " #   Column          Dtype         \n",
      "---  ------          -----         \n",
      " 0   from_account    object        \n",
      " 1   money_amount    float64       \n",
      " 2   to_account      object        \n",
      " 3   date            datetime64[ns]\n",
      " 4   transaction_ID  int64         \n",
      "dtypes: datetime64[ns](1), float64(1), int64(1), object(2)\n",
      "memory usage: 457.9+ MB\n",
      "\n",
      " Date range: 2025-01-01 00:00:00 2025-10-02 00:00:00\n"
     ]
    }
   ],
   "source": [
    "#check dimensions of the data\n",
    "print('\\n shape:',df.shape)\n",
    "\n",
    "print('\\n head: \\n', df.head())\n",
    "print('\\n info:')\n",
    "df.info()\n",
    "\n",
    "# Finding out the range of dates\n",
    "print('\\n Date range:', df[\"date\"].min(), df[\"date\"].max())"
   ]
  },
  {
   "attachments": {},
   "cell_type": "markdown",
   "metadata": {},
   "source": [
    "#### Map of missing Values"
   ]
  },
  {
   "cell_type": "code",
   "execution_count": 7,
   "metadata": {},
   "outputs": [
    {
     "data": {
      "text/plain": [
       "\"plt.figure(figsize=(10, 6))\\nsns.heatmap(df.isnull(), yticklabels=False, cmap='viridis', cbar=False)\""
      ]
     },
     "execution_count": 7,
     "metadata": {},
     "output_type": "execute_result"
    }
   ],
   "source": [
    "#Visualizing the missing values\n",
    "\"\"\"plt.figure(figsize=(10, 6))\n",
    "sns.heatmap(df.isnull(), yticklabels=False, cmap='viridis', cbar=False)\"\"\""
   ]
  },
  {
   "attachments": {},
   "cell_type": "markdown",
   "metadata": {},
   "source": [
    "Here I am just checking for any obvious patterns in the NaN values, such as transactions where each feature is NaN"
   ]
  },
  {
   "attachments": {},
   "cell_type": "markdown",
   "metadata": {},
   "source": [
    "#### This function returns the NA status of each column"
   ]
  },
  {
   "cell_type": "code",
   "execution_count": 8,
   "metadata": {},
   "outputs": [],
   "source": [
    "def missing_cols(df):\n",
    "    '''prints out columns with its amount of missing values'''\n",
    "    total = 0\n",
    "    for col in df.columns:\n",
    "        missing_vals = df[col].isnull().sum()\n",
    "        total += missing_vals\n",
    "        if missing_vals != 0:\n",
    "            print(f\"{col} => {df[col].isnull().sum()}\")\n",
    "        if missing_vals == 0:\n",
    "             print(f\"{col} => No missing values\")\n",
    "        pct = df[col].isna().mean() * 100\n",
    "        if (pct != 0):\n",
    "            print('{} => {}%'.format(col, round(pct, 2)))\n",
    "    \n",
    "    if total == 0:\n",
    "        print(\"no missing values left\")"
   ]
  },
  {
   "cell_type": "code",
   "execution_count": 9,
   "metadata": {},
   "outputs": [
    {
     "name": "stdout",
     "output_type": "stream",
     "text": [
      "\n",
      " How many missing values each columns has and what percentage this is:\n",
      "from_account => 139974\n",
      "from_account => 1.17%\n",
      "money_amount => 140256\n",
      "money_amount => 1.17%\n",
      "to_account => 140100\n",
      "to_account => 1.17%\n",
      "date => 1\n",
      "date => 0.0%\n",
      "transaction_ID => No missing values\n"
     ]
    }
   ],
   "source": [
    "print(\"\\n How many missing values each columns has and what percentage this is:\")    \n",
    "#Using the function above to see our missing values  \n",
    "missing_cols(df)       \n"
   ]
  },
  {
   "attachments": {},
   "cell_type": "markdown",
   "metadata": {},
   "source": [
    "While 1% does not seem like a lot, this is hundreds of thousands of rows, so we shall not by so quick to discard them. \n",
    "We seem to have one interesting case where there is one missing date. "
   ]
  },
  {
   "cell_type": "code",
   "execution_count": 10,
   "metadata": {},
   "outputs": [
    {
     "data": {
      "text/plain": [
       "array([12004115])"
      ]
     },
     "execution_count": 10,
     "metadata": {},
     "output_type": "execute_result"
    }
   ],
   "source": [
    "np.where(df['date'].isna())[0]"
   ]
  },
  {
   "cell_type": "code",
   "execution_count": 11,
   "metadata": {},
   "outputs": [
    {
     "data": {
      "text/plain": [
       "from_account        100694\n",
       "money_amount          2.25\n",
       "to_account        GOURMET_\n",
       "date                   NaT\n",
       "transaction_ID    12004115\n",
       "Name: 12004115, dtype: object"
      ]
     },
     "execution_count": 11,
     "metadata": {},
     "output_type": "execute_result"
    }
   ],
   "source": [
    "df.loc[12004115]"
   ]
  },
  {
   "cell_type": "code",
   "execution_count": 12,
   "metadata": {},
   "outputs": [],
   "source": [
    "#Removing this row\n",
    "df = df.drop(12004115)"
   ]
  },
  {
   "attachments": {},
   "cell_type": "markdown",
   "metadata": {},
   "source": [
    "### Splitting up the data into between account payments and to business payments"
   ]
  },
  {
   "cell_type": "code",
   "execution_count": 13,
   "metadata": {},
   "outputs": [],
   "source": [
    "df1 = df.copy() #Making a copy of the df\n",
    "df1['to_account'] = pd.to_numeric(df['to_account'], errors = 'coerce') # df1 is now df but where to account is non numeric NaN will show\n",
    "df_between = df1[pd.notnull(df1['to_account'])] #Removing all the NaN rows, such that we are only left with accoun to account transaction\n",
    "numeric_to_accounts = df_between['to_account'].astype(int).values #creating a list with all the to accounts as an integer\n",
    "numeric_to_accounts = [str(x) for x in numeric_to_accounts] #Changing each element in numeric_to_accounts into a string\n",
    "df_expenditure = df[~df['to_account'].isin(numeric_to_accounts)] #Creating df_expenditure by excluding all account to account transactions from our original df"
   ]
  },
  {
   "cell_type": "code",
   "execution_count": 14,
   "metadata": {},
   "outputs": [
    {
     "name": "stdout",
     "output_type": "stream",
     "text": [
      "Between accounts head:    from_account  money_amount  to_account       date  transaction_ID\n",
      "2         88339          2.40     40544.0 2025-01-01               2\n",
      "4         18555          2.40     85149.0 2025-01-01               4\n",
      "6         80792          1.95     18555.0 2025-01-01               6\n",
      "19        39262          4.50     30264.0 2025-01-01              19\n",
      "51        53483          5.50     75744.0 2025-01-01              51\n",
      "\n",
      " Between accounts description        money_amount    to_account  transaction_ID\n",
      "count  2.950750e+06  2.985833e+06    2.985833e+06\n",
      "mean   3.186091e+01  5.115173e+04    5.990754e+06\n",
      "std    1.661347e+02  2.884507e+04    3.456576e+06\n",
      "min    1.450000e+00  1.000000e+03    2.000000e+00\n",
      "25%    5.000000e+00  2.583800e+04    2.976532e+06\n",
      "50%    6.000000e+00  5.129000e+04    5.989533e+06\n",
      "75%    6.500000e+00  7.588100e+04    9.003838e+06\n",
      "max    1.995000e+03  1.009880e+05    1.200409e+07\n"
     ]
    }
   ],
   "source": [
    "#Printing descriptions of these 2 new df's\n",
    "print('Between accounts head:', df_between.head())\n",
    "print('\\n Between accounts description', df_between.describe())\n"
   ]
  },
  {
   "cell_type": "code",
   "execution_count": 15,
   "metadata": {},
   "outputs": [
    {
     "data": {
      "text/plain": [
       "array(['CINEMA', 'A_LOCAL_COFFEE_SHOP', 'HIPSTER_COFFEE_SHOP',\n",
       "       'TOTALLY_A_REAL_COFFEE_SHOP', 'COFFEE_SHOP', 'CAFE', 'A_CAFE',\n",
       "       'LOCAL_RESTAURANT', 'PUB', 'GOURMET_COFFEE_SHOP', nan,\n",
       "       'SANDWICH_SHOP', 'LOCAL_WATERING_HOLE', 'TOY_SHOP',\n",
       "       'PRETENTIOUS_COFFEE_SHOP', 'BAR', 'DVD_SHOP', 'COMIC_BOOK_SHOP',\n",
       "       'LUNCH_VAN', 'DEPARTMENT_STORE', 'KEBAB_SHOP', 'LUNCH_PLACE',\n",
       "       'NERDY_BOOK_STORE', 'WINE_BAR', 'SECOND_HAND_BOOKSHOP',\n",
       "       'KIDS_CLOTHING_SHOP', 'RESTAURANT', 'LOCAL_PUB', 'CLOTHES_SHOP',\n",
       "       'BOOKSHOP', 'LOCAL_BOOKSHOP', 'FASHION_SHOP',\n",
       "       'FASHIONABLE_SPORTSWARE_SHOP', 'SCHOOL_SUPPLY_STORE',\n",
       "       'TRAINER_SHOP', 'COCKTAIL_BAR', 'KIDS_ACTIVITY_CENTRE',\n",
       "       'VIDEO_GAME_STORE', 'TECH_SHOP', 'TAKEAWAY_CURRY', 'WHISKEY_BAR',\n",
       "       'CHILDRENDS_SHOP', 'PET_SHOP', 'DIY_STORE', 'GAME_SHOP',\n",
       "       'INDIAN_RESTAURANT', 'TAKEAWAY', 'PET_TOY_SHOP', 'RUNNING_SHOP',\n",
       "       'CHINESE_RESTAURANT', 'COOKSHOP', 'HOME_IMPROVEMENT_STORE',\n",
       "       'CHINESE_TAKEAWAY', 'BUTCHERS', 'G&T_BAR', 'GREENGROCER',\n",
       "       'JEWLLERY_SHOP', 'ACCESSORY_SHOP', 'SPORT_SHOP', 'STEAK_HOUSE',\n",
       "       'SEAFOOD_RESAURANT', 'HIPSTER_ELECTRONICS_SHOP',\n",
       "       'ELECTRONICS_SHOP', 'STREAMING_SERVICE', 'GYM', 'WHISKEY_SHOP',\n",
       "       'TEA_SHOP', 'LIQUOR_STORE', 'RESTAURANT_VOUCHER', 'ROASTERIE',\n",
       "       'TO_BEAN_OR_NOT_TO_BEAN', 'WINE_CELLAR', 'WE_HAVE_BEAN_WEIGHTING',\n",
       "       'LARGE_SUPERMARKET', 'THE_SUPERMARKET', 'A_SUPERMARKET',\n",
       "       'EXPRESS_SUPERMARKET', 'BUTCHER', 'FLORIST'], dtype=object)"
      ]
     },
     "execution_count": 15,
     "metadata": {},
     "output_type": "execute_result"
    }
   ],
   "source": [
    "df_expenditure['to_account'].unique()"
   ]
  },
  {
   "cell_type": "code",
   "execution_count": 16,
   "metadata": {},
   "outputs": [
    {
     "name": "stdout",
     "output_type": "stream",
     "text": [
      "\n",
      " Expenditure head:   from_account  money_amount                  to_account       date  \\\n",
      "0          NaN          4.00                      CINEMA 2025-01-01   \n",
      "1        40544          4.60         A_LOCAL_COFFEE_SHOP 2025-01-01   \n",
      "3        85149          4.65         A_LOCAL_COFFEE_SHOP 2025-01-01   \n",
      "5        18555          4.10         HIPSTER_COFFEE_SHOP 2025-01-01   \n",
      "7        18555          4.45  TOTALLY_A_REAL_COFFEE_SHOP 2025-01-01   \n",
      "\n",
      "   transaction_ID  \n",
      "0               0  \n",
      "1               1  \n",
      "3               3  \n",
      "5               5  \n",
      "7               7  \n",
      "\n",
      " Expenditure description        money_amount  transaction_ID\n",
      "count  8.913109e+06    9.018282e+06\n",
      "mean   1.366975e+01    6.005799e+06\n",
      "std    2.449927e+01    3.468162e+06\n",
      "min    1.450000e+00    0.000000e+00\n",
      "25%    2.450000e+00    3.014356e+06\n",
      "50%    7.000000e+00    6.008295e+06\n",
      "75%    1.350000e+01    9.002730e+06\n",
      "max    1.990000e+03    1.200411e+07\n"
     ]
    }
   ],
   "source": [
    "print('\\n Expenditure head:', df_expenditure.head())\n",
    "print('\\n Expenditure description', df_expenditure.describe())\n"
   ]
  },
  {
   "attachments": {},
   "cell_type": "markdown",
   "metadata": {},
   "source": [
    "### Filling in missing money amount"
   ]
  },
  {
   "cell_type": "code",
   "execution_count": 17,
   "metadata": {},
   "outputs": [],
   "source": [
    "#This function takes in a df and outputs a list of all the means for each row by grouping by to and from account\n",
    "def fill(df):\n",
    "    s = df.groupby(['from_account', \"to_account\"])['money_amount'].mean()\n",
    "    df2 = df[['from_account', 'to_account']].merge(s, on=['from_account', 'to_account'], how='left')\n",
    "    df2 = df2.set_index(df.index)\n",
    "    return(df2['money_amount'])"
   ]
  },
  {
   "attachments": {},
   "cell_type": "markdown",
   "metadata": {},
   "source": [
    "For account to account transactions, we look at each NaN money_amount and ask how much does this account normally send to this other account, by getting the mean of past transactions. If there are no past transactions we remove the row entirely"
   ]
  },
  {
   "cell_type": "code",
   "execution_count": 18,
   "metadata": {},
   "outputs": [
    {
     "name": "stderr",
     "output_type": "stream",
     "text": [
      "/var/folders/py/d721tqvn39xbrq83g84j15pm0000gn/T/ipykernel_54665/904791043.py:1: SettingWithCopyWarning: \n",
      "A value is trying to be set on a copy of a slice from a DataFrame\n",
      "\n",
      "See the caveats in the documentation: https://pandas.pydata.org/pandas-docs/stable/user_guide/indexing.html#returning-a-view-versus-a-copy\n",
      "  df_between['money_amount'].fillna(fill(df_between), inplace=True) #Using the function to replace all NaN's in the df_between df with the average of past transactions from one specific account to another specific account.\n"
     ]
    },
    {
     "name": "stdout",
     "output_type": "stream",
     "text": [
      "from_account => 34429\n",
      "from_account => 1.15%\n",
      "money_amount => No missing values\n",
      "to_account => No missing values\n",
      "date => No missing values\n",
      "transaction_ID => No missing values\n"
     ]
    }
   ],
   "source": [
    "df_between['money_amount'].fillna(fill(df_between), inplace=True) #Using the function to replace all NaN's in the df_between df with the average of past transactions from one specific account to another specific account. \n",
    "df_between=df_between.dropna(axis=0, subset=\"money_amount\") #All remaining NaN's are dropped\n",
    "missing_cols(df_between)"
   ]
  },
  {
   "attachments": {},
   "cell_type": "markdown",
   "metadata": {},
   "source": [
    "Removing .0 from the end of 'to_account' column values"
   ]
  },
  {
   "cell_type": "code",
   "execution_count": 19,
   "metadata": {},
   "outputs": [],
   "source": [
    "#apply a function to strip '.0' from the accounts if not NaN. To strip we must also change to a string\n",
    "df_between['to_account'] = df_between['to_account'].apply(lambda x: str(x).strip('.0') if str(x) != 'nan' else x)"
   ]
  },
  {
   "attachments": {},
   "cell_type": "markdown",
   "metadata": {},
   "source": [
    "For account to business transactions, we look at each NaN money_amount and ask how much does this account normally spend at this business, by getting the mean of past transactions. If there are no past transactions, then we ask how do other accounts normally spend here? Again by taking the mean. For any other remaining NaN's, we remove the row entirely."
   ]
  },
  {
   "cell_type": "code",
   "execution_count": 20,
   "metadata": {},
   "outputs": [
    {
     "name": "stderr",
     "output_type": "stream",
     "text": [
      "/var/folders/py/d721tqvn39xbrq83g84j15pm0000gn/T/ipykernel_54665/1801862313.py:1: SettingWithCopyWarning: \n",
      "A value is trying to be set on a copy of a slice from a DataFrame\n",
      "\n",
      "See the caveats in the documentation: https://pandas.pydata.org/pandas-docs/stable/user_guide/indexing.html#returning-a-view-versus-a-copy\n",
      "  df_expenditure['money_amount'].fillna(fill(df_expenditure), inplace=True) #Using the function to replace all NaN's in the df_expenditure df with the average of past transactions from one specific account to the specific business.\n",
      "/var/folders/py/d721tqvn39xbrq83g84j15pm0000gn/T/ipykernel_54665/1801862313.py:3: SettingWithCopyWarning: \n",
      "A value is trying to be set on a copy of a slice from a DataFrame\n",
      "\n",
      "See the caveats in the documentation: https://pandas.pydata.org/pandas-docs/stable/user_guide/indexing.html#returning-a-view-versus-a-copy\n",
      "  df_expenditure['money_amount'].fillna(df_expenditure['to_account'].map(s), inplace=True) #Any remaining NaN's are filled in using s\n"
     ]
    },
    {
     "name": "stdout",
     "output_type": "stream",
     "text": [
      "from_account => 105136\n",
      "from_account => 1.17%\n",
      "money_amount => No missing values\n",
      "to_account => 138497\n",
      "to_account => 1.54%\n",
      "date => No missing values\n",
      "transaction_ID => No missing values\n"
     ]
    }
   ],
   "source": [
    "df_expenditure['money_amount'].fillna(fill(df_expenditure), inplace=True) #Using the function to replace all NaN's in the df_expenditure df with the average of past transactions from one specific account to the specific business. \n",
    "s = df_expenditure.groupby('to_account')['money_amount'].mean() #Creating a df of the average spend at each business\n",
    "df_expenditure['money_amount'].fillna(df_expenditure['to_account'].map(s), inplace=True) #Any remaining NaN's are filled in using s\n",
    "df_expenditure=df_expenditure.dropna(axis=0, subset=\"money_amount\") #All remaining NaN's are dropped\n",
    "missing_cols(df_expenditure)\n"
   ]
  },
  {
   "cell_type": "code",
   "execution_count": 21,
   "metadata": {},
   "outputs": [
    {
     "name": "stdout",
     "output_type": "stream",
     "text": [
      "I have deleted 2074 rows\n"
     ]
    }
   ],
   "source": [
    "print('I have deleted', (df.shape[0] - (df_between.shape[0] + df_expenditure.shape[0])), 'rows')"
   ]
  },
  {
   "attachments": {},
   "cell_type": "markdown",
   "metadata": {},
   "source": [
    "### We can now bring the two df's back together"
   ]
  },
  {
   "cell_type": "code",
   "execution_count": 22,
   "metadata": {},
   "outputs": [
    {
     "data": {
      "text/html": [
       "<div>\n",
       "<style scoped>\n",
       "    .dataframe tbody tr th:only-of-type {\n",
       "        vertical-align: middle;\n",
       "    }\n",
       "\n",
       "    .dataframe tbody tr th {\n",
       "        vertical-align: top;\n",
       "    }\n",
       "\n",
       "    .dataframe thead th {\n",
       "        text-align: right;\n",
       "    }\n",
       "</style>\n",
       "<table border=\"1\" class=\"dataframe\">\n",
       "  <thead>\n",
       "    <tr style=\"text-align: right;\">\n",
       "      <th></th>\n",
       "      <th>from_account</th>\n",
       "      <th>money_amount</th>\n",
       "      <th>to_account</th>\n",
       "      <th>date</th>\n",
       "      <th>transaction_ID</th>\n",
       "    </tr>\n",
       "  </thead>\n",
       "  <tbody>\n",
       "    <tr>\n",
       "      <th>0</th>\n",
       "      <td>NaN</td>\n",
       "      <td>4.00</td>\n",
       "      <td>CINEMA</td>\n",
       "      <td>2025-01-01</td>\n",
       "      <td>0</td>\n",
       "    </tr>\n",
       "    <tr>\n",
       "      <th>1</th>\n",
       "      <td>40544</td>\n",
       "      <td>4.60</td>\n",
       "      <td>A_LOCAL_COFFEE_SHOP</td>\n",
       "      <td>2025-01-01</td>\n",
       "      <td>1</td>\n",
       "    </tr>\n",
       "    <tr>\n",
       "      <th>2</th>\n",
       "      <td>88339</td>\n",
       "      <td>2.40</td>\n",
       "      <td>40544</td>\n",
       "      <td>2025-01-01</td>\n",
       "      <td>2</td>\n",
       "    </tr>\n",
       "    <tr>\n",
       "      <th>3</th>\n",
       "      <td>85149</td>\n",
       "      <td>4.65</td>\n",
       "      <td>A_LOCAL_COFFEE_SHOP</td>\n",
       "      <td>2025-01-01</td>\n",
       "      <td>3</td>\n",
       "    </tr>\n",
       "    <tr>\n",
       "      <th>4</th>\n",
       "      <td>18555</td>\n",
       "      <td>2.40</td>\n",
       "      <td>85149</td>\n",
       "      <td>2025-01-01</td>\n",
       "      <td>4</td>\n",
       "    </tr>\n",
       "  </tbody>\n",
       "</table>\n",
       "</div>"
      ],
      "text/plain": [
       "  from_account  money_amount           to_account       date  transaction_ID\n",
       "0          NaN          4.00               CINEMA 2025-01-01               0\n",
       "1        40544          4.60  A_LOCAL_COFFEE_SHOP 2025-01-01               1\n",
       "2        88339          2.40                40544 2025-01-01               2\n",
       "3        85149          4.65  A_LOCAL_COFFEE_SHOP 2025-01-01               3\n",
       "4        18555          2.40                85149 2025-01-01               4"
      ]
     },
     "execution_count": 22,
     "metadata": {},
     "output_type": "execute_result"
    }
   ],
   "source": [
    "df = pd.concat([df_expenditure, df_between], sort=False).sort_index() #Concatinating the two df's and the sorting by index so that we preserve the original order\n",
    "df.head()"
   ]
  },
  {
   "cell_type": "code",
   "execution_count": 23,
   "metadata": {},
   "outputs": [
    {
     "name": "stdout",
     "output_type": "stream",
     "text": [
      "from_account => 139565\n",
      "from_account => 1.16%\n",
      "money_amount => No missing values\n",
      "to_account => 138497\n",
      "to_account => 1.15%\n",
      "date => No missing values\n",
      "transaction_ID => No missing values\n"
     ]
    }
   ],
   "source": [
    "missing_cols(df)"
   ]
  },
  {
   "attachments": {},
   "cell_type": "markdown",
   "metadata": {},
   "source": [
    "We have successfully now got a df with no missing money_amount"
   ]
  },
  {
   "attachments": {},
   "cell_type": "markdown",
   "metadata": {},
   "source": [
    "As this task is to predict income let's begin narrowing our focus on customers. To do this we build a new df for all of our customers"
   ]
  },
  {
   "attachments": {},
   "cell_type": "markdown",
   "metadata": {},
   "source": [
    "### New customer df "
   ]
  },
  {
   "cell_type": "code",
   "execution_count": 24,
   "metadata": {},
   "outputs": [
    {
     "name": "stdout",
     "output_type": "stream",
     "text": [
      "head of customers df:\n",
      "              money_amount                                          \\\n",
      "                      min      max       mean           sum count   \n",
      "from_account                                                        \n",
      "1                    1.45  1960.00  14.853905  37565.525305  2529   \n",
      "100002               1.45   299.00  14.959220  15527.670740  1038   \n",
      "100019               1.45  1955.00  33.762143  22924.494825   679   \n",
      "100027               1.45   381.25  22.950110  15927.376375   694   \n",
      "10004                1.45   302.50  10.571419  13415.130350  1269   \n",
      "\n",
      "                       to_account  \n",
      "                             mode  \n",
      "from_account                       \n",
      "1             A_LOCAL_COFFEE_SHOP  \n",
      "100002                        PUB  \n",
      "100019        LOCAL_WATERING_HOLE  \n",
      "100027                       6053  \n",
      "10004                 COFFEE_SHOP  \n",
      "\n",
      " There are 12685 customers\n"
     ]
    }
   ],
   "source": [
    "#creating new dfs to summarise customers\n",
    "df_customers = df.groupby('from_account').agg({'money_amount':['min','max','mean','sum','count'], 'to_account': pd.Series.mode})\n",
    "print('head of customers df:\\n',df_customers.head())\n",
    "print('\\n There are {} customers'.format(df_customers.shape[0]))"
   ]
  },
  {
   "attachments": {},
   "cell_type": "markdown",
   "metadata": {},
   "source": [
    "I notice that some of the customer ID's look different, let's investigate this:"
   ]
  },
  {
   "cell_type": "code",
   "execution_count": 25,
   "metadata": {},
   "outputs": [
    {
     "data": {
      "text/html": [
       "<div>\n",
       "<style scoped>\n",
       "    .dataframe tbody tr th:only-of-type {\n",
       "        vertical-align: middle;\n",
       "    }\n",
       "\n",
       "    .dataframe tbody tr th {\n",
       "        vertical-align: top;\n",
       "    }\n",
       "\n",
       "    .dataframe thead tr th {\n",
       "        text-align: left;\n",
       "    }\n",
       "\n",
       "    .dataframe thead tr:last-of-type th {\n",
       "        text-align: right;\n",
       "    }\n",
       "</style>\n",
       "<table border=\"1\" class=\"dataframe\">\n",
       "  <thead>\n",
       "    <tr>\n",
       "      <th></th>\n",
       "      <th colspan=\"5\" halign=\"left\">money_amount</th>\n",
       "      <th>to_account</th>\n",
       "      <th>customer_ID</th>\n",
       "      <th>length_ID</th>\n",
       "    </tr>\n",
       "    <tr>\n",
       "      <th></th>\n",
       "      <th>min</th>\n",
       "      <th>max</th>\n",
       "      <th>mean</th>\n",
       "      <th>sum</th>\n",
       "      <th>count</th>\n",
       "      <th>mode</th>\n",
       "      <th></th>\n",
       "      <th></th>\n",
       "    </tr>\n",
       "    <tr>\n",
       "      <th>from_account</th>\n",
       "      <th></th>\n",
       "      <th></th>\n",
       "      <th></th>\n",
       "      <th></th>\n",
       "      <th></th>\n",
       "      <th></th>\n",
       "      <th></th>\n",
       "      <th></th>\n",
       "    </tr>\n",
       "  </thead>\n",
       "  <tbody>\n",
       "    <tr>\n",
       "      <th>1</th>\n",
       "      <td>1.45</td>\n",
       "      <td>1960.00</td>\n",
       "      <td>14.853905</td>\n",
       "      <td>37565.525305</td>\n",
       "      <td>2529</td>\n",
       "      <td>A_LOCAL_COFFEE_SHOP</td>\n",
       "      <td>1</td>\n",
       "      <td>1</td>\n",
       "    </tr>\n",
       "    <tr>\n",
       "      <th>100002</th>\n",
       "      <td>1.45</td>\n",
       "      <td>299.00</td>\n",
       "      <td>14.959220</td>\n",
       "      <td>15527.670740</td>\n",
       "      <td>1038</td>\n",
       "      <td>PUB</td>\n",
       "      <td>100002</td>\n",
       "      <td>6</td>\n",
       "    </tr>\n",
       "    <tr>\n",
       "      <th>100019</th>\n",
       "      <td>1.45</td>\n",
       "      <td>1955.00</td>\n",
       "      <td>33.762143</td>\n",
       "      <td>22924.494825</td>\n",
       "      <td>679</td>\n",
       "      <td>LOCAL_WATERING_HOLE</td>\n",
       "      <td>100019</td>\n",
       "      <td>6</td>\n",
       "    </tr>\n",
       "    <tr>\n",
       "      <th>100027</th>\n",
       "      <td>1.45</td>\n",
       "      <td>381.25</td>\n",
       "      <td>22.950110</td>\n",
       "      <td>15927.376375</td>\n",
       "      <td>694</td>\n",
       "      <td>6053</td>\n",
       "      <td>100027</td>\n",
       "      <td>6</td>\n",
       "    </tr>\n",
       "    <tr>\n",
       "      <th>10004</th>\n",
       "      <td>1.45</td>\n",
       "      <td>302.50</td>\n",
       "      <td>10.571419</td>\n",
       "      <td>13415.130350</td>\n",
       "      <td>1269</td>\n",
       "      <td>COFFEE_SHOP</td>\n",
       "      <td>10004</td>\n",
       "      <td>5</td>\n",
       "    </tr>\n",
       "    <tr>\n",
       "      <th>100053</th>\n",
       "      <td>1.45</td>\n",
       "      <td>1925.00</td>\n",
       "      <td>21.441289</td>\n",
       "      <td>22148.851270</td>\n",
       "      <td>1033</td>\n",
       "      <td>PUB</td>\n",
       "      <td>100053</td>\n",
       "      <td>6</td>\n",
       "    </tr>\n",
       "    <tr>\n",
       "      <th>100056</th>\n",
       "      <td>1.45</td>\n",
       "      <td>457.50</td>\n",
       "      <td>16.533270</td>\n",
       "      <td>13243.148920</td>\n",
       "      <td>801</td>\n",
       "      <td>PUB</td>\n",
       "      <td>100056</td>\n",
       "      <td>6</td>\n",
       "    </tr>\n",
       "    <tr>\n",
       "      <th>100064</th>\n",
       "      <td>1.45</td>\n",
       "      <td>330.00</td>\n",
       "      <td>15.584930</td>\n",
       "      <td>16909.648720</td>\n",
       "      <td>1085</td>\n",
       "      <td>BAR</td>\n",
       "      <td>100064</td>\n",
       "      <td>6</td>\n",
       "    </tr>\n",
       "    <tr>\n",
       "      <th>100065</th>\n",
       "      <td>1.95</td>\n",
       "      <td>1980.00</td>\n",
       "      <td>42.992085</td>\n",
       "      <td>22312.892078</td>\n",
       "      <td>519</td>\n",
       "      <td>PUB</td>\n",
       "      <td>100065</td>\n",
       "      <td>6</td>\n",
       "    </tr>\n",
       "    <tr>\n",
       "      <th>100083</th>\n",
       "      <td>1.45</td>\n",
       "      <td>198.00</td>\n",
       "      <td>13.426447</td>\n",
       "      <td>13614.417441</td>\n",
       "      <td>1014</td>\n",
       "      <td>PUB</td>\n",
       "      <td>100083</td>\n",
       "      <td>6</td>\n",
       "    </tr>\n",
       "    <tr>\n",
       "      <th>100086</th>\n",
       "      <td>1.45</td>\n",
       "      <td>581.67</td>\n",
       "      <td>16.918440</td>\n",
       "      <td>15954.088651</td>\n",
       "      <td>943</td>\n",
       "      <td>74488</td>\n",
       "      <td>100086</td>\n",
       "      <td>6</td>\n",
       "    </tr>\n",
       "    <tr>\n",
       "      <th>100098</th>\n",
       "      <td>1.45</td>\n",
       "      <td>1910.00</td>\n",
       "      <td>21.828583</td>\n",
       "      <td>25015.555845</td>\n",
       "      <td>1146</td>\n",
       "      <td>GOURMET_COFFEE_SHOP</td>\n",
       "      <td>100098</td>\n",
       "      <td>6</td>\n",
       "    </tr>\n",
       "    <tr>\n",
       "      <th>100105</th>\n",
       "      <td>1.45</td>\n",
       "      <td>1860.00</td>\n",
       "      <td>27.348284</td>\n",
       "      <td>26500.487237</td>\n",
       "      <td>969</td>\n",
       "      <td>PUB</td>\n",
       "      <td>100105</td>\n",
       "      <td>6</td>\n",
       "    </tr>\n",
       "    <tr>\n",
       "      <th>100115</th>\n",
       "      <td>1.45</td>\n",
       "      <td>268.75</td>\n",
       "      <td>13.594694</td>\n",
       "      <td>15321.220060</td>\n",
       "      <td>1127</td>\n",
       "      <td>40459</td>\n",
       "      <td>100115</td>\n",
       "      <td>6</td>\n",
       "    </tr>\n",
       "    <tr>\n",
       "      <th>10012</th>\n",
       "      <td>1.45</td>\n",
       "      <td>430.00</td>\n",
       "      <td>15.921106</td>\n",
       "      <td>13755.835963</td>\n",
       "      <td>864</td>\n",
       "      <td>PUB</td>\n",
       "      <td>10012</td>\n",
       "      <td>5</td>\n",
       "    </tr>\n",
       "  </tbody>\n",
       "</table>\n",
       "</div>"
      ],
      "text/plain": [
       "             money_amount                                          \\\n",
       "                      min      max       mean           sum count   \n",
       "from_account                                                        \n",
       "1                    1.45  1960.00  14.853905  37565.525305  2529   \n",
       "100002               1.45   299.00  14.959220  15527.670740  1038   \n",
       "100019               1.45  1955.00  33.762143  22924.494825   679   \n",
       "100027               1.45   381.25  22.950110  15927.376375   694   \n",
       "10004                1.45   302.50  10.571419  13415.130350  1269   \n",
       "100053               1.45  1925.00  21.441289  22148.851270  1033   \n",
       "100056               1.45   457.50  16.533270  13243.148920   801   \n",
       "100064               1.45   330.00  15.584930  16909.648720  1085   \n",
       "100065               1.95  1980.00  42.992085  22312.892078   519   \n",
       "100083               1.45   198.00  13.426447  13614.417441  1014   \n",
       "100086               1.45   581.67  16.918440  15954.088651   943   \n",
       "100098               1.45  1910.00  21.828583  25015.555845  1146   \n",
       "100105               1.45  1860.00  27.348284  26500.487237   969   \n",
       "100115               1.45   268.75  13.594694  15321.220060  1127   \n",
       "10012                1.45   430.00  15.921106  13755.835963   864   \n",
       "\n",
       "                       to_account customer_ID length_ID  \n",
       "                             mode                        \n",
       "from_account                                             \n",
       "1             A_LOCAL_COFFEE_SHOP           1         1  \n",
       "100002                        PUB      100002         6  \n",
       "100019        LOCAL_WATERING_HOLE      100019         6  \n",
       "100027                       6053      100027         6  \n",
       "10004                 COFFEE_SHOP       10004         5  \n",
       "100053                        PUB      100053         6  \n",
       "100056                        PUB      100056         6  \n",
       "100064                        BAR      100064         6  \n",
       "100065                        PUB      100065         6  \n",
       "100083                        PUB      100083         6  \n",
       "100086                      74488      100086         6  \n",
       "100098        GOURMET_COFFEE_SHOP      100098         6  \n",
       "100105                        PUB      100105         6  \n",
       "100115                      40459      100115         6  \n",
       "10012                         PUB       10012         5  "
      ]
     },
     "execution_count": 25,
     "metadata": {},
     "output_type": "execute_result"
    }
   ],
   "source": [
    "df_customers['customer_ID'] = df_customers.index # This can allow us to re index, as currently the indexes contain the customer ID\n",
    "df_customers['length_ID'] = df_customers['customer_ID'].apply(lambda x: len(x)) #Creating a new column with the length of the customers ID\n",
    "df_customers.head(15)"
   ]
  },
  {
   "attachments": {},
   "cell_type": "markdown",
   "metadata": {},
   "source": [
    "Let's see how the Customer ID's lengths are distributed: "
   ]
  },
  {
   "cell_type": "code",
   "execution_count": 26,
   "metadata": {},
   "outputs": [
    {
     "name": "stdout",
     "output_type": "stream",
     "text": [
      "81.892 % of the customers have account numbers of length [5]\n",
      "97.217 % of the customers have account numbers of length [5, 4]\n",
      "98.81 % of the customers have account numbers of length [5, 4, 3]\n",
      "99.819 % of the customers have account numbers of length [5, 4, 3, 6]\n",
      "99.992 % of the customers have account numbers of length [5, 4, 3, 6, 2]\n",
      "100.0 % of the customers have account numbers of length [5, 4, 3, 6, 2, 1]\n"
     ]
    }
   ],
   "source": [
    "sum = 0\n",
    "count = 0\n",
    "list = []\n",
    "for i in df_customers['length_ID'].value_counts():\n",
    "    list.append(df_customers['length_ID'].value_counts().index[count])\n",
    "    sum += i\n",
    "    print(round(sum/len(df_customers)*100,3),'% of the customers have account numbers of length', list)\n",
    "    count+=1"
   ]
  },
  {
   "attachments": {},
   "cell_type": "markdown",
   "metadata": {},
   "source": [
    "I see no need to remove any of this data at this point"
   ]
  },
  {
   "attachments": {},
   "cell_type": "markdown",
   "metadata": {},
   "source": [
    "### Clustering "
   ]
  },
  {
   "cell_type": "code",
   "execution_count": 27,
   "metadata": {},
   "outputs": [
    {
     "name": "stdout",
     "output_type": "stream",
     "text": [
      "MultiIndex([('money_amount',   'min'),\n",
      "            ('money_amount',   'max'),\n",
      "            ('money_amount',  'mean'),\n",
      "            ('money_amount',   'sum'),\n",
      "            ('money_amount', 'count'),\n",
      "            (  'to_account',  'mode'),\n",
      "            ( 'customer_ID',      ''),\n",
      "            (   'length_ID',      '')],\n",
      "           )\n"
     ]
    }
   ],
   "source": [
    "print(df_customers.columns)\n",
    "customers_pca  = df_customers.loc[:, ~df_customers.columns.isin([(  'to_account',  'mode'), ( 'customer_ID',      ''), (   'length_ID',      '')])]"
   ]
  },
  {
   "cell_type": "code",
   "execution_count": 28,
   "metadata": {},
   "outputs": [
    {
     "name": "stdout",
     "output_type": "stream",
     "text": [
      "Explained variance ratio [0.99348497 0.00497666 0.00153821]\n"
     ]
    },
    {
     "data": {
      "image/png": "[encoded data removed]",
      "text/plain": [
       "<Figure size 640x480 with 1 Axes>"
      ]
     },
     "metadata": {},
     "output_type": "display_data"
    }
   ],
   "source": [
    "from sklearn.decomposition import PCA\n",
    "pca = PCA(n_components=3)\n",
    "pca.fit(customers_pca)\n",
    "# This should equal the sum of the first two values in the cumulative proportion plot\n",
    "print('Explained variance ratio '+ str(pca.explained_variance_ratio_))\n",
    "\n",
    "# Project data onto first two principal components\n",
    "projX = pca.transform(customers_pca)\n",
    "plt.figure(4)\n",
    "plt.plot(projX[:,0], projX[:,1], 'k.')\n",
    "plt.title('Projected data')\n",
    "plt.show()"
   ]
  },
  {
   "cell_type": "code",
   "execution_count": 29,
   "metadata": {},
   "outputs": [
    {
     "ename": "KeyError",
     "evalue": "\"Column(s) ['estimated_income'] do not exist\"",
     "output_type": "error",
     "traceback": [
      "\u001b[0;31m---------------------------------------------------------------------------\u001b[0m",
      "\u001b[0;31mKeyError\u001b[0m                                  Traceback (most recent call last)",
      "\u001b[1;32m/Users/sasha/Desktop/DATASCIENCE/2023/Mini-Project/DSMP-Grp24-/Sasha/cleaning_forIncomePrediction.ipynb Cell 52\u001b[0m in \u001b[0;36m<cell line: 4>\u001b[0;34m()\u001b[0m\n\u001b[1;32m      <a href='vscode-notebook-cell:/Users/sasha/Desktop/DATASCIENCE/2023/Mini-Project/DSMP-Grp24-/Sasha/cleaning_forIncomePrediction.ipynb#Y102sZmlsZQ%3D%3D?line=0'>1</a>\u001b[0m \u001b[39m#creating new dfs to summarise customers\u001b[39;00m\n\u001b[0;32m----> <a href='vscode-notebook-cell:/Users/sasha/Desktop/DATASCIENCE/2023/Mini-Project/DSMP-Grp24-/Sasha/cleaning_forIncomePrediction.ipynb#Y102sZmlsZQ%3D%3D?line=3'>4</a>\u001b[0m df_customers_between \u001b[39m=\u001b[39m df_between\u001b[39m.\u001b[39;49mgroupby(\u001b[39m'\u001b[39;49m\u001b[39mfrom_account\u001b[39;49m\u001b[39m'\u001b[39;49m)\u001b[39m.\u001b[39;49magg({\u001b[39m'\u001b[39;49m\u001b[39mmoney_amount\u001b[39;49m\u001b[39m'\u001b[39;49m:[\u001b[39m'\u001b[39;49m\u001b[39mmin\u001b[39;49m\u001b[39m'\u001b[39;49m,\u001b[39m'\u001b[39;49m\u001b[39mmax\u001b[39;49m\u001b[39m'\u001b[39;49m,\u001b[39m'\u001b[39;49m\u001b[39mmean\u001b[39;49m\u001b[39m'\u001b[39;49m,\u001b[39m'\u001b[39;49m\u001b[39msum\u001b[39;49m\u001b[39m'\u001b[39;49m,\u001b[39m'\u001b[39;49m\u001b[39mcount\u001b[39;49m\u001b[39m'\u001b[39;49m], \u001b[39m'\u001b[39;49m\u001b[39mestimated_income\u001b[39;49m\u001b[39m'\u001b[39;49m:\u001b[39m'\u001b[39;49m\u001b[39mmin\u001b[39;49m\u001b[39m'\u001b[39;49m, \u001b[39m'\u001b[39;49m\u001b[39mto_account\u001b[39;49m\u001b[39m'\u001b[39;49m: pd\u001b[39m.\u001b[39;49mSeries\u001b[39m.\u001b[39;49mmode})\n\u001b[1;32m      <a href='vscode-notebook-cell:/Users/sasha/Desktop/DATASCIENCE/2023/Mini-Project/DSMP-Grp24-/Sasha/cleaning_forIncomePrediction.ipynb#Y102sZmlsZQ%3D%3D?line=4'>5</a>\u001b[0m \u001b[39mprint\u001b[39m(\u001b[39m'\u001b[39m\u001b[39m\\n\u001b[39;00m\u001b[39m head of customers between df:\u001b[39m\u001b[39m'\u001b[39m,df_customers\u001b[39m.\u001b[39mhead())\n\u001b[1;32m      <a href='vscode-notebook-cell:/Users/sasha/Desktop/DATASCIENCE/2023/Mini-Project/DSMP-Grp24-/Sasha/cleaning_forIncomePrediction.ipynb#Y102sZmlsZQ%3D%3D?line=6'>7</a>\u001b[0m df_customers_expenditure \u001b[39m=\u001b[39m df_expenditure\u001b[39m.\u001b[39mgroupby(\u001b[39m'\u001b[39m\u001b[39mfrom_account\u001b[39m\u001b[39m'\u001b[39m)\u001b[39m.\u001b[39magg({\u001b[39m'\u001b[39m\u001b[39mmoney_amount\u001b[39m\u001b[39m'\u001b[39m:[\u001b[39m'\u001b[39m\u001b[39mmin\u001b[39m\u001b[39m'\u001b[39m,\u001b[39m'\u001b[39m\u001b[39mmax\u001b[39m\u001b[39m'\u001b[39m,\u001b[39m'\u001b[39m\u001b[39mmean\u001b[39m\u001b[39m'\u001b[39m,\u001b[39m'\u001b[39m\u001b[39msum\u001b[39m\u001b[39m'\u001b[39m,\u001b[39m'\u001b[39m\u001b[39mcount\u001b[39m\u001b[39m'\u001b[39m], \u001b[39m'\u001b[39m\u001b[39mestimated_income\u001b[39m\u001b[39m'\u001b[39m:\u001b[39m'\u001b[39m\u001b[39mmin\u001b[39m\u001b[39m'\u001b[39m, \u001b[39m'\u001b[39m\u001b[39mto_account\u001b[39m\u001b[39m'\u001b[39m: pd\u001b[39m.\u001b[39mSeries\u001b[39m.\u001b[39mmode})\n",
      "File \u001b[0;32m/Library/Frameworks/Python.framework/Versions/3.9/lib/python3.9/site-packages/pandas/core/groupby/generic.py:869\u001b[0m, in \u001b[0;36mDataFrameGroupBy.aggregate\u001b[0;34m(self, func, engine, engine_kwargs, *args, **kwargs)\u001b[0m\n\u001b[1;32m    866\u001b[0m func \u001b[39m=\u001b[39m maybe_mangle_lambdas(func)\n\u001b[1;32m    868\u001b[0m op \u001b[39m=\u001b[39m GroupByApply(\u001b[39mself\u001b[39m, func, args, kwargs)\n\u001b[0;32m--> 869\u001b[0m result \u001b[39m=\u001b[39m op\u001b[39m.\u001b[39;49magg()\n\u001b[1;32m    870\u001b[0m \u001b[39mif\u001b[39;00m \u001b[39mnot\u001b[39;00m is_dict_like(func) \u001b[39mand\u001b[39;00m result \u001b[39mis\u001b[39;00m \u001b[39mnot\u001b[39;00m \u001b[39mNone\u001b[39;00m:\n\u001b[1;32m    871\u001b[0m     \u001b[39mreturn\u001b[39;00m result\n",
      "File \u001b[0;32m/Library/Frameworks/Python.framework/Versions/3.9/lib/python3.9/site-packages/pandas/core/apply.py:168\u001b[0m, in \u001b[0;36mApply.agg\u001b[0;34m(self)\u001b[0m\n\u001b[1;32m    165\u001b[0m     \u001b[39mreturn\u001b[39;00m \u001b[39mself\u001b[39m\u001b[39m.\u001b[39mapply_str()\n\u001b[1;32m    167\u001b[0m \u001b[39mif\u001b[39;00m is_dict_like(arg):\n\u001b[0;32m--> 168\u001b[0m     \u001b[39mreturn\u001b[39;00m \u001b[39mself\u001b[39;49m\u001b[39m.\u001b[39;49magg_dict_like()\n\u001b[1;32m    169\u001b[0m \u001b[39melif\u001b[39;00m is_list_like(arg):\n\u001b[1;32m    170\u001b[0m     \u001b[39m# we require a list, but not a 'str'\u001b[39;00m\n\u001b[1;32m    171\u001b[0m     \u001b[39mreturn\u001b[39;00m \u001b[39mself\u001b[39m\u001b[39m.\u001b[39magg_list_like()\n",
      "File \u001b[0;32m/Library/Frameworks/Python.framework/Versions/3.9/lib/python3.9/site-packages/pandas/core/apply.py:473\u001b[0m, in \u001b[0;36mApply.agg_dict_like\u001b[0;34m(self)\u001b[0m\n\u001b[1;32m    470\u001b[0m     selected_obj \u001b[39m=\u001b[39m obj\u001b[39m.\u001b[39m_selected_obj\n\u001b[1;32m    471\u001b[0m     selection \u001b[39m=\u001b[39m obj\u001b[39m.\u001b[39m_selection\n\u001b[0;32m--> 473\u001b[0m arg \u001b[39m=\u001b[39m \u001b[39mself\u001b[39;49m\u001b[39m.\u001b[39;49mnormalize_dictlike_arg(\u001b[39m\"\u001b[39;49m\u001b[39magg\u001b[39;49m\u001b[39m\"\u001b[39;49m, selected_obj, arg)\n\u001b[1;32m    475\u001b[0m \u001b[39mif\u001b[39;00m selected_obj\u001b[39m.\u001b[39mndim \u001b[39m==\u001b[39m \u001b[39m1\u001b[39m:\n\u001b[1;32m    476\u001b[0m     \u001b[39m# key only used for output\u001b[39;00m\n\u001b[1;32m    477\u001b[0m     colg \u001b[39m=\u001b[39m obj\u001b[39m.\u001b[39m_gotitem(selection, ndim\u001b[39m=\u001b[39m\u001b[39m1\u001b[39m)\n",
      "File \u001b[0;32m/Library/Frameworks/Python.framework/Versions/3.9/lib/python3.9/site-packages/pandas/core/apply.py:591\u001b[0m, in \u001b[0;36mApply.normalize_dictlike_arg\u001b[0;34m(self, how, obj, func)\u001b[0m\n\u001b[1;32m    589\u001b[0m     \u001b[39mif\u001b[39;00m \u001b[39mlen\u001b[39m(cols) \u001b[39m>\u001b[39m \u001b[39m0\u001b[39m:\n\u001b[1;32m    590\u001b[0m         cols_sorted \u001b[39m=\u001b[39m \u001b[39mlist\u001b[39m(safe_sort(\u001b[39mlist\u001b[39m(cols)))\n\u001b[0;32m--> 591\u001b[0m         \u001b[39mraise\u001b[39;00m \u001b[39mKeyError\u001b[39;00m(\u001b[39mf\u001b[39m\u001b[39m\"\u001b[39m\u001b[39mColumn(s) \u001b[39m\u001b[39m{\u001b[39;00mcols_sorted\u001b[39m}\u001b[39;00m\u001b[39m do not exist\u001b[39m\u001b[39m\"\u001b[39m)\n\u001b[1;32m    593\u001b[0m is_aggregator \u001b[39m=\u001b[39m \u001b[39mlambda\u001b[39;00m x: \u001b[39misinstance\u001b[39m(x, (\u001b[39mlist\u001b[39m, \u001b[39mtuple\u001b[39m, \u001b[39mdict\u001b[39m))\n\u001b[1;32m    595\u001b[0m \u001b[39m# if we have a dict of any non-scalars\u001b[39;00m\n\u001b[1;32m    596\u001b[0m \u001b[39m# eg. {'A' : ['mean']}, normalize all to\u001b[39;00m\n\u001b[1;32m    597\u001b[0m \u001b[39m# be list-likes\u001b[39;00m\n\u001b[1;32m    598\u001b[0m \u001b[39m# Cannot use func.values() because arg may be a Series\u001b[39;00m\n",
      "\u001b[0;31mKeyError\u001b[0m: \"Column(s) ['estimated_income'] do not exist\""
     ]
    }
   ],
   "source": [
    "#creating new dfs to summarise customers\n",
    "\n",
    "\n",
    "df_customers_between = df_between.groupby('from_account').agg({'money_amount':['min','max','mean','sum','count'], 'estimated_income':'min', 'to_account': pd.Series.mode})\n",
    "print('\\n head of customers between df:',df_customers.head())\n",
    "\n",
    "df_customers_expenditure = df_expenditure.groupby('from_account').agg({'money_amount':['min','max','mean','sum','count'], 'estimated_income':'min', 'to_account': pd.Series.mode})\n",
    "print('\\n head of customers expenditure df:',df_customers.head())\n"
   ]
  },
  {
   "attachments": {},
   "cell_type": "markdown",
   "metadata": {},
   "source": [
    "## Building a network diagram of transactions between other customers?"
   ]
  },
  {
   "cell_type": "code",
   "execution_count": 30,
   "metadata": {},
   "outputs": [
    {
     "data": {
      "text/html": [
       "<div>\n",
       "<style scoped>\n",
       "    .dataframe tbody tr th:only-of-type {\n",
       "        vertical-align: middle;\n",
       "    }\n",
       "\n",
       "    .dataframe tbody tr th {\n",
       "        vertical-align: top;\n",
       "    }\n",
       "\n",
       "    .dataframe thead th {\n",
       "        text-align: right;\n",
       "    }\n",
       "</style>\n",
       "<table border=\"1\" class=\"dataframe\">\n",
       "  <thead>\n",
       "    <tr style=\"text-align: right;\">\n",
       "      <th></th>\n",
       "      <th>from_account</th>\n",
       "      <th>money_amount</th>\n",
       "      <th>to_account</th>\n",
       "      <th>date</th>\n",
       "      <th>transaction_ID</th>\n",
       "    </tr>\n",
       "  </thead>\n",
       "  <tbody>\n",
       "    <tr>\n",
       "      <th>2</th>\n",
       "      <td>88339</td>\n",
       "      <td>2.40</td>\n",
       "      <td>40544</td>\n",
       "      <td>2025-01-01</td>\n",
       "      <td>2</td>\n",
       "    </tr>\n",
       "    <tr>\n",
       "      <th>4</th>\n",
       "      <td>18555</td>\n",
       "      <td>2.40</td>\n",
       "      <td>85149</td>\n",
       "      <td>2025-01-01</td>\n",
       "      <td>4</td>\n",
       "    </tr>\n",
       "    <tr>\n",
       "      <th>6</th>\n",
       "      <td>80792</td>\n",
       "      <td>1.95</td>\n",
       "      <td>18555</td>\n",
       "      <td>2025-01-01</td>\n",
       "      <td>6</td>\n",
       "    </tr>\n",
       "    <tr>\n",
       "      <th>19</th>\n",
       "      <td>39262</td>\n",
       "      <td>4.50</td>\n",
       "      <td>30264</td>\n",
       "      <td>2025-01-01</td>\n",
       "      <td>19</td>\n",
       "    </tr>\n",
       "    <tr>\n",
       "      <th>51</th>\n",
       "      <td>53483</td>\n",
       "      <td>5.50</td>\n",
       "      <td>75744</td>\n",
       "      <td>2025-01-01</td>\n",
       "      <td>51</td>\n",
       "    </tr>\n",
       "  </tbody>\n",
       "</table>\n",
       "</div>"
      ],
      "text/plain": [
       "   from_account  money_amount to_account       date  transaction_ID\n",
       "2         88339          2.40      40544 2025-01-01               2\n",
       "4         18555          2.40      85149 2025-01-01               4\n",
       "6         80792          1.95      18555 2025-01-01               6\n",
       "19        39262          4.50      30264 2025-01-01              19\n",
       "51        53483          5.50      75744 2025-01-01              51"
      ]
     },
     "execution_count": 30,
     "metadata": {},
     "output_type": "execute_result"
    }
   ],
   "source": [
    "df_between.head() #This is the df we will be working with"
   ]
  },
  {
   "attachments": {},
   "cell_type": "markdown",
   "metadata": {},
   "source": [
    "Before we move foward I want to check to see if the accounts that are being sent money are Lloyds customers or not."
   ]
  },
  {
   "cell_type": "code",
   "execution_count": 31,
   "metadata": {},
   "outputs": [
    {
     "data": {
      "text/plain": [
       "False"
      ]
     },
     "execution_count": 31,
     "metadata": {},
     "output_type": "execute_result"
    }
   ],
   "source": [
    "unique_between = set(df_between['to_account'].unique()) #Turning these arrays into sets allow us to use the .issubset method\n",
    "customers = set(np.array(df_customers.index)) \n",
    "unique_between.issubset(customers) #This will return true if all the customers being sent money are also Lloyds customers"
   ]
  },
  {
   "attachments": {},
   "cell_type": "markdown",
   "metadata": {},
   "source": [
    "So not every to_account in the between df is a lloyds customer (or a customer we have data to). \n",
    "Lets add a column to (binary) to whether the to_account is a lloyds customer or not."
   ]
  },
  {
   "cell_type": "code",
   "execution_count": 32,
   "metadata": {},
   "outputs": [
    {
     "data": {
      "text/html": [
       "<div>\n",
       "<style scoped>\n",
       "    .dataframe tbody tr th:only-of-type {\n",
       "        vertical-align: middle;\n",
       "    }\n",
       "\n",
       "    .dataframe tbody tr th {\n",
       "        vertical-align: top;\n",
       "    }\n",
       "\n",
       "    .dataframe thead th {\n",
       "        text-align: right;\n",
       "    }\n",
       "</style>\n",
       "<table border=\"1\" class=\"dataframe\">\n",
       "  <thead>\n",
       "    <tr style=\"text-align: right;\">\n",
       "      <th></th>\n",
       "      <th>from_account</th>\n",
       "      <th>money_amount</th>\n",
       "      <th>to_account</th>\n",
       "      <th>date</th>\n",
       "      <th>transaction_ID</th>\n",
       "      <th>to_lloyds_customer</th>\n",
       "    </tr>\n",
       "  </thead>\n",
       "  <tbody>\n",
       "    <tr>\n",
       "      <th>2</th>\n",
       "      <td>88339</td>\n",
       "      <td>2.40</td>\n",
       "      <td>40544</td>\n",
       "      <td>2025-01-01</td>\n",
       "      <td>2</td>\n",
       "      <td>True</td>\n",
       "    </tr>\n",
       "    <tr>\n",
       "      <th>4</th>\n",
       "      <td>18555</td>\n",
       "      <td>2.40</td>\n",
       "      <td>85149</td>\n",
       "      <td>2025-01-01</td>\n",
       "      <td>4</td>\n",
       "      <td>True</td>\n",
       "    </tr>\n",
       "    <tr>\n",
       "      <th>6</th>\n",
       "      <td>80792</td>\n",
       "      <td>1.95</td>\n",
       "      <td>18555</td>\n",
       "      <td>2025-01-01</td>\n",
       "      <td>6</td>\n",
       "      <td>True</td>\n",
       "    </tr>\n",
       "    <tr>\n",
       "      <th>19</th>\n",
       "      <td>39262</td>\n",
       "      <td>4.50</td>\n",
       "      <td>30264</td>\n",
       "      <td>2025-01-01</td>\n",
       "      <td>19</td>\n",
       "      <td>True</td>\n",
       "    </tr>\n",
       "    <tr>\n",
       "      <th>51</th>\n",
       "      <td>53483</td>\n",
       "      <td>5.50</td>\n",
       "      <td>75744</td>\n",
       "      <td>2025-01-01</td>\n",
       "      <td>51</td>\n",
       "      <td>True</td>\n",
       "    </tr>\n",
       "  </tbody>\n",
       "</table>\n",
       "</div>"
      ],
      "text/plain": [
       "   from_account  money_amount to_account       date  transaction_ID  \\\n",
       "2         88339          2.40      40544 2025-01-01               2   \n",
       "4         18555          2.40      85149 2025-01-01               4   \n",
       "6         80792          1.95      18555 2025-01-01               6   \n",
       "19        39262          4.50      30264 2025-01-01              19   \n",
       "51        53483          5.50      75744 2025-01-01              51   \n",
       "\n",
       "    to_lloyds_customer  \n",
       "2                 True  \n",
       "4                 True  \n",
       "6                 True  \n",
       "19                True  \n",
       "51                True  "
      ]
     },
     "execution_count": 32,
     "metadata": {},
     "output_type": "execute_result"
    }
   ],
   "source": [
    "unique_between = df_between['to_account'].unique() #Gets an array of all customer ID's being sent money\n",
    "customers = (np.array(df_customers.index)) #Gets an array of all the Customer ID's we have data to\n",
    "dict = {} # Initialising my dictionary\n",
    "for i in range(0,len(unique_between)):\n",
    "    dict[unique_between[i]] = unique_between[i] in customers #This will create a dictionary where every key is an element in unique_between and the corresponding value is T/F depending on if that customer is a Lloyds customer\n",
    "df_between['to_lloyds_customer'] = df_between['to_account'].map(lambda x: dict[x]) #We use this dictionary to map a new column\n",
    "df_between.head()\n"
   ]
  },
  {
   "cell_type": "code",
   "execution_count": 33,
   "metadata": {},
   "outputs": [
    {
     "name": "stdout",
     "output_type": "stream",
     "text": [
      "We have 289935 out of 2985362 ( 10 %) transactions going to non Lloyds customers\n"
     ]
    }
   ],
   "source": [
    "print('We have', len(df_between[(df_between.to_lloyds_customer == 0)]), 'out of', len(df_between), '(',round(100*len(df_between[(df_between.to_lloyds_customer == 0)])/len(df_between)), '%) transactions going to non Lloyds customers')"
   ]
  },
  {
   "attachments": {},
   "cell_type": "markdown",
   "metadata": {},
   "source": [
    "10% of all transactions is substantial, so we cannot remove these from the diagram"
   ]
  },
  {
   "attachments": {},
   "cell_type": "markdown",
   "metadata": {},
   "source": [
    "Now let's create a special df for this diagram, to do this we add up all transactions between eachother, so we will lose date and transaction ID"
   ]
  },
  {
   "cell_type": "code",
   "execution_count": 224,
   "metadata": {},
   "outputs": [
    {
     "data": {
      "text/html": [
       "<div>\n",
       "<style scoped>\n",
       "    .dataframe tbody tr th:only-of-type {\n",
       "        vertical-align: middle;\n",
       "    }\n",
       "\n",
       "    .dataframe tbody tr th {\n",
       "        vertical-align: top;\n",
       "    }\n",
       "\n",
       "    .dataframe thead th {\n",
       "        text-align: right;\n",
       "    }\n",
       "</style>\n",
       "<table border=\"1\" class=\"dataframe\">\n",
       "  <thead>\n",
       "    <tr style=\"text-align: right;\">\n",
       "      <th></th>\n",
       "      <th></th>\n",
       "      <th>money_amount</th>\n",
       "      <th>to_lloyds_customer</th>\n",
       "    </tr>\n",
       "    <tr>\n",
       "      <th>from_account</th>\n",
       "      <th>to_account</th>\n",
       "      <th></th>\n",
       "      <th></th>\n",
       "    </tr>\n",
       "  </thead>\n",
       "  <tbody>\n",
       "    <tr>\n",
       "      <th rowspan=\"5\" valign=\"top\">1</th>\n",
       "      <th>12753</th>\n",
       "      <td>113.500000</td>\n",
       "      <td>True</td>\n",
       "    </tr>\n",
       "    <tr>\n",
       "      <th>16354</th>\n",
       "      <td>214.856944</td>\n",
       "      <td>True</td>\n",
       "    </tr>\n",
       "    <tr>\n",
       "      <th>18013</th>\n",
       "      <td>86.500000</td>\n",
       "      <td>True</td>\n",
       "    </tr>\n",
       "    <tr>\n",
       "      <th>24398</th>\n",
       "      <td>64.300000</td>\n",
       "      <td>True</td>\n",
       "    </tr>\n",
       "    <tr>\n",
       "      <th>24951</th>\n",
       "      <td>128.000000</td>\n",
       "      <td>True</td>\n",
       "    </tr>\n",
       "  </tbody>\n",
       "</table>\n",
       "</div>"
      ],
      "text/plain": [
       "                         money_amount  to_lloyds_customer\n",
       "from_account to_account                                  \n",
       "1            12753         113.500000                True\n",
       "             16354         214.856944                True\n",
       "             18013          86.500000                True\n",
       "             24398          64.300000                True\n",
       "             24951         128.000000                True"
      ]
     },
     "execution_count": 224,
     "metadata": {},
     "output_type": "execute_result"
    }
   ],
   "source": [
    "network_diagram = df_between.groupby(['from_account', 'to_account']).agg({'money_amount': 'sum', 'to_lloyds_customer': pd.Series.mode}) #We want one row for each unique combination of from and to accounts, so we groupby from and to accounts and sum money.\n",
    "network_diagram.head()\n"
   ]
  },
  {
   "cell_type": "code",
   "execution_count": 225,
   "metadata": {},
   "outputs": [],
   "source": [
    "network_diagram_sample = network_diagram.sample(100, random_state=1)\n"
   ]
  },
  {
   "cell_type": "code",
   "execution_count": 229,
   "metadata": {},
   "outputs": [
    {
     "data": {
      "text/plain": [
       "(185590, 2)"
      ]
     },
     "execution_count": 229,
     "metadata": {},
     "output_type": "execute_result"
    }
   ],
   "source": [
    "network_diagram_sample = network_diagram_sample.reset_index()"
   ]
  },
  {
   "cell_type": "code",
   "execution_count": 227,
   "metadata": {},
   "outputs": [
    {
     "data": {
      "text/html": [
       "<div>\n",
       "<style scoped>\n",
       "    .dataframe tbody tr th:only-of-type {\n",
       "        vertical-align: middle;\n",
       "    }\n",
       "\n",
       "    .dataframe tbody tr th {\n",
       "        vertical-align: top;\n",
       "    }\n",
       "\n",
       "    .dataframe thead th {\n",
       "        text-align: right;\n",
       "    }\n",
       "</style>\n",
       "<table border=\"1\" class=\"dataframe\">\n",
       "  <thead>\n",
       "    <tr style=\"text-align: right;\">\n",
       "      <th></th>\n",
       "      <th>from_account</th>\n",
       "      <th>to_account</th>\n",
       "      <th>money_amount</th>\n",
       "      <th>to_lloyds_customer</th>\n",
       "    </tr>\n",
       "  </thead>\n",
       "  <tbody>\n",
       "    <tr>\n",
       "      <th>0</th>\n",
       "      <td>52056</td>\n",
       "      <td>90619</td>\n",
       "      <td>84.5</td>\n",
       "      <td>True</td>\n",
       "    </tr>\n",
       "    <tr>\n",
       "      <th>1</th>\n",
       "      <td>27575</td>\n",
       "      <td>61916</td>\n",
       "      <td>61.0</td>\n",
       "      <td>True</td>\n",
       "    </tr>\n",
       "    <tr>\n",
       "      <th>2</th>\n",
       "      <td>35616</td>\n",
       "      <td>79102</td>\n",
       "      <td>55.6</td>\n",
       "      <td>True</td>\n",
       "    </tr>\n",
       "    <tr>\n",
       "      <th>3</th>\n",
       "      <td>95354</td>\n",
       "      <td>19207</td>\n",
       "      <td>35.0</td>\n",
       "      <td>True</td>\n",
       "    </tr>\n",
       "    <tr>\n",
       "      <th>4</th>\n",
       "      <td>97872</td>\n",
       "      <td>21412</td>\n",
       "      <td>92.5</td>\n",
       "      <td>True</td>\n",
       "    </tr>\n",
       "  </tbody>\n",
       "</table>\n",
       "</div>"
      ],
      "text/plain": [
       "  from_account to_account  money_amount  to_lloyds_customer\n",
       "0        52056      90619          84.5                True\n",
       "1        27575      61916          61.0                True\n",
       "2        35616      79102          55.6                True\n",
       "3        95354      19207          35.0                True\n",
       "4        97872      21412          92.5                True"
      ]
     },
     "execution_count": 227,
     "metadata": {},
     "output_type": "execute_result"
    }
   ],
   "source": [
    "network_diagram_sample.head()"
   ]
  },
  {
   "cell_type": "code",
   "execution_count": 230,
   "metadata": {},
   "outputs": [],
   "source": [
    "between_customers_array = set(np.concatenate((np.array(network_diagram_sample['from_account']),np.array(network_diagram_sample['to_account']))))\n",
    "between_customers_array = list(between_customers_array)\n"
   ]
  },
  {
   "cell_type": "code",
   "execution_count": 231,
   "metadata": {},
   "outputs": [
    {
     "data": {
      "text/html": [
       "<div>\n",
       "<style scoped>\n",
       "    .dataframe tbody tr th:only-of-type {\n",
       "        vertical-align: middle;\n",
       "    }\n",
       "\n",
       "    .dataframe tbody tr th {\n",
       "        vertical-align: top;\n",
       "    }\n",
       "\n",
       "    .dataframe thead th {\n",
       "        text-align: right;\n",
       "    }\n",
       "</style>\n",
       "<table border=\"1\" class=\"dataframe\">\n",
       "  <thead>\n",
       "    <tr style=\"text-align: right;\">\n",
       "      <th></th>\n",
       "      <th>ID</th>\n",
       "      <th>Name</th>\n",
       "    </tr>\n",
       "  </thead>\n",
       "  <tbody>\n",
       "    <tr>\n",
       "      <th>0</th>\n",
       "      <td>35616</td>\n",
       "      <td>35616</td>\n",
       "    </tr>\n",
       "    <tr>\n",
       "      <th>1</th>\n",
       "      <td>32205</td>\n",
       "      <td>32205</td>\n",
       "    </tr>\n",
       "    <tr>\n",
       "      <th>2</th>\n",
       "      <td>100455</td>\n",
       "      <td>100455</td>\n",
       "    </tr>\n",
       "    <tr>\n",
       "      <th>3</th>\n",
       "      <td>93024</td>\n",
       "      <td>93024</td>\n",
       "    </tr>\n",
       "    <tr>\n",
       "      <th>4</th>\n",
       "      <td>62054</td>\n",
       "      <td>62054</td>\n",
       "    </tr>\n",
       "  </tbody>\n",
       "</table>\n",
       "</div>"
      ],
      "text/plain": [
       "       ID    Name\n",
       "0   35616   35616\n",
       "1   32205   32205\n",
       "2  100455  100455\n",
       "3   93024   93024\n",
       "4   62054   62054"
      ]
     },
     "execution_count": 231,
     "metadata": {},
     "output_type": "execute_result"
    }
   ],
   "source": [
    "nodes = pd.DataFrame()\n",
    "nodes['ID'] = between_customers_array\n",
    "nodes['Name'] = nodes['ID']\n",
    "nodes.head()"
   ]
  },
  {
   "cell_type": "code",
   "execution_count": 232,
   "metadata": {},
   "outputs": [
    {
     "data": {
      "text/html": [
       "<div>\n",
       "<style scoped>\n",
       "    .dataframe tbody tr th:only-of-type {\n",
       "        vertical-align: middle;\n",
       "    }\n",
       "\n",
       "    .dataframe tbody tr th {\n",
       "        vertical-align: top;\n",
       "    }\n",
       "\n",
       "    .dataframe thead th {\n",
       "        text-align: right;\n",
       "    }\n",
       "</style>\n",
       "<table border=\"1\" class=\"dataframe\">\n",
       "  <thead>\n",
       "    <tr style=\"text-align: right;\">\n",
       "      <th></th>\n",
       "      <th>Source</th>\n",
       "      <th>Target</th>\n",
       "      <th>Type</th>\n",
       "      <th>Weight</th>\n",
       "    </tr>\n",
       "  </thead>\n",
       "  <tbody>\n",
       "    <tr>\n",
       "      <th>0</th>\n",
       "      <td>52056</td>\n",
       "      <td>90619</td>\n",
       "      <td>Undirected</td>\n",
       "      <td>84.5</td>\n",
       "    </tr>\n",
       "    <tr>\n",
       "      <th>1</th>\n",
       "      <td>27575</td>\n",
       "      <td>61916</td>\n",
       "      <td>Undirected</td>\n",
       "      <td>61.0</td>\n",
       "    </tr>\n",
       "    <tr>\n",
       "      <th>2</th>\n",
       "      <td>35616</td>\n",
       "      <td>79102</td>\n",
       "      <td>Undirected</td>\n",
       "      <td>55.6</td>\n",
       "    </tr>\n",
       "    <tr>\n",
       "      <th>3</th>\n",
       "      <td>95354</td>\n",
       "      <td>19207</td>\n",
       "      <td>Undirected</td>\n",
       "      <td>35.0</td>\n",
       "    </tr>\n",
       "    <tr>\n",
       "      <th>4</th>\n",
       "      <td>97872</td>\n",
       "      <td>21412</td>\n",
       "      <td>Undirected</td>\n",
       "      <td>92.5</td>\n",
       "    </tr>\n",
       "  </tbody>\n",
       "</table>\n",
       "</div>"
      ],
      "text/plain": [
       "   Source  Target        Type  Weight\n",
       "0   52056   90619  Undirected    84.5\n",
       "1   27575   61916  Undirected    61.0\n",
       "2   35616   79102  Undirected    55.6\n",
       "3   95354   19207  Undirected    35.0\n",
       "4   97872   21412  Undirected    92.5"
      ]
     },
     "execution_count": 232,
     "metadata": {},
     "output_type": "execute_result"
    }
   ],
   "source": [
    "edges = pd.DataFrame()\n",
    "edges['Source'] = network_diagram_sample['from_account'].astype(int)\n",
    "edges['Target'] = network_diagram_sample['to_account'].astype(int)\n",
    "edges['Type'] = 'Undirected'\n",
    "edges['Weight'] = network_diagram_sample['money_amount']\n",
    "edges.head()\n"
   ]
  },
  {
   "cell_type": "code",
   "execution_count": 233,
   "metadata": {},
   "outputs": [],
   "source": [
    "edges.to_csv('/Users/sasha/Desktop/DATASCIENCE/2023/Mini-Project/data.nosync/edges.csv')\n",
    "nodes.to_csv('/Users/sasha/Desktop/DATASCIENCE/2023/Mini-Project/data.nosync/nodes.csv')"
   ]
  },
  {
   "cell_type": "code",
   "execution_count": 234,
   "metadata": {},
   "outputs": [],
   "source": [
    "import json\n",
    "\n",
    "f = open('/Users/sasha/Desktop/network_tableau.json')\n",
    "\n",
    "data = json.load(f)\n",
    "test = [[data['nodes'][i]['key'], data['nodes'][i]['attributes']['x'], data['nodes'][i]['attributes']['y']] for i in range(0,len(data['nodes']))]\n",
    "nodes = pd.DataFrame(np.array(test), columns = ['ID', 'X', 'Y'])"
   ]
  },
  {
   "cell_type": "code",
   "execution_count": 134,
   "metadata": {},
   "outputs": [],
   "source": [
    "nodes.to_csv('/Users/sasha/Desktop/DATASCIENCE/2023/Mini-Project/data.nosync/nodes_XY.csv')"
   ]
  },
  {
   "cell_type": "code",
   "execution_count": 240,
   "metadata": {},
   "outputs": [],
   "source": [
    "edges['X_target'] = edges['Target'].apply(lambda x: nodes[(nodes.ID == str(x))]['X'].sum())\n",
    "edges['Y_target'] = edges['Target'].apply(lambda x: nodes[(nodes.ID == str(x))]['Y'].sum())\n",
    "\n"
   ]
  },
  {
   "cell_type": "code",
   "execution_count": 247,
   "metadata": {},
   "outputs": [],
   "source": [
    "nodes.to_csv('/Users/sasha/Desktop/DATASCIENCE/2023/Mini-Project/data.nosync/nodes_XY.csv')\n",
    "edges.to_csv('/Users/sasha/Desktop/DATASCIENCE/2023/Mini-Project/data.nosync/edges_XY.csv')"
   ]
  },
  {
   "cell_type": "code",
   "execution_count": 260,
   "metadata": {},
   "outputs": [
    {
     "data": {
      "text/html": [
       "<div>\n",
       "<style scoped>\n",
       "    .dataframe tbody tr th:only-of-type {\n",
       "        vertical-align: middle;\n",
       "    }\n",
       "\n",
       "    .dataframe tbody tr th {\n",
       "        vertical-align: top;\n",
       "    }\n",
       "\n",
       "    .dataframe thead th {\n",
       "        text-align: right;\n",
       "    }\n",
       "</style>\n",
       "<table border=\"1\" class=\"dataframe\">\n",
       "  <thead>\n",
       "    <tr style=\"text-align: right;\">\n",
       "      <th></th>\n",
       "      <th>ID</th>\n",
       "      <th>X</th>\n",
       "      <th>Y</th>\n",
       "    </tr>\n",
       "  </thead>\n",
       "  <tbody>\n",
       "    <tr>\n",
       "      <th>195</th>\n",
       "      <td>14527</td>\n",
       "      <td>-615.7534</td>\n",
       "      <td>-238.1803</td>\n",
       "    </tr>\n",
       "  </tbody>\n",
       "</table>\n",
       "</div>"
      ],
      "text/plain": [
       "        ID          X          Y\n",
       "195  14527  -615.7534  -238.1803"
      ]
     },
     "execution_count": 260,
     "metadata": {},
     "output_type": "execute_result"
    }
   ],
   "source": [
    "nodes[(nodes.ID == '14527')]"
   ]
  },
  {
   "cell_type": "code",
   "execution_count": 256,
   "metadata": {},
   "outputs": [
    {
     "data": {
      "text/html": [
       "<div>\n",
       "<style scoped>\n",
       "    .dataframe tbody tr th:only-of-type {\n",
       "        vertical-align: middle;\n",
       "    }\n",
       "\n",
       "    .dataframe tbody tr th {\n",
       "        vertical-align: top;\n",
       "    }\n",
       "\n",
       "    .dataframe thead th {\n",
       "        text-align: right;\n",
       "    }\n",
       "</style>\n",
       "<table border=\"1\" class=\"dataframe\">\n",
       "  <thead>\n",
       "    <tr style=\"text-align: right;\">\n",
       "      <th></th>\n",
       "      <th>Source</th>\n",
       "      <th>Target</th>\n",
       "      <th>Type</th>\n",
       "      <th>Weight</th>\n",
       "      <th>X_target</th>\n",
       "      <th>Y_target</th>\n",
       "    </tr>\n",
       "  </thead>\n",
       "  <tbody>\n",
       "    <tr>\n",
       "      <th>98</th>\n",
       "      <td>14527</td>\n",
       "      <td>44483</td>\n",
       "      <td>Undirected</td>\n",
       "      <td>78.0</td>\n",
       "      <td>-615.7534</td>\n",
       "      <td>-238.1803</td>\n",
       "    </tr>\n",
       "  </tbody>\n",
       "</table>\n",
       "</div>"
      ],
      "text/plain": [
       "    Source  Target        Type  Weight   X_target   Y_target\n",
       "98   14527   44483  Undirected    78.0  -615.7534  -238.1803"
      ]
     },
     "execution_count": 256,
     "metadata": {},
     "output_type": "execute_result"
    }
   ],
   "source": [
    "edges[(edges.Source == 14527)]"
   ]
  }
 ],
 "metadata": {
  "kernelspec": {
   "display_name": "Python 3",
   "language": "python",
   "name": "python3"
  },
  "language_info": {
   "codemirror_mode": {
    "name": "ipython",
    "version": 3
   },
   "file_extension": ".py",
   "mimetype": "text/x-python",
   "name": "python",
   "nbconvert_exporter": "python",
   "pygments_lexer": "ipython3",
   "version": "3.9.7"
  },
  "orig_nbformat": 4,
  "vscode": {
   "interpreter": {
    "hash": "aee8b7b246df8f9039afb4144a1f6fd8d2ca17a180786b69acc140d282b71a49"
   }
  }
 },
 "nbformat": 4,
 "nbformat_minor": 2
}
